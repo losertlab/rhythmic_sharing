{
 "cells": [
  {
   "cell_type": "code",
   "execution_count": 6,
   "id": "8be33d58-8004-481f-974f-d995d31c3e00",
   "metadata": {},
   "outputs": [],
   "source": [
    "import numpy as np\n",
    "from datetime import datetime, timedelta\n",
    "start_time = datetime.now().replace(microsecond=0)"
   ]
  },
  {
   "cell_type": "code",
   "execution_count": 7,
   "id": "245f3e91-51c8-4648-897f-504b283f4ee5",
   "metadata": {},
   "outputs": [],
   "source": [
    "np.random.seed(1991)"
   ]
  },
  {
   "cell_type": "code",
   "execution_count": 8,
   "id": "1dd23906-1796-4f2e-965f-95d5ffdcee73",
   "metadata": {},
   "outputs": [],
   "source": [
    "from stonesoup.models.transition.linear import CombinedLinearGaussianTransitionModel, \\\n",
    "    ConstantVelocity\n",
    "from stonesoup.types.groundtruth import GroundTruthPath, GroundTruthState\n",
    "transition_model = CombinedLinearGaussianTransitionModel([ConstantVelocity(0.05),\n",
    "                                                          ConstantVelocity(0.05)])\n",
    "timesteps = [start_time]\n",
    "truth = GroundTruthPath([GroundTruthState([0, 1, 0, 1], timestamp=start_time)])\n",
    "\n",
    "for k in range(1, 21):\n",
    "    timesteps.append(start_time+timedelta(seconds=k))\n",
    "    truth.append(GroundTruthState(\n",
    "        transition_model.function(truth[k-1], noise=True, time_interval=timedelta(seconds=1)),\n",
    "        timestamp=timesteps[k]))"
   ]
  },
  {
   "cell_type": "code",
   "execution_count": 9,
   "id": "cb90c750-5555-4175-bb97-446baa925b7e",
   "metadata": {},
   "outputs": [
    {
     "data": {
      "application/vnd.plotly.v1+json": {
       "config": {
        "plotlyServerURL": "https://plot.ly"
       },
       "data": [
        {
         "hoverinfo": "none",
         "legendgroup": "Ground Truth",
         "legendrank": 100,
         "line": {
          "color": "#EF553B",
          "dash": "dash"
         },
         "mode": "lines",
         "name": "Ground Truth",
         "showlegend": true,
         "type": "scatter",
         "x": [],
         "y": []
        },
        {
         "hoverinfo": "none",
         "legendgroup": "Ground Truth",
         "legendrank": 100,
         "line": {
          "color": "#EF553B",
          "dash": "dash"
         },
         "mode": "lines",
         "name": "Ground Truth",
         "showlegend": false,
         "type": "scatter",
         "x": [],
         "y": []
        }
       ],
       "frames": [
        {
         "data": [
          {
           "type": "scatter",
           "x": [
            0,
            0
           ],
           "y": [
            0,
            0
           ]
          },
          {
           "hovertemplate": "GroundTruthState<br>(%{x}, %{y})<br>Time: %{meta}",
           "meta": [
            "2025-09-03 11:40:16"
           ],
           "type": "scatter",
           "x": {
            "bdata": "AAAAAAAAAAAAAAAAAADwfw==",
            "dtype": "f8"
           },
           "y": {
            "bdata": "AAAAAAAAAAAAAAAAAADwfw==",
            "dtype": "f8"
           }
          }
         ],
         "name": "2025-09-03 11:40:16",
         "traces": [
          0,
          1
         ]
        },
        {
         "data": [
          {
           "type": "scatter",
           "x": [
            0,
            0
           ],
           "y": [
            0,
            0
           ]
          },
          {
           "hovertemplate": "GroundTruthState<br>(%{x}, %{y})<br>Time: %{meta}",
           "meta": [
            "2025-09-03 11:40:16",
            "2025-09-03 11:40:17"
           ],
           "type": "scatter",
           "x": {
            "bdata": "AAAAAAAAAAB6tLpF6NXyPwAAAAAAAPB/",
            "dtype": "f8"
           },
           "y": {
            "bdata": "AAAAAAAAAADQkKGTxALwPwAAAAAAAPB/",
            "dtype": "f8"
           }
          }
         ],
         "name": "2025-09-03 11:40:17",
         "traces": [
          0,
          1
         ]
        },
        {
         "data": [
          {
           "type": "scatter",
           "x": [
            0,
            0
           ],
           "y": [
            0,
            0
           ]
          },
          {
           "hovertemplate": "GroundTruthState<br>(%{x}, %{y})<br>Time: %{meta}",
           "meta": [
            "2025-09-03 11:40:16",
            "2025-09-03 11:40:17",
            "2025-09-03 11:40:18"
           ],
           "type": "scatter",
           "x": {
            "bdata": "AAAAAAAAAAB6tLpF6NXyP2HNMOElNAJAAAAAAAAA8H8=",
            "dtype": "f8"
           },
           "y": {
            "bdata": "AAAAAAAAAADQkKGTxALwP03PNxbuPgBAAAAAAAAA8H8=",
            "dtype": "f8"
           }
          }
         ],
         "name": "2025-09-03 11:40:18",
         "traces": [
          0,
          1
         ]
        },
        {
         "data": [
          {
           "type": "scatter",
           "x": [
            0,
            0
           ],
           "y": [
            0,
            0
           ]
          },
          {
           "hovertemplate": "GroundTruthState<br>(%{x}, %{y})<br>Time: %{meta}",
           "meta": [
            "2025-09-03 11:40:16",
            "2025-09-03 11:40:17",
            "2025-09-03 11:40:18",
            "2025-09-03 11:40:19"
           ],
           "type": "scatter",
           "x": {
            "bdata": "AAAAAAAAAAB6tLpF6NXyP2HNMOElNAJAXldM4pE/CUAAAAAAAADwfw==",
            "dtype": "f8"
           },
           "y": {
            "bdata": "AAAAAAAAAADQkKGTxALwP03PNxbuPgBAy4Dv5lipCUAAAAAAAADwfw==",
            "dtype": "f8"
           }
          }
         ],
         "name": "2025-09-03 11:40:19",
         "traces": [
          0,
          1
         ]
        },
        {
         "data": [
          {
           "type": "scatter",
           "x": [
            0,
            0
           ],
           "y": [
            0,
            0
           ]
          },
          {
           "hovertemplate": "GroundTruthState<br>(%{x}, %{y})<br>Time: %{meta}",
           "meta": [
            "2025-09-03 11:40:16",
            "2025-09-03 11:40:17",
            "2025-09-03 11:40:18",
            "2025-09-03 11:40:19",
            "2025-09-03 11:40:20"
           ],
           "type": "scatter",
           "x": {
            "bdata": "AAAAAAAAAAB6tLpF6NXyP2HNMOElNAJAXldM4pE/CUB4sMMCKXIQQAAAAAAAAPB/",
            "dtype": "f8"
           },
           "y": {
            "bdata": "AAAAAAAAAADQkKGTxALwP03PNxbuPgBAy4Dv5lipCUAL289Y57kSQAAAAAAAAPB/",
            "dtype": "f8"
           }
          }
         ],
         "name": "2025-09-03 11:40:20",
         "traces": [
          0,
          1
         ]
        },
        {
         "data": [
          {
           "type": "scatter",
           "x": [
            0,
            0
           ],
           "y": [
            0,
            0
           ]
          },
          {
           "hovertemplate": "GroundTruthState<br>(%{x}, %{y})<br>Time: %{meta}",
           "meta": [
            "2025-09-03 11:40:16",
            "2025-09-03 11:40:17",
            "2025-09-03 11:40:18",
            "2025-09-03 11:40:19",
            "2025-09-03 11:40:20",
            "2025-09-03 11:40:21"
           ],
           "type": "scatter",
           "x": {
            "bdata": "AAAAAAAAAAB6tLpF6NXyP2HNMOElNAJAXldM4pE/CUB4sMMCKXIQQBvJqZ+SRhRAAAAAAAAA8H8=",
            "dtype": "f8"
           },
           "y": {
            "bdata": "AAAAAAAAAADQkKGTxALwP03PNxbuPgBAy4Dv5lipCUAL289Y57kSQHJUCk5GshlAAAAAAAAA8H8=",
            "dtype": "f8"
           }
          }
         ],
         "name": "2025-09-03 11:40:21",
         "traces": [
          0,
          1
         ]
        },
        {
         "data": [
          {
           "type": "scatter",
           "x": [
            0,
            0
           ],
           "y": [
            0,
            0
           ]
          },
          {
           "hovertemplate": "GroundTruthState<br>(%{x}, %{y})<br>Time: %{meta}",
           "meta": [
            "2025-09-03 11:40:16",
            "2025-09-03 11:40:17",
            "2025-09-03 11:40:18",
            "2025-09-03 11:40:19",
            "2025-09-03 11:40:20",
            "2025-09-03 11:40:21",
            "2025-09-03 11:40:22"
           ],
           "type": "scatter",
           "x": {
            "bdata": "AAAAAAAAAAB6tLpF6NXyP2HNMOElNAJAXldM4pE/CUB4sMMCKXIQQBvJqZ+SRhRAL+4XjVKJGEAAAAAAAADwfw==",
            "dtype": "f8"
           },
           "y": {
            "bdata": "AAAAAAAAAADQkKGTxALwP03PNxbuPgBAy4Dv5lipCUAL289Y57kSQHJUCk5GshlAXfDz/0aVIEAAAAAAAADwfw==",
            "dtype": "f8"
           }
          }
         ],
         "name": "2025-09-03 11:40:22",
         "traces": [
          0,
          1
         ]
        },
        {
         "data": [
          {
           "type": "scatter",
           "x": [
            0,
            0
           ],
           "y": [
            0,
            0
           ]
          },
          {
           "hovertemplate": "GroundTruthState<br>(%{x}, %{y})<br>Time: %{meta}",
           "meta": [
            "2025-09-03 11:40:17",
            "2025-09-03 11:40:18",
            "2025-09-03 11:40:19",
            "2025-09-03 11:40:20",
            "2025-09-03 11:40:21",
            "2025-09-03 11:40:22",
            "2025-09-03 11:40:23"
           ],
           "type": "scatter",
           "x": {
            "bdata": "erS6RejV8j9hzTDhJTQCQF5XTOKRPwlAeLDDAilyEEAbyamfkkYUQC/uF41SiRhA+d8D0b1YHUAAAAAAAADwfw==",
            "dtype": "f8"
           },
           "y": {
            "bdata": "0JChk8QC8D9NzzcW7j4AQMuA7+ZYqQlAC9vPWOe5EkByVApORrIZQF3w8/9GlSBAkx2pj5ZrJEAAAAAAAADwfw==",
            "dtype": "f8"
           }
          }
         ],
         "name": "2025-09-03 11:40:23",
         "traces": [
          0,
          1
         ]
        },
        {
         "data": [
          {
           "type": "scatter",
           "x": [
            0,
            0
           ],
           "y": [
            0,
            0
           ]
          },
          {
           "hovertemplate": "GroundTruthState<br>(%{x}, %{y})<br>Time: %{meta}",
           "meta": [
            "2025-09-03 11:40:18",
            "2025-09-03 11:40:19",
            "2025-09-03 11:40:20",
            "2025-09-03 11:40:21",
            "2025-09-03 11:40:22",
            "2025-09-03 11:40:23",
            "2025-09-03 11:40:24"
           ],
           "type": "scatter",
           "x": {
            "bdata": "Yc0w4SU0AkBeV0zikT8JQHiwwwIpchBAG8mpn5JGFEAv7heNUokYQPnfA9G9WB1AtDiO8N9qIUAAAAAAAADwfw==",
            "dtype": "f8"
           },
           "y": {
            "bdata": "Tc83Fu4+AEDLgO/mWKkJQAvbz1jnuRJAclQKTkayGUBd8PP/RpUgQJMdqY+WayRAhkhDcEFHKUAAAAAAAADwfw==",
            "dtype": "f8"
           }
          }
         ],
         "name": "2025-09-03 11:40:24",
         "traces": [
          0,
          1
         ]
        },
        {
         "data": [
          {
           "type": "scatter",
           "x": [
            0,
            0
           ],
           "y": [
            0,
            0
           ]
          },
          {
           "hovertemplate": "GroundTruthState<br>(%{x}, %{y})<br>Time: %{meta}",
           "meta": [
            "2025-09-03 11:40:19",
            "2025-09-03 11:40:20",
            "2025-09-03 11:40:21",
            "2025-09-03 11:40:22",
            "2025-09-03 11:40:23",
            "2025-09-03 11:40:24",
            "2025-09-03 11:40:25"
           ],
           "type": "scatter",
           "x": {
            "bdata": "XldM4pE/CUB4sMMCKXIQQBvJqZ+SRhRAL+4XjVKJGED53wPRvVgdQLQ4jvDfaiFA7NV9RsZSI0AAAAAAAADwfw==",
            "dtype": "f8"
           },
           "y": {
            "bdata": "y4Dv5lipCUAL289Y57kSQHJUCk5GshlAXfDz/0aVIECTHamPlmskQIZIQ3BBRylAoQH+DownLkAAAAAAAADwfw==",
            "dtype": "f8"
           }
          }
         ],
         "name": "2025-09-03 11:40:25",
         "traces": [
          0,
          1
         ]
        },
        {
         "data": [
          {
           "type": "scatter",
           "x": [
            0,
            0
           ],
           "y": [
            0,
            0
           ]
          },
          {
           "hovertemplate": "GroundTruthState<br>(%{x}, %{y})<br>Time: %{meta}",
           "meta": [
            "2025-09-03 11:40:20",
            "2025-09-03 11:40:21",
            "2025-09-03 11:40:22",
            "2025-09-03 11:40:23",
            "2025-09-03 11:40:24",
            "2025-09-03 11:40:25",
            "2025-09-03 11:40:26"
           ],
           "type": "scatter",
           "x": {
            "bdata": "eLDDAilyEEAbyamfkkYUQC/uF41SiRhA+d8D0b1YHUC0OI7w32ohQOzVfUbGUiNAEuEL0C+UJEAAAAAAAADwfw==",
            "dtype": "f8"
           },
           "y": {
            "bdata": "C9vPWOe5EkByVApORrIZQF3w8/9GlSBAkx2pj5ZrJECGSENwQUcpQKEB/g6MJy5AF/mO3cB2MUAAAAAAAADwfw==",
            "dtype": "f8"
           }
          }
         ],
         "name": "2025-09-03 11:40:26",
         "traces": [
          0,
          1
         ]
        },
        {
         "data": [
          {
           "type": "scatter",
           "x": [
            0,
            0
           ],
           "y": [
            0,
            0
           ]
          },
          {
           "hovertemplate": "GroundTruthState<br>(%{x}, %{y})<br>Time: %{meta}",
           "meta": [
            "2025-09-03 11:40:21",
            "2025-09-03 11:40:22",
            "2025-09-03 11:40:23",
            "2025-09-03 11:40:24",
            "2025-09-03 11:40:25",
            "2025-09-03 11:40:26",
            "2025-09-03 11:40:27"
           ],
           "type": "scatter",
           "x": {
            "bdata": "G8mpn5JGFEAv7heNUokYQPnfA9G9WB1AtDiO8N9qIUDs1X1GxlIjQBLhC9AvlCRAkjFQCCnRJUAAAAAAAADwfw==",
            "dtype": "f8"
           },
           "y": {
            "bdata": "clQKTkayGUBd8PP/RpUgQJMdqY+WayRAhkhDcEFHKUChAf4OjCcuQBf5jt3AdjFApjki6kjsM0AAAAAAAADwfw==",
            "dtype": "f8"
           }
          }
         ],
         "name": "2025-09-03 11:40:27",
         "traces": [
          0,
          1
         ]
        },
        {
         "data": [
          {
           "type": "scatter",
           "x": [
            0,
            0
           ],
           "y": [
            0,
            0
           ]
          },
          {
           "hovertemplate": "GroundTruthState<br>(%{x}, %{y})<br>Time: %{meta}",
           "meta": [
            "2025-09-03 11:40:22",
            "2025-09-03 11:40:23",
            "2025-09-03 11:40:24",
            "2025-09-03 11:40:25",
            "2025-09-03 11:40:26",
            "2025-09-03 11:40:27",
            "2025-09-03 11:40:28"
           ],
           "type": "scatter",
           "x": {
            "bdata": "L+4XjVKJGED53wPRvVgdQLQ4jvDfaiFA7NV9RsZSI0AS4QvQL5QkQJIxUAgp0SVAo23mQHzfJkAAAAAAAADwfw==",
            "dtype": "f8"
           },
           "y": {
            "bdata": "XfDz/0aVIECTHamPlmskQIZIQ3BBRylAoQH+DownLkAX+Y7dwHYxQKY5IupI7DNAGzWtyWtvNkAAAAAAAADwfw==",
            "dtype": "f8"
           }
          }
         ],
         "name": "2025-09-03 11:40:28",
         "traces": [
          0,
          1
         ]
        },
        {
         "data": [
          {
           "type": "scatter",
           "x": [
            0,
            0
           ],
           "y": [
            0,
            0
           ]
          },
          {
           "hovertemplate": "GroundTruthState<br>(%{x}, %{y})<br>Time: %{meta}",
           "meta": [
            "2025-09-03 11:40:23",
            "2025-09-03 11:40:24",
            "2025-09-03 11:40:25",
            "2025-09-03 11:40:26",
            "2025-09-03 11:40:27",
            "2025-09-03 11:40:28",
            "2025-09-03 11:40:29"
           ],
           "type": "scatter",
           "x": {
            "bdata": "+d8D0b1YHUC0OI7w32ohQOzVfUbGUiNAEuEL0C+UJECSMVAIKdElQKNt5kB83yZAVIZqP+IqKEAAAAAAAADwfw==",
            "dtype": "f8"
           },
           "y": {
            "bdata": "kx2pj5ZrJECGSENwQUcpQKEB/g6MJy5AF/mO3cB2MUCmOSLqSOwzQBs1rclrbzZAekRRw+s5OUAAAAAAAADwfw==",
            "dtype": "f8"
           }
          }
         ],
         "name": "2025-09-03 11:40:29",
         "traces": [
          0,
          1
         ]
        },
        {
         "data": [
          {
           "type": "scatter",
           "x": [
            0,
            0
           ],
           "y": [
            0,
            0
           ]
          },
          {
           "hovertemplate": "GroundTruthState<br>(%{x}, %{y})<br>Time: %{meta}",
           "meta": [
            "2025-09-03 11:40:24",
            "2025-09-03 11:40:25",
            "2025-09-03 11:40:26",
            "2025-09-03 11:40:27",
            "2025-09-03 11:40:28",
            "2025-09-03 11:40:29",
            "2025-09-03 11:40:30"
           ],
           "type": "scatter",
           "x": {
            "bdata": "tDiO8N9qIUDs1X1GxlIjQBLhC9AvlCRAkjFQCCnRJUCjbeZAfN8mQFSGaj/iKihAX8G7Muq2KUAAAAAAAADwfw==",
            "dtype": "f8"
           },
           "y": {
            "bdata": "hkhDcEFHKUChAf4OjCcuQBf5jt3AdjFApjki6kjsM0AbNa3Ja282QHpEUcPrOTlAyrd/nSxRPEAAAAAAAADwfw==",
            "dtype": "f8"
           }
          }
         ],
         "name": "2025-09-03 11:40:30",
         "traces": [
          0,
          1
         ]
        },
        {
         "data": [
          {
           "type": "scatter",
           "x": [
            0,
            0
           ],
           "y": [
            0,
            0
           ]
          },
          {
           "hovertemplate": "GroundTruthState<br>(%{x}, %{y})<br>Time: %{meta}",
           "meta": [
            "2025-09-03 11:40:25",
            "2025-09-03 11:40:26",
            "2025-09-03 11:40:27",
            "2025-09-03 11:40:28",
            "2025-09-03 11:40:29",
            "2025-09-03 11:40:30",
            "2025-09-03 11:40:31"
           ],
           "type": "scatter",
           "x": {
            "bdata": "7NV9RsZSI0AS4QvQL5QkQJIxUAgp0SVAo23mQHzfJkBUhmo/4iooQF/BuzLqtilAFQmPCflTK0AAAAAAAADwfw==",
            "dtype": "f8"
           },
           "y": {
            "bdata": "oQH+DownLkAX+Y7dwHYxQKY5IupI7DNAGzWtyWtvNkB6RFHD6zk5QMq3f50sUTxAb1YXWVKnP0AAAAAAAADwfw==",
            "dtype": "f8"
           }
          }
         ],
         "name": "2025-09-03 11:40:31",
         "traces": [
          0,
          1
         ]
        },
        {
         "data": [
          {
           "type": "scatter",
           "x": [
            0,
            0
           ],
           "y": [
            0,
            0
           ]
          },
          {
           "hovertemplate": "GroundTruthState<br>(%{x}, %{y})<br>Time: %{meta}",
           "meta": [
            "2025-09-03 11:40:26",
            "2025-09-03 11:40:27",
            "2025-09-03 11:40:28",
            "2025-09-03 11:40:29",
            "2025-09-03 11:40:30",
            "2025-09-03 11:40:31",
            "2025-09-03 11:40:32"
           ],
           "type": "scatter",
           "x": {
            "bdata": "EuEL0C+UJECSMVAIKdElQKNt5kB83yZAVIZqP+IqKEBfwbsy6rYpQBUJjwn5UytAmLZG/WZSLUAAAAAAAADwfw==",
            "dtype": "f8"
           },
           "y": {
            "bdata": "F/mO3cB2MUCmOSLqSOwzQBs1rclrbzZAekRRw+s5OUDKt3+dLFE8QG9WF1lSpz9ANPmhmdt6QUAAAAAAAADwfw==",
            "dtype": "f8"
           }
          }
         ],
         "name": "2025-09-03 11:40:32",
         "traces": [
          0,
          1
         ]
        },
        {
         "data": [
          {
           "type": "scatter",
           "x": [
            0,
            0
           ],
           "y": [
            0,
            0
           ]
          },
          {
           "hovertemplate": "GroundTruthState<br>(%{x}, %{y})<br>Time: %{meta}",
           "meta": [
            "2025-09-03 11:40:27",
            "2025-09-03 11:40:28",
            "2025-09-03 11:40:29",
            "2025-09-03 11:40:30",
            "2025-09-03 11:40:31",
            "2025-09-03 11:40:32",
            "2025-09-03 11:40:33"
           ],
           "type": "scatter",
           "x": {
            "bdata": "kjFQCCnRJUCjbeZAfN8mQFSGaj/iKihAX8G7Muq2KUAVCY8J+VMrQJi2Rv1mUi1AnzddlQKHL0AAAAAAAADwfw==",
            "dtype": "f8"
           },
           "y": {
            "bdata": "pjki6kjsM0AbNa3Ja282QHpEUcPrOTlAyrd/nSxRPEBvVhdZUqc/QDT5oZnbekFAb2buENQpQ0AAAAAAAADwfw==",
            "dtype": "f8"
           }
          }
         ],
         "name": "2025-09-03 11:40:33",
         "traces": [
          0,
          1
         ]
        },
        {
         "data": [
          {
           "type": "scatter",
           "x": [
            0,
            0
           ],
           "y": [
            0,
            0
           ]
          },
          {
           "hovertemplate": "GroundTruthState<br>(%{x}, %{y})<br>Time: %{meta}",
           "meta": [
            "2025-09-03 11:40:28",
            "2025-09-03 11:40:29",
            "2025-09-03 11:40:30",
            "2025-09-03 11:40:31",
            "2025-09-03 11:40:32",
            "2025-09-03 11:40:33",
            "2025-09-03 11:40:34"
           ],
           "type": "scatter",
           "x": {
            "bdata": "o23mQHzfJkBUhmo/4iooQF/BuzLqtilAFQmPCflTK0CYtkb9ZlItQJ83XZUChy9A39BYSYr+MEAAAAAAAADwfw==",
            "dtype": "f8"
           },
           "y": {
            "bdata": "GzWtyWtvNkB6RFHD6zk5QMq3f50sUTxAb1YXWVKnP0A0+aGZ23pBQG9m7hDUKUNAetV6v0bTREAAAAAAAADwfw==",
            "dtype": "f8"
           }
          }
         ],
         "name": "2025-09-03 11:40:34",
         "traces": [
          0,
          1
         ]
        },
        {
         "data": [
          {
           "type": "scatter",
           "x": [
            0,
            0
           ],
           "y": [
            0,
            0
           ]
          },
          {
           "hovertemplate": "GroundTruthState<br>(%{x}, %{y})<br>Time: %{meta}",
           "meta": [
            "2025-09-03 11:40:29",
            "2025-09-03 11:40:30",
            "2025-09-03 11:40:31",
            "2025-09-03 11:40:32",
            "2025-09-03 11:40:33",
            "2025-09-03 11:40:34",
            "2025-09-03 11:40:35"
           ],
           "type": "scatter",
           "x": {
            "bdata": "VIZqP+IqKEBfwbsy6rYpQBUJjwn5UytAmLZG/WZSLUCfN12VAocvQN/QWEmK/jBAWVDaW1dNMkAAAAAAAADwfw==",
            "dtype": "f8"
           },
           "y": {
            "bdata": "ekRRw+s5OUDKt3+dLFE8QG9WF1lSpz9ANPmhmdt6QUBvZu4Q1ClDQHrVer9G00RADk9xSz15RkAAAAAAAADwfw==",
            "dtype": "f8"
           }
          }
         ],
         "name": "2025-09-03 11:40:35",
         "traces": [
          0,
          1
         ]
        },
        {
         "data": [
          {
           "type": "scatter",
           "x": [
            0,
            0
           ],
           "y": [
            0,
            0
           ]
          },
          {
           "hovertemplate": "GroundTruthState<br>(%{x}, %{y})<br>Time: %{meta}",
           "meta": [
            "2025-09-03 11:40:30",
            "2025-09-03 11:40:31",
            "2025-09-03 11:40:32",
            "2025-09-03 11:40:33",
            "2025-09-03 11:40:34",
            "2025-09-03 11:40:35",
            "2025-09-03 11:40:36"
           ],
           "type": "scatter",
           "x": {
            "bdata": "X8G7Muq2KUAVCY8J+VMrQJi2Rv1mUi1AnzddlQKHL0Df0FhJiv4wQFlQ2ltXTTJAlXsN2z+4M0AAAAAAAADwfw==",
            "dtype": "f8"
           },
           "y": {
            "bdata": "yrd/nSxRPEBvVhdZUqc/QDT5oZnbekFAb2buENQpQ0B61Xq/RtNEQA5PcUs9eUZASq0yGpIISEAAAAAAAADwfw==",
            "dtype": "f8"
           }
          }
         ],
         "name": "2025-09-03 11:40:36",
         "traces": [
          0,
          1
         ]
        }
       ],
       "layout": {
        "autosize": true,
        "colorway": [
         "#EF553B",
         "#00CC96",
         "#AB63FA",
         "#FFA15A",
         "#19D3F3",
         "#FF6692",
         "#B6E880",
         "#FF97FF",
         "#FECB52"
        ],
        "height": 550,
        "sliders": [
         {
          "currentvalue": {
           "font": {
            "size": 16
           },
           "prefix": "Time: ",
           "visible": true,
           "xanchor": "right"
          },
          "len": 0.9,
          "pad": {
           "b": 10,
           "t": 50
          },
          "steps": [
           {
            "args": [
             [
              "2025-09-03 11:40:16"
             ],
             {
              "frame": {
               "duration": 1,
               "easing": "linear",
               "redraw": true
              },
              "transition": {
               "duration": 0,
               "easing": "linear"
              }
             }
            ],
            "label": "11:40:16",
            "method": "animate"
           },
           {
            "args": [
             [
              "2025-09-03 11:40:17"
             ],
             {
              "frame": {
               "duration": 1,
               "easing": "linear",
               "redraw": true
              },
              "transition": {
               "duration": 0,
               "easing": "linear"
              }
             }
            ],
            "label": "11:40:17",
            "method": "animate"
           },
           {
            "args": [
             [
              "2025-09-03 11:40:18"
             ],
             {
              "frame": {
               "duration": 1,
               "easing": "linear",
               "redraw": true
              },
              "transition": {
               "duration": 0,
               "easing": "linear"
              }
             }
            ],
            "label": "11:40:18",
            "method": "animate"
           },
           {
            "args": [
             [
              "2025-09-03 11:40:19"
             ],
             {
              "frame": {
               "duration": 1,
               "easing": "linear",
               "redraw": true
              },
              "transition": {
               "duration": 0,
               "easing": "linear"
              }
             }
            ],
            "label": "11:40:19",
            "method": "animate"
           },
           {
            "args": [
             [
              "2025-09-03 11:40:20"
             ],
             {
              "frame": {
               "duration": 1,
               "easing": "linear",
               "redraw": true
              },
              "transition": {
               "duration": 0,
               "easing": "linear"
              }
             }
            ],
            "label": "11:40:20",
            "method": "animate"
           },
           {
            "args": [
             [
              "2025-09-03 11:40:21"
             ],
             {
              "frame": {
               "duration": 1,
               "easing": "linear",
               "redraw": true
              },
              "transition": {
               "duration": 0,
               "easing": "linear"
              }
             }
            ],
            "label": "11:40:21",
            "method": "animate"
           },
           {
            "args": [
             [
              "2025-09-03 11:40:22"
             ],
             {
              "frame": {
               "duration": 1,
               "easing": "linear",
               "redraw": true
              },
              "transition": {
               "duration": 0,
               "easing": "linear"
              }
             }
            ],
            "label": "11:40:22",
            "method": "animate"
           },
           {
            "args": [
             [
              "2025-09-03 11:40:23"
             ],
             {
              "frame": {
               "duration": 1,
               "easing": "linear",
               "redraw": true
              },
              "transition": {
               "duration": 0,
               "easing": "linear"
              }
             }
            ],
            "label": "11:40:23",
            "method": "animate"
           },
           {
            "args": [
             [
              "2025-09-03 11:40:24"
             ],
             {
              "frame": {
               "duration": 1,
               "easing": "linear",
               "redraw": true
              },
              "transition": {
               "duration": 0,
               "easing": "linear"
              }
             }
            ],
            "label": "11:40:24",
            "method": "animate"
           },
           {
            "args": [
             [
              "2025-09-03 11:40:25"
             ],
             {
              "frame": {
               "duration": 1,
               "easing": "linear",
               "redraw": true
              },
              "transition": {
               "duration": 0,
               "easing": "linear"
              }
             }
            ],
            "label": "11:40:25",
            "method": "animate"
           },
           {
            "args": [
             [
              "2025-09-03 11:40:26"
             ],
             {
              "frame": {
               "duration": 1,
               "easing": "linear",
               "redraw": true
              },
              "transition": {
               "duration": 0,
               "easing": "linear"
              }
             }
            ],
            "label": "11:40:26",
            "method": "animate"
           },
           {
            "args": [
             [
              "2025-09-03 11:40:27"
             ],
             {
              "frame": {
               "duration": 1,
               "easing": "linear",
               "redraw": true
              },
              "transition": {
               "duration": 0,
               "easing": "linear"
              }
             }
            ],
            "label": "11:40:27",
            "method": "animate"
           },
           {
            "args": [
             [
              "2025-09-03 11:40:28"
             ],
             {
              "frame": {
               "duration": 1,
               "easing": "linear",
               "redraw": true
              },
              "transition": {
               "duration": 0,
               "easing": "linear"
              }
             }
            ],
            "label": "11:40:28",
            "method": "animate"
           },
           {
            "args": [
             [
              "2025-09-03 11:40:29"
             ],
             {
              "frame": {
               "duration": 1,
               "easing": "linear",
               "redraw": true
              },
              "transition": {
               "duration": 0,
               "easing": "linear"
              }
             }
            ],
            "label": "11:40:29",
            "method": "animate"
           },
           {
            "args": [
             [
              "2025-09-03 11:40:30"
             ],
             {
              "frame": {
               "duration": 1,
               "easing": "linear",
               "redraw": true
              },
              "transition": {
               "duration": 0,
               "easing": "linear"
              }
             }
            ],
            "label": "11:40:30",
            "method": "animate"
           },
           {
            "args": [
             [
              "2025-09-03 11:40:31"
             ],
             {
              "frame": {
               "duration": 1,
               "easing": "linear",
               "redraw": true
              },
              "transition": {
               "duration": 0,
               "easing": "linear"
              }
             }
            ],
            "label": "11:40:31",
            "method": "animate"
           },
           {
            "args": [
             [
              "2025-09-03 11:40:32"
             ],
             {
              "frame": {
               "duration": 1,
               "easing": "linear",
               "redraw": true
              },
              "transition": {
               "duration": 0,
               "easing": "linear"
              }
             }
            ],
            "label": "11:40:32",
            "method": "animate"
           },
           {
            "args": [
             [
              "2025-09-03 11:40:33"
             ],
             {
              "frame": {
               "duration": 1,
               "easing": "linear",
               "redraw": true
              },
              "transition": {
               "duration": 0,
               "easing": "linear"
              }
             }
            ],
            "label": "11:40:33",
            "method": "animate"
           },
           {
            "args": [
             [
              "2025-09-03 11:40:34"
             ],
             {
              "frame": {
               "duration": 1,
               "easing": "linear",
               "redraw": true
              },
              "transition": {
               "duration": 0,
               "easing": "linear"
              }
             }
            ],
            "label": "11:40:34",
            "method": "animate"
           },
           {
            "args": [
             [
              "2025-09-03 11:40:35"
             ],
             {
              "frame": {
               "duration": 1,
               "easing": "linear",
               "redraw": true
              },
              "transition": {
               "duration": 0,
               "easing": "linear"
              }
             }
            ],
            "label": "11:40:35",
            "method": "animate"
           },
           {
            "args": [
             [
              "2025-09-03 11:40:36"
             ],
             {
              "frame": {
               "duration": 1,
               "easing": "linear",
               "redraw": true
              },
              "transition": {
               "duration": 0,
               "easing": "linear"
              }
             }
            ],
            "label": "11:40:36",
            "method": "animate"
           }
          ],
          "transition": {
           "duration": 285.7142857142857,
           "easing": "linear"
          },
          "x": 0.1,
          "xanchor": "left",
          "y": 0,
          "yanchor": "top"
         }
        ],
        "template": {
         "data": {
          "bar": [
           {
            "error_x": {
             "color": "#2a3f5f"
            },
            "error_y": {
             "color": "#2a3f5f"
            },
            "marker": {
             "line": {
              "color": "#E5ECF6",
              "width": 0.5
             },
             "pattern": {
              "fillmode": "overlay",
              "size": 10,
              "solidity": 0.2
             }
            },
            "type": "bar"
           }
          ],
          "barpolar": [
           {
            "marker": {
             "line": {
              "color": "#E5ECF6",
              "width": 0.5
             },
             "pattern": {
              "fillmode": "overlay",
              "size": 10,
              "solidity": 0.2
             }
            },
            "type": "barpolar"
           }
          ],
          "carpet": [
           {
            "aaxis": {
             "endlinecolor": "#2a3f5f",
             "gridcolor": "white",
             "linecolor": "white",
             "minorgridcolor": "white",
             "startlinecolor": "#2a3f5f"
            },
            "baxis": {
             "endlinecolor": "#2a3f5f",
             "gridcolor": "white",
             "linecolor": "white",
             "minorgridcolor": "white",
             "startlinecolor": "#2a3f5f"
            },
            "type": "carpet"
           }
          ],
          "choropleth": [
           {
            "colorbar": {
             "outlinewidth": 0,
             "ticks": ""
            },
            "type": "choropleth"
           }
          ],
          "contour": [
           {
            "colorbar": {
             "outlinewidth": 0,
             "ticks": ""
            },
            "colorscale": [
             [
              0,
              "#0d0887"
             ],
             [
              0.1111111111111111,
              "#46039f"
             ],
             [
              0.2222222222222222,
              "#7201a8"
             ],
             [
              0.3333333333333333,
              "#9c179e"
             ],
             [
              0.4444444444444444,
              "#bd3786"
             ],
             [
              0.5555555555555556,
              "#d8576b"
             ],
             [
              0.6666666666666666,
              "#ed7953"
             ],
             [
              0.7777777777777778,
              "#fb9f3a"
             ],
             [
              0.8888888888888888,
              "#fdca26"
             ],
             [
              1,
              "#f0f921"
             ]
            ],
            "type": "contour"
           }
          ],
          "contourcarpet": [
           {
            "colorbar": {
             "outlinewidth": 0,
             "ticks": ""
            },
            "type": "contourcarpet"
           }
          ],
          "heatmap": [
           {
            "colorbar": {
             "outlinewidth": 0,
             "ticks": ""
            },
            "colorscale": [
             [
              0,
              "#0d0887"
             ],
             [
              0.1111111111111111,
              "#46039f"
             ],
             [
              0.2222222222222222,
              "#7201a8"
             ],
             [
              0.3333333333333333,
              "#9c179e"
             ],
             [
              0.4444444444444444,
              "#bd3786"
             ],
             [
              0.5555555555555556,
              "#d8576b"
             ],
             [
              0.6666666666666666,
              "#ed7953"
             ],
             [
              0.7777777777777778,
              "#fb9f3a"
             ],
             [
              0.8888888888888888,
              "#fdca26"
             ],
             [
              1,
              "#f0f921"
             ]
            ],
            "type": "heatmap"
           }
          ],
          "histogram": [
           {
            "marker": {
             "pattern": {
              "fillmode": "overlay",
              "size": 10,
              "solidity": 0.2
             }
            },
            "type": "histogram"
           }
          ],
          "histogram2d": [
           {
            "colorbar": {
             "outlinewidth": 0,
             "ticks": ""
            },
            "colorscale": [
             [
              0,
              "#0d0887"
             ],
             [
              0.1111111111111111,
              "#46039f"
             ],
             [
              0.2222222222222222,
              "#7201a8"
             ],
             [
              0.3333333333333333,
              "#9c179e"
             ],
             [
              0.4444444444444444,
              "#bd3786"
             ],
             [
              0.5555555555555556,
              "#d8576b"
             ],
             [
              0.6666666666666666,
              "#ed7953"
             ],
             [
              0.7777777777777778,
              "#fb9f3a"
             ],
             [
              0.8888888888888888,
              "#fdca26"
             ],
             [
              1,
              "#f0f921"
             ]
            ],
            "type": "histogram2d"
           }
          ],
          "histogram2dcontour": [
           {
            "colorbar": {
             "outlinewidth": 0,
             "ticks": ""
            },
            "colorscale": [
             [
              0,
              "#0d0887"
             ],
             [
              0.1111111111111111,
              "#46039f"
             ],
             [
              0.2222222222222222,
              "#7201a8"
             ],
             [
              0.3333333333333333,
              "#9c179e"
             ],
             [
              0.4444444444444444,
              "#bd3786"
             ],
             [
              0.5555555555555556,
              "#d8576b"
             ],
             [
              0.6666666666666666,
              "#ed7953"
             ],
             [
              0.7777777777777778,
              "#fb9f3a"
             ],
             [
              0.8888888888888888,
              "#fdca26"
             ],
             [
              1,
              "#f0f921"
             ]
            ],
            "type": "histogram2dcontour"
           }
          ],
          "mesh3d": [
           {
            "colorbar": {
             "outlinewidth": 0,
             "ticks": ""
            },
            "type": "mesh3d"
           }
          ],
          "parcoords": [
           {
            "line": {
             "colorbar": {
              "outlinewidth": 0,
              "ticks": ""
             }
            },
            "type": "parcoords"
           }
          ],
          "pie": [
           {
            "automargin": true,
            "type": "pie"
           }
          ],
          "scatter": [
           {
            "fillpattern": {
             "fillmode": "overlay",
             "size": 10,
             "solidity": 0.2
            },
            "type": "scatter"
           }
          ],
          "scatter3d": [
           {
            "line": {
             "colorbar": {
              "outlinewidth": 0,
              "ticks": ""
             }
            },
            "marker": {
             "colorbar": {
              "outlinewidth": 0,
              "ticks": ""
             }
            },
            "type": "scatter3d"
           }
          ],
          "scattercarpet": [
           {
            "marker": {
             "colorbar": {
              "outlinewidth": 0,
              "ticks": ""
             }
            },
            "type": "scattercarpet"
           }
          ],
          "scattergeo": [
           {
            "marker": {
             "colorbar": {
              "outlinewidth": 0,
              "ticks": ""
             }
            },
            "type": "scattergeo"
           }
          ],
          "scattergl": [
           {
            "marker": {
             "colorbar": {
              "outlinewidth": 0,
              "ticks": ""
             }
            },
            "type": "scattergl"
           }
          ],
          "scattermap": [
           {
            "marker": {
             "colorbar": {
              "outlinewidth": 0,
              "ticks": ""
             }
            },
            "type": "scattermap"
           }
          ],
          "scattermapbox": [
           {
            "marker": {
             "colorbar": {
              "outlinewidth": 0,
              "ticks": ""
             }
            },
            "type": "scattermapbox"
           }
          ],
          "scatterpolar": [
           {
            "marker": {
             "colorbar": {
              "outlinewidth": 0,
              "ticks": ""
             }
            },
            "type": "scatterpolar"
           }
          ],
          "scatterpolargl": [
           {
            "marker": {
             "colorbar": {
              "outlinewidth": 0,
              "ticks": ""
             }
            },
            "type": "scatterpolargl"
           }
          ],
          "scatterternary": [
           {
            "marker": {
             "colorbar": {
              "outlinewidth": 0,
              "ticks": ""
             }
            },
            "type": "scatterternary"
           }
          ],
          "surface": [
           {
            "colorbar": {
             "outlinewidth": 0,
             "ticks": ""
            },
            "colorscale": [
             [
              0,
              "#0d0887"
             ],
             [
              0.1111111111111111,
              "#46039f"
             ],
             [
              0.2222222222222222,
              "#7201a8"
             ],
             [
              0.3333333333333333,
              "#9c179e"
             ],
             [
              0.4444444444444444,
              "#bd3786"
             ],
             [
              0.5555555555555556,
              "#d8576b"
             ],
             [
              0.6666666666666666,
              "#ed7953"
             ],
             [
              0.7777777777777778,
              "#fb9f3a"
             ],
             [
              0.8888888888888888,
              "#fdca26"
             ],
             [
              1,
              "#f0f921"
             ]
            ],
            "type": "surface"
           }
          ],
          "table": [
           {
            "cells": {
             "fill": {
              "color": "#EBF0F8"
             },
             "line": {
              "color": "white"
             }
            },
            "header": {
             "fill": {
              "color": "#C8D4E3"
             },
             "line": {
              "color": "white"
             }
            },
            "type": "table"
           }
          ]
         },
         "layout": {
          "annotationdefaults": {
           "arrowcolor": "#2a3f5f",
           "arrowhead": 0,
           "arrowwidth": 1
          },
          "autotypenumbers": "strict",
          "coloraxis": {
           "colorbar": {
            "outlinewidth": 0,
            "ticks": ""
           }
          },
          "colorscale": {
           "diverging": [
            [
             0,
             "#8e0152"
            ],
            [
             0.1,
             "#c51b7d"
            ],
            [
             0.2,
             "#de77ae"
            ],
            [
             0.3,
             "#f1b6da"
            ],
            [
             0.4,
             "#fde0ef"
            ],
            [
             0.5,
             "#f7f7f7"
            ],
            [
             0.6,
             "#e6f5d0"
            ],
            [
             0.7,
             "#b8e186"
            ],
            [
             0.8,
             "#7fbc41"
            ],
            [
             0.9,
             "#4d9221"
            ],
            [
             1,
             "#276419"
            ]
           ],
           "sequential": [
            [
             0,
             "#0d0887"
            ],
            [
             0.1111111111111111,
             "#46039f"
            ],
            [
             0.2222222222222222,
             "#7201a8"
            ],
            [
             0.3333333333333333,
             "#9c179e"
            ],
            [
             0.4444444444444444,
             "#bd3786"
            ],
            [
             0.5555555555555556,
             "#d8576b"
            ],
            [
             0.6666666666666666,
             "#ed7953"
            ],
            [
             0.7777777777777778,
             "#fb9f3a"
            ],
            [
             0.8888888888888888,
             "#fdca26"
            ],
            [
             1,
             "#f0f921"
            ]
           ],
           "sequentialminus": [
            [
             0,
             "#0d0887"
            ],
            [
             0.1111111111111111,
             "#46039f"
            ],
            [
             0.2222222222222222,
             "#7201a8"
            ],
            [
             0.3333333333333333,
             "#9c179e"
            ],
            [
             0.4444444444444444,
             "#bd3786"
            ],
            [
             0.5555555555555556,
             "#d8576b"
            ],
            [
             0.6666666666666666,
             "#ed7953"
            ],
            [
             0.7777777777777778,
             "#fb9f3a"
            ],
            [
             0.8888888888888888,
             "#fdca26"
            ],
            [
             1,
             "#f0f921"
            ]
           ]
          },
          "colorway": [
           "#636efa",
           "#EF553B",
           "#00cc96",
           "#ab63fa",
           "#FFA15A",
           "#19d3f3",
           "#FF6692",
           "#B6E880",
           "#FF97FF",
           "#FECB52"
          ],
          "font": {
           "color": "#2a3f5f"
          },
          "geo": {
           "bgcolor": "white",
           "lakecolor": "white",
           "landcolor": "#E5ECF6",
           "showlakes": true,
           "showland": true,
           "subunitcolor": "white"
          },
          "hoverlabel": {
           "align": "left"
          },
          "hovermode": "closest",
          "mapbox": {
           "style": "light"
          },
          "paper_bgcolor": "white",
          "plot_bgcolor": "#E5ECF6",
          "polar": {
           "angularaxis": {
            "gridcolor": "white",
            "linecolor": "white",
            "ticks": ""
           },
           "bgcolor": "#E5ECF6",
           "radialaxis": {
            "gridcolor": "white",
            "linecolor": "white",
            "ticks": ""
           }
          },
          "scene": {
           "xaxis": {
            "backgroundcolor": "#E5ECF6",
            "gridcolor": "white",
            "gridwidth": 2,
            "linecolor": "white",
            "showbackground": true,
            "ticks": "",
            "zerolinecolor": "white"
           },
           "yaxis": {
            "backgroundcolor": "#E5ECF6",
            "gridcolor": "white",
            "gridwidth": 2,
            "linecolor": "white",
            "showbackground": true,
            "ticks": "",
            "zerolinecolor": "white"
           },
           "zaxis": {
            "backgroundcolor": "#E5ECF6",
            "gridcolor": "white",
            "gridwidth": 2,
            "linecolor": "white",
            "showbackground": true,
            "ticks": "",
            "zerolinecolor": "white"
           }
          },
          "shapedefaults": {
           "line": {
            "color": "#2a3f5f"
           }
          },
          "ternary": {
           "aaxis": {
            "gridcolor": "white",
            "linecolor": "white",
            "ticks": ""
           },
           "baxis": {
            "gridcolor": "white",
            "linecolor": "white",
            "ticks": ""
           },
           "bgcolor": "#E5ECF6",
           "caxis": {
            "gridcolor": "white",
            "linecolor": "white",
            "ticks": ""
           }
          },
          "title": {
           "x": 0.05
          },
          "xaxis": {
           "automargin": true,
           "gridcolor": "white",
           "linecolor": "white",
           "ticks": "",
           "title": {
            "standoff": 15
           },
           "zerolinecolor": "white",
           "zerolinewidth": 2
          },
          "yaxis": {
           "automargin": true,
           "gridcolor": "white",
           "linecolor": "white",
           "ticks": "",
           "title": {
            "standoff": 15
           },
           "zerolinecolor": "white",
           "zerolinewidth": 2
          }
         }
        },
        "updatemenus": [
         {
          "buttons": [
           {
            "args": [
             null,
             {
              "frame": {
               "duration": 285.7142857142857,
               "redraw": true
              },
              "fromcurrent": true,
              "transition": {
               "duration": 0
              }
             }
            ],
            "label": "Play",
            "method": "animate"
           },
           {
            "args": [
             [
              null
             ],
             {
              "frame": {
               "duration": 0,
               "redraw": true
              },
              "mode": "immediate",
              "transition": {
               "duration": 0
              }
             }
            ],
            "label": "Stop",
            "method": "animate"
           }
          ],
          "direction": "left",
          "pad": {
           "r": 10,
           "t": 75
          },
          "showactive": true,
          "type": "buttons",
          "x": 0.1,
          "xanchor": "right",
          "y": 0,
          "yanchor": "top"
         }
        ],
        "xaxis": {
         "range": [
          -0.9859862180133669,
          20.705710578280705
         ],
         "title": {
          "text": "<i>x</i>"
         }
        },
        "yaxis": {
         "range": [
          -2.4033479344723028,
          50.470306623918354
         ],
         "title": {
          "text": "<i>y</i>"
         }
        }
       }
      },
      "image/png": "[encoded data removed]"
     },
     "metadata": {},
     "output_type": "display_data"
    }
   ],
   "source": [
    "from stonesoup.plotter import AnimatedPlotterly\n",
    "plotter = AnimatedPlotterly(timesteps, tail_length=0.3)\n",
    "plotter.plot_ground_truths(truth, [0, 2])\n",
    "plotter.fig"
   ]
  },
  {
   "cell_type": "code",
   "execution_count": 10,
   "id": "742e76a1-d471-4fc7-88b2-0812217f7fe8",
   "metadata": {},
   "outputs": [],
   "source": [
    "from stonesoup.models.measurement.nonlinear import CartesianToBearingRange\n",
    "sensor_x = 50  # Placing the sensor off-centre\n",
    "sensor_y = 0\n",
    "\n",
    "measurement_model = CartesianToBearingRange(\n",
    "    ndim_state=4,\n",
    "    mapping=(0, 2),\n",
    "    noise_covar=np.diag([np.radians(0.2), 1]),  # Covariance matrix. 0.2 degree variance in\n",
    "    # bearing and 1 metre in range\n",
    "    translation_offset=np.array([[sensor_x], [sensor_y]])  # Offset measurements to location of\n",
    "    # sensor in cartesian.\n",
    ")"
   ]
  },
  {
   "cell_type": "code",
   "execution_count": 11,
   "id": "b193ec14-2dcc-4e33-a0e1-e23694875278",
   "metadata": {},
   "outputs": [],
   "source": [
    "from stonesoup.types.detection import Detection\n",
    "\n",
    "measurements = []\n",
    "for state in truth:\n",
    "    measurement = measurement_model.function(state, noise=True)\n",
    "    measurements.append(Detection(measurement, timestamp=state.timestamp,\n",
    "                                  measurement_model=measurement_model))"
   ]
  },
  {
   "cell_type": "code",
   "execution_count": 12,
   "id": "e965ce54-d58f-48d0-83d3-9bcf3b7883f4",
   "metadata": {},
   "outputs": [
    {
     "data": {
      "application/vnd.plotly.v1+json": {
       "config": {
        "plotlyServerURL": "https://plot.ly"
       },
       "data": [
        {
         "hoverinfo": "none",
         "legendgroup": "Ground Truth",
         "legendrank": 100,
         "line": {
          "color": "#EF553B",
          "dash": "dash"
         },
         "mode": "lines",
         "name": "Ground Truth",
         "showlegend": true,
         "type": "scatter",
         "x": [],
         "y": []
        },
        {
         "hoverinfo": "none",
         "legendgroup": "Ground Truth",
         "legendrank": 100,
         "line": {
          "color": "#EF553B",
          "dash": "dash"
         },
         "mode": "lines",
         "name": "Ground Truth",
         "showlegend": false,
         "type": "scatter",
         "x": [],
         "y": []
        },
        {
         "hoverinfo": "none",
         "legendgroup": "Measurements",
         "legendrank": 200,
         "marker": {
          "color": "#636EFA"
         },
         "mode": "markers",
         "name": "Measurements",
         "showlegend": true,
         "type": "scatter",
         "x": [],
         "y": []
        },
        {
         "hoverinfo": "none",
         "legendgroup": "Measurements",
         "legendrank": 200,
         "marker": {
          "color": "#636EFA"
         },
         "mode": "markers",
         "name": "Measurements",
         "showlegend": false,
         "type": "scatter",
         "x": [],
         "y": []
        }
       ],
       "frames": [
        {
         "data": [
          {
           "type": "scatter",
           "x": [
            0,
            0
           ],
           "y": [
            0,
            0
           ]
          },
          {
           "hovertemplate": "GroundTruthState<br>(%{x}, %{y})<br>Time: %{meta}",
           "meta": [
            "2025-09-03 11:40:16"
           ],
           "type": "scatter",
           "x": {
            "bdata": "AAAAAAAAAAAAAAAAAADwfw==",
            "dtype": "f8"
           },
           "y": {
            "bdata": "AAAAAAAAAAAAAAAAAADwfw==",
            "dtype": "f8"
           }
          },
          {
           "type": "scatter",
           "x": [
            null,
            null
           ],
           "y": [
            null,
            null
           ]
          },
          {
           "hovertemplate": "Detection<br>(%{x}, %{y})<br>Time: %{meta}",
           "meta": [
            "2025-09-03 11:40:16"
           ],
           "type": "scatter",
           "x": {
            "bdata": "AN9JOUnGAUAAAAAAAADwfw==",
            "dtype": "f8"
           },
           "y": {
            "bdata": "PieuxKFl7r8AAAAAAADwfw==",
            "dtype": "f8"
           }
          }
         ],
         "name": "2025-09-03 11:40:16",
         "traces": [
          0,
          1,
          2,
          3
         ]
        },
        {
         "data": [
          {
           "type": "scatter",
           "x": [
            0,
            0
           ],
           "y": [
            0,
            0
           ]
          },
          {
           "hovertemplate": "GroundTruthState<br>(%{x}, %{y})<br>Time: %{meta}",
           "meta": [
            "2025-09-03 11:40:16",
            "2025-09-03 11:40:17"
           ],
           "type": "scatter",
           "x": {
            "bdata": "AAAAAAAAAAB6tLpF6NXyPwAAAAAAAPB/",
            "dtype": "f8"
           },
           "y": {
            "bdata": "AAAAAAAAAADQkKGTxALwPwAAAAAAAPB/",
            "dtype": "f8"
           }
          },
          {
           "type": "scatter",
           "x": [
            null,
            null
           ],
           "y": [
            null,
            null
           ]
          },
          {
           "hovertemplate": "Detection<br>(%{x}, %{y})<br>Time: %{meta}",
           "meta": [
            "2025-09-03 11:40:16",
            "2025-09-03 11:40:17"
           ],
           "type": "scatter",
           "x": {
            "bdata": "AN9JOUnGAUAAJytg4Mj4PwAAAAAAAPB/",
            "dtype": "f8"
           },
           "y": {
            "bdata": "PieuxKFl7r9H95tOR4EBwAAAAAAAAPB/",
            "dtype": "f8"
           }
          }
         ],
         "name": "2025-09-03 11:40:17",
         "traces": [
          0,
          1,
          2,
          3
         ]
        },
        {
         "data": [
          {
           "type": "scatter",
           "x": [
            0,
            0
           ],
           "y": [
            0,
            0
           ]
          },
          {
           "hovertemplate": "GroundTruthState<br>(%{x}, %{y})<br>Time: %{meta}",
           "meta": [
            "2025-09-03 11:40:16",
            "2025-09-03 11:40:17",
            "2025-09-03 11:40:18"
           ],
           "type": "scatter",
           "x": {
            "bdata": "AAAAAAAAAAB6tLpF6NXyP2HNMOElNAJAAAAAAAAA8H8=",
            "dtype": "f8"
           },
           "y": {
            "bdata": "AAAAAAAAAADQkKGTxALwP03PNxbuPgBAAAAAAAAA8H8=",
            "dtype": "f8"
           }
          },
          {
           "type": "scatter",
           "x": [
            null,
            null
           ],
           "y": [
            null,
            null
           ]
          },
          {
           "hovertemplate": "Detection<br>(%{x}, %{y})<br>Time: %{meta}",
           "meta": [
            "2025-09-03 11:40:16",
            "2025-09-03 11:40:17",
            "2025-09-03 11:40:18"
           ],
           "type": "scatter",
           "x": {
            "bdata": "AN9JOUnGAUAAJytg4Mj4P/gWENZoeRBAAAAAAAAA8H8=",
            "dtype": "f8"
           },
           "y": {
            "bdata": "PieuxKFl7r9H95tOR4EBwIc1Io0jQSZAAAAAAAAA8H8=",
            "dtype": "f8"
           }
          }
         ],
         "name": "2025-09-03 11:40:18",
         "traces": [
          0,
          1,
          2,
          3
         ]
        },
        {
         "data": [
          {
           "type": "scatter",
           "x": [
            0,
            0
           ],
           "y": [
            0,
            0
           ]
          },
          {
           "hovertemplate": "GroundTruthState<br>(%{x}, %{y})<br>Time: %{meta}",
           "meta": [
            "2025-09-03 11:40:16",
            "2025-09-03 11:40:17",
            "2025-09-03 11:40:18",
            "2025-09-03 11:40:19"
           ],
           "type": "scatter",
           "x": {
            "bdata": "AAAAAAAAAAB6tLpF6NXyP2HNMOElNAJAXldM4pE/CUAAAAAAAADwfw==",
            "dtype": "f8"
           },
           "y": {
            "bdata": "AAAAAAAAAADQkKGTxALwP03PNxbuPgBAy4Dv5lipCUAAAAAAAADwfw==",
            "dtype": "f8"
           }
          },
          {
           "type": "scatter",
           "x": [
            null,
            null
           ],
           "y": [
            null,
            null
           ]
          },
          {
           "hovertemplate": "Detection<br>(%{x}, %{y})<br>Time: %{meta}",
           "meta": [
            "2025-09-03 11:40:16",
            "2025-09-03 11:40:17",
            "2025-09-03 11:40:18",
            "2025-09-03 11:40:19"
           ],
           "type": "scatter",
           "x": {
            "bdata": "AN9JOUnGAUAAJytg4Mj4P/gWENZoeRBAIO8+CvoiEkAAAAAAAADwfw==",
            "dtype": "f8"
           },
           "y": {
            "bdata": "PieuxKFl7r9H95tOR4EBwIc1Io0jQSZAlvCEutQUE0AAAAAAAADwfw==",
            "dtype": "f8"
           }
          }
         ],
         "name": "2025-09-03 11:40:19",
         "traces": [
          0,
          1,
          2,
          3
         ]
        },
        {
         "data": [
          {
           "type": "scatter",
           "x": [
            0,
            0
           ],
           "y": [
            0,
            0
           ]
          },
          {
           "hovertemplate": "GroundTruthState<br>(%{x}, %{y})<br>Time: %{meta}",
           "meta": [
            "2025-09-03 11:40:16",
            "2025-09-03 11:40:17",
            "2025-09-03 11:40:18",
            "2025-09-03 11:40:19",
            "2025-09-03 11:40:20"
           ],
           "type": "scatter",
           "x": {
            "bdata": "AAAAAAAAAAB6tLpF6NXyP2HNMOElNAJAXldM4pE/CUB4sMMCKXIQQAAAAAAAAPB/",
            "dtype": "f8"
           },
           "y": {
            "bdata": "AAAAAAAAAADQkKGTxALwP03PNxbuPgBAy4Dv5lipCUAL289Y57kSQAAAAAAAAPB/",
            "dtype": "f8"
           }
          },
          {
           "type": "scatter",
           "x": [
            null,
            null
           ],
           "y": [
            null,
            null
           ]
          },
          {
           "hovertemplate": "Detection<br>(%{x}, %{y})<br>Time: %{meta}",
           "meta": [
            "2025-09-03 11:40:16",
            "2025-09-03 11:40:17",
            "2025-09-03 11:40:18",
            "2025-09-03 11:40:19",
            "2025-09-03 11:40:20"
           ],
           "type": "scatter",
           "x": {
            "bdata": "AN9JOUnGAUAAJytg4Mj4P/gWENZoeRBAIO8+CvoiEkCgDe0pXuQRQAAAAAAAAPB/",
            "dtype": "f8"
           },
           "y": {
            "bdata": "PieuxKFl7r9H95tOR4EBwIc1Io0jQSZAlvCEutQUE0AX16U5HbARQAAAAAAAAPB/",
            "dtype": "f8"
           }
          }
         ],
         "name": "2025-09-03 11:40:20",
         "traces": [
          0,
          1,
          2,
          3
         ]
        },
        {
         "data": [
          {
           "type": "scatter",
           "x": [
            0,
            0
           ],
           "y": [
            0,
            0
           ]
          },
          {
           "hovertemplate": "GroundTruthState<br>(%{x}, %{y})<br>Time: %{meta}",
           "meta": [
            "2025-09-03 11:40:16",
            "2025-09-03 11:40:17",
            "2025-09-03 11:40:18",
            "2025-09-03 11:40:19",
            "2025-09-03 11:40:20",
            "2025-09-03 11:40:21"
           ],
           "type": "scatter",
           "x": {
            "bdata": "AAAAAAAAAAB6tLpF6NXyP2HNMOElNAJAXldM4pE/CUB4sMMCKXIQQBvJqZ+SRhRAAAAAAAAA8H8=",
            "dtype": "f8"
           },
           "y": {
            "bdata": "AAAAAAAAAADQkKGTxALwP03PNxbuPgBAy4Dv5lipCUAL289Y57kSQHJUCk5GshlAAAAAAAAA8H8=",
            "dtype": "f8"
           }
          },
          {
           "type": "scatter",
           "x": [
            null,
            null
           ],
           "y": [
            null,
            null
           ]
          },
          {
           "hovertemplate": "Detection<br>(%{x}, %{y})<br>Time: %{meta}",
           "meta": [
            "2025-09-03 11:40:16",
            "2025-09-03 11:40:17",
            "2025-09-03 11:40:18",
            "2025-09-03 11:40:19",
            "2025-09-03 11:40:20",
            "2025-09-03 11:40:21"
           ],
           "type": "scatter",
           "x": {
            "bdata": "AN9JOUnGAUAAJytg4Mj4P/gWENZoeRBAIO8+CvoiEkCgDe0pXuQRQIAmtIgSVBdAAAAAAAAA8H8=",
            "dtype": "f8"
           },
           "y": {
            "bdata": "PieuxKFl7r9H95tOR4EBwIc1Io0jQSZAlvCEutQUE0AX16U5HbARQHXTRqi2QyJAAAAAAAAA8H8=",
            "dtype": "f8"
           }
          }
         ],
         "name": "2025-09-03 11:40:21",
         "traces": [
          0,
          1,
          2,
          3
         ]
        },
        {
         "data": [
          {
           "type": "scatter",
           "x": [
            0,
            0
           ],
           "y": [
            0,
            0
           ]
          },
          {
           "hovertemplate": "GroundTruthState<br>(%{x}, %{y})<br>Time: %{meta}",
           "meta": [
            "2025-09-03 11:40:16",
            "2025-09-03 11:40:17",
            "2025-09-03 11:40:18",
            "2025-09-03 11:40:19",
            "2025-09-03 11:40:20",
            "2025-09-03 11:40:21",
            "2025-09-03 11:40:22"
           ],
           "type": "scatter",
           "x": {
            "bdata": "AAAAAAAAAAB6tLpF6NXyP2HNMOElNAJAXldM4pE/CUB4sMMCKXIQQBvJqZ+SRhRAL+4XjVKJGEAAAAAAAADwfw==",
            "dtype": "f8"
           },
           "y": {
            "bdata": "AAAAAAAAAADQkKGTxALwP03PNxbuPgBAy4Dv5lipCUAL289Y57kSQHJUCk5GshlAXfDz/0aVIEAAAAAAAADwfw==",
            "dtype": "f8"
           }
          },
          {
           "type": "scatter",
           "x": [
            null,
            null
           ],
           "y": [
            null,
            null
           ]
          },
          {
           "hovertemplate": "Detection<br>(%{x}, %{y})<br>Time: %{meta}",
           "meta": [
            "2025-09-03 11:40:16",
            "2025-09-03 11:40:17",
            "2025-09-03 11:40:18",
            "2025-09-03 11:40:19",
            "2025-09-03 11:40:20",
            "2025-09-03 11:40:21",
            "2025-09-03 11:40:22"
           ],
           "type": "scatter",
           "x": {
            "bdata": "AN9JOUnGAUAAJytg4Mj4P/gWENZoeRBAIO8+CvoiEkCgDe0pXuQRQIAmtIgSVBdA6GEQLu+vEkAAAAAAAADwfw==",
            "dtype": "f8"
           },
           "y": {
            "bdata": "PieuxKFl7r9H95tOR4EBwIc1Io0jQSZAlvCEutQUE0AX16U5HbARQHXTRqi2QyJAdV+lk0QIIkAAAAAAAADwfw==",
            "dtype": "f8"
           }
          }
         ],
         "name": "2025-09-03 11:40:22",
         "traces": [
          0,
          1,
          2,
          3
         ]
        },
        {
         "data": [
          {
           "type": "scatter",
           "x": [
            0,
            0
           ],
           "y": [
            0,
            0
           ]
          },
          {
           "hovertemplate": "GroundTruthState<br>(%{x}, %{y})<br>Time: %{meta}",
           "meta": [
            "2025-09-03 11:40:17",
            "2025-09-03 11:40:18",
            "2025-09-03 11:40:19",
            "2025-09-03 11:40:20",
            "2025-09-03 11:40:21",
            "2025-09-03 11:40:22",
            "2025-09-03 11:40:23"
           ],
           "type": "scatter",
           "x": {
            "bdata": "erS6RejV8j9hzTDhJTQCQF5XTOKRPwlAeLDDAilyEEAbyamfkkYUQC/uF41SiRhA+d8D0b1YHUAAAAAAAADwfw==",
            "dtype": "f8"
           },
           "y": {
            "bdata": "0JChk8QC8D9NzzcW7j4AQMuA7+ZYqQlAC9vPWOe5EkByVApORrIZQF3w8/9GlSBAkx2pj5ZrJEAAAAAAAADwfw==",
            "dtype": "f8"
           }
          },
          {
           "type": "scatter",
           "x": [
            null,
            null
           ],
           "y": [
            null,
            null
           ]
          },
          {
           "hovertemplate": "Detection<br>(%{x}, %{y})<br>Time: %{meta}",
           "meta": [
            "2025-09-03 11:40:17",
            "2025-09-03 11:40:18",
            "2025-09-03 11:40:19",
            "2025-09-03 11:40:20",
            "2025-09-03 11:40:21",
            "2025-09-03 11:40:22",
            "2025-09-03 11:40:23"
           ],
           "type": "scatter",
           "x": {
            "bdata": "ACcrYODI+D/4FhDWaHkQQCDvPgr6IhJAoA3tKV7kEUCAJrSIElQXQOhhEC7vrxJAqJx5RKmlG0AAAAAAAADwfw==",
            "dtype": "f8"
           },
           "y": {
            "bdata": "R/ebTkeBAcCHNSKNI0EmQJbwhLrUFBNAF9elOR2wEUB100aotkMiQHVfpZNECCJASKCz3OG0GkAAAAAAAADwfw==",
            "dtype": "f8"
           }
          }
         ],
         "name": "2025-09-03 11:40:23",
         "traces": [
          0,
          1,
          2,
          3
         ]
        },
        {
         "data": [
          {
           "type": "scatter",
           "x": [
            0,
            0
           ],
           "y": [
            0,
            0
           ]
          },
          {
           "hovertemplate": "GroundTruthState<br>(%{x}, %{y})<br>Time: %{meta}",
           "meta": [
            "2025-09-03 11:40:18",
            "2025-09-03 11:40:19",
            "2025-09-03 11:40:20",
            "2025-09-03 11:40:21",
            "2025-09-03 11:40:22",
            "2025-09-03 11:40:23",
            "2025-09-03 11:40:24"
           ],
           "type": "scatter",
           "x": {
            "bdata": "Yc0w4SU0AkBeV0zikT8JQHiwwwIpchBAG8mpn5JGFEAv7heNUokYQPnfA9G9WB1AtDiO8N9qIUAAAAAAAADwfw==",
            "dtype": "f8"
           },
           "y": {
            "bdata": "Tc83Fu4+AEDLgO/mWKkJQAvbz1jnuRJAclQKTkayGUBd8PP/RpUgQJMdqY+WayRAhkhDcEFHKUAAAAAAAADwfw==",
            "dtype": "f8"
           }
          },
          {
           "type": "scatter",
           "x": [
            null,
            null
           ],
           "y": [
            null,
            null
           ]
          },
          {
           "hovertemplate": "Detection<br>(%{x}, %{y})<br>Time: %{meta}",
           "meta": [
            "2025-09-03 11:40:18",
            "2025-09-03 11:40:19",
            "2025-09-03 11:40:20",
            "2025-09-03 11:40:21",
            "2025-09-03 11:40:22",
            "2025-09-03 11:40:23",
            "2025-09-03 11:40:24"
           ],
           "type": "scatter",
           "x": {
            "bdata": "+BYQ1mh5EEAg7z4K+iISQKAN7Sle5BFAgCa0iBJUF0DoYRAu768SQKiceUSppRtAQBlyHgjVI0AAAAAAAADwfw==",
            "dtype": "f8"
           },
           "y": {
            "bdata": "hzUijSNBJkCW8IS61BQTQBfXpTkdsBFAddNGqLZDIkB1X6WTRAgiQEigs9zhtBpAxsI+uGsyKkAAAAAAAADwfw==",
            "dtype": "f8"
           }
          }
         ],
         "name": "2025-09-03 11:40:24",
         "traces": [
          0,
          1,
          2,
          3
         ]
        },
        {
         "data": [
          {
           "type": "scatter",
           "x": [
            0,
            0
           ],
           "y": [
            0,
            0
           ]
          },
          {
           "hovertemplate": "GroundTruthState<br>(%{x}, %{y})<br>Time: %{meta}",
           "meta": [
            "2025-09-03 11:40:19",
            "2025-09-03 11:40:20",
            "2025-09-03 11:40:21",
            "2025-09-03 11:40:22",
            "2025-09-03 11:40:23",
            "2025-09-03 11:40:24",
            "2025-09-03 11:40:25"
           ],
           "type": "scatter",
           "x": {
            "bdata": "XldM4pE/CUB4sMMCKXIQQBvJqZ+SRhRAL+4XjVKJGED53wPRvVgdQLQ4jvDfaiFA7NV9RsZSI0AAAAAAAADwfw==",
            "dtype": "f8"
           },
           "y": {
            "bdata": "y4Dv5lipCUAL289Y57kSQHJUCk5GshlAXfDz/0aVIECTHamPlmskQIZIQ3BBRylAoQH+DownLkAAAAAAAADwfw==",
            "dtype": "f8"
           }
          },
          {
           "type": "scatter",
           "x": [
            null,
            null
           ],
           "y": [
            null,
            null
           ]
          },
          {
           "hovertemplate": "Detection<br>(%{x}, %{y})<br>Time: %{meta}",
           "meta": [
            "2025-09-03 11:40:19",
            "2025-09-03 11:40:20",
            "2025-09-03 11:40:21",
            "2025-09-03 11:40:22",
            "2025-09-03 11:40:23",
            "2025-09-03 11:40:24",
            "2025-09-03 11:40:25"
           ],
           "type": "scatter",
           "x": {
            "bdata": "IO8+CvoiEkCgDe0pXuQRQIAmtIgSVBdA6GEQLu+vEkConHlEqaUbQEAZch4I1SNArBxgdfhwKkAAAAAAAADwfw==",
            "dtype": "f8"
           },
           "y": {
            "bdata": "lvCEutQUE0AX16U5HbARQHXTRqi2QyJAdV+lk0QIIkBIoLPc4bQaQMbCPrhrMipAVz3j1gLpM0AAAAAAAADwfw==",
            "dtype": "f8"
           }
          }
         ],
         "name": "2025-09-03 11:40:25",
         "traces": [
          0,
          1,
          2,
          3
         ]
        },
        {
         "data": [
          {
           "type": "scatter",
           "x": [
            0,
            0
           ],
           "y": [
            0,
            0
           ]
          },
          {
           "hovertemplate": "GroundTruthState<br>(%{x}, %{y})<br>Time: %{meta}",
           "meta": [
            "2025-09-03 11:40:20",
            "2025-09-03 11:40:21",
            "2025-09-03 11:40:22",
            "2025-09-03 11:40:23",
            "2025-09-03 11:40:24",
            "2025-09-03 11:40:25",
            "2025-09-03 11:40:26"
           ],
           "type": "scatter",
           "x": {
            "bdata": "eLDDAilyEEAbyamfkkYUQC/uF41SiRhA+d8D0b1YHUC0OI7w32ohQOzVfUbGUiNAEuEL0C+UJEAAAAAAAADwfw==",
            "dtype": "f8"
           },
           "y": {
            "bdata": "C9vPWOe5EkByVApORrIZQF3w8/9GlSBAkx2pj5ZrJECGSENwQUcpQKEB/g6MJy5AF/mO3cB2MUAAAAAAAADwfw==",
            "dtype": "f8"
           }
          },
          {
           "type": "scatter",
           "x": [
            null,
            null
           ],
           "y": [
            null,
            null
           ]
          },
          {
           "hovertemplate": "Detection<br>(%{x}, %{y})<br>Time: %{meta}",
           "meta": [
            "2025-09-03 11:40:20",
            "2025-09-03 11:40:21",
            "2025-09-03 11:40:22",
            "2025-09-03 11:40:23",
            "2025-09-03 11:40:24",
            "2025-09-03 11:40:25",
            "2025-09-03 11:40:26"
           ],
           "type": "scatter",
           "x": {
            "bdata": "oA3tKV7kEUCAJrSIElQXQOhhEC7vrxJAqJx5RKmlG0BAGXIeCNUjQKwcYHX4cCpAZFHT6SqzI0AAAAAAAADwfw==",
            "dtype": "f8"
           },
           "y": {
            "bdata": "F9elOR2wEUB100aotkMiQHVfpZNECCJASKCz3OG0GkDGwj64azIqQFc949YC6TNALuOafCB/MEAAAAAAAADwfw==",
            "dtype": "f8"
           }
          }
         ],
         "name": "2025-09-03 11:40:26",
         "traces": [
          0,
          1,
          2,
          3
         ]
        },
        {
         "data": [
          {
           "type": "scatter",
           "x": [
            0,
            0
           ],
           "y": [
            0,
            0
           ]
          },
          {
           "hovertemplate": "GroundTruthState<br>(%{x}, %{y})<br>Time: %{meta}",
           "meta": [
            "2025-09-03 11:40:21",
            "2025-09-03 11:40:22",
            "2025-09-03 11:40:23",
            "2025-09-03 11:40:24",
            "2025-09-03 11:40:25",
            "2025-09-03 11:40:26",
            "2025-09-03 11:40:27"
           ],
           "type": "scatter",
           "x": {
            "bdata": "G8mpn5JGFEAv7heNUokYQPnfA9G9WB1AtDiO8N9qIUDs1X1GxlIjQBLhC9AvlCRAkjFQCCnRJUAAAAAAAADwfw==",
            "dtype": "f8"
           },
           "y": {
            "bdata": "clQKTkayGUBd8PP/RpUgQJMdqY+WayRAhkhDcEFHKUChAf4OjCcuQBf5jt3AdjFApjki6kjsM0AAAAAAAADwfw==",
            "dtype": "f8"
           }
          },
          {
           "type": "scatter",
           "x": [
            null,
            null
           ],
           "y": [
            null,
            null
           ]
          },
          {
           "hovertemplate": "Detection<br>(%{x}, %{y})<br>Time: %{meta}",
           "meta": [
            "2025-09-03 11:40:21",
            "2025-09-03 11:40:22",
            "2025-09-03 11:40:23",
            "2025-09-03 11:40:24",
            "2025-09-03 11:40:25",
            "2025-09-03 11:40:26",
            "2025-09-03 11:40:27"
           ],
           "type": "scatter",
           "x": {
            "bdata": "gCa0iBJUF0DoYRAu768SQKiceUSppRtAQBlyHgjVI0CsHGB1+HAqQGRR0+kqsyNAOHx1K1MaJ0AAAAAAAADwfw==",
            "dtype": "f8"
           },
           "y": {
            "bdata": "ddNGqLZDIkB1X6WTRAgiQEigs9zhtBpAxsI+uGsyKkBXPePWAukzQC7jmnwgfzBADFOedas5NEAAAAAAAADwfw==",
            "dtype": "f8"
           }
          }
         ],
         "name": "2025-09-03 11:40:27",
         "traces": [
          0,
          1,
          2,
          3
         ]
        },
        {
         "data": [
          {
           "type": "scatter",
           "x": [
            0,
            0
           ],
           "y": [
            0,
            0
           ]
          },
          {
           "hovertemplate": "GroundTruthState<br>(%{x}, %{y})<br>Time: %{meta}",
           "meta": [
            "2025-09-03 11:40:22",
            "2025-09-03 11:40:23",
            "2025-09-03 11:40:24",
            "2025-09-03 11:40:25",
            "2025-09-03 11:40:26",
            "2025-09-03 11:40:27",
            "2025-09-03 11:40:28"
           ],
           "type": "scatter",
           "x": {
            "bdata": "L+4XjVKJGED53wPRvVgdQLQ4jvDfaiFA7NV9RsZSI0AS4QvQL5QkQJIxUAgp0SVAo23mQHzfJkAAAAAAAADwfw==",
            "dtype": "f8"
           },
           "y": {
            "bdata": "XfDz/0aVIECTHamPlmskQIZIQ3BBRylAoQH+DownLkAX+Y7dwHYxQKY5IupI7DNAGzWtyWtvNkAAAAAAAADwfw==",
            "dtype": "f8"
           }
          },
          {
           "type": "scatter",
           "x": [
            null,
            null
           ],
           "y": [
            null,
            null
           ]
          },
          {
           "hovertemplate": "Detection<br>(%{x}, %{y})<br>Time: %{meta}",
           "meta": [
            "2025-09-03 11:40:22",
            "2025-09-03 11:40:23",
            "2025-09-03 11:40:24",
            "2025-09-03 11:40:25",
            "2025-09-03 11:40:26",
            "2025-09-03 11:40:27",
            "2025-09-03 11:40:28"
           ],
           "type": "scatter",
           "x": {
            "bdata": "6GEQLu+vEkConHlEqaUbQEAZch4I1SNArBxgdfhwKkBkUdPpKrMjQDh8dStTGidAOBkmw+L9KkAAAAAAAADwfw==",
            "dtype": "f8"
           },
           "y": {
            "bdata": "dV+lk0QIIkBIoLPc4bQaQMbCPrhrMipAVz3j1gLpM0Au45p8IH8wQAxTnnWrOTRABhnOgCVgOkAAAAAAAADwfw==",
            "dtype": "f8"
           }
          }
         ],
         "name": "2025-09-03 11:40:28",
         "traces": [
          0,
          1,
          2,
          3
         ]
        },
        {
         "data": [
          {
           "type": "scatter",
           "x": [
            0,
            0
           ],
           "y": [
            0,
            0
           ]
          },
          {
           "hovertemplate": "GroundTruthState<br>(%{x}, %{y})<br>Time: %{meta}",
           "meta": [
            "2025-09-03 11:40:23",
            "2025-09-03 11:40:24",
            "2025-09-03 11:40:25",
            "2025-09-03 11:40:26",
            "2025-09-03 11:40:27",
            "2025-09-03 11:40:28",
            "2025-09-03 11:40:29"
           ],
           "type": "scatter",
           "x": {
            "bdata": "+d8D0b1YHUC0OI7w32ohQOzVfUbGUiNAEuEL0C+UJECSMVAIKdElQKNt5kB83yZAVIZqP+IqKEAAAAAAAADwfw==",
            "dtype": "f8"
           },
           "y": {
            "bdata": "kx2pj5ZrJECGSENwQUcpQKEB/g6MJy5AF/mO3cB2MUCmOSLqSOwzQBs1rclrbzZAekRRw+s5OUAAAAAAAADwfw==",
            "dtype": "f8"
           }
          },
          {
           "type": "scatter",
           "x": [
            null,
            null
           ],
           "y": [
            null,
            null
           ]
          },
          {
           "hovertemplate": "Detection<br>(%{x}, %{y})<br>Time: %{meta}",
           "meta": [
            "2025-09-03 11:40:23",
            "2025-09-03 11:40:24",
            "2025-09-03 11:40:25",
            "2025-09-03 11:40:26",
            "2025-09-03 11:40:27",
            "2025-09-03 11:40:28",
            "2025-09-03 11:40:29"
           ],
           "type": "scatter",
           "x": {
            "bdata": "qJx5RKmlG0BAGXIeCNUjQKwcYHX4cCpAZFHT6SqzI0A4fHUrUxonQDgZJsPi/SpA7JPYWtFrIkAAAAAAAADwfw==",
            "dtype": "f8"
           },
           "y": {
            "bdata": "SKCz3OG0GkDGwj64azIqQFc949YC6TNALuOafCB/MEAMU551qzk0QAYZzoAlYDpAl0f29RftNEAAAAAAAADwfw==",
            "dtype": "f8"
           }
          }
         ],
         "name": "2025-09-03 11:40:29",
         "traces": [
          0,
          1,
          2,
          3
         ]
        },
        {
         "data": [
          {
           "type": "scatter",
           "x": [
            0,
            0
           ],
           "y": [
            0,
            0
           ]
          },
          {
           "hovertemplate": "GroundTruthState<br>(%{x}, %{y})<br>Time: %{meta}",
           "meta": [
            "2025-09-03 11:40:24",
            "2025-09-03 11:40:25",
            "2025-09-03 11:40:26",
            "2025-09-03 11:40:27",
            "2025-09-03 11:40:28",
            "2025-09-03 11:40:29",
            "2025-09-03 11:40:30"
           ],
           "type": "scatter",
           "x": {
            "bdata": "tDiO8N9qIUDs1X1GxlIjQBLhC9AvlCRAkjFQCCnRJUCjbeZAfN8mQFSGaj/iKihAX8G7Muq2KUAAAAAAAADwfw==",
            "dtype": "f8"
           },
           "y": {
            "bdata": "hkhDcEFHKUChAf4OjCcuQBf5jt3AdjFApjki6kjsM0AbNa3Ja282QHpEUcPrOTlAyrd/nSxRPEAAAAAAAADwfw==",
            "dtype": "f8"
           }
          },
          {
           "type": "scatter",
           "x": [
            null,
            null
           ],
           "y": [
            null,
            null
           ]
          },
          {
           "hovertemplate": "Detection<br>(%{x}, %{y})<br>Time: %{meta}",
           "meta": [
            "2025-09-03 11:40:24",
            "2025-09-03 11:40:25",
            "2025-09-03 11:40:26",
            "2025-09-03 11:40:27",
            "2025-09-03 11:40:28",
            "2025-09-03 11:40:29",
            "2025-09-03 11:40:30"
           ],
           "type": "scatter",
           "x": {
            "bdata": "QBlyHgjVI0CsHGB1+HAqQGRR0+kqsyNAOHx1K1MaJ0A4GSbD4v0qQOyT2FrRayJApGFoAQCnLUAAAAAAAADwfw==",
            "dtype": "f8"
           },
           "y": {
            "bdata": "xsI+uGsyKkBXPePWAukzQC7jmnwgfzBADFOedas5NEAGGc6AJWA6QJdH9vUX7TRAQVTHG1L7PUAAAAAAAADwfw==",
            "dtype": "f8"
           }
          }
         ],
         "name": "2025-09-03 11:40:30",
         "traces": [
          0,
          1,
          2,
          3
         ]
        },
        {
         "data": [
          {
           "type": "scatter",
           "x": [
            0,
            0
           ],
           "y": [
            0,
            0
           ]
          },
          {
           "hovertemplate": "GroundTruthState<br>(%{x}, %{y})<br>Time: %{meta}",
           "meta": [
            "2025-09-03 11:40:25",
            "2025-09-03 11:40:26",
            "2025-09-03 11:40:27",
            "2025-09-03 11:40:28",
            "2025-09-03 11:40:29",
            "2025-09-03 11:40:30",
            "2025-09-03 11:40:31"
           ],
           "type": "scatter",
           "x": {
            "bdata": "7NV9RsZSI0AS4QvQL5QkQJIxUAgp0SVAo23mQHzfJkBUhmo/4iooQF/BuzLqtilAFQmPCflTK0AAAAAAAADwfw==",
            "dtype": "f8"
           },
           "y": {
            "bdata": "oQH+DownLkAX+Y7dwHYxQKY5IupI7DNAGzWtyWtvNkB6RFHD6zk5QMq3f50sUTxAb1YXWVKnP0AAAAAAAADwfw==",
            "dtype": "f8"
           }
          },
          {
           "type": "scatter",
           "x": [
            null,
            null
           ],
           "y": [
            null,
            null
           ]
          },
          {
           "hovertemplate": "Detection<br>(%{x}, %{y})<br>Time: %{meta}",
           "meta": [
            "2025-09-03 11:40:25",
            "2025-09-03 11:40:26",
            "2025-09-03 11:40:27",
            "2025-09-03 11:40:28",
            "2025-09-03 11:40:29",
            "2025-09-03 11:40:30",
            "2025-09-03 11:40:31"
           ],
           "type": "scatter",
           "x": {
            "bdata": "rBxgdfhwKkBkUdPpKrMjQDh8dStTGidAOBkmw+L9KkDsk9ha0WsiQKRhaAEApy1AYN8JMl9jJ0AAAAAAAADwfw==",
            "dtype": "f8"
           },
           "y": {
            "bdata": "Vz3j1gLpM0Au45p8IH8wQAxTnnWrOTRABhnOgCVgOkCXR/b1F+00QEFUxxtS+z1Aoz79sPw6O0AAAAAAAADwfw==",
            "dtype": "f8"
           }
          }
         ],
         "name": "2025-09-03 11:40:31",
         "traces": [
          0,
          1,
          2,
          3
         ]
        },
        {
         "data": [
          {
           "type": "scatter",
           "x": [
            0,
            0
           ],
           "y": [
            0,
            0
           ]
          },
          {
           "hovertemplate": "GroundTruthState<br>(%{x}, %{y})<br>Time: %{meta}",
           "meta": [
            "2025-09-03 11:40:26",
            "2025-09-03 11:40:27",
            "2025-09-03 11:40:28",
            "2025-09-03 11:40:29",
            "2025-09-03 11:40:30",
            "2025-09-03 11:40:31",
            "2025-09-03 11:40:32"
           ],
           "type": "scatter",
           "x": {
            "bdata": "EuEL0C+UJECSMVAIKdElQKNt5kB83yZAVIZqP+IqKEBfwbsy6rYpQBUJjwn5UytAmLZG/WZSLUAAAAAAAADwfw==",
            "dtype": "f8"
           },
           "y": {
            "bdata": "F/mO3cB2MUCmOSLqSOwzQBs1rclrbzZAekRRw+s5OUDKt3+dLFE8QG9WF1lSpz9ANPmhmdt6QUAAAAAAAADwfw==",
            "dtype": "f8"
           }
          },
          {
           "type": "scatter",
           "x": [
            null,
            null
           ],
           "y": [
            null,
            null
           ]
          },
          {
           "hovertemplate": "Detection<br>(%{x}, %{y})<br>Time: %{meta}",
           "meta": [
            "2025-09-03 11:40:26",
            "2025-09-03 11:40:27",
            "2025-09-03 11:40:28",
            "2025-09-03 11:40:29",
            "2025-09-03 11:40:30",
            "2025-09-03 11:40:31",
            "2025-09-03 11:40:32"
           ],
           "type": "scatter",
           "x": {
            "bdata": "ZFHT6SqzI0A4fHUrUxonQDgZJsPi/SpA7JPYWtFrIkCkYWgBAKctQGDfCTJfYydAthuNabgIMEAAAAAAAADwfw==",
            "dtype": "f8"
           },
           "y": {
            "bdata": "LuOafCB/MEAMU551qzk0QAYZzoAlYDpAl0f29RftNEBBVMcbUvs9QKM+/bD8OjtA6ZYiKdkJQkAAAAAAAADwfw==",
            "dtype": "f8"
           }
          }
         ],
         "name": "2025-09-03 11:40:32",
         "traces": [
          0,
          1,
          2,
          3
         ]
        },
        {
         "data": [
          {
           "type": "scatter",
           "x": [
            0,
            0
           ],
           "y": [
            0,
            0
           ]
          },
          {
           "hovertemplate": "GroundTruthState<br>(%{x}, %{y})<br>Time: %{meta}",
           "meta": [
            "2025-09-03 11:40:27",
            "2025-09-03 11:40:28",
            "2025-09-03 11:40:29",
            "2025-09-03 11:40:30",
            "2025-09-03 11:40:31",
            "2025-09-03 11:40:32",
            "2025-09-03 11:40:33"
           ],
           "type": "scatter",
           "x": {
            "bdata": "kjFQCCnRJUCjbeZAfN8mQFSGaj/iKihAX8G7Muq2KUAVCY8J+VMrQJi2Rv1mUi1AnzddlQKHL0AAAAAAAADwfw==",
            "dtype": "f8"
           },
           "y": {
            "bdata": "pjki6kjsM0AbNa3Ja282QHpEUcPrOTlAyrd/nSxRPEBvVhdZUqc/QDT5oZnbekFAb2buENQpQ0AAAAAAAADwfw==",
            "dtype": "f8"
           }
          },
          {
           "type": "scatter",
           "x": [
            null,
            null
           ],
           "y": [
            null,
            null
           ]
          },
          {
           "hovertemplate": "Detection<br>(%{x}, %{y})<br>Time: %{meta}",
           "meta": [
            "2025-09-03 11:40:27",
            "2025-09-03 11:40:28",
            "2025-09-03 11:40:29",
            "2025-09-03 11:40:30",
            "2025-09-03 11:40:31",
            "2025-09-03 11:40:32",
            "2025-09-03 11:40:33"
           ],
           "type": "scatter",
           "x": {
            "bdata": "OHx1K1MaJ0A4GSbD4v0qQOyT2FrRayJApGFoAQCnLUBg3wkyX2MnQLYbjWm4CDBAEgfx2f04M0AAAAAAAADwfw==",
            "dtype": "f8"
           },
           "y": {
            "bdata": "DFOedas5NEAGGc6AJWA6QJdH9vUX7TRAQVTHG1L7PUCjPv2w/Do7QOmWIinZCUJATEc6lszOQ0AAAAAAAADwfw==",
            "dtype": "f8"
           }
          }
         ],
         "name": "2025-09-03 11:40:33",
         "traces": [
          0,
          1,
          2,
          3
         ]
        },
        {
         "data": [
          {
           "type": "scatter",
           "x": [
            0,
            0
           ],
           "y": [
            0,
            0
           ]
          },
          {
           "hovertemplate": "GroundTruthState<br>(%{x}, %{y})<br>Time: %{meta}",
           "meta": [
            "2025-09-03 11:40:28",
            "2025-09-03 11:40:29",
            "2025-09-03 11:40:30",
            "2025-09-03 11:40:31",
            "2025-09-03 11:40:32",
            "2025-09-03 11:40:33",
            "2025-09-03 11:40:34"
           ],
           "type": "scatter",
           "x": {
            "bdata": "o23mQHzfJkBUhmo/4iooQF/BuzLqtilAFQmPCflTK0CYtkb9ZlItQJ83XZUChy9A39BYSYr+MEAAAAAAAADwfw==",
            "dtype": "f8"
           },
           "y": {
            "bdata": "GzWtyWtvNkB6RFHD6zk5QMq3f50sUTxAb1YXWVKnP0A0+aGZ23pBQG9m7hDUKUNAetV6v0bTREAAAAAAAADwfw==",
            "dtype": "f8"
           }
          },
          {
           "type": "scatter",
           "x": [
            null,
            null
           ],
           "y": [
            null,
            null
           ]
          },
          {
           "hovertemplate": "Detection<br>(%{x}, %{y})<br>Time: %{meta}",
           "meta": [
            "2025-09-03 11:40:28",
            "2025-09-03 11:40:29",
            "2025-09-03 11:40:30",
            "2025-09-03 11:40:31",
            "2025-09-03 11:40:32",
            "2025-09-03 11:40:33",
            "2025-09-03 11:40:34"
           ],
           "type": "scatter",
           "x": {
            "bdata": "OBkmw+L9KkDsk9ha0WsiQKRhaAEApy1AYN8JMl9jJ0C2G41puAgwQBIH8dn9ODNAOvk16lbOMUAAAAAAAADwfw==",
            "dtype": "f8"
           },
           "y": {
            "bdata": "BhnOgCVgOkCXR/b1F+00QEFUxxtS+z1Aoz79sPw6O0DpliIp2QlCQExHOpbMzkNAwCU76iBZRUAAAAAAAADwfw==",
            "dtype": "f8"
           }
          }
         ],
         "name": "2025-09-03 11:40:34",
         "traces": [
          0,
          1,
          2,
          3
         ]
        },
        {
         "data": [
          {
           "type": "scatter",
           "x": [
            0,
            0
           ],
           "y": [
            0,
            0
           ]
          },
          {
           "hovertemplate": "GroundTruthState<br>(%{x}, %{y})<br>Time: %{meta}",
           "meta": [
            "2025-09-03 11:40:29",
            "2025-09-03 11:40:30",
            "2025-09-03 11:40:31",
            "2025-09-03 11:40:32",
            "2025-09-03 11:40:33",
            "2025-09-03 11:40:34",
            "2025-09-03 11:40:35"
           ],
           "type": "scatter",
           "x": {
            "bdata": "VIZqP+IqKEBfwbsy6rYpQBUJjwn5UytAmLZG/WZSLUCfN12VAocvQN/QWEmK/jBAWVDaW1dNMkAAAAAAAADwfw==",
            "dtype": "f8"
           },
           "y": {
            "bdata": "ekRRw+s5OUDKt3+dLFE8QG9WF1lSpz9ANPmhmdt6QUBvZu4Q1ClDQHrVer9G00RADk9xSz15RkAAAAAAAADwfw==",
            "dtype": "f8"
           }
          },
          {
           "type": "scatter",
           "x": [
            null,
            null
           ],
           "y": [
            null,
            null
           ]
          },
          {
           "hovertemplate": "Detection<br>(%{x}, %{y})<br>Time: %{meta}",
           "meta": [
            "2025-09-03 11:40:29",
            "2025-09-03 11:40:30",
            "2025-09-03 11:40:31",
            "2025-09-03 11:40:32",
            "2025-09-03 11:40:33",
            "2025-09-03 11:40:34",
            "2025-09-03 11:40:35"
           ],
           "type": "scatter",
           "x": {
            "bdata": "7JPYWtFrIkCkYWgBAKctQGDfCTJfYydAthuNabgIMEASB/HZ/TgzQDr5NepWzjFAe+6PYYRCNkAAAAAAAADwfw==",
            "dtype": "f8"
           },
           "y": {
            "bdata": "l0f29RftNEBBVMcbUvs9QKM+/bD8OjtA6ZYiKdkJQkBMRzqWzM5DQMAlO+ogWUVAaWB99+D8RkAAAAAAAADwfw==",
            "dtype": "f8"
           }
          }
         ],
         "name": "2025-09-03 11:40:35",
         "traces": [
          0,
          1,
          2,
          3
         ]
        },
        {
         "data": [
          {
           "type": "scatter",
           "x": [
            0,
            0
           ],
           "y": [
            0,
            0
           ]
          },
          {
           "hovertemplate": "GroundTruthState<br>(%{x}, %{y})<br>Time: %{meta}",
           "meta": [
            "2025-09-03 11:40:30",
            "2025-09-03 11:40:31",
            "2025-09-03 11:40:32",
            "2025-09-03 11:40:33",
            "2025-09-03 11:40:34",
            "2025-09-03 11:40:35",
            "2025-09-03 11:40:36"
           ],
           "type": "scatter",
           "x": {
            "bdata": "X8G7Muq2KUAVCY8J+VMrQJi2Rv1mUi1AnzddlQKHL0Df0FhJiv4wQFlQ2ltXTTJAlXsN2z+4M0AAAAAAAADwfw==",
            "dtype": "f8"
           },
           "y": {
            "bdata": "yrd/nSxRPEBvVhdZUqc/QDT5oZnbekFAb2buENQpQ0B61Xq/RtNEQA5PcUs9eUZASq0yGpIISEAAAAAAAADwfw==",
            "dtype": "f8"
           }
          },
          {
           "type": "scatter",
           "x": [
            null,
            null
           ],
           "y": [
            null,
            null
           ]
          },
          {
           "hovertemplate": "Detection<br>(%{x}, %{y})<br>Time: %{meta}",
           "meta": [
            "2025-09-03 11:40:30",
            "2025-09-03 11:40:31",
            "2025-09-03 11:40:32",
            "2025-09-03 11:40:33",
            "2025-09-03 11:40:34",
            "2025-09-03 11:40:35",
            "2025-09-03 11:40:36"
           ],
           "type": "scatter",
           "x": {
            "bdata": "pGFoAQCnLUBg3wkyX2MnQLYbjWm4CDBAEgfx2f04M0A6+TXqVs4xQHvuj2GEQjZAmeQ0SEhlOUAAAAAAAADwfw==",
            "dtype": "f8"
           },
           "y": {
            "bdata": "QVTHG1L7PUCjPv2w/Do7QOmWIinZCUJATEc6lszOQ0DAJTvqIFlFQGlgfffg/EZAZbh1D++PSUAAAAAAAADwfw==",
            "dtype": "f8"
           }
          }
         ],
         "name": "2025-09-03 11:40:36",
         "traces": [
          0,
          1,
          2,
          3
         ]
        }
       ],
       "layout": {
        "autosize": true,
        "colorway": [
         "#EF553B",
         "#00CC96",
         "#AB63FA",
         "#FFA15A",
         "#19D3F3",
         "#FF6692",
         "#B6E880",
         "#FF97FF",
         "#FECB52"
        ],
        "height": 550,
        "sliders": [
         {
          "currentvalue": {
           "font": {
            "size": 16
           },
           "prefix": "Time: ",
           "visible": true,
           "xanchor": "right"
          },
          "len": 0.9,
          "pad": {
           "b": 10,
           "t": 50
          },
          "steps": [
           {
            "args": [
             [
              "2025-09-03 11:40:16"
             ],
             {
              "frame": {
               "duration": 1,
               "easing": "linear",
               "redraw": true
              },
              "transition": {
               "duration": 0,
               "easing": "linear"
              }
             }
            ],
            "label": "11:40:16",
            "method": "animate"
           },
           {
            "args": [
             [
              "2025-09-03 11:40:17"
             ],
             {
              "frame": {
               "duration": 1,
               "easing": "linear",
               "redraw": true
              },
              "transition": {
               "duration": 0,
               "easing": "linear"
              }
             }
            ],
            "label": "11:40:17",
            "method": "animate"
           },
           {
            "args": [
             [
              "2025-09-03 11:40:18"
             ],
             {
              "frame": {
               "duration": 1,
               "easing": "linear",
               "redraw": true
              },
              "transition": {
               "duration": 0,
               "easing": "linear"
              }
             }
            ],
            "label": "11:40:18",
            "method": "animate"
           },
           {
            "args": [
             [
              "2025-09-03 11:40:19"
             ],
             {
              "frame": {
               "duration": 1,
               "easing": "linear",
               "redraw": true
              },
              "transition": {
               "duration": 0,
               "easing": "linear"
              }
             }
            ],
            "label": "11:40:19",
            "method": "animate"
           },
           {
            "args": [
             [
              "2025-09-03 11:40:20"
             ],
             {
              "frame": {
               "duration": 1,
               "easing": "linear",
               "redraw": true
              },
              "transition": {
               "duration": 0,
               "easing": "linear"
              }
             }
            ],
            "label": "11:40:20",
            "method": "animate"
           },
           {
            "args": [
             [
              "2025-09-03 11:40:21"
             ],
             {
              "frame": {
               "duration": 1,
               "easing": "linear",
               "redraw": true
              },
              "transition": {
               "duration": 0,
               "easing": "linear"
              }
             }
            ],
            "label": "11:40:21",
            "method": "animate"
           },
           {
            "args": [
             [
              "2025-09-03 11:40:22"
             ],
             {
              "frame": {
               "duration": 1,
               "easing": "linear",
               "redraw": true
              },
              "transition": {
               "duration": 0,
               "easing": "linear"
              }
             }
            ],
            "label": "11:40:22",
            "method": "animate"
           },
           {
            "args": [
             [
              "2025-09-03 11:40:23"
             ],
             {
              "frame": {
               "duration": 1,
               "easing": "linear",
               "redraw": true
              },
              "transition": {
               "duration": 0,
               "easing": "linear"
              }
             }
            ],
            "label": "11:40:23",
            "method": "animate"
           },
           {
            "args": [
             [
              "2025-09-03 11:40:24"
             ],
             {
              "frame": {
               "duration": 1,
               "easing": "linear",
               "redraw": true
              },
              "transition": {
               "duration": 0,
               "easing": "linear"
              }
             }
            ],
            "label": "11:40:24",
            "method": "animate"
           },
           {
            "args": [
             [
              "2025-09-03 11:40:25"
             ],
             {
              "frame": {
               "duration": 1,
               "easing": "linear",
               "redraw": true
              },
              "transition": {
               "duration": 0,
               "easing": "linear"
              }
             }
            ],
            "label": "11:40:25",
            "method": "animate"
           },
           {
            "args": [
             [
              "2025-09-03 11:40:26"
             ],
             {
              "frame": {
               "duration": 1,
               "easing": "linear",
               "redraw": true
              },
              "transition": {
               "duration": 0,
               "easing": "linear"
              }
             }
            ],
            "label": "11:40:26",
            "method": "animate"
           },
           {
            "args": [
             [
              "2025-09-03 11:40:27"
             ],
             {
              "frame": {
               "duration": 1,
               "easing": "linear",
               "redraw": true
              },
              "transition": {
               "duration": 0,
               "easing": "linear"
              }
             }
            ],
            "label": "11:40:27",
            "method": "animate"
           },
           {
            "args": [
             [
              "2025-09-03 11:40:28"
             ],
             {
              "frame": {
               "duration": 1,
               "easing": "linear",
               "redraw": true
              },
              "transition": {
               "duration": 0,
               "easing": "linear"
              }
             }
            ],
            "label": "11:40:28",
            "method": "animate"
           },
           {
            "args": [
             [
              "2025-09-03 11:40:29"
             ],
             {
              "frame": {
               "duration": 1,
               "easing": "linear",
               "redraw": true
              },
              "transition": {
               "duration": 0,
               "easing": "linear"
              }
             }
            ],
            "label": "11:40:29",
            "method": "animate"
           },
           {
            "args": [
             [
              "2025-09-03 11:40:30"
             ],
             {
              "frame": {
               "duration": 1,
               "easing": "linear",
               "redraw": true
              },
              "transition": {
               "duration": 0,
               "easing": "linear"
              }
             }
            ],
            "label": "11:40:30",
            "method": "animate"
           },
           {
            "args": [
             [
              "2025-09-03 11:40:31"
             ],
             {
              "frame": {
               "duration": 1,
               "easing": "linear",
               "redraw": true
              },
              "transition": {
               "duration": 0,
               "easing": "linear"
              }
             }
            ],
            "label": "11:40:31",
            "method": "animate"
           },
           {
            "args": [
             [
              "2025-09-03 11:40:32"
             ],
             {
              "frame": {
               "duration": 1,
               "easing": "linear",
               "redraw": true
              },
              "transition": {
               "duration": 0,
               "easing": "linear"
              }
             }
            ],
            "label": "11:40:32",
            "method": "animate"
           },
           {
            "args": [
             [
              "2025-09-03 11:40:33"
             ],
             {
              "frame": {
               "duration": 1,
               "easing": "linear",
               "redraw": true
              },
              "transition": {
               "duration": 0,
               "easing": "linear"
              }
             }
            ],
            "label": "11:40:33",
            "method": "animate"
           },
           {
            "args": [
             [
              "2025-09-03 11:40:34"
             ],
             {
              "frame": {
               "duration": 1,
               "easing": "linear",
               "redraw": true
              },
              "transition": {
               "duration": 0,
               "easing": "linear"
              }
             }
            ],
            "label": "11:40:34",
            "method": "animate"
           },
           {
            "args": [
             [
              "2025-09-03 11:40:35"
             ],
             {
              "frame": {
               "duration": 1,
               "easing": "linear",
               "redraw": true
              },
              "transition": {
               "duration": 0,
               "easing": "linear"
              }
             }
            ],
            "label": "11:40:35",
            "method": "animate"
           },
           {
            "args": [
             [
              "2025-09-03 11:40:36"
             ],
             {
              "frame": {
               "duration": 1,
               "easing": "linear",
               "redraw": true
              },
              "transition": {
               "duration": 0,
               "easing": "linear"
              }
             }
            ],
            "label": "11:40:36",
            "method": "animate"
           }
          ],
          "transition": {
           "duration": 285.7142857142857,
           "easing": "linear"
          },
          "x": 0.1,
          "xanchor": "left",
          "y": 0,
          "yanchor": "top"
         }
        ],
        "template": {
         "data": {
          "bar": [
           {
            "error_x": {
             "color": "#2a3f5f"
            },
            "error_y": {
             "color": "#2a3f5f"
            },
            "marker": {
             "line": {
              "color": "#E5ECF6",
              "width": 0.5
             },
             "pattern": {
              "fillmode": "overlay",
              "size": 10,
              "solidity": 0.2
             }
            },
            "type": "bar"
           }
          ],
          "barpolar": [
           {
            "marker": {
             "line": {
              "color": "#E5ECF6",
              "width": 0.5
             },
             "pattern": {
              "fillmode": "overlay",
              "size": 10,
              "solidity": 0.2
             }
            },
            "type": "barpolar"
           }
          ],
          "carpet": [
           {
            "aaxis": {
             "endlinecolor": "#2a3f5f",
             "gridcolor": "white",
             "linecolor": "white",
             "minorgridcolor": "white",
             "startlinecolor": "#2a3f5f"
            },
            "baxis": {
             "endlinecolor": "#2a3f5f",
             "gridcolor": "white",
             "linecolor": "white",
             "minorgridcolor": "white",
             "startlinecolor": "#2a3f5f"
            },
            "type": "carpet"
           }
          ],
          "choropleth": [
           {
            "colorbar": {
             "outlinewidth": 0,
             "ticks": ""
            },
            "type": "choropleth"
           }
          ],
          "contour": [
           {
            "colorbar": {
             "outlinewidth": 0,
             "ticks": ""
            },
            "colorscale": [
             [
              0,
              "#0d0887"
             ],
             [
              0.1111111111111111,
              "#46039f"
             ],
             [
              0.2222222222222222,
              "#7201a8"
             ],
             [
              0.3333333333333333,
              "#9c179e"
             ],
             [
              0.4444444444444444,
              "#bd3786"
             ],
             [
              0.5555555555555556,
              "#d8576b"
             ],
             [
              0.6666666666666666,
              "#ed7953"
             ],
             [
              0.7777777777777778,
              "#fb9f3a"
             ],
             [
              0.8888888888888888,
              "#fdca26"
             ],
             [
              1,
              "#f0f921"
             ]
            ],
            "type": "contour"
           }
          ],
          "contourcarpet": [
           {
            "colorbar": {
             "outlinewidth": 0,
             "ticks": ""
            },
            "type": "contourcarpet"
           }
          ],
          "heatmap": [
           {
            "colorbar": {
             "outlinewidth": 0,
             "ticks": ""
            },
            "colorscale": [
             [
              0,
              "#0d0887"
             ],
             [
              0.1111111111111111,
              "#46039f"
             ],
             [
              0.2222222222222222,
              "#7201a8"
             ],
             [
              0.3333333333333333,
              "#9c179e"
             ],
             [
              0.4444444444444444,
              "#bd3786"
             ],
             [
              0.5555555555555556,
              "#d8576b"
             ],
             [
              0.6666666666666666,
              "#ed7953"
             ],
             [
              0.7777777777777778,
              "#fb9f3a"
             ],
             [
              0.8888888888888888,
              "#fdca26"
             ],
             [
              1,
              "#f0f921"
             ]
            ],
            "type": "heatmap"
           }
          ],
          "histogram": [
           {
            "marker": {
             "pattern": {
              "fillmode": "overlay",
              "size": 10,
              "solidity": 0.2
             }
            },
            "type": "histogram"
           }
          ],
          "histogram2d": [
           {
            "colorbar": {
             "outlinewidth": 0,
             "ticks": ""
            },
            "colorscale": [
             [
              0,
              "#0d0887"
             ],
             [
              0.1111111111111111,
              "#46039f"
             ],
             [
              0.2222222222222222,
              "#7201a8"
             ],
             [
              0.3333333333333333,
              "#9c179e"
             ],
             [
              0.4444444444444444,
              "#bd3786"
             ],
             [
              0.5555555555555556,
              "#d8576b"
             ],
             [
              0.6666666666666666,
              "#ed7953"
             ],
             [
              0.7777777777777778,
              "#fb9f3a"
             ],
             [
              0.8888888888888888,
              "#fdca26"
             ],
             [
              1,
              "#f0f921"
             ]
            ],
            "type": "histogram2d"
           }
          ],
          "histogram2dcontour": [
           {
            "colorbar": {
             "outlinewidth": 0,
             "ticks": ""
            },
            "colorscale": [
             [
              0,
              "#0d0887"
             ],
             [
              0.1111111111111111,
              "#46039f"
             ],
             [
              0.2222222222222222,
              "#7201a8"
             ],
             [
              0.3333333333333333,
              "#9c179e"
             ],
             [
              0.4444444444444444,
              "#bd3786"
             ],
             [
              0.5555555555555556,
              "#d8576b"
             ],
             [
              0.6666666666666666,
              "#ed7953"
             ],
             [
              0.7777777777777778,
              "#fb9f3a"
             ],
             [
              0.8888888888888888,
              "#fdca26"
             ],
             [
              1,
              "#f0f921"
             ]
            ],
            "type": "histogram2dcontour"
           }
          ],
          "mesh3d": [
           {
            "colorbar": {
             "outlinewidth": 0,
             "ticks": ""
            },
            "type": "mesh3d"
           }
          ],
          "parcoords": [
           {
            "line": {
             "colorbar": {
              "outlinewidth": 0,
              "ticks": ""
             }
            },
            "type": "parcoords"
           }
          ],
          "pie": [
           {
            "automargin": true,
            "type": "pie"
           }
          ],
          "scatter": [
           {
            "fillpattern": {
             "fillmode": "overlay",
             "size": 10,
             "solidity": 0.2
            },
            "type": "scatter"
           }
          ],
          "scatter3d": [
           {
            "line": {
             "colorbar": {
              "outlinewidth": 0,
              "ticks": ""
             }
            },
            "marker": {
             "colorbar": {
              "outlinewidth": 0,
              "ticks": ""
             }
            },
            "type": "scatter3d"
           }
          ],
          "scattercarpet": [
           {
            "marker": {
             "colorbar": {
              "outlinewidth": 0,
              "ticks": ""
             }
            },
            "type": "scattercarpet"
           }
          ],
          "scattergeo": [
           {
            "marker": {
             "colorbar": {
              "outlinewidth": 0,
              "ticks": ""
             }
            },
            "type": "scattergeo"
           }
          ],
          "scattergl": [
           {
            "marker": {
             "colorbar": {
              "outlinewidth": 0,
              "ticks": ""
             }
            },
            "type": "scattergl"
           }
          ],
          "scattermap": [
           {
            "marker": {
             "colorbar": {
              "outlinewidth": 0,
              "ticks": ""
             }
            },
            "type": "scattermap"
           }
          ],
          "scattermapbox": [
           {
            "marker": {
             "colorbar": {
              "outlinewidth": 0,
              "ticks": ""
             }
            },
            "type": "scattermapbox"
           }
          ],
          "scatterpolar": [
           {
            "marker": {
             "colorbar": {
              "outlinewidth": 0,
              "ticks": ""
             }
            },
            "type": "scatterpolar"
           }
          ],
          "scatterpolargl": [
           {
            "marker": {
             "colorbar": {
              "outlinewidth": 0,
              "ticks": ""
             }
            },
            "type": "scatterpolargl"
           }
          ],
          "scatterternary": [
           {
            "marker": {
             "colorbar": {
              "outlinewidth": 0,
              "ticks": ""
             }
            },
            "type": "scatterternary"
           }
          ],
          "surface": [
           {
            "colorbar": {
             "outlinewidth": 0,
             "ticks": ""
            },
            "colorscale": [
             [
              0,
              "#0d0887"
             ],
             [
              0.1111111111111111,
              "#46039f"
             ],
             [
              0.2222222222222222,
              "#7201a8"
             ],
             [
              0.3333333333333333,
              "#9c179e"
             ],
             [
              0.4444444444444444,
              "#bd3786"
             ],
             [
              0.5555555555555556,
              "#d8576b"
             ],
             [
              0.6666666666666666,
              "#ed7953"
             ],
             [
              0.7777777777777778,
              "#fb9f3a"
             ],
             [
              0.8888888888888888,
              "#fdca26"
             ],
             [
              1,
              "#f0f921"
             ]
            ],
            "type": "surface"
           }
          ],
          "table": [
           {
            "cells": {
             "fill": {
              "color": "#EBF0F8"
             },
             "line": {
              "color": "white"
             }
            },
            "header": {
             "fill": {
              "color": "#C8D4E3"
             },
             "line": {
              "color": "white"
             }
            },
            "type": "table"
           }
          ]
         },
         "layout": {
          "annotationdefaults": {
           "arrowcolor": "#2a3f5f",
           "arrowhead": 0,
           "arrowwidth": 1
          },
          "autotypenumbers": "strict",
          "coloraxis": {
           "colorbar": {
            "outlinewidth": 0,
            "ticks": ""
           }
          },
          "colorscale": {
           "diverging": [
            [
             0,
             "#8e0152"
            ],
            [
             0.1,
             "#c51b7d"
            ],
            [
             0.2,
             "#de77ae"
            ],
            [
             0.3,
             "#f1b6da"
            ],
            [
             0.4,
             "#fde0ef"
            ],
            [
             0.5,
             "#f7f7f7"
            ],
            [
             0.6,
             "#e6f5d0"
            ],
            [
             0.7,
             "#b8e186"
            ],
            [
             0.8,
             "#7fbc41"
            ],
            [
             0.9,
             "#4d9221"
            ],
            [
             1,
             "#276419"
            ]
           ],
           "sequential": [
            [
             0,
             "#0d0887"
            ],
            [
             0.1111111111111111,
             "#46039f"
            ],
            [
             0.2222222222222222,
             "#7201a8"
            ],
            [
             0.3333333333333333,
             "#9c179e"
            ],
            [
             0.4444444444444444,
             "#bd3786"
            ],
            [
             0.5555555555555556,
             "#d8576b"
            ],
            [
             0.6666666666666666,
             "#ed7953"
            ],
            [
             0.7777777777777778,
             "#fb9f3a"
            ],
            [
             0.8888888888888888,
             "#fdca26"
            ],
            [
             1,
             "#f0f921"
            ]
           ],
           "sequentialminus": [
            [
             0,
             "#0d0887"
            ],
            [
             0.1111111111111111,
             "#46039f"
            ],
            [
             0.2222222222222222,
             "#7201a8"
            ],
            [
             0.3333333333333333,
             "#9c179e"
            ],
            [
             0.4444444444444444,
             "#bd3786"
            ],
            [
             0.5555555555555556,
             "#d8576b"
            ],
            [
             0.6666666666666666,
             "#ed7953"
            ],
            [
             0.7777777777777778,
             "#fb9f3a"
            ],
            [
             0.8888888888888888,
             "#fdca26"
            ],
            [
             1,
             "#f0f921"
            ]
           ]
          },
          "colorway": [
           "#636efa",
           "#EF553B",
           "#00cc96",
           "#ab63fa",
           "#FFA15A",
           "#19d3f3",
           "#FF6692",
           "#B6E880",
           "#FF97FF",
           "#FECB52"
          ],
          "font": {
           "color": "#2a3f5f"
          },
          "geo": {
           "bgcolor": "white",
           "lakecolor": "white",
           "landcolor": "#E5ECF6",
           "showlakes": true,
           "showland": true,
           "subunitcolor": "white"
          },
          "hoverlabel": {
           "align": "left"
          },
          "hovermode": "closest",
          "mapbox": {
           "style": "light"
          },
          "paper_bgcolor": "white",
          "plot_bgcolor": "#E5ECF6",
          "polar": {
           "angularaxis": {
            "gridcolor": "white",
            "linecolor": "white",
            "ticks": ""
           },
           "bgcolor": "#E5ECF6",
           "radialaxis": {
            "gridcolor": "white",
            "linecolor": "white",
            "ticks": ""
           }
          },
          "scene": {
           "xaxis": {
            "backgroundcolor": "#E5ECF6",
            "gridcolor": "white",
            "gridwidth": 2,
            "linecolor": "white",
            "showbackground": true,
            "ticks": "",
            "zerolinecolor": "white"
           },
           "yaxis": {
            "backgroundcolor": "#E5ECF6",
            "gridcolor": "white",
            "gridwidth": 2,
            "linecolor": "white",
            "showbackground": true,
            "ticks": "",
            "zerolinecolor": "white"
           },
           "zaxis": {
            "backgroundcolor": "#E5ECF6",
            "gridcolor": "white",
            "gridwidth": 2,
            "linecolor": "white",
            "showbackground": true,
            "ticks": "",
            "zerolinecolor": "white"
           }
          },
          "shapedefaults": {
           "line": {
            "color": "#2a3f5f"
           }
          },
          "ternary": {
           "aaxis": {
            "gridcolor": "white",
            "linecolor": "white",
            "ticks": ""
           },
           "baxis": {
            "gridcolor": "white",
            "linecolor": "white",
            "ticks": ""
           },
           "bgcolor": "#E5ECF6",
           "caxis": {
            "gridcolor": "white",
            "linecolor": "white",
            "ticks": ""
           }
          },
          "title": {
           "x": 0.05
          },
          "xaxis": {
           "automargin": true,
           "gridcolor": "white",
           "linecolor": "white",
           "ticks": "",
           "title": {
            "standoff": 15
           },
           "zerolinecolor": "white",
           "zerolinewidth": 2
          },
          "yaxis": {
           "automargin": true,
           "gridcolor": "white",
           "linecolor": "white",
           "ticks": "",
           "title": {
            "standoff": 15
           },
           "zerolinecolor": "white",
           "zerolinewidth": 2
          }
         }
        },
        "updatemenus": [
         {
          "buttons": [
           {
            "args": [
             null,
             {
              "frame": {
               "duration": 285.7142857142857,
               "redraw": true
              },
              "fromcurrent": true,
              "transition": {
               "duration": 0
              }
             }
            ],
            "label": "Play",
            "method": "animate"
           },
           {
            "args": [
             [
              null
             ],
             {
              "frame": {
               "duration": 0,
               "redraw": true
              },
              "mode": "immediate",
              "transition": {
               "duration": 0
              }
             }
            ],
            "label": "Stop",
            "method": "animate"
           }
          ],
          "direction": "left",
          "pad": {
           "r": 10,
           "t": 75
          },
          "showactive": true,
          "type": "buttons",
          "x": 0.1,
          "xanchor": "right",
          "y": 0,
          "yanchor": "top"
         }
        ],
        "xaxis": {
         "range": [
          -2.3050672382471364,
          26.714715206895796
         ],
         "title": {
          "text": "<i>x</i>"
         }
        },
        "yaxis": {
         "range": [
          -5.079739483402368,
          53.80087459305906
         ],
         "title": {
          "text": "<i>y</i>"
         }
        }
       }
      },
      "image/png": "[encoded data removed]"
     },
     "metadata": {},
     "output_type": "display_data"
    }
   ],
   "source": [
    "plotter.plot_measurements(measurements, [0, 2])\n",
    "plotter.fig"
   ]
  },
  {
   "cell_type": "markdown",
   "id": "55417dd5-7eff-4e58-9d9d-d52846636047",
   "metadata": {},
   "source": [
    "## Custom model"
   ]
  },
  {
   "cell_type": "code",
   "execution_count": 25,
   "id": "298ed277-0293-44ef-9799-6fd7e5c3d1b2",
   "metadata": {},
   "outputs": [
    {
     "data": {
      "text/plain": [
       "4"
      ]
     },
     "execution_count": 25,
     "metadata": {},
     "output_type": "execute_result"
    }
   ],
   "source": [
    "import importlib\n",
    "import rhythmic_model\n",
    "importlib.reload(rhythmic_model)\n",
    "from rhythmic_model import RhythmicModel\n",
    "\n",
    "rhythmic_model = RhythmicModel(input_dims=4)\n",
    "rhythmic_model.ndim"
   ]
  },
  {
   "cell_type": "code",
   "execution_count": 22,
   "id": "4e51812a-ff9c-47d1-b286-66baa954db16",
   "metadata": {},
   "outputs": [],
   "source": [
    "from stonesoup.predictor.kalman import ExtendedKalmanPredictor\n",
    "predictor = ExtendedKalmanPredictor(rhythmic_model)\n",
    "\n",
    "from stonesoup.updater.kalman import ExtendedKalmanUpdater\n",
    "updater = ExtendedKalmanUpdater(measurement_model)"
   ]
  },
  {
   "cell_type": "code",
   "execution_count": 23,
   "id": "d3b88603-d7db-465d-8ba1-5f1da5c715b3",
   "metadata": {},
   "outputs": [],
   "source": [
    "from stonesoup.types.state import GaussianState\n",
    "prior = GaussianState([[0], [1], [0], [1]], np.diag([1.5, 0.5, 1.5, 0.5]), timestamp=start_time)"
   ]
  },
  {
   "cell_type": "code",
   "execution_count": 24,
   "id": "2d14abca-c73f-41a3-8cd3-13ba43b3fb13",
   "metadata": {},
   "outputs": [
    {
     "ename": "TypeError",
     "evalue": "asarray() missing required argument 'a' (pos 0)",
     "output_type": "error",
     "traceback": [
      "\u001b[31m---------------------------------------------------------------------------\u001b[39m",
      "\u001b[31mTypeError\u001b[39m                                 Traceback (most recent call last)",
      "\u001b[36mCell\u001b[39m\u001b[36m \u001b[39m\u001b[32mIn[24]\u001b[39m\u001b[32m, line 6\u001b[39m\n\u001b[32m      4\u001b[39m track = Track()\n\u001b[32m      5\u001b[39m \u001b[38;5;28;01mfor\u001b[39;00m measurement \u001b[38;5;129;01min\u001b[39;00m measurements:\n\u001b[32m----> \u001b[39m\u001b[32m6\u001b[39m     prediction = \u001b[43mpredictor\u001b[49m\u001b[43m.\u001b[49m\u001b[43mpredict\u001b[49m\u001b[43m(\u001b[49m\u001b[43mprior\u001b[49m\u001b[43m,\u001b[49m\u001b[43m \u001b[49m\u001b[43mtimestamp\u001b[49m\u001b[43m=\u001b[49m\u001b[43mmeasurement\u001b[49m\u001b[43m.\u001b[49m\u001b[43mtimestamp\u001b[49m\u001b[43m)\u001b[49m\n\u001b[32m      7\u001b[39m     hypothesis = SingleHypothesis(prediction, measurement)  \u001b[38;5;66;03m# Group a prediction and measurement\u001b[39;00m\n\u001b[32m      8\u001b[39m     post = updater.update(hypothesis)\n",
      "\u001b[36mFile \u001b[39m\u001b[32m~/work/rhythmic_sharing/.venv/lib/python3.12/site-packages/stonesoup/predictor/_utils.py:24\u001b[39m, in \u001b[36mpredict_lru_cache.<locals>.decorator.<locals>.predict\u001b[39m\u001b[34m(self, prior, *args, **kwargs)\u001b[39m\n\u001b[32m     22\u001b[39m \u001b[38;5;28;01mif\u001b[39;00m \u001b[38;5;28misinstance\u001b[39m(prior, StateMutableSequence) \u001b[38;5;129;01mand\u001b[39;00m \u001b[38;5;129;01mnot\u001b[39;00m \u001b[38;5;28misinstance\u001b[39m(prior, State):\n\u001b[32m     23\u001b[39m     prior = prior.state\n\u001b[32m---> \u001b[39m\u001b[32m24\u001b[39m \u001b[38;5;28;01mreturn\u001b[39;00m \u001b[43mfunc\u001b[49m\u001b[43m(\u001b[49m\u001b[38;5;28;43mself\u001b[39;49m\u001b[43m,\u001b[49m\u001b[43m \u001b[49m\u001b[43mprior\u001b[49m\u001b[43m,\u001b[49m\u001b[43m \u001b[49m\u001b[43m*\u001b[49m\u001b[43margs\u001b[49m\u001b[43m,\u001b[49m\u001b[43m \u001b[49m\u001b[43m*\u001b[49m\u001b[43m*\u001b[49m\u001b[43mkwargs\u001b[49m\u001b[43m)\u001b[49m\n",
      "\u001b[36mFile \u001b[39m\u001b[32m~/work/rhythmic_sharing/.venv/lib/python3.12/site-packages/stonesoup/predictor/kalman.py:197\u001b[39m, in \u001b[36mKalmanPredictor.predict\u001b[39m\u001b[34m(self, prior, timestamp, control_input, **kwargs)\u001b[39m\n\u001b[32m    191\u001b[39m x_pred = \u001b[38;5;28mself\u001b[39m._transition_function(\n\u001b[32m    192\u001b[39m     prior, time_interval=predict_over_interval, **kwargs) \\\n\u001b[32m    193\u001b[39m     + \u001b[38;5;28mself\u001b[39m.control_model.function(control_input, time_interval=predict_over_interval,\n\u001b[32m    194\u001b[39m                                   **kwargs)\n\u001b[32m    196\u001b[39m \u001b[38;5;66;03m# Prediction of the covariance\u001b[39;00m\n\u001b[32m--> \u001b[39m\u001b[32m197\u001b[39m p_pred = \u001b[38;5;28;43mself\u001b[39;49m\u001b[43m.\u001b[49m\u001b[43m_predicted_covariance\u001b[49m\u001b[43m(\u001b[49m\u001b[43mprior\u001b[49m\u001b[43m,\u001b[49m\u001b[43m \u001b[49m\u001b[43mpredict_over_interval\u001b[49m\u001b[43m,\u001b[49m\n\u001b[32m    198\u001b[39m \u001b[43m                                    \u001b[49m\u001b[43mcontrol_input\u001b[49m\u001b[43m=\u001b[49m\u001b[43mcontrol_input\u001b[49m\u001b[43m,\u001b[49m\n\u001b[32m    199\u001b[39m \u001b[43m                                    \u001b[49m\u001b[43m*\u001b[49m\u001b[43m*\u001b[49m\u001b[43mkwargs\u001b[49m\u001b[43m)\u001b[49m\n\u001b[32m    201\u001b[39m \u001b[38;5;66;03m# And return the state in the correct form\u001b[39;00m\n\u001b[32m    202\u001b[39m \u001b[38;5;28;01mreturn\u001b[39;00m Prediction.from_state(prior, x_pred, p_pred, timestamp=timestamp,\n\u001b[32m    203\u001b[39m                              transition_model=\u001b[38;5;28mself\u001b[39m.transition_model, prior=prior)\n",
      "\u001b[36mFile \u001b[39m\u001b[32m~/work/rhythmic_sharing/.venv/lib/python3.12/site-packages/stonesoup/predictor/kalman.py:152\u001b[39m, in \u001b[36mKalmanPredictor._predicted_covariance\u001b[39m\u001b[34m(self, prior, predict_over_interval, control_input, **kwargs)\u001b[39m\n\u001b[32m    149\u001b[39m prior_cov = prior.covar\n\u001b[32m    150\u001b[39m trans_m = \u001b[38;5;28mself\u001b[39m._transition_matrix(prior=prior, time_interval=predict_over_interval,\n\u001b[32m    151\u001b[39m                                   **kwargs)\n\u001b[32m--> \u001b[39m\u001b[32m152\u001b[39m trans_cov = \u001b[38;5;28;43mself\u001b[39;49m\u001b[43m.\u001b[49m\u001b[43mtransition_model\u001b[49m\u001b[43m.\u001b[49m\u001b[43mcovar\u001b[49m\u001b[43m(\u001b[49m\u001b[43mtime_interval\u001b[49m\u001b[43m=\u001b[49m\u001b[43mpredict_over_interval\u001b[49m\u001b[43m,\u001b[49m\u001b[43m \u001b[49m\u001b[43m*\u001b[49m\u001b[43m*\u001b[49m\u001b[43mkwargs\u001b[49m\u001b[43m)\u001b[49m\n\u001b[32m    154\u001b[39m \u001b[38;5;66;03m# As this is Kalman-like, the control model must be capable of\u001b[39;00m\n\u001b[32m    155\u001b[39m \u001b[38;5;66;03m# returning a control matrix (B)\u001b[39;00m\n\u001b[32m    156\u001b[39m ctrl_mat = \u001b[38;5;28mself\u001b[39m._control_matrix(control_input=control_input,\n\u001b[32m    157\u001b[39m                                 time_interval=predict_over_interval, **kwargs)\n",
      "\u001b[36mFile \u001b[39m\u001b[32m~/work/rhythmic_sharing/src/rhythmic_model.py:17\u001b[39m, in \u001b[36mRhythmicModel.covar\u001b[39m\u001b[34m(self, time_interval, **kwargs)\u001b[39m\n\u001b[32m     16\u001b[39m \u001b[38;5;28;01mdef\u001b[39;00m\u001b[38;5;250m \u001b[39m\u001b[34mcovar\u001b[39m(\u001b[38;5;28mself\u001b[39m, time_interval, **kwargs):\n\u001b[32m---> \u001b[39m\u001b[32m17\u001b[39m     \u001b[38;5;28;01mreturn\u001b[39;00m \u001b[43mCovarianceMatrix\u001b[49m\u001b[43m(\u001b[49m\u001b[43m)\u001b[49m\n",
      "\u001b[36mFile \u001b[39m\u001b[32m~/work/rhythmic_sharing/.venv/lib/python3.12/site-packages/stonesoup/types/array.py:240\u001b[39m, in \u001b[36mCovarianceMatrix.__new__\u001b[39m\u001b[34m(cls, *args, **kwargs)\u001b[39m\n\u001b[32m    239\u001b[39m \u001b[38;5;28;01mdef\u001b[39;00m\u001b[38;5;250m \u001b[39m\u001b[34m__new__\u001b[39m(\u001b[38;5;28mcls\u001b[39m, *args, **kwargs):\n\u001b[32m--> \u001b[39m\u001b[32m240\u001b[39m     array = \u001b[43mnp\u001b[49m\u001b[43m.\u001b[49m\u001b[43masarray\u001b[49m\u001b[43m(\u001b[49m\u001b[43m*\u001b[49m\u001b[43margs\u001b[49m\u001b[43m,\u001b[49m\u001b[43m \u001b[49m\u001b[43m*\u001b[49m\u001b[43m*\u001b[49m\u001b[43mkwargs\u001b[49m\u001b[43m)\u001b[49m\n\u001b[32m    241\u001b[39m     \u001b[38;5;28;01mif\u001b[39;00m \u001b[38;5;129;01mnot\u001b[39;00m array.ndim == \u001b[32m2\u001b[39m:\n\u001b[32m    242\u001b[39m         \u001b[38;5;28;01mraise\u001b[39;00m \u001b[38;5;167;01mValueError\u001b[39;00m(\u001b[33m\"\u001b[39m\u001b[33mCovariance should have ndim of 2: got \u001b[39m\u001b[38;5;132;01m{}\u001b[39;00m\u001b[33m\"\u001b[39m\n\u001b[32m    243\u001b[39m                          \u001b[33m\"\u001b[39m\u001b[33m\"\u001b[39m.format(array.ndim))\n",
      "\u001b[31mTypeError\u001b[39m: asarray() missing required argument 'a' (pos 0)"
     ]
    }
   ],
   "source": [
    "from stonesoup.types.hypothesis import SingleHypothesis\n",
    "from stonesoup.types.track import Track\n",
    "\n",
    "track = Track()\n",
    "for measurement in measurements:\n",
    "    prediction = predictor.predict(prior, timestamp=measurement.timestamp)\n",
    "    hypothesis = SingleHypothesis(prediction, measurement)  # Group a prediction and measurement\n",
    "    post = updater.update(hypothesis)\n",
    "    track.append(post)\n",
    "    prior = track[-1]"
   ]
  },
  {
   "cell_type": "code",
   "execution_count": 11,
   "id": "4f17fbec-0f00-4ba0-aa82-e2b3d82857f8",
   "metadata": {},
   "outputs": [
    {
     "data": {
      "application/vnd.plotly.v1+json": {
       "config": {
        "plotlyServerURL": "https://plot.ly"
       },
       "data": [
        {
         "hoverinfo": "none",
         "legendgroup": "Ground Truth",
         "legendrank": 100,
         "line": {
          "color": "#EF553B",
          "dash": "dash"
         },
         "mode": "lines",
         "name": "Ground Truth",
         "showlegend": true,
         "type": "scatter",
         "x": [],
         "y": []
        },
        {
         "hoverinfo": "none",
         "legendgroup": "Ground Truth",
         "legendrank": 100,
         "line": {
          "color": "#EF553B",
          "dash": "dash"
         },
         "mode": "lines",
         "name": "Ground Truth",
         "showlegend": false,
         "type": "scatter",
         "x": [],
         "y": []
        },
        {
         "hoverinfo": "none",
         "legendgroup": "Measurements",
         "legendrank": 200,
         "marker": {
          "color": "#636EFA"
         },
         "mode": "markers",
         "name": "Measurements",
         "showlegend": true,
         "type": "scatter",
         "x": [],
         "y": []
        },
        {
         "hoverinfo": "none",
         "legendgroup": "Measurements",
         "legendrank": 200,
         "marker": {
          "color": "#636EFA"
         },
         "mode": "markers",
         "name": "Measurements",
         "showlegend": false,
         "type": "scatter",
         "x": [],
         "y": []
        },
        {
         "legendgroup": "Tracks",
         "legendrank": 400,
         "line": {
          "color": "#AB63FA"
         },
         "mode": "markers+lines",
         "name": "Tracks",
         "showlegend": true,
         "type": "scatter",
         "x": [],
         "y": []
        },
        {
         "legendgroup": "Tracks",
         "legendrank": 400,
         "line": {
          "color": "#AB63FA"
         },
         "mode": "markers+lines",
         "name": "Tracks",
         "showlegend": false,
         "type": "scatter",
         "x": [],
         "y": []
        },
        {
         "fill": "toself",
         "fillcolor": "#AB63FA",
         "hoverinfo": "skip",
         "legendgroup": "Tracks<br>Uncertainty",
         "legendrank": 500,
         "mode": "none",
         "name": "Tracks<br>Uncertainty",
         "opacity": 0.2,
         "showlegend": true,
         "type": "scatter",
         "x": [],
         "y": []
        },
        {
         "fill": "toself",
         "fillcolor": "#AB63FA",
         "hoverinfo": "skip",
         "legendgroup": "Tracks<br>Uncertainty",
         "legendrank": 500,
         "mode": "none",
         "name": "Tracks<br>Uncertainty",
         "opacity": 0.2,
         "showlegend": false,
         "type": "scatter",
         "x": [],
         "y": []
        }
       ],
       "frames": [
        {
         "data": [
          {
           "type": "scatter",
           "x": [
            0,
            0
           ],
           "y": [
            0,
            0
           ]
          },
          {
           "hovertemplate": "GroundTruthState<br>(%{x}, %{y})<br>Time: %{meta}",
           "meta": [
            "2025-09-02 12:19:49"
           ],
           "type": "scatter",
           "x": {
            "bdata": "AAAAAAAAAAAAAAAAAADwfw==",
            "dtype": "f8"
           },
           "y": {
            "bdata": "AAAAAAAAAAAAAAAAAADwfw==",
            "dtype": "f8"
           }
          },
          {
           "type": "scatter",
           "x": [
            null,
            null
           ],
           "y": [
            null,
            null
           ]
          },
          {
           "hovertemplate": "Detection<br>(%{x}, %{y})<br>Time: %{meta}",
           "meta": [
            "2025-09-02 12:19:49"
           ],
           "type": "scatter",
           "x": {
            "bdata": "AN9JOUnGAUAAAAAAAADwfw==",
            "dtype": "f8"
           },
           "y": {
            "bdata": "PieuxKFl7r8AAAAAAADwfw==",
            "dtype": "f8"
           }
          },
          {
           "type": "scatter",
           "x": [
            null,
            null
           ],
           "y": [
            null,
            null
           ]
          },
          {
           "customdata": [
            "2025-09-02 12:19:49"
           ],
           "hovertemplate": "%{meta}<br>(%{x}, %{y})<br>Time: %{customdata}",
           "meta": [
            "GaussianStateUpdate"
           ],
           "type": "scatter",
           "x": {
            "bdata": "v8OEhSM99T8AAAAAAADwfw==",
            "dtype": "f8"
           },
           "y": {
            "bdata": "q8tl7y6pwr8AAAAAAADwfw==",
            "dtype": "f8"
           }
          },
          {
           "type": "scatter",
           "x": [
            null
           ],
           "y": [
            null
           ]
          },
          {
           "type": "scatter",
           "x": [
            0.5528298233344284,
            0.567377430550072,
            0.6110749292209626,
            0.6839842927555222,
            0.7858240772101459,
            0.9152514806025712,
            1.0687001542989325,
            1.2391137804829462,
            1.4157393587014728,
            1.586154222961933,
            1.7396023039061719,
            1.8690274204539596,
            1.9708666155890582,
            2.0437771588972318,
            2.087475403327018,
            2.1020230849088986,
            2.0874754033270175,
            2.0437771588972313,
            1.9708666155890573,
            1.869027420453959,
            1.7396023039061714,
            1.5861542229619312,
            1.415739358701472,
            1.239113780482945,
            1.0687001542989316,
            0.9152514806025699,
            0.7858240772101464,
            0.6839842927555219,
            0.611074929220962,
            0.5673774305500717,
            0.5528298233344284,
            null,
            null
           ],
           "y": [
            -0.14578806580865702,
            0.07244820400401056,
            0.284627610213929,
            0.4840990033345359,
            0.6630479372534545,
            0.812106553694232,
            0.9206003009383844,
            0.9781997124180158,
            0.9781996737085291,
            0.9205995405985804,
            0.8121057493269828,
            0.6630499522330013,
            0.48410336153127853,
            0.28463052207528117,
            0.07244875651903415,
            -0.14578806580866402,
            -0.3640248881363506,
            -0.5762066536925967,
            -0.7756794931485946,
            -0.9546260838503164,
            -1.1036818809442974,
            -1.2121756722158954,
            -1.2697758053258432,
            -1.2697758440353297,
            -1.2121764325556983,
            -1.1036826853115451,
            -0.9546240688707692,
            -0.7756751349518493,
            -0.5762037418312412,
            -0.36402433562132264,
            -0.14578806580865702,
            null,
            null
           ]
          }
         ],
         "name": "2025-09-02 12:19:49",
         "traces": [
          0,
          1,
          2,
          3,
          4,
          5,
          6,
          7
         ]
        },
        {
         "data": [
          {
           "type": "scatter",
           "x": [
            0,
            0
           ],
           "y": [
            0,
            0
           ]
          },
          {
           "hovertemplate": "GroundTruthState<br>(%{x}, %{y})<br>Time: %{meta}",
           "meta": [
            "2025-09-02 12:19:49",
            "2025-09-02 12:19:50"
           ],
           "type": "scatter",
           "x": {
            "bdata": "AAAAAAAAAAB6tLpF6NXyPwAAAAAAAPB/",
            "dtype": "f8"
           },
           "y": {
            "bdata": "AAAAAAAAAADQkKGTxALwPwAAAAAAAPB/",
            "dtype": "f8"
           }
          },
          {
           "type": "scatter",
           "x": [
            null,
            null
           ],
           "y": [
            null,
            null
           ]
          },
          {
           "hovertemplate": "Detection<br>(%{x}, %{y})<br>Time: %{meta}",
           "meta": [
            "2025-09-02 12:19:49",
            "2025-09-02 12:19:50"
           ],
           "type": "scatter",
           "x": {
            "bdata": "AN9JOUnGAUAAJytg4Mj4PwAAAAAAAPB/",
            "dtype": "f8"
           },
           "y": {
            "bdata": "PieuxKFl7r9H95tOR4EBwAAAAAAAAPB/",
            "dtype": "f8"
           }
          },
          {
           "type": "scatter",
           "x": [
            null,
            null
           ],
           "y": [
            null,
            null
           ]
          },
          {
           "customdata": [
            "2025-09-02 12:19:49",
            "2025-09-02 12:19:50"
           ],
           "hovertemplate": "%{meta}<br>(%{x}, %{y})<br>Time: %{customdata}",
           "meta": [
            "GaussianStateUpdate",
            "GaussianStateUpdate"
           ],
           "type": "scatter",
           "x": {
            "bdata": "v8OEhSM99T+YD4bn8C/+PwAAAAAAAPB/",
            "dtype": "f8"
           },
           "y": {
            "bdata": "q8tl7y6pwr/06jYmTOfTPwAAAAAAAPB/",
            "dtype": "f8"
           }
          },
          {
           "type": "scatter",
           "x": [
            null
           ],
           "y": [
            null
           ]
          },
          {
           "type": "scatter",
           "x": [
            2.6129914402291887,
            2.59751008252056,
            2.5566492889638712,
            2.4897181004494944,
            2.3957681177142525,
            2.274235582733042,
            2.126512329295808,
            1.9587184968038742,
            1.7836677895464332,
            1.6176201287549956,
            1.4731043774361738,
            1.3558331866272226,
            1.2668369629371485,
            1.2053022428156586,
            1.1701068312173786,
            1.1604172671784903,
            1.17589899807808,
            1.2167635366216507,
            1.2837015612950466,
            1.3776505253745874,
            1.4991707123357294,
            1.646888332797629,
            1.814688755822328,
            1.9897394706584073,
            2.1557806617809407,
            2.300301985294669,
            2.4175850275699893,
            2.5065819874533766,
            2.568110156593084,
            2.6033021729708494,
            2.6129914402291887,
            null,
            null
           ],
           "y": [
            0.301615451481473,
            0.07746317620125895,
            -0.14158499021923365,
            -0.3500026481185212,
            -0.5406412086141019,
            -0.7036729641904966,
            -0.8257900458830478,
            -0.8915109311097349,
            -0.8892506223633094,
            -0.8192149510338684,
            -0.6933272334929035,
            -0.5272316046104543,
            -0.3342420340013934,
            -0.12415475396286696,
            0.09588889403495543,
            0.3203691015101454,
            0.5445243316693362,
            0.7635859976709067,
            0.9720146134299754,
            1.1626422461156445,
            1.325654927489011,
            1.4477697276239314,
            1.513495209330849,
            1.5112354875918825,
            1.441204581358122,
            1.3153144375937,
            1.1491994220775748,
            0.9561989010024652,
            0.7461227516600888,
            0.5260926954282388,
            0.301615451481473,
            null,
            null
           ]
          }
         ],
         "name": "2025-09-02 12:19:50",
         "traces": [
          0,
          1,
          2,
          3,
          4,
          5,
          6,
          7
         ]
        },
        {
         "data": [
          {
           "type": "scatter",
           "x": [
            0,
            0
           ],
           "y": [
            0,
            0
           ]
          },
          {
           "hovertemplate": "GroundTruthState<br>(%{x}, %{y})<br>Time: %{meta}",
           "meta": [
            "2025-09-02 12:19:49",
            "2025-09-02 12:19:50",
            "2025-09-02 12:19:51"
           ],
           "type": "scatter",
           "x": {
            "bdata": "AAAAAAAAAAB6tLpF6NXyP2HNMOElNAJAAAAAAAAA8H8=",
            "dtype": "f8"
           },
           "y": {
            "bdata": "AAAAAAAAAADQkKGTxALwP03PNxbuPgBAAAAAAAAA8H8=",
            "dtype": "f8"
           }
          },
          {
           "type": "scatter",
           "x": [
            null,
            null
           ],
           "y": [
            null,
            null
           ]
          },
          {
           "hovertemplate": "Detection<br>(%{x}, %{y})<br>Time: %{meta}",
           "meta": [
            "2025-09-02 12:19:49",
            "2025-09-02 12:19:50",
            "2025-09-02 12:19:51"
           ],
           "type": "scatter",
           "x": {
            "bdata": "AN9JOUnGAUAAJytg4Mj4P/gWENZoeRBAAAAAAAAA8H8=",
            "dtype": "f8"
           },
           "y": {
            "bdata": "PieuxKFl7r9H95tOR4EBwIc1Io0jQSZAAAAAAAAA8H8=",
            "dtype": "f8"
           }
          },
          {
           "type": "scatter",
           "x": [
            null,
            null
           ],
           "y": [
            null,
            null
           ]
          },
          {
           "customdata": [
            "2025-09-02 12:19:49",
            "2025-09-02 12:19:50",
            "2025-09-02 12:19:51"
           ],
           "hovertemplate": "%{meta}<br>(%{x}, %{y})<br>Time: %{customdata}",
           "meta": [
            "GaussianStateUpdate",
            "GaussianStateUpdate",
            "GaussianStateUpdate"
           ],
           "type": "scatter",
           "x": {
            "bdata": "v8OEhSM99T+YD4bn8C/+P6iGnAFbgwZAAAAAAAAA8H8=",
            "dtype": "f8"
           },
           "y": {
            "bdata": "q8tl7y6pwr/06jYmTOfTP+UCOQzP2A5AAAAAAAAA8H8=",
            "dtype": "f8"
           }
          },
          {
           "type": "scatter",
           "x": [
            null
           ],
           "y": [
            null
           ]
          },
          {
           "type": "scatter",
           "x": [
            3.5843483978143555,
            3.5662226806408137,
            3.522972333025101,
            3.4534403705030217,
            3.355665351669579,
            3.2273540854639178,
            3.067447096287778,
            2.8807224366145263,
            2.683984291866982,
            2.5012424872573833,
            2.3482935310361035,
            2.2288959778274666,
            2.1412709354382478,
            2.0825837822052975,
            2.0506014823752357,
            2.04392845114899,
            2.062055329345467,
            2.105302145622874,
            2.1748429984789146,
            2.272596212620998,
            2.400922713912265,
            2.5608457148451556,
            2.7475487715003832,
            2.9442869763682746,
            3.127049807414555,
            3.279983271126885,
            3.399366892519103,
            3.4870116072053032,
            3.545691165260447,
            3.57767609485713,
            3.5843483978143555,
            null,
            null
           ],
           "y": [
            3.8388025366123366,
            3.580549879380358,
            3.3270993107565485,
            3.083558059912498,
            2.856949727934481,
            2.658177647934691,
            2.5042356224704037,
            2.418901242065461,
            2.4232605986531617,
            2.516766107784437,
            2.6776500146135933,
            2.8819385903652193,
            3.1126056121448147,
            3.359016327370912,
            3.614113034031424,
            3.872924787854076,
            4.131187192298382,
            4.38461747883361,
            4.628187781450491,
            4.854748440249125,
            5.0535496146953065,
            5.207503011729637,
            5.2928248496462285,
            5.288468207140095,
            5.194949211224099,
            5.034077373824341,
            4.8298185386029,
            4.599102924876138,
            4.35272162659782,
            4.097604501381889,
            3.8388025366123366,
            null,
            null
           ]
          }
         ],
         "name": "2025-09-02 12:19:51",
         "traces": [
          0,
          1,
          2,
          3,
          4,
          5,
          6,
          7
         ]
        },
        {
         "data": [
          {
           "type": "scatter",
           "x": [
            0,
            0
           ],
           "y": [
            0,
            0
           ]
          },
          {
           "hovertemplate": "GroundTruthState<br>(%{x}, %{y})<br>Time: %{meta}",
           "meta": [
            "2025-09-02 12:19:49",
            "2025-09-02 12:19:50",
            "2025-09-02 12:19:51",
            "2025-09-02 12:19:52"
           ],
           "type": "scatter",
           "x": {
            "bdata": "AAAAAAAAAAB6tLpF6NXyP2HNMOElNAJAXldM4pE/CUAAAAAAAADwfw==",
            "dtype": "f8"
           },
           "y": {
            "bdata": "AAAAAAAAAADQkKGTxALwP03PNxbuPgBAy4Dv5lipCUAAAAAAAADwfw==",
            "dtype": "f8"
           }
          },
          {
           "type": "scatter",
           "x": [
            null,
            null
           ],
           "y": [
            null,
            null
           ]
          },
          {
           "hovertemplate": "Detection<br>(%{x}, %{y})<br>Time: %{meta}",
           "meta": [
            "2025-09-02 12:19:49",
            "2025-09-02 12:19:50",
            "2025-09-02 12:19:51",
            "2025-09-02 12:19:52"
           ],
           "type": "scatter",
           "x": {
            "bdata": "AN9JOUnGAUAAJytg4Mj4P/gWENZoeRBAIO8+CvoiEkAAAAAAAADwfw==",
            "dtype": "f8"
           },
           "y": {
            "bdata": "PieuxKFl7r9H95tOR4EBwIc1Io0jQSZAlvCEutQUE0AAAAAAAADwfw==",
            "dtype": "f8"
           }
          },
          {
           "type": "scatter",
           "x": [
            null,
            null
           ],
           "y": [
            null,
            null
           ]
          },
          {
           "customdata": [
            "2025-09-02 12:19:49",
            "2025-09-02 12:19:50",
            "2025-09-02 12:19:51",
            "2025-09-02 12:19:52"
           ],
           "hovertemplate": "%{meta}<br>(%{x}, %{y})<br>Time: %{customdata}",
           "meta": [
            "GaussianStateUpdate",
            "GaussianStateUpdate",
            "GaussianStateUpdate",
            "GaussianStateUpdate"
           ],
           "type": "scatter",
           "x": {
            "bdata": "v8OEhSM99T+YD4bn8C/+P6iGnAFbgwZAbFve2LPMEEAAAAAAAADwfw==",
            "dtype": "f8"
           },
           "y": {
            "bdata": "q8tl7y6pwr/06jYmTOfTP+UCOQzP2A5AFos5jcLrFEAAAAAAAADwfw==",
            "dtype": "f8"
           }
          },
          {
           "type": "scatter",
           "x": [
            null
           ],
           "y": [
            null
           ]
          },
          {
           "type": "scatter",
           "x": [
            4.96665488983267,
            4.930533760356965,
            4.8711301432633505,
            4.7872767580444995,
            4.676826807634364,
            4.536662103057965,
            4.364161234610332,
            4.163092732357876,
            3.9552011542947785,
            3.773449926681298,
            3.6335245125931843,
            3.533610737720216,
            3.4677601951638444,
            3.4310352297972764,
            3.420139544864274,
            3.433154734975835,
            3.469279645457565,
            3.528681317968864,
            3.612523155655362,
            3.7229827156989783,
            3.8631471938220234,
            4.035648473108096,
            4.236701855271963,
            4.444594176918142,
            4.6263597691335425,
            4.766284862304723,
            4.866198820451609,
            4.932044347333206,
            4.968774996950658,
            4.979669978458999,
            4.96665488983267,
            null,
            null
           ],
           "y": [
            5.1625633849546695,
            4.885212502956705,
            4.613499586286554,
            4.3518572008644165,
            4.106940221281937,
            3.889502700731219,
            3.7187386264152176,
            3.626276072690111,
            3.644628177092831,
            3.7708728867305847,
            3.9692112387490086,
            4.207837086769532,
            4.468340023989207,
            4.740590800766958,
            5.018492994902181,
            5.297905301410772,
            5.5752780164437725,
            5.846975986178902,
            6.108585914871632,
            6.353528275132199,
            6.570965569139863,
            6.7417301205953155,
            6.834189695388832,
            6.815846016201299,
            6.689595725405598,
            6.4912579151090615,
            6.25263180438424,
            5.992155538626514,
            5.71987078429618,
            5.441953533685255,
            5.1625633849546695,
            null,
            null
           ]
          }
         ],
         "name": "2025-09-02 12:19:52",
         "traces": [
          0,
          1,
          2,
          3,
          4,
          5,
          6,
          7
         ]
        },
        {
         "data": [
          {
           "type": "scatter",
           "x": [
            0,
            0
           ],
           "y": [
            0,
            0
           ]
          },
          {
           "hovertemplate": "GroundTruthState<br>(%{x}, %{y})<br>Time: %{meta}",
           "meta": [
            "2025-09-02 12:19:49",
            "2025-09-02 12:19:50",
            "2025-09-02 12:19:51",
            "2025-09-02 12:19:52",
            "2025-09-02 12:19:53"
           ],
           "type": "scatter",
           "x": {
            "bdata": "AAAAAAAAAAB6tLpF6NXyP2HNMOElNAJAXldM4pE/CUB4sMMCKXIQQAAAAAAAAPB/",
            "dtype": "f8"
           },
           "y": {
            "bdata": "AAAAAAAAAADQkKGTxALwP03PNxbuPgBAy4Dv5lipCUAL289Y57kSQAAAAAAAAPB/",
            "dtype": "f8"
           }
          },
          {
           "type": "scatter",
           "x": [
            null,
            null
           ],
           "y": [
            null,
            null
           ]
          },
          {
           "hovertemplate": "Detection<br>(%{x}, %{y})<br>Time: %{meta}",
           "meta": [
            "2025-09-02 12:19:49",
            "2025-09-02 12:19:50",
            "2025-09-02 12:19:51",
            "2025-09-02 12:19:52",
            "2025-09-02 12:19:53"
           ],
           "type": "scatter",
           "x": {
            "bdata": "AN9JOUnGAUAAJytg4Mj4P/gWENZoeRBAIO8+CvoiEkCgDe0pXuQRQAAAAAAAAPB/",
            "dtype": "f8"
           },
           "y": {
            "bdata": "PieuxKFl7r9H95tOR4EBwIc1Io0jQSZAlvCEutQUE0AX16U5HbARQAAAAAAAAPB/",
            "dtype": "f8"
           }
          },
          {
           "type": "scatter",
           "x": [
            null,
            null
           ],
           "y": [
            null,
            null
           ]
          },
          {
           "customdata": [
            "2025-09-02 12:19:49",
            "2025-09-02 12:19:50",
            "2025-09-02 12:19:51",
            "2025-09-02 12:19:52",
            "2025-09-02 12:19:53"
           ],
           "hovertemplate": "%{meta}<br>(%{x}, %{y})<br>Time: %{customdata}",
           "meta": [
            "GaussianStateUpdate",
            "GaussianStateUpdate",
            "GaussianStateUpdate",
            "GaussianStateUpdate",
            "GaussianStateUpdate"
           ],
           "type": "scatter",
           "x": {
            "bdata": "v8OEhSM99T+YD4bn8C/+P6iGnAFbgwZAbFve2LPMEEC4vgH2M3wTQAAAAAAAAPB/",
            "dtype": "f8"
           },
           "y": {
            "bdata": "q8tl7y6pwr/06jYmTOfTP+UCOQzP2A5AFos5jcLrFEBETnzWTtoXQAAAAAAAAPB/",
            "dtype": "f8"
           }
          },
          {
           "type": "scatter",
           "x": [
            null
           ],
           "y": [
            null
           ]
          },
          {
           "type": "scatter",
           "x": [
            5.613419750760867,
            5.565935568731456,
            5.496779228869743,
            5.404860167825818,
            5.288037661291929,
            5.143034857619546,
            4.966577850195212,
            4.761718163328808,
            4.553199483041656,
            4.379324522820915,
            4.253733653255794,
            4.17034514567028,
            4.120988254869124,
            4.099842487191775,
            4.1032592504956815,
            4.129164179934678,
            4.176654855123686,
            4.2458075114888665,
            4.337719836116513,
            4.454546094551067,
            4.599548298421309,
            4.776006194723118,
            4.980842162974699,
            5.189362715318553,
            5.363259496648141,
            5.4888497798491,
            5.572238697541923,
            5.621594372663215,
            5.642741737640419,
            5.639323018731353,
            5.613419750760867,
            null,
            null
           ],
           "y": [
            5.866556149516115,
            5.5861650598806625,
            5.311768328052581,
            5.047377652492207,
            4.799135072017789,
            4.577417400794088,
            4.401762606975966,
            4.307529610080035,
            4.334688912936436,
            4.478230946592946,
            4.6932176986991205,
            4.944674310905912,
            5.214565632324698,
            5.493658831592348,
            5.776593737685426,
            6.0598265854254025,
            6.340248672961726,
            6.614623864032298,
            6.878995348783699,
            7.127247344519717,
            7.348964353097399,
            7.5246202124702695,
            7.618848888192931,
            7.591703962137457,
            7.448151677410959,
            7.2331661829562375,
            6.9817087765993495,
            6.711827517289301,
            6.432714042048513,
            6.149757370202766,
            5.866556149516115,
            null,
            null
           ]
          }
         ],
         "name": "2025-09-02 12:19:53",
         "traces": [
          0,
          1,
          2,
          3,
          4,
          5,
          6,
          7
         ]
        },
        {
         "data": [
          {
           "type": "scatter",
           "x": [
            0,
            0
           ],
           "y": [
            0,
            0
           ]
          },
          {
           "hovertemplate": "GroundTruthState<br>(%{x}, %{y})<br>Time: %{meta}",
           "meta": [
            "2025-09-02 12:19:49",
            "2025-09-02 12:19:50",
            "2025-09-02 12:19:51",
            "2025-09-02 12:19:52",
            "2025-09-02 12:19:53",
            "2025-09-02 12:19:54"
           ],
           "type": "scatter",
           "x": {
            "bdata": "AAAAAAAAAAB6tLpF6NXyP2HNMOElNAJAXldM4pE/CUB4sMMCKXIQQBvJqZ+SRhRAAAAAAAAA8H8=",
            "dtype": "f8"
           },
           "y": {
            "bdata": "AAAAAAAAAADQkKGTxALwP03PNxbuPgBAy4Dv5lipCUAL289Y57kSQHJUCk5GshlAAAAAAAAA8H8=",
            "dtype": "f8"
           }
          },
          {
           "type": "scatter",
           "x": [
            null,
            null
           ],
           "y": [
            null,
            null
           ]
          },
          {
           "hovertemplate": "Detection<br>(%{x}, %{y})<br>Time: %{meta}",
           "meta": [
            "2025-09-02 12:19:49",
            "2025-09-02 12:19:50",
            "2025-09-02 12:19:51",
            "2025-09-02 12:19:52",
            "2025-09-02 12:19:53",
            "2025-09-02 12:19:54"
           ],
           "type": "scatter",
           "x": {
            "bdata": "AN9JOUnGAUAAJytg4Mj4P/gWENZoeRBAIO8+CvoiEkCgDe0pXuQRQIAmtIgSVBdAAAAAAAAA8H8=",
            "dtype": "f8"
           },
           "y": {
            "bdata": "PieuxKFl7r9H95tOR4EBwIc1Io0jQSZAlvCEutQUE0AX16U5HbARQHXTRqi2QyJAAAAAAAAA8H8=",
            "dtype": "f8"
           }
          },
          {
           "type": "scatter",
           "x": [
            null,
            null
           ],
           "y": [
            null,
            null
           ]
          },
          {
           "customdata": [
            "2025-09-02 12:19:49",
            "2025-09-02 12:19:50",
            "2025-09-02 12:19:51",
            "2025-09-02 12:19:52",
            "2025-09-02 12:19:53",
            "2025-09-02 12:19:54"
           ],
           "hovertemplate": "%{meta}<br>(%{x}, %{y})<br>Time: %{customdata}",
           "meta": [
            "GaussianStateUpdate",
            "GaussianStateUpdate",
            "GaussianStateUpdate",
            "GaussianStateUpdate",
            "GaussianStateUpdate",
            "GaussianStateUpdate"
           ],
           "type": "scatter",
           "x": {
            "bdata": "v8OEhSM99T+YD4bn8C/+P6iGnAFbgwZAbFve2LPMEEC4vgH2M3wTQKoQU6HcBhdAAAAAAAAA8H8=",
            "dtype": "f8"
           },
           "y": {
            "bdata": "q8tl7y6pwr/06jYmTOfTP+UCOQzP2A5AFos5jcLrFEBETnzWTtoXQPce8ViDKiBAAAAAAAAA8H8=",
            "dtype": "f8"
           }
          },
          {
           "type": "scatter",
           "x": [
            null
           ],
           "y": [
            null
           ]
          },
          {
           "type": "scatter",
           "x": [
            6.475426480164002,
            6.422592754306486,
            6.349114428095573,
            6.2539712625199595,
            6.135099377047619,
            5.989289797277519,
            5.813183605041974,
            5.609650843499716,
            5.404627643938645,
            5.238053390064572,
            5.121963803400417,
            5.048260581653859,
            5.007973364761303,
            4.995038810654874,
            5.005738665579418,
            5.0379755444768275,
            5.090817274443032,
            5.164290900287494,
            5.259429919616585,
            5.378302438464166,
            5.524111164129101,
            5.700218531034948,
            5.903760876042797,
            6.108783142536602,
            6.275348716411234,
            6.391437604058646,
            6.4651413544853105,
            6.505428455699855,
            6.51836323952768,
            6.507660603964359,
            6.475426480164002,
            null,
            null
           ],
           "y": [
            7.973118529035456,
            7.69656726880352,
            7.426140656645537,
            7.165627368606876,
            6.920867224389765,
            6.701904801198748,
            6.528023011117597,
            6.435459665932117,
            6.466810780807677,
            6.615977685099591,
            6.834546622655724,
            7.0870780914304525,
            7.356180199584348,
            7.633208729402104,
            7.913211034173728,
            8.19294817368082,
            8.469534209399969,
            8.739936509460628,
            9.000437327163796,
            9.24519910669779,
            9.464160571657546,
            9.638043773599996,
            9.730608676119461,
            9.699251459981136,
            9.550088906058395,
            9.331521666906879,
            9.078989028431256,
            8.809888670147108,
            8.53284700077625,
            8.252820090322988,
            7.973118529035456,
            null,
            null
           ]
          }
         ],
         "name": "2025-09-02 12:19:54",
         "traces": [
          0,
          1,
          2,
          3,
          4,
          5,
          6,
          7
         ]
        },
        {
         "data": [
          {
           "type": "scatter",
           "x": [
            0,
            0
           ],
           "y": [
            0,
            0
           ]
          },
          {
           "hovertemplate": "GroundTruthState<br>(%{x}, %{y})<br>Time: %{meta}",
           "meta": [
            "2025-09-02 12:19:49",
            "2025-09-02 12:19:50",
            "2025-09-02 12:19:51",
            "2025-09-02 12:19:52",
            "2025-09-02 12:19:53",
            "2025-09-02 12:19:54",
            "2025-09-02 12:19:55"
           ],
           "type": "scatter",
           "x": {
            "bdata": "AAAAAAAAAAB6tLpF6NXyP2HNMOElNAJAXldM4pE/CUB4sMMCKXIQQBvJqZ+SRhRAL+4XjVKJGEAAAAAAAADwfw==",
            "dtype": "f8"
           },
           "y": {
            "bdata": "AAAAAAAAAADQkKGTxALwP03PNxbuPgBAy4Dv5lipCUAL289Y57kSQHJUCk5GshlAXfDz/0aVIEAAAAAAAADwfw==",
            "dtype": "f8"
           }
          },
          {
           "type": "scatter",
           "x": [
            null,
            null
           ],
           "y": [
            null,
            null
           ]
          },
          {
           "hovertemplate": "Detection<br>(%{x}, %{y})<br>Time: %{meta}",
           "meta": [
            "2025-09-02 12:19:49",
            "2025-09-02 12:19:50",
            "2025-09-02 12:19:51",
            "2025-09-02 12:19:52",
            "2025-09-02 12:19:53",
            "2025-09-02 12:19:54",
            "2025-09-02 12:19:55"
           ],
           "type": "scatter",
           "x": {
            "bdata": "AN9JOUnGAUAAJytg4Mj4P/gWENZoeRBAIO8+CvoiEkCgDe0pXuQRQIAmtIgSVBdA6GEQLu+vEkAAAAAAAADwfw==",
            "dtype": "f8"
           },
           "y": {
            "bdata": "PieuxKFl7r9H95tOR4EBwIc1Io0jQSZAlvCEutQUE0AX16U5HbARQHXTRqi2QyJAdV+lk0QIIkAAAAAAAADwfw==",
            "dtype": "f8"
           }
          },
          {
           "type": "scatter",
           "x": [
            null,
            null
           ],
           "y": [
            null,
            null
           ]
          },
          {
           "customdata": [
            "2025-09-02 12:19:49",
            "2025-09-02 12:19:50",
            "2025-09-02 12:19:51",
            "2025-09-02 12:19:52",
            "2025-09-02 12:19:53",
            "2025-09-02 12:19:54",
            "2025-09-02 12:19:55"
           ],
           "hovertemplate": "%{meta}<br>(%{x}, %{y})<br>Time: %{customdata}",
           "meta": [
            "GaussianStateUpdate",
            "GaussianStateUpdate",
            "GaussianStateUpdate",
            "GaussianStateUpdate",
            "GaussianStateUpdate",
            "GaussianStateUpdate",
            "GaussianStateUpdate"
           ],
           "type": "scatter",
           "x": {
            "bdata": "v8OEhSM99T+YD4bn8C/+P6iGnAFbgwZAbFve2LPMEEC4vgH2M3wTQKoQU6HcBhdA8KfHOPPXFkAAAAAAAADwfw==",
            "dtype": "f8"
           },
           "y": {
            "bdata": "q8tl7y6pwr/06jYmTOfTP+UCOQzP2A5AFos5jcLrFEBETnzWTtoXQPce8ViDKiBA0L0hdxItI0AAAAAAAADwfw==",
            "dtype": "f8"
           }
          },
          {
           "type": "scatter",
           "x": [
            null
           ],
           "y": [
            null
           ]
          },
          {
           "type": "scatter",
           "x": [
            6.410618897754948,
            6.348730856371171,
            6.2668442103443,
            6.164101098019157,
            6.038699556419336,
            5.887875413134792,
            5.709069317204255,
            5.506453316842439,
            5.306953504957145,
            5.149352603403623,
            5.043672833456954,
            4.98072948461641,
            4.9511196414785354,
            4.948594242511662,
            4.969331592719764,
            5.0111586122892176,
            5.073055729550951,
            5.154936905464271,
            5.257675393390025,
            5.383077736338235,
            5.533901018321616,
            5.712708305281238,
            5.915333911998477,
            6.114832567464038,
            6.272424982913046,
            6.378104135911069,
            6.441047954391141,
            6.470657731820226,
            6.473182892137966,
            6.452441932318019,
            6.410618897754948,
            null,
            null
           ],
           "y": [
            9.453941252784622,
            9.18526334127967,
            8.923348567601803,
            8.671948641002677,
            8.436863581905989,
            8.22805066902613,
            8.064507752173084,
            7.981546910999302,
            8.019774206824593,
            8.171766939684995,
            8.389827828018548,
            8.639604240618146,
            8.904396334930293,
            9.175955856938609,
            9.449564193876986,
            9.722121756227276,
            9.990833258093279,
            10.252724519434489,
            10.504112177707635,
            10.739199073139854,
            10.948011091630551,
            11.111555333127882,
            11.194517363692002,
            11.15628403326137,
            11.004295956874351,
            10.786236739650354,
            10.536459177611574,
            10.27166908579033,
            10.000096455008665,
            9.726464249203126,
            9.453941252784622,
            null,
            null
           ]
          }
         ],
         "name": "2025-09-02 12:19:55",
         "traces": [
          0,
          1,
          2,
          3,
          4,
          5,
          6,
          7
         ]
        },
        {
         "data": [
          {
           "type": "scatter",
           "x": [
            0,
            0
           ],
           "y": [
            0,
            0
           ]
          },
          {
           "hovertemplate": "GroundTruthState<br>(%{x}, %{y})<br>Time: %{meta}",
           "meta": [
            "2025-09-02 12:19:50",
            "2025-09-02 12:19:51",
            "2025-09-02 12:19:52",
            "2025-09-02 12:19:53",
            "2025-09-02 12:19:54",
            "2025-09-02 12:19:55",
            "2025-09-02 12:19:56"
           ],
           "type": "scatter",
           "x": {
            "bdata": "erS6RejV8j9hzTDhJTQCQF5XTOKRPwlAeLDDAilyEEAbyamfkkYUQC/uF41SiRhA+d8D0b1YHUAAAAAAAADwfw==",
            "dtype": "f8"
           },
           "y": {
            "bdata": "0JChk8QC8D9NzzcW7j4AQMuA7+ZYqQlAC9vPWOe5EkByVApORrIZQF3w8/9GlSBAkx2pj5ZrJEAAAAAAAADwfw==",
            "dtype": "f8"
           }
          },
          {
           "type": "scatter",
           "x": [
            null,
            null
           ],
           "y": [
            null,
            null
           ]
          },
          {
           "hovertemplate": "Detection<br>(%{x}, %{y})<br>Time: %{meta}",
           "meta": [
            "2025-09-02 12:19:50",
            "2025-09-02 12:19:51",
            "2025-09-02 12:19:52",
            "2025-09-02 12:19:53",
            "2025-09-02 12:19:54",
            "2025-09-02 12:19:55",
            "2025-09-02 12:19:56"
           ],
           "type": "scatter",
           "x": {
            "bdata": "ACcrYODI+D/4FhDWaHkQQCDvPgr6IhJAoA3tKV7kEUCAJrSIElQXQOhhEC7vrxJAqJx5RKmlG0AAAAAAAADwfw==",
            "dtype": "f8"
           },
           "y": {
            "bdata": "R/ebTkeBAcCHNSKNI0EmQJbwhLrUFBNAF9elOR2wEUB100aotkMiQHVfpZNECCJASKCz3OG0GkAAAAAAAADwfw==",
            "dtype": "f8"
           }
          },
          {
           "type": "scatter",
           "x": [
            null,
            null
           ],
           "y": [
            null,
            null
           ]
          },
          {
           "customdata": [
            "2025-09-02 12:19:50",
            "2025-09-02 12:19:51",
            "2025-09-02 12:19:52",
            "2025-09-02 12:19:53",
            "2025-09-02 12:19:54",
            "2025-09-02 12:19:55",
            "2025-09-02 12:19:56"
           ],
           "hovertemplate": "%{meta}<br>(%{x}, %{y})<br>Time: %{customdata}",
           "meta": [
            "GaussianStateUpdate",
            "GaussianStateUpdate",
            "GaussianStateUpdate",
            "GaussianStateUpdate",
            "GaussianStateUpdate",
            "GaussianStateUpdate",
            "GaussianStateUpdate"
           ],
           "type": "scatter",
           "x": {
            "bdata": "mA+G5/Av/j+ohpwBW4MGQGxb3tizzBBAuL4B9jN8E0CqEFOh3AYXQPCnxzjz1xZAK/vs81ibGkAAAAAAAADwfw==",
            "dtype": "f8"
           },
           "y": {
            "bdata": "9Oo2Jkzn0z/lAjkMz9gOQBaLOY3C6xRARE581k7aF0D3HvFYgyogQNC9IXcSLSNAfzNbKqi4IkAAAAAAAADwfw==",
            "dtype": "f8"
           }
          },
          {
           "type": "scatter",
           "x": [
            null
           ],
           "y": [
            null
           ]
          },
          {
           "type": "scatter",
           "x": [
            7.338355424972816,
            7.268268218146397,
            7.178617305283053,
            7.068690521515313,
            6.936923003246369,
            6.780958830542912,
            6.59899965010862,
            6.396473508796883,
            6.201160714299117,
            6.0506787325364755,
            5.953416677806571,
            5.899364297231172,
            5.87876104170574,
            5.885182047044679,
            5.914698457112525,
            5.965057606298508,
            6.035154707961037,
            6.124799558996274,
            6.234720867370582,
            6.366489806900172,
            6.522453144566604,
            6.704413495908506,
            6.906949885702336,
            7.102261241314782,
            7.252734371158926,
            7.349995892209766,
            7.404048678549438,
            7.4246519042013075,
            7.418230273573792,
            7.388709590530076,
            7.338355424972816,
            null,
            null
           ],
           "y": [
            9.204486925596948,
            8.94195421959269,
            8.686806931535413,
            8.442798674029461,
            8.21574410466012,
            8.015586516500411,
            7.86114119305699,
            7.786851517858336,
            7.83127003259086,
            7.985850922857887,
            8.2038036538465,
            8.451726306410071,
            8.71343922328736,
            8.980974676408966,
            9.249775029703112,
            9.516829075595057,
            9.779393931721133,
            10.03451870330794,
            10.278514100706797,
            10.505571563860752,
            10.705728349416432,
            10.860174879889621,
            10.934465453182847,
            10.890040611996849,
            10.735464964009696,
            10.517513827741174,
            10.269590090366348,
            10.007880397318898,
            9.740330980984838,
            9.47150770436459,
            9.204486925596948,
            null,
            null
           ]
          }
         ],
         "name": "2025-09-02 12:19:56",
         "traces": [
          0,
          1,
          2,
          3,
          4,
          5,
          6,
          7
         ]
        },
        {
         "data": [
          {
           "type": "scatter",
           "x": [
            0,
            0
           ],
           "y": [
            0,
            0
           ]
          },
          {
           "hovertemplate": "GroundTruthState<br>(%{x}, %{y})<br>Time: %{meta}",
           "meta": [
            "2025-09-02 12:19:51",
            "2025-09-02 12:19:52",
            "2025-09-02 12:19:53",
            "2025-09-02 12:19:54",
            "2025-09-02 12:19:55",
            "2025-09-02 12:19:56",
            "2025-09-02 12:19:57"
           ],
           "type": "scatter",
           "x": {
            "bdata": "Yc0w4SU0AkBeV0zikT8JQHiwwwIpchBAG8mpn5JGFEAv7heNUokYQPnfA9G9WB1AtDiO8N9qIUAAAAAAAADwfw==",
            "dtype": "f8"
           },
           "y": {
            "bdata": "Tc83Fu4+AEDLgO/mWKkJQAvbz1jnuRJAclQKTkayGUBd8PP/RpUgQJMdqY+WayRAhkhDcEFHKUAAAAAAAADwfw==",
            "dtype": "f8"
           }
          },
          {
           "type": "scatter",
           "x": [
            null,
            null
           ],
           "y": [
            null,
            null
           ]
          },
          {
           "hovertemplate": "Detection<br>(%{x}, %{y})<br>Time: %{meta}",
           "meta": [
            "2025-09-02 12:19:51",
            "2025-09-02 12:19:52",
            "2025-09-02 12:19:53",
            "2025-09-02 12:19:54",
            "2025-09-02 12:19:55",
            "2025-09-02 12:19:56",
            "2025-09-02 12:19:57"
           ],
           "type": "scatter",
           "x": {
            "bdata": "+BYQ1mh5EEAg7z4K+iISQKAN7Sle5BFAgCa0iBJUF0DoYRAu768SQKiceUSppRtAQBlyHgjVI0AAAAAAAADwfw==",
            "dtype": "f8"
           },
           "y": {
            "bdata": "hzUijSNBJkCW8IS61BQTQBfXpTkdsBFAddNGqLZDIkB1X6WTRAgiQEigs9zhtBpAxsI+uGsyKkAAAAAAAADwfw==",
            "dtype": "f8"
           }
          },
          {
           "type": "scatter",
           "x": [
            null,
            null
           ],
           "y": [
            null,
            null
           ]
          },
          {
           "customdata": [
            "2025-09-02 12:19:51",
            "2025-09-02 12:19:52",
            "2025-09-02 12:19:53",
            "2025-09-02 12:19:54",
            "2025-09-02 12:19:55",
            "2025-09-02 12:19:56",
            "2025-09-02 12:19:57"
           ],
           "hovertemplate": "%{meta}<br>(%{x}, %{y})<br>Time: %{customdata}",
           "meta": [
            "GaussianStateUpdate",
            "GaussianStateUpdate",
            "GaussianStateUpdate",
            "GaussianStateUpdate",
            "GaussianStateUpdate",
            "GaussianStateUpdate",
            "GaussianStateUpdate"
           ],
           "type": "scatter",
           "x": {
            "bdata": "qIacAVuDBkBsW97Ys8wQQLi+AfYzfBNAqhBTodwGF0Dwp8c489cWQCv77PNYmxpADOa1ht75IEAAAAAAAADwfw==",
            "dtype": "f8"
           },
           "y": {
            "bdata": "5QI5DM/YDkAWizmNwusUQEROfNZO2hdA9x7xWIMqIEDQvSF3Ei0jQH8zWyqouCJA0c+sn1PwJkAAAAAAAADwfw==",
            "dtype": "f8"
           }
          },
          {
           "type": "scatter",
           "x": [
            null
           ],
           "y": [
            null
           ]
          },
          {
           "type": "scatter",
           "x": [
            9.168832257152227,
            9.096547255462314,
            9.004733492450757,
            8.892767951938279,
            8.759252767724053,
            8.602137506303118,
            8.420244734420626,
            8.219849021169496,
            8.028144113945926,
            7.880652139768793,
            7.7854930571387735,
            7.73331397825121,
            7.714624231386669,
            7.723060119395694,
            7.754686031365817,
            7.807219473393622,
            7.8795137963265525,
            7.9713218595650135,
            8.083279659435243,
            8.21679876325236,
            8.373913366259812,
            8.555807111511307,
            8.756179714817343,
            8.947887902219755,
            9.09539966253767,
            9.190558309888269,
            9.242737705317577,
            9.261427354440865,
            9.252990880155355,
            9.22136088579548,
            9.168832257152227,
            null,
            null
           ],
           "y": [
            11.305479391940946,
            11.048646356451838,
            10.799524835153647,
            10.56193819645982,
            10.341792221218817,
            10.149057352967507,
            10.002280059884914,
            9.934331879275355,
            9.980493300805888,
            10.132190422156846,
            10.345670949578833,
            10.58879405256049,
            10.84559276103139,
            11.108086547343461,
            11.371677195725303,
            11.63329660492564,
            11.89015845237148,
            12.13925985290288,
            12.376830059593797,
            12.596983488424819,
            12.78971776404491,
            12.936496005054057,
            13.004442446588502,
            12.958294649520798,
            12.806585461580562,
            12.593106221226485,
            12.349982290886727,
            12.093192003207818,
            11.830680062432329,
            11.567068903888043,
            11.305479391940946,
            null,
            null
           ]
          }
         ],
         "name": "2025-09-02 12:19:57",
         "traces": [
          0,
          1,
          2,
          3,
          4,
          5,
          6,
          7
         ]
        },
        {
         "data": [
          {
           "type": "scatter",
           "x": [
            0,
            0
           ],
           "y": [
            0,
            0
           ]
          },
          {
           "hovertemplate": "GroundTruthState<br>(%{x}, %{y})<br>Time: %{meta}",
           "meta": [
            "2025-09-02 12:19:52",
            "2025-09-02 12:19:53",
            "2025-09-02 12:19:54",
            "2025-09-02 12:19:55",
            "2025-09-02 12:19:56",
            "2025-09-02 12:19:57",
            "2025-09-02 12:19:58"
           ],
           "type": "scatter",
           "x": {
            "bdata": "XldM4pE/CUB4sMMCKXIQQBvJqZ+SRhRAL+4XjVKJGED53wPRvVgdQLQ4jvDfaiFA7NV9RsZSI0AAAAAAAADwfw==",
            "dtype": "f8"
           },
           "y": {
            "bdata": "y4Dv5lipCUAL289Y57kSQHJUCk5GshlAXfDz/0aVIECTHamPlmskQIZIQ3BBRylAoQH+DownLkAAAAAAAADwfw==",
            "dtype": "f8"
           }
          },
          {
           "type": "scatter",
           "x": [
            null,
            null
           ],
           "y": [
            null,
            null
           ]
          },
          {
           "hovertemplate": "Detection<br>(%{x}, %{y})<br>Time: %{meta}",
           "meta": [
            "2025-09-02 12:19:52",
            "2025-09-02 12:19:53",
            "2025-09-02 12:19:54",
            "2025-09-02 12:19:55",
            "2025-09-02 12:19:56",
            "2025-09-02 12:19:57",
            "2025-09-02 12:19:58"
           ],
           "type": "scatter",
           "x": {
            "bdata": "IO8+CvoiEkCgDe0pXuQRQIAmtIgSVBdA6GEQLu+vEkConHlEqaUbQEAZch4I1SNArBxgdfhwKkAAAAAAAADwfw==",
            "dtype": "f8"
           },
           "y": {
            "bdata": "lvCEutQUE0AX16U5HbARQHXTRqi2QyJAdV+lk0QIIkBIoLPc4bQaQMbCPrhrMipAVz3j1gLpM0AAAAAAAADwfw==",
            "dtype": "f8"
           }
          },
          {
           "type": "scatter",
           "x": [
            null,
            null
           ],
           "y": [
            null,
            null
           ]
          },
          {
           "customdata": [
            "2025-09-02 12:19:52",
            "2025-09-02 12:19:53",
            "2025-09-02 12:19:54",
            "2025-09-02 12:19:55",
            "2025-09-02 12:19:56",
            "2025-09-02 12:19:57",
            "2025-09-02 12:19:58"
           ],
           "hovertemplate": "%{meta}<br>(%{x}, %{y})<br>Time: %{customdata}",
           "meta": [
            "GaussianStateUpdate",
            "GaussianStateUpdate",
            "GaussianStateUpdate",
            "GaussianStateUpdate",
            "GaussianStateUpdate",
            "GaussianStateUpdate",
            "GaussianStateUpdate"
           ],
           "type": "scatter",
           "x": {
            "bdata": "bFve2LPMEEC4vgH2M3wTQKoQU6HcBhdA8KfHOPPXFkAr++zzWJsaQAzmtYbe+SBAa9pH2glOJUAAAAAAAADwfw==",
            "dtype": "f8"
           },
           "y": {
            "bdata": "Fos5jcLrFEBETnzWTtoXQPce8ViDKiBA0L0hdxItI0B/M1sqqLgiQNHPrJ9T8CZAYb94I6wTL0AAAAAAAADwfw==",
            "dtype": "f8"
           }
          },
          {
           "type": "scatter",
           "x": [
            null
           ],
           "y": [
            null
           ]
          },
          {
           "type": "scatter",
           "x": [
            11.325458396579737,
            11.24489797170931,
            11.144862983150679,
            11.024953487117301,
            10.884160311852634,
            10.721118792393872,
            10.535978769743089,
            10.336843310709535,
            10.150551229450175,
            10.009293301487478,
            9.92030268524979,
            9.874687295975365,
            9.863100694618772,
            9.879113730597352,
            9.918674982293352,
            9.979379443064012,
            10.059948657658635,
            10.159978258520232,
            10.279875846227645,
            10.42067735965665,
            10.583718442731165,
            10.76885917664557,
            10.96797605050652,
            11.154271048491692,
            11.295544600753642,
            11.384534927295764,
            11.430150513429151,
            11.441737344785786,
            11.425723232303916,
            11.386157948615148,
            11.325458396579737,
            null,
            null
           ],
           "y": [
            15.348898215419569,
            15.100873297248157,
            14.861512971060254,
            14.634795155091034,
            14.42683102804188,
            14.247707874843123,
            14.115581283153084,
            14.060770373398775,
            14.113234859794913,
            14.263893131255172,
            14.473214315967262,
            14.71109372790056,
            14.96198364030073,
            15.217933283663127,
            15.474304652821733,
            15.727947160575482,
            15.975995855304308,
            16.21533964676647,
            16.44203593195997,
            16.65001413103685,
            16.82913694809342,
            16.961264147387396,
            17.016074616419772,
            16.963620487902944,
            16.812952142508532,
            16.60363184726537,
            16.365751920871833,
            16.11487836371697,
            15.85890413939301,
            15.602515853749278,
            15.348898215419569,
            null,
            null
           ]
          }
         ],
         "name": "2025-09-02 12:19:58",
         "traces": [
          0,
          1,
          2,
          3,
          4,
          5,
          6,
          7
         ]
        },
        {
         "data": [
          {
           "type": "scatter",
           "x": [
            0,
            0
           ],
           "y": [
            0,
            0
           ]
          },
          {
           "hovertemplate": "GroundTruthState<br>(%{x}, %{y})<br>Time: %{meta}",
           "meta": [
            "2025-09-02 12:19:53",
            "2025-09-02 12:19:54",
            "2025-09-02 12:19:55",
            "2025-09-02 12:19:56",
            "2025-09-02 12:19:57",
            "2025-09-02 12:19:58",
            "2025-09-02 12:19:59"
           ],
           "type": "scatter",
           "x": {
            "bdata": "eLDDAilyEEAbyamfkkYUQC/uF41SiRhA+d8D0b1YHUC0OI7w32ohQOzVfUbGUiNAEuEL0C+UJEAAAAAAAADwfw==",
            "dtype": "f8"
           },
           "y": {
            "bdata": "C9vPWOe5EkByVApORrIZQF3w8/9GlSBAkx2pj5ZrJECGSENwQUcpQKEB/g6MJy5AF/mO3cB2MUAAAAAAAADwfw==",
            "dtype": "f8"
           }
          },
          {
           "type": "scatter",
           "x": [
            null,
            null
           ],
           "y": [
            null,
            null
           ]
          },
          {
           "hovertemplate": "Detection<br>(%{x}, %{y})<br>Time: %{meta}",
           "meta": [
            "2025-09-02 12:19:53",
            "2025-09-02 12:19:54",
            "2025-09-02 12:19:55",
            "2025-09-02 12:19:56",
            "2025-09-02 12:19:57",
            "2025-09-02 12:19:58",
            "2025-09-02 12:19:59"
           ],
           "type": "scatter",
           "x": {
            "bdata": "oA3tKV7kEUCAJrSIElQXQOhhEC7vrxJAqJx5RKmlG0BAGXIeCNUjQKwcYHX4cCpAZFHT6SqzI0AAAAAAAADwfw==",
            "dtype": "f8"
           },
           "y": {
            "bdata": "F9elOR2wEUB100aotkMiQHVfpZNECCJASKCz3OG0GkDGwj64azIqQFc949YC6TNALuOafCB/MEAAAAAAAADwfw==",
            "dtype": "f8"
           }
          },
          {
           "type": "scatter",
           "x": [
            null,
            null
           ],
           "y": [
            null,
            null
           ]
          },
          {
           "customdata": [
            "2025-09-02 12:19:53",
            "2025-09-02 12:19:54",
            "2025-09-02 12:19:55",
            "2025-09-02 12:19:56",
            "2025-09-02 12:19:57",
            "2025-09-02 12:19:58",
            "2025-09-02 12:19:59"
           ],
           "hovertemplate": "%{meta}<br>(%{x}, %{y})<br>Time: %{customdata}",
           "meta": [
            "GaussianStateUpdate",
            "GaussianStateUpdate",
            "GaussianStateUpdate",
            "GaussianStateUpdate",
            "GaussianStateUpdate",
            "GaussianStateUpdate",
            "GaussianStateUpdate"
           ],
           "type": "scatter",
           "x": {
            "bdata": "uL4B9jN8E0CqEFOh3AYXQPCnxzjz1xZAK/vs81ibGkAM5rWG3vkgQGvaR9oJTiVAk8F5CCtFJkAAAAAAAADwfw==",
            "dtype": "f8"
           },
           "y": {
            "bdata": "RE581k7aF0D3HvFYgyogQNC9IXcSLSNAfzNbKqi4IkDRz6yfU/AmQGG/eCOsEy9Ao6e40S1fMUAAAAAAAADwfw==",
            "dtype": "f8"
           }
          },
          {
           "type": "scatter",
           "x": [
            null
           ],
           "y": [
            null
           ]
          },
          {
           "type": "scatter",
           "x": [
            11.79075538900116,
            11.691465095458753,
            11.573160857672493,
            11.435889194656305,
            11.279370889414956,
            11.103460976585174,
            10.910484394250524,
            10.711419537563781,
            10.533396233648856,
            10.40480846000732,
            10.330625227444678,
            10.30137785443637,
            10.307305790103136,
            10.341594405008237,
            10.399865936069705,
            10.47943249411425,
            10.578731553013263,
            10.697030357885122,
            10.834284280751476,
            10.990816855287632,
            11.166726503062423,
            11.359703578057143,
            11.558754168551905,
            11.73678023961775,
            11.865379468053735,
            11.939562547045021,
            11.968810020124982,
            11.962884154673505,
            11.928592255945649,
            11.870316370200896,
            11.79075538900116,
            null,
            null
           ],
           "y": [
            17.125922504558666,
            16.891150772753345,
            16.66696326367853,
            16.45751787873387,
            16.269159093367087,
            16.11207365991342,
            16.003772510327693,
            15.971253679548326,
            16.038015907004297,
            16.193398873436106,
            16.401884388922493,
            16.63590272400043,
            16.880757138847596,
            17.12878877615501,
            17.375473422055137,
            17.61766328718508,
            17.852453544292327,
            18.076628205262317,
            18.286048268473323,
            18.474426552785765,
            18.63151183471978,
            18.73981331526159,
            18.772333220103434,
            18.705578371796165,
            18.550186834160936,
            18.341701891964806,
            18.107683268446195,
            17.862852927150175,
            17.61479054704492,
            17.368092648707652,
            17.125922504558666,
            null,
            null
           ]
          }
         ],
         "name": "2025-09-02 12:19:59",
         "traces": [
          0,
          1,
          2,
          3,
          4,
          5,
          6,
          7
         ]
        },
        {
         "data": [
          {
           "type": "scatter",
           "x": [
            0,
            0
           ],
           "y": [
            0,
            0
           ]
          },
          {
           "hovertemplate": "GroundTruthState<br>(%{x}, %{y})<br>Time: %{meta}",
           "meta": [
            "2025-09-02 12:19:54",
            "2025-09-02 12:19:55",
            "2025-09-02 12:19:56",
            "2025-09-02 12:19:57",
            "2025-09-02 12:19:58",
            "2025-09-02 12:19:59",
            "2025-09-02 12:20:00"
           ],
           "type": "scatter",
           "x": {
            "bdata": "G8mpn5JGFEAv7heNUokYQPnfA9G9WB1AtDiO8N9qIUDs1X1GxlIjQBLhC9AvlCRAkjFQCCnRJUAAAAAAAADwfw==",
            "dtype": "f8"
           },
           "y": {
            "bdata": "clQKTkayGUBd8PP/RpUgQJMdqY+WayRAhkhDcEFHKUChAf4OjCcuQBf5jt3AdjFApjki6kjsM0AAAAAAAADwfw==",
            "dtype": "f8"
           }
          },
          {
           "type": "scatter",
           "x": [
            null,
            null
           ],
           "y": [
            null,
            null
           ]
          },
          {
           "hovertemplate": "Detection<br>(%{x}, %{y})<br>Time: %{meta}",
           "meta": [
            "2025-09-02 12:19:54",
            "2025-09-02 12:19:55",
            "2025-09-02 12:19:56",
            "2025-09-02 12:19:57",
            "2025-09-02 12:19:58",
            "2025-09-02 12:19:59",
            "2025-09-02 12:20:00"
           ],
           "type": "scatter",
           "x": {
            "bdata": "gCa0iBJUF0DoYRAu768SQKiceUSppRtAQBlyHgjVI0CsHGB1+HAqQGRR0+kqsyNAOHx1K1MaJ0AAAAAAAADwfw==",
            "dtype": "f8"
           },
           "y": {
            "bdata": "ddNGqLZDIkB1X6WTRAgiQEigs9zhtBpAxsI+uGsyKkBXPePWAukzQC7jmnwgfzBADFOedas5NEAAAAAAAADwfw==",
            "dtype": "f8"
           }
          },
          {
           "type": "scatter",
           "x": [
            null,
            null
           ],
           "y": [
            null,
            null
           ]
          },
          {
           "customdata": [
            "2025-09-02 12:19:54",
            "2025-09-02 12:19:55",
            "2025-09-02 12:19:56",
            "2025-09-02 12:19:57",
            "2025-09-02 12:19:58",
            "2025-09-02 12:19:59",
            "2025-09-02 12:20:00"
           ],
           "hovertemplate": "%{meta}<br>(%{x}, %{y})<br>Time: %{customdata}",
           "meta": [
            "GaussianStateUpdate",
            "GaussianStateUpdate",
            "GaussianStateUpdate",
            "GaussianStateUpdate",
            "GaussianStateUpdate",
            "GaussianStateUpdate",
            "GaussianStateUpdate"
           ],
           "type": "scatter",
           "x": {
            "bdata": "qhBTodwGF0Dwp8c489cWQCv77PNYmxpADOa1ht75IEBr2kfaCU4lQJPBeQgrRSZAnnEB4GS+J0AAAAAAAADwfw==",
            "dtype": "f8"
           },
           "y": {
            "bdata": "9x7xWIMqIEDQvSF3Ei0jQH8zWyqouCJA0c+sn1PwJkBhv3gjrBMvQKOnuNEtXzFATIwhSBy8M0AAAAAAAADwfw==",
            "dtype": "f8"
           }
          },
          {
           "type": "scatter",
           "x": [
            null
           ],
           "y": [
            null
           ]
          },
          {
           "type": "scatter",
           "x": [
            12.50930407726982,
            12.395132835036405,
            12.262641345395327,
            12.11218185441832,
            11.94395080699478,
            11.758566779412224,
            11.559646670779422,
            11.359961468570717,
            11.187612118860793,
            11.069602964507808,
            11.008786635806068,
            10.994317502359175,
            11.015680515333328,
            11.065630083136485,
            11.13951000611159,
            11.234422653413025,
            11.34860340690652,
            11.481088931774371,
            11.631528161866422,
            11.799775786138555,
            11.985159573444697,
            12.184080145730729,
            12.383752028068121,
            12.55610440621328,
            12.67412380346157,
            12.734940025195417,
            12.749409232146922,
            12.728050055186491,
            12.678095080403,
            12.604210192659545,
            12.50930407726982,
            null,
            null
           ],
           "y": [
            19.445836067149937,
            19.21960065219625,
            19.005261606233724,
            18.80699503193341,
            18.631176905859878,
            18.487965839361305,
            18.394517011394097,
            18.376455991651305,
            18.45459100850959,
            18.61666806072817,
            18.827863470346493,
            19.061673585669435,
            19.304098419336864,
            19.54789494677186,
            19.788789794378378,
            20.02377702372843,
            20.25002945820603,
            20.464356676082495,
            20.662598306832432,
            20.83843605940223,
            20.98164701308268,
            21.075096105116828,
            21.09315907194992,
            21.01503073552461,
            20.852944948706543,
            20.64175006183437,
            20.407939691447208,
            20.165540260068333,
            19.92171205537449,
            19.680804926350515,
            19.445836067149937,
            null,
            null
           ]
          }
         ],
         "name": "2025-09-02 12:20:00",
         "traces": [
          0,
          1,
          2,
          3,
          4,
          5,
          6,
          7
         ]
        },
        {
         "data": [
          {
           "type": "scatter",
           "x": [
            0,
            0
           ],
           "y": [
            0,
            0
           ]
          },
          {
           "hovertemplate": "GroundTruthState<br>(%{x}, %{y})<br>Time: %{meta}",
           "meta": [
            "2025-09-02 12:19:55",
            "2025-09-02 12:19:56",
            "2025-09-02 12:19:57",
            "2025-09-02 12:19:58",
            "2025-09-02 12:19:59",
            "2025-09-02 12:20:00",
            "2025-09-02 12:20:01"
           ],
           "type": "scatter",
           "x": {
            "bdata": "L+4XjVKJGED53wPRvVgdQLQ4jvDfaiFA7NV9RsZSI0AS4QvQL5QkQJIxUAgp0SVAo23mQHzfJkAAAAAAAADwfw==",
            "dtype": "f8"
           },
           "y": {
            "bdata": "XfDz/0aVIECTHamPlmskQIZIQ3BBRylAoQH+DownLkAX+Y7dwHYxQKY5IupI7DNAGzWtyWtvNkAAAAAAAADwfw==",
            "dtype": "f8"
           }
          },
          {
           "type": "scatter",
           "x": [
            null,
            null
           ],
           "y": [
            null,
            null
           ]
          },
          {
           "hovertemplate": "Detection<br>(%{x}, %{y})<br>Time: %{meta}",
           "meta": [
            "2025-09-02 12:19:55",
            "2025-09-02 12:19:56",
            "2025-09-02 12:19:57",
            "2025-09-02 12:19:58",
            "2025-09-02 12:19:59",
            "2025-09-02 12:20:00",
            "2025-09-02 12:20:01"
           ],
           "type": "scatter",
           "x": {
            "bdata": "6GEQLu+vEkConHlEqaUbQEAZch4I1SNArBxgdfhwKkBkUdPpKrMjQDh8dStTGidAOBkmw+L9KkAAAAAAAADwfw==",
            "dtype": "f8"
           },
           "y": {
            "bdata": "dV+lk0QIIkBIoLPc4bQaQMbCPrhrMipAVz3j1gLpM0Au45p8IH8wQAxTnnWrOTRABhnOgCVgOkAAAAAAAADwfw==",
            "dtype": "f8"
           }
          },
          {
           "type": "scatter",
           "x": [
            null,
            null
           ],
           "y": [
            null,
            null
           ]
          },
          {
           "customdata": [
            "2025-09-02 12:19:55",
            "2025-09-02 12:19:56",
            "2025-09-02 12:19:57",
            "2025-09-02 12:19:58",
            "2025-09-02 12:19:59",
            "2025-09-02 12:20:00",
            "2025-09-02 12:20:01"
           ],
           "hovertemplate": "%{meta}<br>(%{x}, %{y})<br>Time: %{customdata}",
           "meta": [
            "GaussianStateUpdate",
            "GaussianStateUpdate",
            "GaussianStateUpdate",
            "GaussianStateUpdate",
            "GaussianStateUpdate",
            "GaussianStateUpdate",
            "GaussianStateUpdate"
           ],
           "type": "scatter",
           "x": {
            "bdata": "8KfHOPPXFkAr++zzWJsaQAzmtYbe+SBAa9pH2glOJUCTwXkIK0UmQJ5xAeBkvidAENVVDittKUAAAAAAAADwfw==",
            "dtype": "f8"
           },
           "y": {
            "bdata": "0L0hdxItI0B/M1sqqLgiQNHPrJ9T8CZAYb94I6wTL0Cjp7jRLV8xQEyMIUgcvDNArsR2dqaQN0AAAAAAAADwfw==",
            "dtype": "f8"
           }
          },
          {
           "type": "scatter",
           "x": [
            null
           ],
           "y": [
            null
           ]
          },
          {
           "type": "scatter",
           "x": [
            13.331371688020752,
            13.203203659284254,
            13.057515562530762,
            12.894905943450425,
            12.71594540437767,
            12.521848938901874,
            12.317242810694703,
            12.116464178549636,
            11.949060669267164,
            11.841440287613304,
            11.794168755974681,
            11.794606678677546,
            11.831317628091124,
            11.896600612863983,
            11.985541530741221,
            12.095066544358346,
            12.223245315451555,
            12.368926595249564,
            12.531514805431195,
            12.710492678873486,
            12.904588884497494,
            13.109195511024138,
            13.309960659684098,
            13.477367700268486,
            13.584997977536112,
            13.632269433196834,
            13.631831569780559,
            13.595125925142668,
            13.52983564032742,
            13.440888893031303,
            13.331371688020752,
            null,
            null
           ],
           "y": [
            23.2372057771423,
            23.01806605890515,
            22.811902757295325,
            22.622849206844556,
            22.4572450690065,
            22.325194522095128,
            22.243653227185852,
            22.237616207791895,
            22.326402119297057,
            22.495992738117128,
            22.71111664843576,
            22.945872829637175,
            23.186945700122074,
            23.4275812837845,
            23.663824902480176,
            23.892874262828407,
            24.11203069263324,
            24.318182333334175,
            24.50721255878858,
            24.67283485049097,
            24.804885292939794,
            24.88642683373726,
            24.89246667004632,
            24.803687417038276,
            24.634087216140692,
            24.418963856286105,
            24.18420740136863,
            23.943159064585302,
            23.70249267336243,
            23.466236870022577,
            23.2372057771423,
            null,
            null
           ]
          }
         ],
         "name": "2025-09-02 12:20:01",
         "traces": [
          0,
          1,
          2,
          3,
          4,
          5,
          6,
          7
         ]
        },
        {
         "data": [
          {
           "type": "scatter",
           "x": [
            0,
            0
           ],
           "y": [
            0,
            0
           ]
          },
          {
           "hovertemplate": "GroundTruthState<br>(%{x}, %{y})<br>Time: %{meta}",
           "meta": [
            "2025-09-02 12:19:56",
            "2025-09-02 12:19:57",
            "2025-09-02 12:19:58",
            "2025-09-02 12:19:59",
            "2025-09-02 12:20:00",
            "2025-09-02 12:20:01",
            "2025-09-02 12:20:02"
           ],
           "type": "scatter",
           "x": {
            "bdata": "+d8D0b1YHUC0OI7w32ohQOzVfUbGUiNAEuEL0C+UJECSMVAIKdElQKNt5kB83yZAVIZqP+IqKEAAAAAAAADwfw==",
            "dtype": "f8"
           },
           "y": {
            "bdata": "kx2pj5ZrJECGSENwQUcpQKEB/g6MJy5AF/mO3cB2MUCmOSLqSOwzQBs1rclrbzZAekRRw+s5OUAAAAAAAADwfw==",
            "dtype": "f8"
           }
          },
          {
           "type": "scatter",
           "x": [
            null,
            null
           ],
           "y": [
            null,
            null
           ]
          },
          {
           "hovertemplate": "Detection<br>(%{x}, %{y})<br>Time: %{meta}",
           "meta": [
            "2025-09-02 12:19:56",
            "2025-09-02 12:19:57",
            "2025-09-02 12:19:58",
            "2025-09-02 12:19:59",
            "2025-09-02 12:20:00",
            "2025-09-02 12:20:01",
            "2025-09-02 12:20:02"
           ],
           "type": "scatter",
           "x": {
            "bdata": "qJx5RKmlG0BAGXIeCNUjQKwcYHX4cCpAZFHT6SqzI0A4fHUrUxonQDgZJsPi/SpA7JPYWtFrIkAAAAAAAADwfw==",
            "dtype": "f8"
           },
           "y": {
            "bdata": "SKCz3OG0GkDGwj64azIqQFc949YC6TNALuOafCB/MEAMU551qzk0QAYZzoAlYDpAl0f29RftNEAAAAAAAADwfw==",
            "dtype": "f8"
           }
          },
          {
           "type": "scatter",
           "x": [
            null,
            null
           ],
           "y": [
            null,
            null
           ]
          },
          {
           "customdata": [
            "2025-09-02 12:19:56",
            "2025-09-02 12:19:57",
            "2025-09-02 12:19:58",
            "2025-09-02 12:19:59",
            "2025-09-02 12:20:00",
            "2025-09-02 12:20:01",
            "2025-09-02 12:20:02"
           ],
           "hovertemplate": "%{meta}<br>(%{x}, %{y})<br>Time: %{customdata}",
           "meta": [
            "GaussianStateUpdate",
            "GaussianStateUpdate",
            "GaussianStateUpdate",
            "GaussianStateUpdate",
            "GaussianStateUpdate",
            "GaussianStateUpdate",
            "GaussianStateUpdate"
           ],
           "type": "scatter",
           "x": {
            "bdata": "K/vs81ibGkAM5rWG3vkgQGvaR9oJTiVAk8F5CCtFJkCecQHgZL4nQBDVVQ4rbSlAOM4szSAhKEAAAAAAAADwfw==",
            "dtype": "f8"
           },
           "y": {
            "bdata": "fzNbKqi4IkDRz6yfU/AmQGG/eCOsEy9Ao6e40S1fMUBMjCFIHLwzQK7EdnamkDdASf5l2JysOEAAAAAAAADwfw==",
            "dtype": "f8"
           }
          },
          {
           "type": "scatter",
           "x": [
            null
           ],
           "y": [
            null
           ]
          },
          {
           "type": "scatter",
           "x": [
            12.65639291410479,
            12.51061720454774,
            12.348439932038511,
            12.170724375256192,
            11.97843947643565,
            11.773444570852885,
            11.561483892116597,
            11.358864880662797,
            11.19755781889322,
            11.10373084186747,
            11.074606079624033,
            11.09481809733052,
            11.151624087601338,
            11.236741352736882,
            11.34495811774382,
            11.473013846529492,
            11.618802495969154,
            11.780971435635582,
            11.958665447374129,
            12.15096710741531,
            12.355961683296016,
            12.567922968121568,
            12.7705274088059,
            12.931838981159157,
            13.025675946629441,
            13.054800676372839,
            13.034588699009925,
            12.977789261891484,
            12.892662770755228,
            12.784438690261618,
            12.65639291410479,
            null,
            null
           ],
           "y": [
            24.299781633308722,
            24.0890731547016,
            23.892529627854856,
            23.714184487455526,
            23.560282745431643,
            23.440844658937447,
            23.372696868018643,
            23.380574037191856,
            23.48267199309571,
            23.662413591422112,
            23.883147571845335,
            24.119536404817023,
            24.35920999381853,
            24.596127536852194,
            24.826805932003207,
            25.048754905579653,
            25.259480523958214,
            25.45601201055891,
            25.634336740233525,
            25.788253670234475,
            25.90769164523814,
            25.975839687207923,
            25.96796666988869,
            25.865875840714867,
            25.686122850453152,
            25.465389525250917,
            25.22900034658285,
            24.98934840635403,
            24.752402655741495,
            24.52171157644886,
            24.299781633308722,
            null,
            null
           ]
          }
         ],
         "name": "2025-09-02 12:20:02",
         "traces": [
          0,
          1,
          2,
          3,
          4,
          5,
          6,
          7
         ]
        },
        {
         "data": [
          {
           "type": "scatter",
           "x": [
            0,
            0
           ],
           "y": [
            0,
            0
           ]
          },
          {
           "hovertemplate": "GroundTruthState<br>(%{x}, %{y})<br>Time: %{meta}",
           "meta": [
            "2025-09-02 12:19:57",
            "2025-09-02 12:19:58",
            "2025-09-02 12:19:59",
            "2025-09-02 12:20:00",
            "2025-09-02 12:20:01",
            "2025-09-02 12:20:02",
            "2025-09-02 12:20:03"
           ],
           "type": "scatter",
           "x": {
            "bdata": "tDiO8N9qIUDs1X1GxlIjQBLhC9AvlCRAkjFQCCnRJUCjbeZAfN8mQFSGaj/iKihAX8G7Muq2KUAAAAAAAADwfw==",
            "dtype": "f8"
           },
           "y": {
            "bdata": "hkhDcEFHKUChAf4OjCcuQBf5jt3AdjFApjki6kjsM0AbNa3Ja282QHpEUcPrOTlAyrd/nSxRPEAAAAAAAADwfw==",
            "dtype": "f8"
           }
          },
          {
           "type": "scatter",
           "x": [
            null,
            null
           ],
           "y": [
            null,
            null
           ]
          },
          {
           "hovertemplate": "Detection<br>(%{x}, %{y})<br>Time: %{meta}",
           "meta": [
            "2025-09-02 12:19:57",
            "2025-09-02 12:19:58",
            "2025-09-02 12:19:59",
            "2025-09-02 12:20:00",
            "2025-09-02 12:20:01",
            "2025-09-02 12:20:02",
            "2025-09-02 12:20:03"
           ],
           "type": "scatter",
           "x": {
            "bdata": "QBlyHgjVI0CsHGB1+HAqQGRR0+kqsyNAOHx1K1MaJ0A4GSbD4v0qQOyT2FrRayJApGFoAQCnLUAAAAAAAADwfw==",
            "dtype": "f8"
           },
           "y": {
            "bdata": "xsI+uGsyKkBXPePWAukzQC7jmnwgfzBADFOedas5NEAGGc6AJWA6QJdH9vUX7TRAQVTHG1L7PUAAAAAAAADwfw==",
            "dtype": "f8"
           }
          },
          {
           "type": "scatter",
           "x": [
            null,
            null
           ],
           "y": [
            null,
            null
           ]
          },
          {
           "customdata": [
            "2025-09-02 12:19:57",
            "2025-09-02 12:19:58",
            "2025-09-02 12:19:59",
            "2025-09-02 12:20:00",
            "2025-09-02 12:20:01",
            "2025-09-02 12:20:02",
            "2025-09-02 12:20:03"
           ],
           "hovertemplate": "%{meta}<br>(%{x}, %{y})<br>Time: %{customdata}",
           "meta": [
            "GaussianStateUpdate",
            "GaussianStateUpdate",
            "GaussianStateUpdate",
            "GaussianStateUpdate",
            "GaussianStateUpdate",
            "GaussianStateUpdate",
            "GaussianStateUpdate"
           ],
           "type": "scatter",
           "x": {
            "bdata": "DOa1ht75IEBr2kfaCU4lQJPBeQgrRSZAnnEB4GS+J0AQ1VUOK20pQDjOLM0gIShAApCBo/VUKkAAAAAAAADwfw==",
            "dtype": "f8"
           },
           "y": {
            "bdata": "0c+sn1PwJkBhv3gjrBMvQKOnuNEtXzFATIwhSBy8M0CuxHZ2ppA3QEn+ZdicrDhAEKV+Q5TlO0AAAAAAAADwfw==",
            "dtype": "f8"
           }
          },
          {
           "type": "scatter",
           "x": [
            null
           ],
           "y": [
            null
           ]
          },
          {
           "type": "scatter",
           "x": [
            13.742848927668977,
            13.586989820165059,
            13.415444414049132,
            13.229122466585467,
            13.02904937199216,
            12.817200045943343,
            12.599589614447986,
            12.393629533665788,
            12.23416369153652,
            12.148588429773385,
            12.131209814903952,
            12.164085253196435,
            12.23341588520589,
            12.330564685602509,
            12.450199964456845,
            12.589024221374562,
            12.744899078303323,
            12.916434217058752,
            13.10273757320014,
            13.302823552471105,
            13.51467237654856,
            13.732283651801165,
            13.938226299494662,
            14.09769810692755,
            14.183284745588963,
            14.200663369594276,
            14.16778795339436,
            14.098462981232856,
            14.001305123784581,
            13.881660723830736,
            13.742848927668977,
            null,
            null
           ],
           "y": [
            27.500765347388796,
            27.291986247849284,
            27.097705548059054,
            26.92183044285155,
            26.77048501477684,
            26.65366354209772,
            26.588475637241995,
            26.600866725904563,
            26.710340309130693,
            26.898070573291026,
            27.124570368977484,
            27.36425004408606,
            27.605365035787493,
            27.842424461744336,
            28.07231869825096,
            28.292821800169673,
            28.50162031846415,
            28.695887289660163,
            28.871745529000677,
            29.023101984618503,
            29.139923287641878,
            29.205111527253937,
            29.192725915903285,
            29.083261022606607,
            28.895516458805965,
            28.669017570811434,
            28.4293373662973,
            28.18823836170776,
            27.951155524972446,
            27.72124677300736,
            27.500765347388796,
            null,
            null
           ]
          }
         ],
         "name": "2025-09-02 12:20:03",
         "traces": [
          0,
          1,
          2,
          3,
          4,
          5,
          6,
          7
         ]
        },
        {
         "data": [
          {
           "type": "scatter",
           "x": [
            0,
            0
           ],
           "y": [
            0,
            0
           ]
          },
          {
           "hovertemplate": "GroundTruthState<br>(%{x}, %{y})<br>Time: %{meta}",
           "meta": [
            "2025-09-02 12:19:58",
            "2025-09-02 12:19:59",
            "2025-09-02 12:20:00",
            "2025-09-02 12:20:01",
            "2025-09-02 12:20:02",
            "2025-09-02 12:20:03",
            "2025-09-02 12:20:04"
           ],
           "type": "scatter",
           "x": {
            "bdata": "7NV9RsZSI0AS4QvQL5QkQJIxUAgp0SVAo23mQHzfJkBUhmo/4iooQF/BuzLqtilAFQmPCflTK0AAAAAAAADwfw==",
            "dtype": "f8"
           },
           "y": {
            "bdata": "oQH+DownLkAX+Y7dwHYxQKY5IupI7DNAGzWtyWtvNkB6RFHD6zk5QMq3f50sUTxAb1YXWVKnP0AAAAAAAADwfw==",
            "dtype": "f8"
           }
          },
          {
           "type": "scatter",
           "x": [
            null,
            null
           ],
           "y": [
            null,
            null
           ]
          },
          {
           "hovertemplate": "Detection<br>(%{x}, %{y})<br>Time: %{meta}",
           "meta": [
            "2025-09-02 12:19:58",
            "2025-09-02 12:19:59",
            "2025-09-02 12:20:00",
            "2025-09-02 12:20:01",
            "2025-09-02 12:20:02",
            "2025-09-02 12:20:03",
            "2025-09-02 12:20:04"
           ],
           "type": "scatter",
           "x": {
            "bdata": "rBxgdfhwKkBkUdPpKrMjQDh8dStTGidAOBkmw+L9KkDsk9ha0WsiQKRhaAEApy1AYN8JMl9jJ0AAAAAAAADwfw==",
            "dtype": "f8"
           },
           "y": {
            "bdata": "Vz3j1gLpM0Au45p8IH8wQAxTnnWrOTRABhnOgCVgOkCXR/b1F+00QEFUxxtS+z1Aoz79sPw6O0AAAAAAAADwfw==",
            "dtype": "f8"
           }
          },
          {
           "type": "scatter",
           "x": [
            null,
            null
           ],
           "y": [
            null,
            null
           ]
          },
          {
           "customdata": [
            "2025-09-02 12:19:58",
            "2025-09-02 12:19:59",
            "2025-09-02 12:20:00",
            "2025-09-02 12:20:01",
            "2025-09-02 12:20:02",
            "2025-09-02 12:20:03",
            "2025-09-02 12:20:04"
           ],
           "hovertemplate": "%{meta}<br>(%{x}, %{y})<br>Time: %{customdata}",
           "meta": [
            "GaussianStateUpdate",
            "GaussianStateUpdate",
            "GaussianStateUpdate",
            "GaussianStateUpdate",
            "GaussianStateUpdate",
            "GaussianStateUpdate",
            "GaussianStateUpdate"
           ],
           "type": "scatter",
           "x": {
            "bdata": "a9pH2glOJUCTwXkIK0UmQJ5xAeBkvidAENVVDittKUA4zizNICEoQAKQgaP1VCpAIfBOlXJFKkAAAAAAAADwfw==",
            "dtype": "f8"
           },
           "y": {
            "bdata": "Yb94I6wTL0Cjp7jRLV8xQEyMIUgcvDNArsR2dqaQN0BJ/mXYnKw4QBClfkOU5TtALhv9OjZRPUAAAAAAAADwfw==",
            "dtype": "f8"
           }
          },
          {
           "type": "scatter",
           "x": [
            null
           ],
           "y": [
            null
           ]
          },
          {
           "type": "scatter",
           "x": [
            13.690299413854001,
            13.521072747120304,
            13.337086445902795,
            13.139380977871278,
            12.92917574062134,
            12.70879011190416,
            12.484893101098384,
            12.276496065253705,
            12.121458430559949,
            12.047659854587145,
            12.045742831472324,
            12.094994971362743,
            12.180532952497956,
            12.293343970436299,
            12.427948540640545,
            12.58098023757038,
            12.750225737973263,
            12.93419962151637,
            13.13188897409714,
            13.342103638778545,
            13.562488572322804,
            13.786386679111175,
            13.994763868080696,
            14.149809154030823,
            14.223619816816264,
            14.225536935543554,
            14.1762847673804,
            14.09075146407102,
            13.977931501682052,
            13.843315743731706,
            13.690299413854001,
            null,
            null
           ],
           "y": [
            28.890168270698698,
            28.687149242125017,
            28.499260592214554,
            28.33028932462886,
            28.186237408535437,
            28.07702166580597,
            28.019805191404593,
            28.04105111830446,
            28.16043174636958,
            28.35645701073632,
            28.587542398995343,
            28.828523264568453,
            29.068578520231984,
            29.302889162859657,
            29.528775333599445,
            29.74429921052059,
            29.94733911394286,
            30.135212908351292,
            30.304170663109915,
            30.448229910439803,
            30.557445440117814,
            30.614662303200532,
            30.59342363085919,
            30.474052940012136,
            30.278010342554705,
            30.046926113221616,
            29.805944521110835,
            29.56590025368819,
            29.331570576853114,
            29.105668603616206,
            28.890168270698698,
            null,
            null
           ]
          }
         ],
         "name": "2025-09-02 12:20:04",
         "traces": [
          0,
          1,
          2,
          3,
          4,
          5,
          6,
          7
         ]
        },
        {
         "data": [
          {
           "type": "scatter",
           "x": [
            0,
            0
           ],
           "y": [
            0,
            0
           ]
          },
          {
           "hovertemplate": "GroundTruthState<br>(%{x}, %{y})<br>Time: %{meta}",
           "meta": [
            "2025-09-02 12:19:59",
            "2025-09-02 12:20:00",
            "2025-09-02 12:20:01",
            "2025-09-02 12:20:02",
            "2025-09-02 12:20:03",
            "2025-09-02 12:20:04",
            "2025-09-02 12:20:05"
           ],
           "type": "scatter",
           "x": {
            "bdata": "EuEL0C+UJECSMVAIKdElQKNt5kB83yZAVIZqP+IqKEBfwbsy6rYpQBUJjwn5UytAmLZG/WZSLUAAAAAAAADwfw==",
            "dtype": "f8"
           },
           "y": {
            "bdata": "F/mO3cB2MUCmOSLqSOwzQBs1rclrbzZAekRRw+s5OUDKt3+dLFE8QG9WF1lSpz9ANPmhmdt6QUAAAAAAAADwfw==",
            "dtype": "f8"
           }
          },
          {
           "type": "scatter",
           "x": [
            null,
            null
           ],
           "y": [
            null,
            null
           ]
          },
          {
           "hovertemplate": "Detection<br>(%{x}, %{y})<br>Time: %{meta}",
           "meta": [
            "2025-09-02 12:19:59",
            "2025-09-02 12:20:00",
            "2025-09-02 12:20:01",
            "2025-09-02 12:20:02",
            "2025-09-02 12:20:03",
            "2025-09-02 12:20:04",
            "2025-09-02 12:20:05"
           ],
           "type": "scatter",
           "x": {
            "bdata": "ZFHT6SqzI0A4fHUrUxonQDgZJsPi/SpA7JPYWtFrIkCkYWgBAKctQGDfCTJfYydAthuNabgIMEAAAAAAAADwfw==",
            "dtype": "f8"
           },
           "y": {
            "bdata": "LuOafCB/MEAMU551qzk0QAYZzoAlYDpAl0f29RftNEBBVMcbUvs9QKM+/bD8OjtA6ZYiKdkJQkAAAAAAAADwfw==",
            "dtype": "f8"
           }
          },
          {
           "type": "scatter",
           "x": [
            null,
            null
           ],
           "y": [
            null,
            null
           ]
          },
          {
           "customdata": [
            "2025-09-02 12:19:59",
            "2025-09-02 12:20:00",
            "2025-09-02 12:20:01",
            "2025-09-02 12:20:02",
            "2025-09-02 12:20:03",
            "2025-09-02 12:20:04",
            "2025-09-02 12:20:05"
           ],
           "hovertemplate": "%{meta}<br>(%{x}, %{y})<br>Time: %{customdata}",
           "meta": [
            "GaussianStateUpdate",
            "GaussianStateUpdate",
            "GaussianStateUpdate",
            "GaussianStateUpdate",
            "GaussianStateUpdate",
            "GaussianStateUpdate",
            "GaussianStateUpdate"
           ],
           "type": "scatter",
           "x": {
            "bdata": "k8F5CCtFJkCecQHgZL4nQBDVVQ4rbSlAOM4szSAhKEACkIGj9VQqQCHwTpVyRSpAKrdZ4vYwLEAAAAAAAADwfw==",
            "dtype": "f8"
           },
           "y": {
            "bdata": "o6e40S1fMUBMjCFIHLwzQK7EdnamkDdASf5l2JysOEAQpX5DlOU7QC4b/To2UT1AqjS1fryXQEAAAAAAAADwfw==",
            "dtype": "f8"
           }
          },
          {
           "type": "scatter",
           "x": [
            null
           ],
           "y": [
            null
           ]
          },
          {
           "type": "scatter",
           "x": [
            14.634826677530095,
            14.456228277123271,
            14.263529659915918,
            14.057817311960648,
            13.840372322680444,
            13.613650608959531,
            13.384620929805752,
            13.17343119995031,
            13.020888055764026,
            12.955787302079244,
            12.96546547824669,
            13.026814678674777,
            13.124130780813564,
            13.248172792705772,
            13.393400459619293,
            13.556440476117514,
            13.73506086951764,
            13.927744854312564,
            14.133444643937406,
            14.350894507505963,
            14.577615261783004,
            14.806646358455307,
            15.017813267989476,
            15.170365981957994,
            15.235479865639867,
            15.225801892263856,
            15.16445259305909,
            15.067139117027324,
            14.943089364045798,
            14.797848401900545,
            14.634826677530095,
            null,
            null
           ],
           "y": [
            32.739430607987494,
            32.53937590414594,
            32.35473159826446,
            32.189177090303104,
            32.04860208334897,
            31.94286984523213,
            31.88930125228689,
            31.9152799640998,
            32.04147021803051,
            32.24402337377114,
            32.479036610432374,
            32.721560469491685,
            32.96151122539502,
            33.19460106824909,
            33.41848392355112,
            33.63144921088945,
            33.831526734995535,
            34.01615471266654,
            34.18169894272092,
            34.32227755356938,
            34.428009507993025,
            34.48157857795877,
            34.45560887737135,
            34.329430192617636,
            34.126856310747996,
            33.89184455590422,
            33.64931970122572,
            33.409374408865496,
            33.17627030338294,
            32.95237001378241,
            32.739430607987494,
            null,
            null
           ]
          }
         ],
         "name": "2025-09-02 12:20:05",
         "traces": [
          0,
          1,
          2,
          3,
          4,
          5,
          6,
          7
         ]
        },
        {
         "data": [
          {
           "type": "scatter",
           "x": [
            0,
            0
           ],
           "y": [
            0,
            0
           ]
          },
          {
           "hovertemplate": "GroundTruthState<br>(%{x}, %{y})<br>Time: %{meta}",
           "meta": [
            "2025-09-02 12:20:00",
            "2025-09-02 12:20:01",
            "2025-09-02 12:20:02",
            "2025-09-02 12:20:03",
            "2025-09-02 12:20:04",
            "2025-09-02 12:20:05",
            "2025-09-02 12:20:06"
           ],
           "type": "scatter",
           "x": {
            "bdata": "kjFQCCnRJUCjbeZAfN8mQFSGaj/iKihAX8G7Muq2KUAVCY8J+VMrQJi2Rv1mUi1AnzddlQKHL0AAAAAAAADwfw==",
            "dtype": "f8"
           },
           "y": {
            "bdata": "pjki6kjsM0AbNa3Ja282QHpEUcPrOTlAyrd/nSxRPEBvVhdZUqc/QDT5oZnbekFAb2buENQpQ0AAAAAAAADwfw==",
            "dtype": "f8"
           }
          },
          {
           "type": "scatter",
           "x": [
            null,
            null
           ],
           "y": [
            null,
            null
           ]
          },
          {
           "hovertemplate": "Detection<br>(%{x}, %{y})<br>Time: %{meta}",
           "meta": [
            "2025-09-02 12:20:00",
            "2025-09-02 12:20:01",
            "2025-09-02 12:20:02",
            "2025-09-02 12:20:03",
            "2025-09-02 12:20:04",
            "2025-09-02 12:20:05",
            "2025-09-02 12:20:06"
           ],
           "type": "scatter",
           "x": {
            "bdata": "OHx1K1MaJ0A4GSbD4v0qQOyT2FrRayJApGFoAQCnLUBg3wkyX2MnQLYbjWm4CDBAEgfx2f04M0AAAAAAAADwfw==",
            "dtype": "f8"
           },
           "y": {
            "bdata": "DFOedas5NEAGGc6AJWA6QJdH9vUX7TRAQVTHG1L7PUCjPv2w/Do7QOmWIinZCUJATEc6lszOQ0AAAAAAAADwfw==",
            "dtype": "f8"
           }
          },
          {
           "type": "scatter",
           "x": [
            null,
            null
           ],
           "y": [
            null,
            null
           ]
          },
          {
           "customdata": [
            "2025-09-02 12:20:00",
            "2025-09-02 12:20:01",
            "2025-09-02 12:20:02",
            "2025-09-02 12:20:03",
            "2025-09-02 12:20:04",
            "2025-09-02 12:20:05",
            "2025-09-02 12:20:06"
           ],
           "hovertemplate": "%{meta}<br>(%{x}, %{y})<br>Time: %{customdata}",
           "meta": [
            "GaussianStateUpdate",
            "GaussianStateUpdate",
            "GaussianStateUpdate",
            "GaussianStateUpdate",
            "GaussianStateUpdate",
            "GaussianStateUpdate",
            "GaussianStateUpdate"
           ],
           "type": "scatter",
           "x": {
            "bdata": "nnEB4GS+J0AQ1VUOK20pQDjOLM0gIShAApCBo/VUKkAh8E6VckUqQCq3WeL2MCxAD2b+v1O/L0AAAAAAAADwfw==",
            "dtype": "f8"
           },
           "y": {
            "bdata": "TIwhSBy8M0CuxHZ2ppA3QEn+ZdicrDhAEKV+Q5TlO0AuG/06NlE9QKo0tX68l0BAcR7Ja+WAQkAAAAAAAADwfw==",
            "dtype": "f8"
           }
          },
          {
           "type": "scatter",
           "x": [
            null
           ],
           "y": [
            null
           ]
          },
          {
           "type": "scatter",
           "x": [
            16.38706367365589,
            16.19458573780824,
            15.989001476567596,
            15.771514375397842,
            15.543581812548195,
            15.307999805636772,
            15.07240201255989,
            14.858745948768762,
            14.711646635998916,
            14.660271698261639,
            14.687239964310747,
            14.766374273843436,
            14.880983863445582,
            15.021554029813208,
            15.182461276049146,
            15.360307999555252,
            15.552812144830344,
            15.758378789757382,
            15.975857538183284,
            16.203789475138674,
            16.439370150177293,
            16.674969790092646,
            16.888633067045046,
            17.035728903642415,
            17.087099979030306,
            17.06013211834046,
            16.980997563430346,
            16.866387670965704,
            16.725811496286486,
            16.564888058117383,
            16.38706367365589,
            null,
            null
           ],
           "y": [
            36.53114726987565,
            36.33818716311329,
            36.16118097268187,
            36.00367638077634,
            35.871419321687526,
            35.774158678192165,
            35.72921386608809,
            35.764500745178445,
            35.900844811819816,
            36.111220690257475,
            36.34954817135236,
            36.591819879828414,
            36.829115995713394,
            37.057901119423256,
            37.27628489379656,
            37.48285547900014,
            37.67583998041182,
            37.852828593871,
            38.01032652556111,
            38.142583233363126,
            38.239843529586636,
            38.284788888529285,
            38.249498683969335,
            38.11315086704002,
            37.90278192911395,
            37.664456330976485,
            37.42218326814711,
            37.18488650155457,
            36.95609254455591,
            36.737689872940514,
            36.53114726987565,
            null,
            null
           ]
          }
         ],
         "name": "2025-09-02 12:20:06",
         "traces": [
          0,
          1,
          2,
          3,
          4,
          5,
          6,
          7
         ]
        },
        {
         "data": [
          {
           "type": "scatter",
           "x": [
            0,
            0
           ],
           "y": [
            0,
            0
           ]
          },
          {
           "hovertemplate": "GroundTruthState<br>(%{x}, %{y})<br>Time: %{meta}",
           "meta": [
            "2025-09-02 12:20:01",
            "2025-09-02 12:20:02",
            "2025-09-02 12:20:03",
            "2025-09-02 12:20:04",
            "2025-09-02 12:20:05",
            "2025-09-02 12:20:06",
            "2025-09-02 12:20:07"
           ],
           "type": "scatter",
           "x": {
            "bdata": "o23mQHzfJkBUhmo/4iooQF/BuzLqtilAFQmPCflTK0CYtkb9ZlItQJ83XZUChy9A39BYSYr+MEAAAAAAAADwfw==",
            "dtype": "f8"
           },
           "y": {
            "bdata": "GzWtyWtvNkB6RFHD6zk5QMq3f50sUTxAb1YXWVKnP0A0+aGZ23pBQG9m7hDUKUNAetV6v0bTREAAAAAAAADwfw==",
            "dtype": "f8"
           }
          },
          {
           "type": "scatter",
           "x": [
            null,
            null
           ],
           "y": [
            null,
            null
           ]
          },
          {
           "hovertemplate": "Detection<br>(%{x}, %{y})<br>Time: %{meta}",
           "meta": [
            "2025-09-02 12:20:01",
            "2025-09-02 12:20:02",
            "2025-09-02 12:20:03",
            "2025-09-02 12:20:04",
            "2025-09-02 12:20:05",
            "2025-09-02 12:20:06",
            "2025-09-02 12:20:07"
           ],
           "type": "scatter",
           "x": {
            "bdata": "OBkmw+L9KkDsk9ha0WsiQKRhaAEApy1AYN8JMl9jJ0C2G41puAgwQBIH8dn9ODNAOvk16lbOMUAAAAAAAADwfw==",
            "dtype": "f8"
           },
           "y": {
            "bdata": "BhnOgCVgOkCXR/b1F+00QEFUxxtS+z1Aoz79sPw6O0DpliIp2QlCQExHOpbMzkNAwCU76iBZRUAAAAAAAADwfw==",
            "dtype": "f8"
           }
          },
          {
           "type": "scatter",
           "x": [
            null,
            null
           ],
           "y": [
            null,
            null
           ]
          },
          {
           "customdata": [
            "2025-09-02 12:20:01",
            "2025-09-02 12:20:02",
            "2025-09-02 12:20:03",
            "2025-09-02 12:20:04",
            "2025-09-02 12:20:05",
            "2025-09-02 12:20:06",
            "2025-09-02 12:20:07"
           ],
           "hovertemplate": "%{meta}<br>(%{x}, %{y})<br>Time: %{customdata}",
           "meta": [
            "GaussianStateUpdate",
            "GaussianStateUpdate",
            "GaussianStateUpdate",
            "GaussianStateUpdate",
            "GaussianStateUpdate",
            "GaussianStateUpdate",
            "GaussianStateUpdate"
           ],
           "type": "scatter",
           "x": {
            "bdata": "ENVVDittKUA4zizNICEoQAKQgaP1VCpAIfBOlXJFKkAqt1ni9jAsQA9m/r9Tvy9AI3bmXobhMEAAAAAAAADwfw==",
            "dtype": "f8"
           },
           "y": {
            "bdata": "rsR2dqaQN0BJ/mXYnKw4QBClfkOU5TtALhv9OjZRPUCqNLV+vJdAQHEeyWvlgEJAgfIx7zuGREAAAAAAAADwfw==",
            "dtype": "f8"
           }
          },
          {
           "type": "scatter",
           "x": [
            null
           ],
           "y": [
            null
           ]
          },
          {
           "type": "scatter",
           "x": [
            16.40273589256994,
            16.611418384541103,
            16.83195751562448,
            17.0629819926462,
            17.302747982085197,
            17.547964572870377,
            17.79002542543371,
            18.00469309517816,
            18.14330474404651,
            18.177110417253463,
            18.129167463249765,
            18.028842454098683,
            17.89377321421618,
            17.73371954511822,
            17.554379397160936,
            17.359177275889014,
            17.150463868496942,
            16.9299457152626,
            16.6989302263412,
            16.459165633482364,
            16.21395080683927,
            15.971887633699609,
            15.757216397685662,
            15.61860673145044,
            15.584802757194263,
            15.632745003738874,
            15.733070494167396,
            15.868140553377637,
            16.0282011169541,
            16.20756078377525,
            16.40273589256994,
            null,
            null
           ],
           "y": [
            41.5604099092589,
            41.74189824310117,
            41.906731859656496,
            42.051511993313284,
            42.17065231256746,
            42.254599297538995,
            42.286256764304284,
            42.23783605071948,
            42.08952075691536,
            41.87206807278485,
            41.63269747497009,
            41.393715803910695,
            41.1625500561009,
            40.94184563475273,
            40.73296885855004,
            40.536998193517285,
            40.35548487919233,
            40.19066940540335,
            40.04589557326248,
            39.9267559806237,
            39.84280935854808,
            39.81115133987396,
            39.85957399784283,
            40.00789114453994,
            40.22534013916179,
            40.46470845899951,
            40.70369186564608,
            40.934858957743096,
            41.155571920825054,
            41.36446840093788,
            41.5604099092589,
            null,
            null
           ]
          }
         ],
         "name": "2025-09-02 12:20:07",
         "traces": [
          0,
          1,
          2,
          3,
          4,
          5,
          6,
          7
         ]
        },
        {
         "data": [
          {
           "type": "scatter",
           "x": [
            0,
            0
           ],
           "y": [
            0,
            0
           ]
          },
          {
           "hovertemplate": "GroundTruthState<br>(%{x}, %{y})<br>Time: %{meta}",
           "meta": [
            "2025-09-02 12:20:02",
            "2025-09-02 12:20:03",
            "2025-09-02 12:20:04",
            "2025-09-02 12:20:05",
            "2025-09-02 12:20:06",
            "2025-09-02 12:20:07",
            "2025-09-02 12:20:08"
           ],
           "type": "scatter",
           "x": {
            "bdata": "VIZqP+IqKEBfwbsy6rYpQBUJjwn5UytAmLZG/WZSLUCfN12VAocvQN/QWEmK/jBAWVDaW1dNMkAAAAAAAADwfw==",
            "dtype": "f8"
           },
           "y": {
            "bdata": "ekRRw+s5OUDKt3+dLFE8QG9WF1lSpz9ANPmhmdt6QUBvZu4Q1ClDQHrVer9G00RADk9xSz15RkAAAAAAAADwfw==",
            "dtype": "f8"
           }
          },
          {
           "type": "scatter",
           "x": [
            null,
            null
           ],
           "y": [
            null,
            null
           ]
          },
          {
           "hovertemplate": "Detection<br>(%{x}, %{y})<br>Time: %{meta}",
           "meta": [
            "2025-09-02 12:20:02",
            "2025-09-02 12:20:03",
            "2025-09-02 12:20:04",
            "2025-09-02 12:20:05",
            "2025-09-02 12:20:06",
            "2025-09-02 12:20:07",
            "2025-09-02 12:20:08"
           ],
           "type": "scatter",
           "x": {
            "bdata": "7JPYWtFrIkCkYWgBAKctQGDfCTJfYydAthuNabgIMEASB/HZ/TgzQDr5NepWzjFAe+6PYYRCNkAAAAAAAADwfw==",
            "dtype": "f8"
           },
           "y": {
            "bdata": "l0f29RftNEBBVMcbUvs9QKM+/bD8OjtA6ZYiKdkJQkBMRzqWzM5DQMAlO+ogWUVAaWB99+D8RkAAAAAAAADwfw==",
            "dtype": "f8"
           }
          },
          {
           "type": "scatter",
           "x": [
            null,
            null
           ],
           "y": [
            null,
            null
           ]
          },
          {
           "customdata": [
            "2025-09-02 12:20:02",
            "2025-09-02 12:20:03",
            "2025-09-02 12:20:04",
            "2025-09-02 12:20:05",
            "2025-09-02 12:20:06",
            "2025-09-02 12:20:07",
            "2025-09-02 12:20:08"
           ],
           "hovertemplate": "%{meta}<br>(%{x}, %{y})<br>Time: %{customdata}",
           "meta": [
            "GaussianStateUpdate",
            "GaussianStateUpdate",
            "GaussianStateUpdate",
            "GaussianStateUpdate",
            "GaussianStateUpdate",
            "GaussianStateUpdate",
            "GaussianStateUpdate"
           ],
           "type": "scatter",
           "x": {
            "bdata": "OM4szSAhKEACkIGj9VQqQCHwTpVyRSpAKrdZ4vYwLEAPZv6/U78vQCN25l6G4TBAKCTAG1DqMkAAAAAAAADwfw==",
            "dtype": "f8"
           },
           "y": {
            "bdata": "Sf5l2JysOEAQpX5DlOU7QC4b/To2UT1AqjS1fryXQEBxHslr5YBCQIHyMe87hkRAmTG2sdhBRkAAAAAAAADwfw==",
            "dtype": "f8"
           }
          },
          {
           "type": "scatter",
           "x": [
            null
           ],
           "y": [
            null
           ]
          },
          {
           "type": "scatter",
           "x": [
            18.473969047579303,
            18.69923117029224,
            18.935064013773555,
            19.179987464875133,
            19.43204815392332,
            19.687587501958838,
            19.937193189388566,
            20.15419756700781,
            20.284329356641,
            20.298758684163438,
            20.227918525269608,
            20.10492771829251,
            19.9483191379394,
            19.767986879813556,
            19.56955860064786,
            19.35660066679425,
            19.131369542589837,
            18.89549386521966,
            18.65058095220692,
            18.3985220903419,
            18.14298532743163,
            17.893376486426696,
            17.676374193580227,
            17.54624114302336,
            17.53181103583363,
            17.602649954629907,
            17.725641700697317,
            17.882251460826275,
            18.062592183460133,
            18.260983426091705,
            18.473969047579303,
            null,
            null
           ],
           "y": [
            45.0582065266565,
            45.22847721961892,
            45.38161119324799,
            45.514387979922965,
            45.621413682647415,
            45.69335439145225,
            45.713249311201174,
            45.652866193919756,
            45.49251896039956,
            45.26773515027065,
            45.027564216847665,
            44.79230328866023,
            44.56766636461382,
            44.35532094239707,
            44.156016150141916,
            43.97064443686315,
            43.800395518027464,
            43.64723270591664,
            43.51446235268676,
            43.40743747127804,
            43.33549717843849,
            43.315601654680975,
            43.37598353679933,
            43.53632974699307,
            43.761115851468006,
            44.00128382313128,
            44.23654719549735,
            44.46118573858259,
            44.673540149271744,
            44.87280895965363,
            45.0582065266565,
            null,
            null
           ]
          }
         ],
         "name": "2025-09-02 12:20:08",
         "traces": [
          0,
          1,
          2,
          3,
          4,
          5,
          6,
          7
         ]
        },
        {
         "data": [
          {
           "type": "scatter",
           "x": [
            0,
            0
           ],
           "y": [
            0,
            0
           ]
          },
          {
           "hovertemplate": "GroundTruthState<br>(%{x}, %{y})<br>Time: %{meta}",
           "meta": [
            "2025-09-02 12:20:03",
            "2025-09-02 12:20:04",
            "2025-09-02 12:20:05",
            "2025-09-02 12:20:06",
            "2025-09-02 12:20:07",
            "2025-09-02 12:20:08",
            "2025-09-02 12:20:09"
           ],
           "type": "scatter",
           "x": {
            "bdata": "X8G7Muq2KUAVCY8J+VMrQJi2Rv1mUi1AnzddlQKHL0Df0FhJiv4wQFlQ2ltXTTJAlXsN2z+4M0AAAAAAAADwfw==",
            "dtype": "f8"
           },
           "y": {
            "bdata": "yrd/nSxRPEBvVhdZUqc/QDT5oZnbekFAb2buENQpQ0B61Xq/RtNEQA5PcUs9eUZASq0yGpIISEAAAAAAAADwfw==",
            "dtype": "f8"
           }
          },
          {
           "type": "scatter",
           "x": [
            null,
            null
           ],
           "y": [
            null,
            null
           ]
          },
          {
           "hovertemplate": "Detection<br>(%{x}, %{y})<br>Time: %{meta}",
           "meta": [
            "2025-09-02 12:20:03",
            "2025-09-02 12:20:04",
            "2025-09-02 12:20:05",
            "2025-09-02 12:20:06",
            "2025-09-02 12:20:07",
            "2025-09-02 12:20:08",
            "2025-09-02 12:20:09"
           ],
           "type": "scatter",
           "x": {
            "bdata": "pGFoAQCnLUBg3wkyX2MnQLYbjWm4CDBAEgfx2f04M0A6+TXqVs4xQHvuj2GEQjZAmeQ0SEhlOUAAAAAAAADwfw==",
            "dtype": "f8"
           },
           "y": {
            "bdata": "QVTHG1L7PUCjPv2w/Do7QOmWIinZCUJATEc6lszOQ0DAJTvqIFlFQGlgfffg/EZAZbh1D++PSUAAAAAAAADwfw==",
            "dtype": "f8"
           }
          },
          {
           "type": "scatter",
           "x": [
            null,
            null
           ],
           "y": [
            null,
            null
           ]
          },
          {
           "customdata": [
            "2025-09-02 12:20:03",
            "2025-09-02 12:20:04",
            "2025-09-02 12:20:05",
            "2025-09-02 12:20:06",
            "2025-09-02 12:20:07",
            "2025-09-02 12:20:08",
            "2025-09-02 12:20:09"
           ],
           "hovertemplate": "%{meta}<br>(%{x}, %{y})<br>Time: %{customdata}",
           "meta": [
            "GaussianStateUpdate",
            "GaussianStateUpdate",
            "GaussianStateUpdate",
            "GaussianStateUpdate",
            "GaussianStateUpdate",
            "GaussianStateUpdate",
            "GaussianStateUpdate"
           ],
           "type": "scatter",
           "x": {
            "bdata": "ApCBo/VUKkAh8E6VckUqQCq3WeL2MCxAD2b+v1O/L0AjduZehuEwQCgkwBtQ6jJApdR4zM5eNUAAAAAAAADwfw==",
            "dtype": "f8"
           },
           "y": {
            "bdata": "EKV+Q5TlO0AuG/06NlE9QKo0tX68l0BAcR7Ja+WAQkCB8jHvO4ZEQJkxtrHYQUZAm5h5XERsSEAAAAAAAADwfw==",
            "dtype": "f8"
           }
          },
          {
           "type": "scatter",
           "x": [
            null
           ],
           "y": [
            null
           ]
          },
          {
           "type": "scatter",
           "x": [
            20.968266651586635,
            21.20933430775021,
            21.45967867633182,
            21.717710529132724,
            21.981260347721136,
            22.246285483204815,
            22.502538556876896,
            22.7208768322548,
            22.841338681555047,
            22.835600654703487,
            22.741845854271897,
            22.596604837756637,
            22.419064140293116,
            22.219148740797326,
            22.002427466830543,
            21.772419344468336,
            21.53138059866904,
            21.280993534261945,
            21.022973764793253,
            20.75942624745403,
            20.49440470126858,
            20.238147528584708,
            20.01981028875972,
            19.899347652741525,
            19.9050853203292,
            19.998838171283023,
            20.144080788810196,
            20.321623093248352,
            20.52154857790883,
            20.7382322230399,
            20.968266651586635,
            null,
            null
           ],
           "y": [
            49.41922902500753,
            49.57653575463608,
            49.71627976453561,
            49.83541277456773,
            49.928738019500855,
            49.98717296348036,
            49.99401999098668,
            49.92099094100228,
            49.749201939160734,
            49.51904686784258,
            49.280457962430695,
            49.05120687136687,
            48.835229945234516,
            48.6332418363139,
            48.44546318547385,
            48.27244341337195,
            48.115154186422735,
            47.97538562672959,
            47.85625896445699,
            47.76293459474719,
            47.70450005282355,
            47.69765243734971,
            47.7706807298891,
            47.94246918006583,
            48.17262548305849,
            48.4112107350966,
            48.64046506367054,
            48.85644385511683,
            49.05844116134257,
            49.24618803645913,
            49.41922902500753,
            null,
            null
           ]
          }
         ],
         "name": "2025-09-02 12:20:09",
         "traces": [
          0,
          1,
          2,
          3,
          4,
          5,
          6,
          7
         ]
        }
       ],
       "layout": {
        "autosize": true,
        "colorway": [
         "#EF553B",
         "#00CC96",
         "#AB63FA",
         "#FFA15A",
         "#19D3F3",
         "#FF6692",
         "#B6E880",
         "#FF97FF",
         "#FECB52"
        ],
        "height": 550,
        "sliders": [
         {
          "currentvalue": {
           "font": {
            "size": 16
           },
           "prefix": "Time: ",
           "visible": true,
           "xanchor": "right"
          },
          "len": 0.9,
          "pad": {
           "b": 10,
           "t": 50
          },
          "steps": [
           {
            "args": [
             [
              "2025-09-02 12:19:49"
             ],
             {
              "frame": {
               "duration": 1,
               "easing": "linear",
               "redraw": true
              },
              "transition": {
               "duration": 0,
               "easing": "linear"
              }
             }
            ],
            "label": "12:19:49",
            "method": "animate"
           },
           {
            "args": [
             [
              "2025-09-02 12:19:50"
             ],
             {
              "frame": {
               "duration": 1,
               "easing": "linear",
               "redraw": true
              },
              "transition": {
               "duration": 0,
               "easing": "linear"
              }
             }
            ],
            "label": "12:19:50",
            "method": "animate"
           },
           {
            "args": [
             [
              "2025-09-02 12:19:51"
             ],
             {
              "frame": {
               "duration": 1,
               "easing": "linear",
               "redraw": true
              },
              "transition": {
               "duration": 0,
               "easing": "linear"
              }
             }
            ],
            "label": "12:19:51",
            "method": "animate"
           },
           {
            "args": [
             [
              "2025-09-02 12:19:52"
             ],
             {
              "frame": {
               "duration": 1,
               "easing": "linear",
               "redraw": true
              },
              "transition": {
               "duration": 0,
               "easing": "linear"
              }
             }
            ],
            "label": "12:19:52",
            "method": "animate"
           },
           {
            "args": [
             [
              "2025-09-02 12:19:53"
             ],
             {
              "frame": {
               "duration": 1,
               "easing": "linear",
               "redraw": true
              },
              "transition": {
               "duration": 0,
               "easing": "linear"
              }
             }
            ],
            "label": "12:19:53",
            "method": "animate"
           },
           {
            "args": [
             [
              "2025-09-02 12:19:54"
             ],
             {
              "frame": {
               "duration": 1,
               "easing": "linear",
               "redraw": true
              },
              "transition": {
               "duration": 0,
               "easing": "linear"
              }
             }
            ],
            "label": "12:19:54",
            "method": "animate"
           },
           {
            "args": [
             [
              "2025-09-02 12:19:55"
             ],
             {
              "frame": {
               "duration": 1,
               "easing": "linear",
               "redraw": true
              },
              "transition": {
               "duration": 0,
               "easing": "linear"
              }
             }
            ],
            "label": "12:19:55",
            "method": "animate"
           },
           {
            "args": [
             [
              "2025-09-02 12:19:56"
             ],
             {
              "frame": {
               "duration": 1,
               "easing": "linear",
               "redraw": true
              },
              "transition": {
               "duration": 0,
               "easing": "linear"
              }
             }
            ],
            "label": "12:19:56",
            "method": "animate"
           },
           {
            "args": [
             [
              "2025-09-02 12:19:57"
             ],
             {
              "frame": {
               "duration": 1,
               "easing": "linear",
               "redraw": true
              },
              "transition": {
               "duration": 0,
               "easing": "linear"
              }
             }
            ],
            "label": "12:19:57",
            "method": "animate"
           },
           {
            "args": [
             [
              "2025-09-02 12:19:58"
             ],
             {
              "frame": {
               "duration": 1,
               "easing": "linear",
               "redraw": true
              },
              "transition": {
               "duration": 0,
               "easing": "linear"
              }
             }
            ],
            "label": "12:19:58",
            "method": "animate"
           },
           {
            "args": [
             [
              "2025-09-02 12:19:59"
             ],
             {
              "frame": {
               "duration": 1,
               "easing": "linear",
               "redraw": true
              },
              "transition": {
               "duration": 0,
               "easing": "linear"
              }
             }
            ],
            "label": "12:19:59",
            "method": "animate"
           },
           {
            "args": [
             [
              "2025-09-02 12:20:00"
             ],
             {
              "frame": {
               "duration": 1,
               "easing": "linear",
               "redraw": true
              },
              "transition": {
               "duration": 0,
               "easing": "linear"
              }
             }
            ],
            "label": "12:20:00",
            "method": "animate"
           },
           {
            "args": [
             [
              "2025-09-02 12:20:01"
             ],
             {
              "frame": {
               "duration": 1,
               "easing": "linear",
               "redraw": true
              },
              "transition": {
               "duration": 0,
               "easing": "linear"
              }
             }
            ],
            "label": "12:20:01",
            "method": "animate"
           },
           {
            "args": [
             [
              "2025-09-02 12:20:02"
             ],
             {
              "frame": {
               "duration": 1,
               "easing": "linear",
               "redraw": true
              },
              "transition": {
               "duration": 0,
               "easing": "linear"
              }
             }
            ],
            "label": "12:20:02",
            "method": "animate"
           },
           {
            "args": [
             [
              "2025-09-02 12:20:03"
             ],
             {
              "frame": {
               "duration": 1,
               "easing": "linear",
               "redraw": true
              },
              "transition": {
               "duration": 0,
               "easing": "linear"
              }
             }
            ],
            "label": "12:20:03",
            "method": "animate"
           },
           {
            "args": [
             [
              "2025-09-02 12:20:04"
             ],
             {
              "frame": {
               "duration": 1,
               "easing": "linear",
               "redraw": true
              },
              "transition": {
               "duration": 0,
               "easing": "linear"
              }
             }
            ],
            "label": "12:20:04",
            "method": "animate"
           },
           {
            "args": [
             [
              "2025-09-02 12:20:05"
             ],
             {
              "frame": {
               "duration": 1,
               "easing": "linear",
               "redraw": true
              },
              "transition": {
               "duration": 0,
               "easing": "linear"
              }
             }
            ],
            "label": "12:20:05",
            "method": "animate"
           },
           {
            "args": [
             [
              "2025-09-02 12:20:06"
             ],
             {
              "frame": {
               "duration": 1,
               "easing": "linear",
               "redraw": true
              },
              "transition": {
               "duration": 0,
               "easing": "linear"
              }
             }
            ],
            "label": "12:20:06",
            "method": "animate"
           },
           {
            "args": [
             [
              "2025-09-02 12:20:07"
             ],
             {
              "frame": {
               "duration": 1,
               "easing": "linear",
               "redraw": true
              },
              "transition": {
               "duration": 0,
               "easing": "linear"
              }
             }
            ],
            "label": "12:20:07",
            "method": "animate"
           },
           {
            "args": [
             [
              "2025-09-02 12:20:08"
             ],
             {
              "frame": {
               "duration": 1,
               "easing": "linear",
               "redraw": true
              },
              "transition": {
               "duration": 0,
               "easing": "linear"
              }
             }
            ],
            "label": "12:20:08",
            "method": "animate"
           },
           {
            "args": [
             [
              "2025-09-02 12:20:09"
             ],
             {
              "frame": {
               "duration": 1,
               "easing": "linear",
               "redraw": true
              },
              "transition": {
               "duration": 0,
               "easing": "linear"
              }
             }
            ],
            "label": "12:20:09",
            "method": "animate"
           }
          ],
          "transition": {
           "duration": 285.7142857142857,
           "easing": "linear"
          },
          "x": 0.1,
          "xanchor": "left",
          "y": 0,
          "yanchor": "top"
         }
        ],
        "template": {
         "data": {
          "bar": [
           {
            "error_x": {
             "color": "#2a3f5f"
            },
            "error_y": {
             "color": "#2a3f5f"
            },
            "marker": {
             "line": {
              "color": "#E5ECF6",
              "width": 0.5
             },
             "pattern": {
              "fillmode": "overlay",
              "size": 10,
              "solidity": 0.2
             }
            },
            "type": "bar"
           }
          ],
          "barpolar": [
           {
            "marker": {
             "line": {
              "color": "#E5ECF6",
              "width": 0.5
             },
             "pattern": {
              "fillmode": "overlay",
              "size": 10,
              "solidity": 0.2
             }
            },
            "type": "barpolar"
           }
          ],
          "carpet": [
           {
            "aaxis": {
             "endlinecolor": "#2a3f5f",
             "gridcolor": "white",
             "linecolor": "white",
             "minorgridcolor": "white",
             "startlinecolor": "#2a3f5f"
            },
            "baxis": {
             "endlinecolor": "#2a3f5f",
             "gridcolor": "white",
             "linecolor": "white",
             "minorgridcolor": "white",
             "startlinecolor": "#2a3f5f"
            },
            "type": "carpet"
           }
          ],
          "choropleth": [
           {
            "colorbar": {
             "outlinewidth": 0,
             "ticks": ""
            },
            "type": "choropleth"
           }
          ],
          "contour": [
           {
            "colorbar": {
             "outlinewidth": 0,
             "ticks": ""
            },
            "colorscale": [
             [
              0,
              "#0d0887"
             ],
             [
              0.1111111111111111,
              "#46039f"
             ],
             [
              0.2222222222222222,
              "#7201a8"
             ],
             [
              0.3333333333333333,
              "#9c179e"
             ],
             [
              0.4444444444444444,
              "#bd3786"
             ],
             [
              0.5555555555555556,
              "#d8576b"
             ],
             [
              0.6666666666666666,
              "#ed7953"
             ],
             [
              0.7777777777777778,
              "#fb9f3a"
             ],
             [
              0.8888888888888888,
              "#fdca26"
             ],
             [
              1,
              "#f0f921"
             ]
            ],
            "type": "contour"
           }
          ],
          "contourcarpet": [
           {
            "colorbar": {
             "outlinewidth": 0,
             "ticks": ""
            },
            "type": "contourcarpet"
           }
          ],
          "heatmap": [
           {
            "colorbar": {
             "outlinewidth": 0,
             "ticks": ""
            },
            "colorscale": [
             [
              0,
              "#0d0887"
             ],
             [
              0.1111111111111111,
              "#46039f"
             ],
             [
              0.2222222222222222,
              "#7201a8"
             ],
             [
              0.3333333333333333,
              "#9c179e"
             ],
             [
              0.4444444444444444,
              "#bd3786"
             ],
             [
              0.5555555555555556,
              "#d8576b"
             ],
             [
              0.6666666666666666,
              "#ed7953"
             ],
             [
              0.7777777777777778,
              "#fb9f3a"
             ],
             [
              0.8888888888888888,
              "#fdca26"
             ],
             [
              1,
              "#f0f921"
             ]
            ],
            "type": "heatmap"
           }
          ],
          "histogram": [
           {
            "marker": {
             "pattern": {
              "fillmode": "overlay",
              "size": 10,
              "solidity": 0.2
             }
            },
            "type": "histogram"
           }
          ],
          "histogram2d": [
           {
            "colorbar": {
             "outlinewidth": 0,
             "ticks": ""
            },
            "colorscale": [
             [
              0,
              "#0d0887"
             ],
             [
              0.1111111111111111,
              "#46039f"
             ],
             [
              0.2222222222222222,
              "#7201a8"
             ],
             [
              0.3333333333333333,
              "#9c179e"
             ],
             [
              0.4444444444444444,
              "#bd3786"
             ],
             [
              0.5555555555555556,
              "#d8576b"
             ],
             [
              0.6666666666666666,
              "#ed7953"
             ],
             [
              0.7777777777777778,
              "#fb9f3a"
             ],
             [
              0.8888888888888888,
              "#fdca26"
             ],
             [
              1,
              "#f0f921"
             ]
            ],
            "type": "histogram2d"
           }
          ],
          "histogram2dcontour": [
           {
            "colorbar": {
             "outlinewidth": 0,
             "ticks": ""
            },
            "colorscale": [
             [
              0,
              "#0d0887"
             ],
             [
              0.1111111111111111,
              "#46039f"
             ],
             [
              0.2222222222222222,
              "#7201a8"
             ],
             [
              0.3333333333333333,
              "#9c179e"
             ],
             [
              0.4444444444444444,
              "#bd3786"
             ],
             [
              0.5555555555555556,
              "#d8576b"
             ],
             [
              0.6666666666666666,
              "#ed7953"
             ],
             [
              0.7777777777777778,
              "#fb9f3a"
             ],
             [
              0.8888888888888888,
              "#fdca26"
             ],
             [
              1,
              "#f0f921"
             ]
            ],
            "type": "histogram2dcontour"
           }
          ],
          "mesh3d": [
           {
            "colorbar": {
             "outlinewidth": 0,
             "ticks": ""
            },
            "type": "mesh3d"
           }
          ],
          "parcoords": [
           {
            "line": {
             "colorbar": {
              "outlinewidth": 0,
              "ticks": ""
             }
            },
            "type": "parcoords"
           }
          ],
          "pie": [
           {
            "automargin": true,
            "type": "pie"
           }
          ],
          "scatter": [
           {
            "fillpattern": {
             "fillmode": "overlay",
             "size": 10,
             "solidity": 0.2
            },
            "type": "scatter"
           }
          ],
          "scatter3d": [
           {
            "line": {
             "colorbar": {
              "outlinewidth": 0,
              "ticks": ""
             }
            },
            "marker": {
             "colorbar": {
              "outlinewidth": 0,
              "ticks": ""
             }
            },
            "type": "scatter3d"
           }
          ],
          "scattercarpet": [
           {
            "marker": {
             "colorbar": {
              "outlinewidth": 0,
              "ticks": ""
             }
            },
            "type": "scattercarpet"
           }
          ],
          "scattergeo": [
           {
            "marker": {
             "colorbar": {
              "outlinewidth": 0,
              "ticks": ""
             }
            },
            "type": "scattergeo"
           }
          ],
          "scattergl": [
           {
            "marker": {
             "colorbar": {
              "outlinewidth": 0,
              "ticks": ""
             }
            },
            "type": "scattergl"
           }
          ],
          "scattermap": [
           {
            "marker": {
             "colorbar": {
              "outlinewidth": 0,
              "ticks": ""
             }
            },
            "type": "scattermap"
           }
          ],
          "scattermapbox": [
           {
            "marker": {
             "colorbar": {
              "outlinewidth": 0,
              "ticks": ""
             }
            },
            "type": "scattermapbox"
           }
          ],
          "scatterpolar": [
           {
            "marker": {
             "colorbar": {
              "outlinewidth": 0,
              "ticks": ""
             }
            },
            "type": "scatterpolar"
           }
          ],
          "scatterpolargl": [
           {
            "marker": {
             "colorbar": {
              "outlinewidth": 0,
              "ticks": ""
             }
            },
            "type": "scatterpolargl"
           }
          ],
          "scatterternary": [
           {
            "marker": {
             "colorbar": {
              "outlinewidth": 0,
              "ticks": ""
             }
            },
            "type": "scatterternary"
           }
          ],
          "surface": [
           {
            "colorbar": {
             "outlinewidth": 0,
             "ticks": ""
            },
            "colorscale": [
             [
              0,
              "#0d0887"
             ],
             [
              0.1111111111111111,
              "#46039f"
             ],
             [
              0.2222222222222222,
              "#7201a8"
             ],
             [
              0.3333333333333333,
              "#9c179e"
             ],
             [
              0.4444444444444444,
              "#bd3786"
             ],
             [
              0.5555555555555556,
              "#d8576b"
             ],
             [
              0.6666666666666666,
              "#ed7953"
             ],
             [
              0.7777777777777778,
              "#fb9f3a"
             ],
             [
              0.8888888888888888,
              "#fdca26"
             ],
             [
              1,
              "#f0f921"
             ]
            ],
            "type": "surface"
           }
          ],
          "table": [
           {
            "cells": {
             "fill": {
              "color": "#EBF0F8"
             },
             "line": {
              "color": "white"
             }
            },
            "header": {
             "fill": {
              "color": "#C8D4E3"
             },
             "line": {
              "color": "white"
             }
            },
            "type": "table"
           }
          ]
         },
         "layout": {
          "annotationdefaults": {
           "arrowcolor": "#2a3f5f",
           "arrowhead": 0,
           "arrowwidth": 1
          },
          "autotypenumbers": "strict",
          "coloraxis": {
           "colorbar": {
            "outlinewidth": 0,
            "ticks": ""
           }
          },
          "colorscale": {
           "diverging": [
            [
             0,
             "#8e0152"
            ],
            [
             0.1,
             "#c51b7d"
            ],
            [
             0.2,
             "#de77ae"
            ],
            [
             0.3,
             "#f1b6da"
            ],
            [
             0.4,
             "#fde0ef"
            ],
            [
             0.5,
             "#f7f7f7"
            ],
            [
             0.6,
             "#e6f5d0"
            ],
            [
             0.7,
             "#b8e186"
            ],
            [
             0.8,
             "#7fbc41"
            ],
            [
             0.9,
             "#4d9221"
            ],
            [
             1,
             "#276419"
            ]
           ],
           "sequential": [
            [
             0,
             "#0d0887"
            ],
            [
             0.1111111111111111,
             "#46039f"
            ],
            [
             0.2222222222222222,
             "#7201a8"
            ],
            [
             0.3333333333333333,
             "#9c179e"
            ],
            [
             0.4444444444444444,
             "#bd3786"
            ],
            [
             0.5555555555555556,
             "#d8576b"
            ],
            [
             0.6666666666666666,
             "#ed7953"
            ],
            [
             0.7777777777777778,
             "#fb9f3a"
            ],
            [
             0.8888888888888888,
             "#fdca26"
            ],
            [
             1,
             "#f0f921"
            ]
           ],
           "sequentialminus": [
            [
             0,
             "#0d0887"
            ],
            [
             0.1111111111111111,
             "#46039f"
            ],
            [
             0.2222222222222222,
             "#7201a8"
            ],
            [
             0.3333333333333333,
             "#9c179e"
            ],
            [
             0.4444444444444444,
             "#bd3786"
            ],
            [
             0.5555555555555556,
             "#d8576b"
            ],
            [
             0.6666666666666666,
             "#ed7953"
            ],
            [
             0.7777777777777778,
             "#fb9f3a"
            ],
            [
             0.8888888888888888,
             "#fdca26"
            ],
            [
             1,
             "#f0f921"
            ]
           ]
          },
          "colorway": [
           "#636efa",
           "#EF553B",
           "#00cc96",
           "#ab63fa",
           "#FFA15A",
           "#19d3f3",
           "#FF6692",
           "#B6E880",
           "#FF97FF",
           "#FECB52"
          ],
          "font": {
           "color": "#2a3f5f"
          },
          "geo": {
           "bgcolor": "white",
           "lakecolor": "white",
           "landcolor": "#E5ECF6",
           "showlakes": true,
           "showland": true,
           "subunitcolor": "white"
          },
          "hoverlabel": {
           "align": "left"
          },
          "hovermode": "closest",
          "mapbox": {
           "style": "light"
          },
          "paper_bgcolor": "white",
          "plot_bgcolor": "#E5ECF6",
          "polar": {
           "angularaxis": {
            "gridcolor": "white",
            "linecolor": "white",
            "ticks": ""
           },
           "bgcolor": "#E5ECF6",
           "radialaxis": {
            "gridcolor": "white",
            "linecolor": "white",
            "ticks": ""
           }
          },
          "scene": {
           "xaxis": {
            "backgroundcolor": "#E5ECF6",
            "gridcolor": "white",
            "gridwidth": 2,
            "linecolor": "white",
            "showbackground": true,
            "ticks": "",
            "zerolinecolor": "white"
           },
           "yaxis": {
            "backgroundcolor": "#E5ECF6",
            "gridcolor": "white",
            "gridwidth": 2,
            "linecolor": "white",
            "showbackground": true,
            "ticks": "",
            "zerolinecolor": "white"
           },
           "zaxis": {
            "backgroundcolor": "#E5ECF6",
            "gridcolor": "white",
            "gridwidth": 2,
            "linecolor": "white",
            "showbackground": true,
            "ticks": "",
            "zerolinecolor": "white"
           }
          },
          "shapedefaults": {
           "line": {
            "color": "#2a3f5f"
           }
          },
          "ternary": {
           "aaxis": {
            "gridcolor": "white",
            "linecolor": "white",
            "ticks": ""
           },
           "baxis": {
            "gridcolor": "white",
            "linecolor": "white",
            "ticks": ""
           },
           "bgcolor": "#E5ECF6",
           "caxis": {
            "gridcolor": "white",
            "linecolor": "white",
            "ticks": ""
           }
          },
          "title": {
           "x": 0.05
          },
          "xaxis": {
           "automargin": true,
           "gridcolor": "white",
           "linecolor": "white",
           "ticks": "",
           "title": {
            "standoff": 15
           },
           "zerolinecolor": "white",
           "zerolinewidth": 2
          },
          "yaxis": {
           "automargin": true,
           "gridcolor": "white",
           "linecolor": "white",
           "ticks": "",
           "title": {
            "standoff": 15
           },
           "zerolinecolor": "white",
           "zerolinewidth": 2
          }
         }
        },
        "updatemenus": [
         {
          "buttons": [
           {
            "args": [
             null,
             {
              "frame": {
               "duration": 285.7142857142857,
               "redraw": true
              },
              "fromcurrent": true,
              "transition": {
               "duration": 0
              }
             }
            ],
            "label": "Play",
            "method": "animate"
           },
           {
            "args": [
             [
              null
             ],
             {
              "frame": {
               "duration": 0,
               "redraw": true
              },
              "mode": "immediate",
              "transition": {
               "duration": 0
              }
             }
            ],
            "label": "Stop",
            "method": "animate"
           }
          ],
          "direction": "left",
          "pad": {
           "r": 10,
           "t": 75
          },
          "showactive": true,
          "type": "buttons",
          "x": 0.1,
          "xanchor": "right",
          "y": 0,
          "yanchor": "top"
         }
        ],
        "xaxis": {
         "range": [
          -2.3050672382471364,
          26.714715206895796
         ],
         "title": {
          "text": "<i>x</i>"
         }
        },
        "yaxis": {
         "range": [
          -5.079739483402368,
          53.80087459305906
         ],
         "title": {
          "text": "<i>y</i>"
         }
        }
       }
      },
      "image/png": "[encoded data removed]"
     },
     "metadata": {},
     "output_type": "display_data"
    }
   ],
   "source": [
    "plotter.plot_tracks(track, [0, 2], uncertainty=True)\n",
    "plotter.fig"
   ]
  },
  {
   "cell_type": "code",
   "execution_count": null,
   "id": "66024ecc-b78b-44f2-961d-329cc09de485",
   "metadata": {},
   "outputs": [],
   "source": []
  }
 ],
 "metadata": {
  "kernelspec": {
   "display_name": "Python 3 (ipykernel)",
   "language": "python",
   "name": "python3"
  },
  "language_info": {
   "codemirror_mode": {
    "name": "ipython",
    "version": 3
   },
   "file_extension": ".py",
   "mimetype": "text/x-python",
   "name": "python",
   "nbconvert_exporter": "python",
   "pygments_lexer": "ipython3",
   "version": "3.12.9"
  }
 },
 "nbformat": 4,
 "nbformat_minor": 5
}
