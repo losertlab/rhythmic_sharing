{
 "cells": [
  {
   "cell_type": "code",
   "execution_count": 1,
   "id": "8be33d58-8004-481f-974f-d995d31c3e00",
   "metadata": {},
   "outputs": [],
   "source": [
    "import numpy as np\n",
    "from datetime import datetime, timedelta\n",
    "start_time = datetime.now().replace(microsecond=0)"
   ]
  },
  {
   "cell_type": "code",
   "execution_count": 2,
   "id": "245f3e91-51c8-4648-897f-504b283f4ee5",
   "metadata": {},
   "outputs": [],
   "source": [
    "np.random.seed(1991)"
   ]
  },
  {
   "cell_type": "code",
   "execution_count": 3,
   "id": "1dd23906-1796-4f2e-965f-95d5ffdcee73",
   "metadata": {},
   "outputs": [],
   "source": [
    "from stonesoup.models.transition.linear import CombinedLinearGaussianTransitionModel, \\\n",
    "    ConstantVelocity\n",
    "from stonesoup.types.groundtruth import GroundTruthPath, GroundTruthState\n",
    "transition_model = CombinedLinearGaussianTransitionModel([ConstantVelocity(0.05),\n",
    "                                                          ConstantVelocity(0.05)])\n",
    "timesteps = [start_time]\n",
    "truth = GroundTruthPath([GroundTruthState([0, 1, 0, 1], timestamp=start_time)])\n",
    "\n",
    "for k in range(1, 21):\n",
    "    timesteps.append(start_time+timedelta(seconds=k))\n",
    "    truth.append(GroundTruthState(\n",
    "        transition_model.function(truth[k-1], noise=True, time_interval=timedelta(seconds=1)),\n",
    "        timestamp=timesteps[k]))"
   ]
  },
  {
   "cell_type": "code",
   "execution_count": 4,
   "id": "cb90c750-5555-4175-bb97-446baa925b7e",
   "metadata": {},
   "outputs": [
    {
     "data": {
      "application/vnd.plotly.v1+json": {
       "config": {
        "plotlyServerURL": "https://plot.ly"
       },
       "data": [
        {
         "hoverinfo": "none",
         "legendgroup": "Ground Truth",
         "legendrank": 100,
         "line": {
          "color": "#EF553B",
          "dash": "dash"
         },
         "mode": "lines",
         "name": "Ground Truth",
         "showlegend": true,
         "type": "scatter",
         "x": [],
         "y": []
        },
        {
         "hoverinfo": "none",
         "legendgroup": "Ground Truth",
         "legendrank": 100,
         "line": {
          "color": "#EF553B",
          "dash": "dash"
         },
         "mode": "lines",
         "name": "Ground Truth",
         "showlegend": false,
         "type": "scatter",
         "x": [],
         "y": []
        }
       ],
       "frames": [
        {
         "data": [
          {
           "type": "scatter",
           "x": [
            0,
            0
           ],
           "y": [
            0,
            0
           ]
          },
          {
           "hovertemplate": "GroundTruthState<br>(%{x}, %{y})<br>Time: %{meta}",
           "meta": [
            "2025-09-04 13:05:56"
           ],
           "type": "scatter",
           "x": {
            "bdata": "AAAAAAAAAAAAAAAAAADwfw==",
            "dtype": "f8"
           },
           "y": {
            "bdata": "AAAAAAAAAAAAAAAAAADwfw==",
            "dtype": "f8"
           }
          }
         ],
         "name": "2025-09-04 13:05:56",
         "traces": [
          0,
          1
         ]
        },
        {
         "data": [
          {
           "type": "scatter",
           "x": [
            0,
            0
           ],
           "y": [
            0,
            0
           ]
          },
          {
           "hovertemplate": "GroundTruthState<br>(%{x}, %{y})<br>Time: %{meta}",
           "meta": [
            "2025-09-04 13:05:56",
            "2025-09-04 13:05:57"
           ],
           "type": "scatter",
           "x": {
            "bdata": "AAAAAAAAAAB6tLpF6NXyPwAAAAAAAPB/",
            "dtype": "f8"
           },
           "y": {
            "bdata": "AAAAAAAAAADQkKGTxALwPwAAAAAAAPB/",
            "dtype": "f8"
           }
          }
         ],
         "name": "2025-09-04 13:05:57",
         "traces": [
          0,
          1
         ]
        },
        {
         "data": [
          {
           "type": "scatter",
           "x": [
            0,
            0
           ],
           "y": [
            0,
            0
           ]
          },
          {
           "hovertemplate": "GroundTruthState<br>(%{x}, %{y})<br>Time: %{meta}",
           "meta": [
            "2025-09-04 13:05:56",
            "2025-09-04 13:05:57",
            "2025-09-04 13:05:58"
           ],
           "type": "scatter",
           "x": {
            "bdata": "AAAAAAAAAAB6tLpF6NXyP2HNMOElNAJAAAAAAAAA8H8=",
            "dtype": "f8"
           },
           "y": {
            "bdata": "AAAAAAAAAADQkKGTxALwP03PNxbuPgBAAAAAAAAA8H8=",
            "dtype": "f8"
           }
          }
         ],
         "name": "2025-09-04 13:05:58",
         "traces": [
          0,
          1
         ]
        },
        {
         "data": [
          {
           "type": "scatter",
           "x": [
            0,
            0
           ],
           "y": [
            0,
            0
           ]
          },
          {
           "hovertemplate": "GroundTruthState<br>(%{x}, %{y})<br>Time: %{meta}",
           "meta": [
            "2025-09-04 13:05:56",
            "2025-09-04 13:05:57",
            "2025-09-04 13:05:58",
            "2025-09-04 13:05:59"
           ],
           "type": "scatter",
           "x": {
            "bdata": "AAAAAAAAAAB6tLpF6NXyP2HNMOElNAJAXldM4pE/CUAAAAAAAADwfw==",
            "dtype": "f8"
           },
           "y": {
            "bdata": "AAAAAAAAAADQkKGTxALwP03PNxbuPgBAy4Dv5lipCUAAAAAAAADwfw==",
            "dtype": "f8"
           }
          }
         ],
         "name": "2025-09-04 13:05:59",
         "traces": [
          0,
          1
         ]
        },
        {
         "data": [
          {
           "type": "scatter",
           "x": [
            0,
            0
           ],
           "y": [
            0,
            0
           ]
          },
          {
           "hovertemplate": "GroundTruthState<br>(%{x}, %{y})<br>Time: %{meta}",
           "meta": [
            "2025-09-04 13:05:56",
            "2025-09-04 13:05:57",
            "2025-09-04 13:05:58",
            "2025-09-04 13:05:59",
            "2025-09-04 13:06:00"
           ],
           "type": "scatter",
           "x": {
            "bdata": "AAAAAAAAAAB6tLpF6NXyP2HNMOElNAJAXldM4pE/CUB4sMMCKXIQQAAAAAAAAPB/",
            "dtype": "f8"
           },
           "y": {
            "bdata": "AAAAAAAAAADQkKGTxALwP03PNxbuPgBAy4Dv5lipCUAL289Y57kSQAAAAAAAAPB/",
            "dtype": "f8"
           }
          }
         ],
         "name": "2025-09-04 13:06:00",
         "traces": [
          0,
          1
         ]
        },
        {
         "data": [
          {
           "type": "scatter",
           "x": [
            0,
            0
           ],
           "y": [
            0,
            0
           ]
          },
          {
           "hovertemplate": "GroundTruthState<br>(%{x}, %{y})<br>Time: %{meta}",
           "meta": [
            "2025-09-04 13:05:56",
            "2025-09-04 13:05:57",
            "2025-09-04 13:05:58",
            "2025-09-04 13:05:59",
            "2025-09-04 13:06:00",
            "2025-09-04 13:06:01"
           ],
           "type": "scatter",
           "x": {
            "bdata": "AAAAAAAAAAB6tLpF6NXyP2HNMOElNAJAXldM4pE/CUB4sMMCKXIQQBvJqZ+SRhRAAAAAAAAA8H8=",
            "dtype": "f8"
           },
           "y": {
            "bdata": "AAAAAAAAAADQkKGTxALwP03PNxbuPgBAy4Dv5lipCUAL289Y57kSQHJUCk5GshlAAAAAAAAA8H8=",
            "dtype": "f8"
           }
          }
         ],
         "name": "2025-09-04 13:06:01",
         "traces": [
          0,
          1
         ]
        },
        {
         "data": [
          {
           "type": "scatter",
           "x": [
            0,
            0
           ],
           "y": [
            0,
            0
           ]
          },
          {
           "hovertemplate": "GroundTruthState<br>(%{x}, %{y})<br>Time: %{meta}",
           "meta": [
            "2025-09-04 13:05:56",
            "2025-09-04 13:05:57",
            "2025-09-04 13:05:58",
            "2025-09-04 13:05:59",
            "2025-09-04 13:06:00",
            "2025-09-04 13:06:01",
            "2025-09-04 13:06:02"
           ],
           "type": "scatter",
           "x": {
            "bdata": "AAAAAAAAAAB6tLpF6NXyP2HNMOElNAJAXldM4pE/CUB4sMMCKXIQQBvJqZ+SRhRAL+4XjVKJGEAAAAAAAADwfw==",
            "dtype": "f8"
           },
           "y": {
            "bdata": "AAAAAAAAAADQkKGTxALwP03PNxbuPgBAy4Dv5lipCUAL289Y57kSQHJUCk5GshlAXfDz/0aVIEAAAAAAAADwfw==",
            "dtype": "f8"
           }
          }
         ],
         "name": "2025-09-04 13:06:02",
         "traces": [
          0,
          1
         ]
        },
        {
         "data": [
          {
           "type": "scatter",
           "x": [
            0,
            0
           ],
           "y": [
            0,
            0
           ]
          },
          {
           "hovertemplate": "GroundTruthState<br>(%{x}, %{y})<br>Time: %{meta}",
           "meta": [
            "2025-09-04 13:05:57",
            "2025-09-04 13:05:58",
            "2025-09-04 13:05:59",
            "2025-09-04 13:06:00",
            "2025-09-04 13:06:01",
            "2025-09-04 13:06:02",
            "2025-09-04 13:06:03"
           ],
           "type": "scatter",
           "x": {
            "bdata": "erS6RejV8j9hzTDhJTQCQF5XTOKRPwlAeLDDAilyEEAbyamfkkYUQC/uF41SiRhA+d8D0b1YHUAAAAAAAADwfw==",
            "dtype": "f8"
           },
           "y": {
            "bdata": "0JChk8QC8D9NzzcW7j4AQMuA7+ZYqQlAC9vPWOe5EkByVApORrIZQF3w8/9GlSBAkx2pj5ZrJEAAAAAAAADwfw==",
            "dtype": "f8"
           }
          }
         ],
         "name": "2025-09-04 13:06:03",
         "traces": [
          0,
          1
         ]
        },
        {
         "data": [
          {
           "type": "scatter",
           "x": [
            0,
            0
           ],
           "y": [
            0,
            0
           ]
          },
          {
           "hovertemplate": "GroundTruthState<br>(%{x}, %{y})<br>Time: %{meta}",
           "meta": [
            "2025-09-04 13:05:58",
            "2025-09-04 13:05:59",
            "2025-09-04 13:06:00",
            "2025-09-04 13:06:01",
            "2025-09-04 13:06:02",
            "2025-09-04 13:06:03",
            "2025-09-04 13:06:04"
           ],
           "type": "scatter",
           "x": {
            "bdata": "Yc0w4SU0AkBeV0zikT8JQHiwwwIpchBAG8mpn5JGFEAv7heNUokYQPnfA9G9WB1AtDiO8N9qIUAAAAAAAADwfw==",
            "dtype": "f8"
           },
           "y": {
            "bdata": "Tc83Fu4+AEDLgO/mWKkJQAvbz1jnuRJAclQKTkayGUBd8PP/RpUgQJMdqY+WayRAhkhDcEFHKUAAAAAAAADwfw==",
            "dtype": "f8"
           }
          }
         ],
         "name": "2025-09-04 13:06:04",
         "traces": [
          0,
          1
         ]
        },
        {
         "data": [
          {
           "type": "scatter",
           "x": [
            0,
            0
           ],
           "y": [
            0,
            0
           ]
          },
          {
           "hovertemplate": "GroundTruthState<br>(%{x}, %{y})<br>Time: %{meta}",
           "meta": [
            "2025-09-04 13:05:59",
            "2025-09-04 13:06:00",
            "2025-09-04 13:06:01",
            "2025-09-04 13:06:02",
            "2025-09-04 13:06:03",
            "2025-09-04 13:06:04",
            "2025-09-04 13:06:05"
           ],
           "type": "scatter",
           "x": {
            "bdata": "XldM4pE/CUB4sMMCKXIQQBvJqZ+SRhRAL+4XjVKJGED53wPRvVgdQLQ4jvDfaiFA7NV9RsZSI0AAAAAAAADwfw==",
            "dtype": "f8"
           },
           "y": {
            "bdata": "y4Dv5lipCUAL289Y57kSQHJUCk5GshlAXfDz/0aVIECTHamPlmskQIZIQ3BBRylAoQH+DownLkAAAAAAAADwfw==",
            "dtype": "f8"
           }
          }
         ],
         "name": "2025-09-04 13:06:05",
         "traces": [
          0,
          1
         ]
        },
        {
         "data": [
          {
           "type": "scatter",
           "x": [
            0,
            0
           ],
           "y": [
            0,
            0
           ]
          },
          {
           "hovertemplate": "GroundTruthState<br>(%{x}, %{y})<br>Time: %{meta}",
           "meta": [
            "2025-09-04 13:06:00",
            "2025-09-04 13:06:01",
            "2025-09-04 13:06:02",
            "2025-09-04 13:06:03",
            "2025-09-04 13:06:04",
            "2025-09-04 13:06:05",
            "2025-09-04 13:06:06"
           ],
           "type": "scatter",
           "x": {
            "bdata": "eLDDAilyEEAbyamfkkYUQC/uF41SiRhA+d8D0b1YHUC0OI7w32ohQOzVfUbGUiNAEuEL0C+UJEAAAAAAAADwfw==",
            "dtype": "f8"
           },
           "y": {
            "bdata": "C9vPWOe5EkByVApORrIZQF3w8/9GlSBAkx2pj5ZrJECGSENwQUcpQKEB/g6MJy5AF/mO3cB2MUAAAAAAAADwfw==",
            "dtype": "f8"
           }
          }
         ],
         "name": "2025-09-04 13:06:06",
         "traces": [
          0,
          1
         ]
        },
        {
         "data": [
          {
           "type": "scatter",
           "x": [
            0,
            0
           ],
           "y": [
            0,
            0
           ]
          },
          {
           "hovertemplate": "GroundTruthState<br>(%{x}, %{y})<br>Time: %{meta}",
           "meta": [
            "2025-09-04 13:06:01",
            "2025-09-04 13:06:02",
            "2025-09-04 13:06:03",
            "2025-09-04 13:06:04",
            "2025-09-04 13:06:05",
            "2025-09-04 13:06:06",
            "2025-09-04 13:06:07"
           ],
           "type": "scatter",
           "x": {
            "bdata": "G8mpn5JGFEAv7heNUokYQPnfA9G9WB1AtDiO8N9qIUDs1X1GxlIjQBLhC9AvlCRAkjFQCCnRJUAAAAAAAADwfw==",
            "dtype": "f8"
           },
           "y": {
            "bdata": "clQKTkayGUBd8PP/RpUgQJMdqY+WayRAhkhDcEFHKUChAf4OjCcuQBf5jt3AdjFApjki6kjsM0AAAAAAAADwfw==",
            "dtype": "f8"
           }
          }
         ],
         "name": "2025-09-04 13:06:07",
         "traces": [
          0,
          1
         ]
        },
        {
         "data": [
          {
           "type": "scatter",
           "x": [
            0,
            0
           ],
           "y": [
            0,
            0
           ]
          },
          {
           "hovertemplate": "GroundTruthState<br>(%{x}, %{y})<br>Time: %{meta}",
           "meta": [
            "2025-09-04 13:06:02",
            "2025-09-04 13:06:03",
            "2025-09-04 13:06:04",
            "2025-09-04 13:06:05",
            "2025-09-04 13:06:06",
            "2025-09-04 13:06:07",
            "2025-09-04 13:06:08"
           ],
           "type": "scatter",
           "x": {
            "bdata": "L+4XjVKJGED53wPRvVgdQLQ4jvDfaiFA7NV9RsZSI0AS4QvQL5QkQJIxUAgp0SVAo23mQHzfJkAAAAAAAADwfw==",
            "dtype": "f8"
           },
           "y": {
            "bdata": "XfDz/0aVIECTHamPlmskQIZIQ3BBRylAoQH+DownLkAX+Y7dwHYxQKY5IupI7DNAGzWtyWtvNkAAAAAAAADwfw==",
            "dtype": "f8"
           }
          }
         ],
         "name": "2025-09-04 13:06:08",
         "traces": [
          0,
          1
         ]
        },
        {
         "data": [
          {
           "type": "scatter",
           "x": [
            0,
            0
           ],
           "y": [
            0,
            0
           ]
          },
          {
           "hovertemplate": "GroundTruthState<br>(%{x}, %{y})<br>Time: %{meta}",
           "meta": [
            "2025-09-04 13:06:03",
            "2025-09-04 13:06:04",
            "2025-09-04 13:06:05",
            "2025-09-04 13:06:06",
            "2025-09-04 13:06:07",
            "2025-09-04 13:06:08",
            "2025-09-04 13:06:09"
           ],
           "type": "scatter",
           "x": {
            "bdata": "+d8D0b1YHUC0OI7w32ohQOzVfUbGUiNAEuEL0C+UJECSMVAIKdElQKNt5kB83yZAVIZqP+IqKEAAAAAAAADwfw==",
            "dtype": "f8"
           },
           "y": {
            "bdata": "kx2pj5ZrJECGSENwQUcpQKEB/g6MJy5AF/mO3cB2MUCmOSLqSOwzQBs1rclrbzZAekRRw+s5OUAAAAAAAADwfw==",
            "dtype": "f8"
           }
          }
         ],
         "name": "2025-09-04 13:06:09",
         "traces": [
          0,
          1
         ]
        },
        {
         "data": [
          {
           "type": "scatter",
           "x": [
            0,
            0
           ],
           "y": [
            0,
            0
           ]
          },
          {
           "hovertemplate": "GroundTruthState<br>(%{x}, %{y})<br>Time: %{meta}",
           "meta": [
            "2025-09-04 13:06:04",
            "2025-09-04 13:06:05",
            "2025-09-04 13:06:06",
            "2025-09-04 13:06:07",
            "2025-09-04 13:06:08",
            "2025-09-04 13:06:09",
            "2025-09-04 13:06:10"
           ],
           "type": "scatter",
           "x": {
            "bdata": "tDiO8N9qIUDs1X1GxlIjQBLhC9AvlCRAkjFQCCnRJUCjbeZAfN8mQFSGaj/iKihAX8G7Muq2KUAAAAAAAADwfw==",
            "dtype": "f8"
           },
           "y": {
            "bdata": "hkhDcEFHKUChAf4OjCcuQBf5jt3AdjFApjki6kjsM0AbNa3Ja282QHpEUcPrOTlAyrd/nSxRPEAAAAAAAADwfw==",
            "dtype": "f8"
           }
          }
         ],
         "name": "2025-09-04 13:06:10",
         "traces": [
          0,
          1
         ]
        },
        {
         "data": [
          {
           "type": "scatter",
           "x": [
            0,
            0
           ],
           "y": [
            0,
            0
           ]
          },
          {
           "hovertemplate": "GroundTruthState<br>(%{x}, %{y})<br>Time: %{meta}",
           "meta": [
            "2025-09-04 13:06:05",
            "2025-09-04 13:06:06",
            "2025-09-04 13:06:07",
            "2025-09-04 13:06:08",
            "2025-09-04 13:06:09",
            "2025-09-04 13:06:10",
            "2025-09-04 13:06:11"
           ],
           "type": "scatter",
           "x": {
            "bdata": "7NV9RsZSI0AS4QvQL5QkQJIxUAgp0SVAo23mQHzfJkBUhmo/4iooQF/BuzLqtilAFQmPCflTK0AAAAAAAADwfw==",
            "dtype": "f8"
           },
           "y": {
            "bdata": "oQH+DownLkAX+Y7dwHYxQKY5IupI7DNAGzWtyWtvNkB6RFHD6zk5QMq3f50sUTxAb1YXWVKnP0AAAAAAAADwfw==",
            "dtype": "f8"
           }
          }
         ],
         "name": "2025-09-04 13:06:11",
         "traces": [
          0,
          1
         ]
        },
        {
         "data": [
          {
           "type": "scatter",
           "x": [
            0,
            0
           ],
           "y": [
            0,
            0
           ]
          },
          {
           "hovertemplate": "GroundTruthState<br>(%{x}, %{y})<br>Time: %{meta}",
           "meta": [
            "2025-09-04 13:06:06",
            "2025-09-04 13:06:07",
            "2025-09-04 13:06:08",
            "2025-09-04 13:06:09",
            "2025-09-04 13:06:10",
            "2025-09-04 13:06:11",
            "2025-09-04 13:06:12"
           ],
           "type": "scatter",
           "x": {
            "bdata": "EuEL0C+UJECSMVAIKdElQKNt5kB83yZAVIZqP+IqKEBfwbsy6rYpQBUJjwn5UytAmLZG/WZSLUAAAAAAAADwfw==",
            "dtype": "f8"
           },
           "y": {
            "bdata": "F/mO3cB2MUCmOSLqSOwzQBs1rclrbzZAekRRw+s5OUDKt3+dLFE8QG9WF1lSpz9ANPmhmdt6QUAAAAAAAADwfw==",
            "dtype": "f8"
           }
          }
         ],
         "name": "2025-09-04 13:06:12",
         "traces": [
          0,
          1
         ]
        },
        {
         "data": [
          {
           "type": "scatter",
           "x": [
            0,
            0
           ],
           "y": [
            0,
            0
           ]
          },
          {
           "hovertemplate": "GroundTruthState<br>(%{x}, %{y})<br>Time: %{meta}",
           "meta": [
            "2025-09-04 13:06:07",
            "2025-09-04 13:06:08",
            "2025-09-04 13:06:09",
            "2025-09-04 13:06:10",
            "2025-09-04 13:06:11",
            "2025-09-04 13:06:12",
            "2025-09-04 13:06:13"
           ],
           "type": "scatter",
           "x": {
            "bdata": "kjFQCCnRJUCjbeZAfN8mQFSGaj/iKihAX8G7Muq2KUAVCY8J+VMrQJi2Rv1mUi1AnzddlQKHL0AAAAAAAADwfw==",
            "dtype": "f8"
           },
           "y": {
            "bdata": "pjki6kjsM0AbNa3Ja282QHpEUcPrOTlAyrd/nSxRPEBvVhdZUqc/QDT5oZnbekFAb2buENQpQ0AAAAAAAADwfw==",
            "dtype": "f8"
           }
          }
         ],
         "name": "2025-09-04 13:06:13",
         "traces": [
          0,
          1
         ]
        },
        {
         "data": [
          {
           "type": "scatter",
           "x": [
            0,
            0
           ],
           "y": [
            0,
            0
           ]
          },
          {
           "hovertemplate": "GroundTruthState<br>(%{x}, %{y})<br>Time: %{meta}",
           "meta": [
            "2025-09-04 13:06:08",
            "2025-09-04 13:06:09",
            "2025-09-04 13:06:10",
            "2025-09-04 13:06:11",
            "2025-09-04 13:06:12",
            "2025-09-04 13:06:13",
            "2025-09-04 13:06:14"
           ],
           "type": "scatter",
           "x": {
            "bdata": "o23mQHzfJkBUhmo/4iooQF/BuzLqtilAFQmPCflTK0CYtkb9ZlItQJ83XZUChy9A39BYSYr+MEAAAAAAAADwfw==",
            "dtype": "f8"
           },
           "y": {
            "bdata": "GzWtyWtvNkB6RFHD6zk5QMq3f50sUTxAb1YXWVKnP0A0+aGZ23pBQG9m7hDUKUNAetV6v0bTREAAAAAAAADwfw==",
            "dtype": "f8"
           }
          }
         ],
         "name": "2025-09-04 13:06:14",
         "traces": [
          0,
          1
         ]
        },
        {
         "data": [
          {
           "type": "scatter",
           "x": [
            0,
            0
           ],
           "y": [
            0,
            0
           ]
          },
          {
           "hovertemplate": "GroundTruthState<br>(%{x}, %{y})<br>Time: %{meta}",
           "meta": [
            "2025-09-04 13:06:09",
            "2025-09-04 13:06:10",
            "2025-09-04 13:06:11",
            "2025-09-04 13:06:12",
            "2025-09-04 13:06:13",
            "2025-09-04 13:06:14",
            "2025-09-04 13:06:15"
           ],
           "type": "scatter",
           "x": {
            "bdata": "VIZqP+IqKEBfwbsy6rYpQBUJjwn5UytAmLZG/WZSLUCfN12VAocvQN/QWEmK/jBAWVDaW1dNMkAAAAAAAADwfw==",
            "dtype": "f8"
           },
           "y": {
            "bdata": "ekRRw+s5OUDKt3+dLFE8QG9WF1lSpz9ANPmhmdt6QUBvZu4Q1ClDQHrVer9G00RADk9xSz15RkAAAAAAAADwfw==",
            "dtype": "f8"
           }
          }
         ],
         "name": "2025-09-04 13:06:15",
         "traces": [
          0,
          1
         ]
        },
        {
         "data": [
          {
           "type": "scatter",
           "x": [
            0,
            0
           ],
           "y": [
            0,
            0
           ]
          },
          {
           "hovertemplate": "GroundTruthState<br>(%{x}, %{y})<br>Time: %{meta}",
           "meta": [
            "2025-09-04 13:06:10",
            "2025-09-04 13:06:11",
            "2025-09-04 13:06:12",
            "2025-09-04 13:06:13",
            "2025-09-04 13:06:14",
            "2025-09-04 13:06:15",
            "2025-09-04 13:06:16"
           ],
           "type": "scatter",
           "x": {
            "bdata": "X8G7Muq2KUAVCY8J+VMrQJi2Rv1mUi1AnzddlQKHL0Df0FhJiv4wQFlQ2ltXTTJAlXsN2z+4M0AAAAAAAADwfw==",
            "dtype": "f8"
           },
           "y": {
            "bdata": "yrd/nSxRPEBvVhdZUqc/QDT5oZnbekFAb2buENQpQ0B61Xq/RtNEQA5PcUs9eUZASq0yGpIISEAAAAAAAADwfw==",
            "dtype": "f8"
           }
          }
         ],
         "name": "2025-09-04 13:06:16",
         "traces": [
          0,
          1
         ]
        }
       ],
       "layout": {
        "autosize": true,
        "colorway": [
         "#EF553B",
         "#00CC96",
         "#AB63FA",
         "#FFA15A",
         "#19D3F3",
         "#FF6692",
         "#B6E880",
         "#FF97FF",
         "#FECB52"
        ],
        "height": 550,
        "sliders": [
         {
          "currentvalue": {
           "font": {
            "size": 16
           },
           "prefix": "Time: ",
           "visible": true,
           "xanchor": "right"
          },
          "len": 0.9,
          "pad": {
           "b": 10,
           "t": 50
          },
          "steps": [
           {
            "args": [
             [
              "2025-09-04 13:05:56"
             ],
             {
              "frame": {
               "duration": 1,
               "easing": "linear",
               "redraw": true
              },
              "transition": {
               "duration": 0,
               "easing": "linear"
              }
             }
            ],
            "label": "13:05:56",
            "method": "animate"
           },
           {
            "args": [
             [
              "2025-09-04 13:05:57"
             ],
             {
              "frame": {
               "duration": 1,
               "easing": "linear",
               "redraw": true
              },
              "transition": {
               "duration": 0,
               "easing": "linear"
              }
             }
            ],
            "label": "13:05:57",
            "method": "animate"
           },
           {
            "args": [
             [
              "2025-09-04 13:05:58"
             ],
             {
              "frame": {
               "duration": 1,
               "easing": "linear",
               "redraw": true
              },
              "transition": {
               "duration": 0,
               "easing": "linear"
              }
             }
            ],
            "label": "13:05:58",
            "method": "animate"
           },
           {
            "args": [
             [
              "2025-09-04 13:05:59"
             ],
             {
              "frame": {
               "duration": 1,
               "easing": "linear",
               "redraw": true
              },
              "transition": {
               "duration": 0,
               "easing": "linear"
              }
             }
            ],
            "label": "13:05:59",
            "method": "animate"
           },
           {
            "args": [
             [
              "2025-09-04 13:06:00"
             ],
             {
              "frame": {
               "duration": 1,
               "easing": "linear",
               "redraw": true
              },
              "transition": {
               "duration": 0,
               "easing": "linear"
              }
             }
            ],
            "label": "13:06:00",
            "method": "animate"
           },
           {
            "args": [
             [
              "2025-09-04 13:06:01"
             ],
             {
              "frame": {
               "duration": 1,
               "easing": "linear",
               "redraw": true
              },
              "transition": {
               "duration": 0,
               "easing": "linear"
              }
             }
            ],
            "label": "13:06:01",
            "method": "animate"
           },
           {
            "args": [
             [
              "2025-09-04 13:06:02"
             ],
             {
              "frame": {
               "duration": 1,
               "easing": "linear",
               "redraw": true
              },
              "transition": {
               "duration": 0,
               "easing": "linear"
              }
             }
            ],
            "label": "13:06:02",
            "method": "animate"
           },
           {
            "args": [
             [
              "2025-09-04 13:06:03"
             ],
             {
              "frame": {
               "duration": 1,
               "easing": "linear",
               "redraw": true
              },
              "transition": {
               "duration": 0,
               "easing": "linear"
              }
             }
            ],
            "label": "13:06:03",
            "method": "animate"
           },
           {
            "args": [
             [
              "2025-09-04 13:06:04"
             ],
             {
              "frame": {
               "duration": 1,
               "easing": "linear",
               "redraw": true
              },
              "transition": {
               "duration": 0,
               "easing": "linear"
              }
             }
            ],
            "label": "13:06:04",
            "method": "animate"
           },
           {
            "args": [
             [
              "2025-09-04 13:06:05"
             ],
             {
              "frame": {
               "duration": 1,
               "easing": "linear",
               "redraw": true
              },
              "transition": {
               "duration": 0,
               "easing": "linear"
              }
             }
            ],
            "label": "13:06:05",
            "method": "animate"
           },
           {
            "args": [
             [
              "2025-09-04 13:06:06"
             ],
             {
              "frame": {
               "duration": 1,
               "easing": "linear",
               "redraw": true
              },
              "transition": {
               "duration": 0,
               "easing": "linear"
              }
             }
            ],
            "label": "13:06:06",
            "method": "animate"
           },
           {
            "args": [
             [
              "2025-09-04 13:06:07"
             ],
             {
              "frame": {
               "duration": 1,
               "easing": "linear",
               "redraw": true
              },
              "transition": {
               "duration": 0,
               "easing": "linear"
              }
             }
            ],
            "label": "13:06:07",
            "method": "animate"
           },
           {
            "args": [
             [
              "2025-09-04 13:06:08"
             ],
             {
              "frame": {
               "duration": 1,
               "easing": "linear",
               "redraw": true
              },
              "transition": {
               "duration": 0,
               "easing": "linear"
              }
             }
            ],
            "label": "13:06:08",
            "method": "animate"
           },
           {
            "args": [
             [
              "2025-09-04 13:06:09"
             ],
             {
              "frame": {
               "duration": 1,
               "easing": "linear",
               "redraw": true
              },
              "transition": {
               "duration": 0,
               "easing": "linear"
              }
             }
            ],
            "label": "13:06:09",
            "method": "animate"
           },
           {
            "args": [
             [
              "2025-09-04 13:06:10"
             ],
             {
              "frame": {
               "duration": 1,
               "easing": "linear",
               "redraw": true
              },
              "transition": {
               "duration": 0,
               "easing": "linear"
              }
             }
            ],
            "label": "13:06:10",
            "method": "animate"
           },
           {
            "args": [
             [
              "2025-09-04 13:06:11"
             ],
             {
              "frame": {
               "duration": 1,
               "easing": "linear",
               "redraw": true
              },
              "transition": {
               "duration": 0,
               "easing": "linear"
              }
             }
            ],
            "label": "13:06:11",
            "method": "animate"
           },
           {
            "args": [
             [
              "2025-09-04 13:06:12"
             ],
             {
              "frame": {
               "duration": 1,
               "easing": "linear",
               "redraw": true
              },
              "transition": {
               "duration": 0,
               "easing": "linear"
              }
             }
            ],
            "label": "13:06:12",
            "method": "animate"
           },
           {
            "args": [
             [
              "2025-09-04 13:06:13"
             ],
             {
              "frame": {
               "duration": 1,
               "easing": "linear",
               "redraw": true
              },
              "transition": {
               "duration": 0,
               "easing": "linear"
              }
             }
            ],
            "label": "13:06:13",
            "method": "animate"
           },
           {
            "args": [
             [
              "2025-09-04 13:06:14"
             ],
             {
              "frame": {
               "duration": 1,
               "easing": "linear",
               "redraw": true
              },
              "transition": {
               "duration": 0,
               "easing": "linear"
              }
             }
            ],
            "label": "13:06:14",
            "method": "animate"
           },
           {
            "args": [
             [
              "2025-09-04 13:06:15"
             ],
             {
              "frame": {
               "duration": 1,
               "easing": "linear",
               "redraw": true
              },
              "transition": {
               "duration": 0,
               "easing": "linear"
              }
             }
            ],
            "label": "13:06:15",
            "method": "animate"
           },
           {
            "args": [
             [
              "2025-09-04 13:06:16"
             ],
             {
              "frame": {
               "duration": 1,
               "easing": "linear",
               "redraw": true
              },
              "transition": {
               "duration": 0,
               "easing": "linear"
              }
             }
            ],
            "label": "13:06:16",
            "method": "animate"
           }
          ],
          "transition": {
           "duration": 285.7142857142857,
           "easing": "linear"
          },
          "x": 0.1,
          "xanchor": "left",
          "y": 0,
          "yanchor": "top"
         }
        ],
        "template": {
         "data": {
          "bar": [
           {
            "error_x": {
             "color": "#2a3f5f"
            },
            "error_y": {
             "color": "#2a3f5f"
            },
            "marker": {
             "line": {
              "color": "#E5ECF6",
              "width": 0.5
             },
             "pattern": {
              "fillmode": "overlay",
              "size": 10,
              "solidity": 0.2
             }
            },
            "type": "bar"
           }
          ],
          "barpolar": [
           {
            "marker": {
             "line": {
              "color": "#E5ECF6",
              "width": 0.5
             },
             "pattern": {
              "fillmode": "overlay",
              "size": 10,
              "solidity": 0.2
             }
            },
            "type": "barpolar"
           }
          ],
          "carpet": [
           {
            "aaxis": {
             "endlinecolor": "#2a3f5f",
             "gridcolor": "white",
             "linecolor": "white",
             "minorgridcolor": "white",
             "startlinecolor": "#2a3f5f"
            },
            "baxis": {
             "endlinecolor": "#2a3f5f",
             "gridcolor": "white",
             "linecolor": "white",
             "minorgridcolor": "white",
             "startlinecolor": "#2a3f5f"
            },
            "type": "carpet"
           }
          ],
          "choropleth": [
           {
            "colorbar": {
             "outlinewidth": 0,
             "ticks": ""
            },
            "type": "choropleth"
           }
          ],
          "contour": [
           {
            "colorbar": {
             "outlinewidth": 0,
             "ticks": ""
            },
            "colorscale": [
             [
              0,
              "#0d0887"
             ],
             [
              0.1111111111111111,
              "#46039f"
             ],
             [
              0.2222222222222222,
              "#7201a8"
             ],
             [
              0.3333333333333333,
              "#9c179e"
             ],
             [
              0.4444444444444444,
              "#bd3786"
             ],
             [
              0.5555555555555556,
              "#d8576b"
             ],
             [
              0.6666666666666666,
              "#ed7953"
             ],
             [
              0.7777777777777778,
              "#fb9f3a"
             ],
             [
              0.8888888888888888,
              "#fdca26"
             ],
             [
              1,
              "#f0f921"
             ]
            ],
            "type": "contour"
           }
          ],
          "contourcarpet": [
           {
            "colorbar": {
             "outlinewidth": 0,
             "ticks": ""
            },
            "type": "contourcarpet"
           }
          ],
          "heatmap": [
           {
            "colorbar": {
             "outlinewidth": 0,
             "ticks": ""
            },
            "colorscale": [
             [
              0,
              "#0d0887"
             ],
             [
              0.1111111111111111,
              "#46039f"
             ],
             [
              0.2222222222222222,
              "#7201a8"
             ],
             [
              0.3333333333333333,
              "#9c179e"
             ],
             [
              0.4444444444444444,
              "#bd3786"
             ],
             [
              0.5555555555555556,
              "#d8576b"
             ],
             [
              0.6666666666666666,
              "#ed7953"
             ],
             [
              0.7777777777777778,
              "#fb9f3a"
             ],
             [
              0.8888888888888888,
              "#fdca26"
             ],
             [
              1,
              "#f0f921"
             ]
            ],
            "type": "heatmap"
           }
          ],
          "histogram": [
           {
            "marker": {
             "pattern": {
              "fillmode": "overlay",
              "size": 10,
              "solidity": 0.2
             }
            },
            "type": "histogram"
           }
          ],
          "histogram2d": [
           {
            "colorbar": {
             "outlinewidth": 0,
             "ticks": ""
            },
            "colorscale": [
             [
              0,
              "#0d0887"
             ],
             [
              0.1111111111111111,
              "#46039f"
             ],
             [
              0.2222222222222222,
              "#7201a8"
             ],
             [
              0.3333333333333333,
              "#9c179e"
             ],
             [
              0.4444444444444444,
              "#bd3786"
             ],
             [
              0.5555555555555556,
              "#d8576b"
             ],
             [
              0.6666666666666666,
              "#ed7953"
             ],
             [
              0.7777777777777778,
              "#fb9f3a"
             ],
             [
              0.8888888888888888,
              "#fdca26"
             ],
             [
              1,
              "#f0f921"
             ]
            ],
            "type": "histogram2d"
           }
          ],
          "histogram2dcontour": [
           {
            "colorbar": {
             "outlinewidth": 0,
             "ticks": ""
            },
            "colorscale": [
             [
              0,
              "#0d0887"
             ],
             [
              0.1111111111111111,
              "#46039f"
             ],
             [
              0.2222222222222222,
              "#7201a8"
             ],
             [
              0.3333333333333333,
              "#9c179e"
             ],
             [
              0.4444444444444444,
              "#bd3786"
             ],
             [
              0.5555555555555556,
              "#d8576b"
             ],
             [
              0.6666666666666666,
              "#ed7953"
             ],
             [
              0.7777777777777778,
              "#fb9f3a"
             ],
             [
              0.8888888888888888,
              "#fdca26"
             ],
             [
              1,
              "#f0f921"
             ]
            ],
            "type": "histogram2dcontour"
           }
          ],
          "mesh3d": [
           {
            "colorbar": {
             "outlinewidth": 0,
             "ticks": ""
            },
            "type": "mesh3d"
           }
          ],
          "parcoords": [
           {
            "line": {
             "colorbar": {
              "outlinewidth": 0,
              "ticks": ""
             }
            },
            "type": "parcoords"
           }
          ],
          "pie": [
           {
            "automargin": true,
            "type": "pie"
           }
          ],
          "scatter": [
           {
            "fillpattern": {
             "fillmode": "overlay",
             "size": 10,
             "solidity": 0.2
            },
            "type": "scatter"
           }
          ],
          "scatter3d": [
           {
            "line": {
             "colorbar": {
              "outlinewidth": 0,
              "ticks": ""
             }
            },
            "marker": {
             "colorbar": {
              "outlinewidth": 0,
              "ticks": ""
             }
            },
            "type": "scatter3d"
           }
          ],
          "scattercarpet": [
           {
            "marker": {
             "colorbar": {
              "outlinewidth": 0,
              "ticks": ""
             }
            },
            "type": "scattercarpet"
           }
          ],
          "scattergeo": [
           {
            "marker": {
             "colorbar": {
              "outlinewidth": 0,
              "ticks": ""
             }
            },
            "type": "scattergeo"
           }
          ],
          "scattergl": [
           {
            "marker": {
             "colorbar": {
              "outlinewidth": 0,
              "ticks": ""
             }
            },
            "type": "scattergl"
           }
          ],
          "scattermap": [
           {
            "marker": {
             "colorbar": {
              "outlinewidth": 0,
              "ticks": ""
             }
            },
            "type": "scattermap"
           }
          ],
          "scattermapbox": [
           {
            "marker": {
             "colorbar": {
              "outlinewidth": 0,
              "ticks": ""
             }
            },
            "type": "scattermapbox"
           }
          ],
          "scatterpolar": [
           {
            "marker": {
             "colorbar": {
              "outlinewidth": 0,
              "ticks": ""
             }
            },
            "type": "scatterpolar"
           }
          ],
          "scatterpolargl": [
           {
            "marker": {
             "colorbar": {
              "outlinewidth": 0,
              "ticks": ""
             }
            },
            "type": "scatterpolargl"
           }
          ],
          "scatterternary": [
           {
            "marker": {
             "colorbar": {
              "outlinewidth": 0,
              "ticks": ""
             }
            },
            "type": "scatterternary"
           }
          ],
          "surface": [
           {
            "colorbar": {
             "outlinewidth": 0,
             "ticks": ""
            },
            "colorscale": [
             [
              0,
              "#0d0887"
             ],
             [
              0.1111111111111111,
              "#46039f"
             ],
             [
              0.2222222222222222,
              "#7201a8"
             ],
             [
              0.3333333333333333,
              "#9c179e"
             ],
             [
              0.4444444444444444,
              "#bd3786"
             ],
             [
              0.5555555555555556,
              "#d8576b"
             ],
             [
              0.6666666666666666,
              "#ed7953"
             ],
             [
              0.7777777777777778,
              "#fb9f3a"
             ],
             [
              0.8888888888888888,
              "#fdca26"
             ],
             [
              1,
              "#f0f921"
             ]
            ],
            "type": "surface"
           }
          ],
          "table": [
           {
            "cells": {
             "fill": {
              "color": "#EBF0F8"
             },
             "line": {
              "color": "white"
             }
            },
            "header": {
             "fill": {
              "color": "#C8D4E3"
             },
             "line": {
              "color": "white"
             }
            },
            "type": "table"
           }
          ]
         },
         "layout": {
          "annotationdefaults": {
           "arrowcolor": "#2a3f5f",
           "arrowhead": 0,
           "arrowwidth": 1
          },
          "autotypenumbers": "strict",
          "coloraxis": {
           "colorbar": {
            "outlinewidth": 0,
            "ticks": ""
           }
          },
          "colorscale": {
           "diverging": [
            [
             0,
             "#8e0152"
            ],
            [
             0.1,
             "#c51b7d"
            ],
            [
             0.2,
             "#de77ae"
            ],
            [
             0.3,
             "#f1b6da"
            ],
            [
             0.4,
             "#fde0ef"
            ],
            [
             0.5,
             "#f7f7f7"
            ],
            [
             0.6,
             "#e6f5d0"
            ],
            [
             0.7,
             "#b8e186"
            ],
            [
             0.8,
             "#7fbc41"
            ],
            [
             0.9,
             "#4d9221"
            ],
            [
             1,
             "#276419"
            ]
           ],
           "sequential": [
            [
             0,
             "#0d0887"
            ],
            [
             0.1111111111111111,
             "#46039f"
            ],
            [
             0.2222222222222222,
             "#7201a8"
            ],
            [
             0.3333333333333333,
             "#9c179e"
            ],
            [
             0.4444444444444444,
             "#bd3786"
            ],
            [
             0.5555555555555556,
             "#d8576b"
            ],
            [
             0.6666666666666666,
             "#ed7953"
            ],
            [
             0.7777777777777778,
             "#fb9f3a"
            ],
            [
             0.8888888888888888,
             "#fdca26"
            ],
            [
             1,
             "#f0f921"
            ]
           ],
           "sequentialminus": [
            [
             0,
             "#0d0887"
            ],
            [
             0.1111111111111111,
             "#46039f"
            ],
            [
             0.2222222222222222,
             "#7201a8"
            ],
            [
             0.3333333333333333,
             "#9c179e"
            ],
            [
             0.4444444444444444,
             "#bd3786"
            ],
            [
             0.5555555555555556,
             "#d8576b"
            ],
            [
             0.6666666666666666,
             "#ed7953"
            ],
            [
             0.7777777777777778,
             "#fb9f3a"
            ],
            [
             0.8888888888888888,
             "#fdca26"
            ],
            [
             1,
             "#f0f921"
            ]
           ]
          },
          "colorway": [
           "#636efa",
           "#EF553B",
           "#00cc96",
           "#ab63fa",
           "#FFA15A",
           "#19d3f3",
           "#FF6692",
           "#B6E880",
           "#FF97FF",
           "#FECB52"
          ],
          "font": {
           "color": "#2a3f5f"
          },
          "geo": {
           "bgcolor": "white",
           "lakecolor": "white",
           "landcolor": "#E5ECF6",
           "showlakes": true,
           "showland": true,
           "subunitcolor": "white"
          },
          "hoverlabel": {
           "align": "left"
          },
          "hovermode": "closest",
          "mapbox": {
           "style": "light"
          },
          "paper_bgcolor": "white",
          "plot_bgcolor": "#E5ECF6",
          "polar": {
           "angularaxis": {
            "gridcolor": "white",
            "linecolor": "white",
            "ticks": ""
           },
           "bgcolor": "#E5ECF6",
           "radialaxis": {
            "gridcolor": "white",
            "linecolor": "white",
            "ticks": ""
           }
          },
          "scene": {
           "xaxis": {
            "backgroundcolor": "#E5ECF6",
            "gridcolor": "white",
            "gridwidth": 2,
            "linecolor": "white",
            "showbackground": true,
            "ticks": "",
            "zerolinecolor": "white"
           },
           "yaxis": {
            "backgroundcolor": "#E5ECF6",
            "gridcolor": "white",
            "gridwidth": 2,
            "linecolor": "white",
            "showbackground": true,
            "ticks": "",
            "zerolinecolor": "white"
           },
           "zaxis": {
            "backgroundcolor": "#E5ECF6",
            "gridcolor": "white",
            "gridwidth": 2,
            "linecolor": "white",
            "showbackground": true,
            "ticks": "",
            "zerolinecolor": "white"
           }
          },
          "shapedefaults": {
           "line": {
            "color": "#2a3f5f"
           }
          },
          "ternary": {
           "aaxis": {
            "gridcolor": "white",
            "linecolor": "white",
            "ticks": ""
           },
           "baxis": {
            "gridcolor": "white",
            "linecolor": "white",
            "ticks": ""
           },
           "bgcolor": "#E5ECF6",
           "caxis": {
            "gridcolor": "white",
            "linecolor": "white",
            "ticks": ""
           }
          },
          "title": {
           "x": 0.05
          },
          "xaxis": {
           "automargin": true,
           "gridcolor": "white",
           "linecolor": "white",
           "ticks": "",
           "title": {
            "standoff": 15
           },
           "zerolinecolor": "white",
           "zerolinewidth": 2
          },
          "yaxis": {
           "automargin": true,
           "gridcolor": "white",
           "linecolor": "white",
           "ticks": "",
           "title": {
            "standoff": 15
           },
           "zerolinecolor": "white",
           "zerolinewidth": 2
          }
         }
        },
        "updatemenus": [
         {
          "buttons": [
           {
            "args": [
             null,
             {
              "frame": {
               "duration": 285.7142857142857,
               "redraw": true
              },
              "fromcurrent": true,
              "transition": {
               "duration": 0
              }
             }
            ],
            "label": "Play",
            "method": "animate"
           },
           {
            "args": [
             [
              null
             ],
             {
              "frame": {
               "duration": 0,
               "redraw": true
              },
              "mode": "immediate",
              "transition": {
               "duration": 0
              }
             }
            ],
            "label": "Stop",
            "method": "animate"
           }
          ],
          "direction": "left",
          "pad": {
           "r": 10,
           "t": 75
          },
          "showactive": true,
          "type": "buttons",
          "x": 0.1,
          "xanchor": "right",
          "y": 0,
          "yanchor": "top"
         }
        ],
        "xaxis": {
         "range": [
          -0.9859862180133669,
          20.705710578280705
         ],
         "title": {
          "text": "<i>x</i>"
         }
        },
        "yaxis": {
         "range": [
          -2.4033479344723028,
          50.470306623918354
         ],
         "title": {
          "text": "<i>y</i>"
         }
        }
       }
      }
     },
     "metadata": {},
     "output_type": "display_data"
    }
   ],
   "source": [
    "from stonesoup.plotter import AnimatedPlotterly\n",
    "plotter = AnimatedPlotterly(timesteps, tail_length=0.3)\n",
    "plotter.plot_ground_truths(truth, [0, 2])\n",
    "plotter.fig"
   ]
  },
  {
   "cell_type": "code",
   "execution_count": 5,
   "id": "742e76a1-d471-4fc7-88b2-0812217f7fe8",
   "metadata": {},
   "outputs": [],
   "source": [
    "from stonesoup.models.measurement.nonlinear import CartesianToBearingRange\n",
    "sensor_x = 50  # Placing the sensor off-centre\n",
    "sensor_y = 0\n",
    "\n",
    "measurement_model = CartesianToBearingRange(\n",
    "    ndim_state=4,\n",
    "    mapping=(0, 2),\n",
    "    noise_covar=np.diag([np.radians(0.2), 1]),  # Covariance matrix. 0.2 degree variance in\n",
    "    # bearing and 1 metre in range\n",
    "    translation_offset=np.array([[sensor_x], [sensor_y]])  # Offset measurements to location of\n",
    "    # sensor in cartesian.\n",
    ")"
   ]
  },
  {
   "cell_type": "code",
   "execution_count": 6,
   "id": "b193ec14-2dcc-4e33-a0e1-e23694875278",
   "metadata": {},
   "outputs": [],
   "source": [
    "from stonesoup.types.detection import Detection\n",
    "\n",
    "measurements = []\n",
    "for state in truth:\n",
    "    measurement = measurement_model.function(state, noise=True)\n",
    "    measurements.append(Detection(measurement, timestamp=state.timestamp,\n",
    "                                  measurement_model=measurement_model))"
   ]
  },
  {
   "cell_type": "code",
   "execution_count": 7,
   "id": "e965ce54-d58f-48d0-83d3-9bcf3b7883f4",
   "metadata": {},
   "outputs": [
    {
     "data": {
      "application/vnd.plotly.v1+json": {
       "config": {
        "plotlyServerURL": "https://plot.ly"
       },
       "data": [
        {
         "hoverinfo": "none",
         "legendgroup": "Ground Truth",
         "legendrank": 100,
         "line": {
          "color": "#EF553B",
          "dash": "dash"
         },
         "mode": "lines",
         "name": "Ground Truth",
         "showlegend": true,
         "type": "scatter",
         "x": [],
         "y": []
        },
        {
         "hoverinfo": "none",
         "legendgroup": "Ground Truth",
         "legendrank": 100,
         "line": {
          "color": "#EF553B",
          "dash": "dash"
         },
         "mode": "lines",
         "name": "Ground Truth",
         "showlegend": false,
         "type": "scatter",
         "x": [],
         "y": []
        },
        {
         "hoverinfo": "none",
         "legendgroup": "Measurements",
         "legendrank": 200,
         "marker": {
          "color": "#636EFA"
         },
         "mode": "markers",
         "name": "Measurements",
         "showlegend": true,
         "type": "scatter",
         "x": [],
         "y": []
        },
        {
         "hoverinfo": "none",
         "legendgroup": "Measurements",
         "legendrank": 200,
         "marker": {
          "color": "#636EFA"
         },
         "mode": "markers",
         "name": "Measurements",
         "showlegend": false,
         "type": "scatter",
         "x": [],
         "y": []
        }
       ],
       "frames": [
        {
         "data": [
          {
           "type": "scatter",
           "x": [
            0,
            0
           ],
           "y": [
            0,
            0
           ]
          },
          {
           "hovertemplate": "GroundTruthState<br>(%{x}, %{y})<br>Time: %{meta}",
           "meta": [
            "2025-09-04 13:05:56"
           ],
           "type": "scatter",
           "x": {
            "bdata": "AAAAAAAAAAAAAAAAAADwfw==",
            "dtype": "f8"
           },
           "y": {
            "bdata": "AAAAAAAAAAAAAAAAAADwfw==",
            "dtype": "f8"
           }
          },
          {
           "type": "scatter",
           "x": [
            null,
            null
           ],
           "y": [
            null,
            null
           ]
          },
          {
           "hovertemplate": "Detection<br>(%{x}, %{y})<br>Time: %{meta}",
           "meta": [
            "2025-09-04 13:05:56"
           ],
           "type": "scatter",
           "x": {
            "bdata": "AN9JOUnGAUAAAAAAAADwfw==",
            "dtype": "f8"
           },
           "y": {
            "bdata": "PieuxKFl7r8AAAAAAADwfw==",
            "dtype": "f8"
           }
          }
         ],
         "name": "2025-09-04 13:05:56",
         "traces": [
          0,
          1,
          2,
          3
         ]
        },
        {
         "data": [
          {
           "type": "scatter",
           "x": [
            0,
            0
           ],
           "y": [
            0,
            0
           ]
          },
          {
           "hovertemplate": "GroundTruthState<br>(%{x}, %{y})<br>Time: %{meta}",
           "meta": [
            "2025-09-04 13:05:56",
            "2025-09-04 13:05:57"
           ],
           "type": "scatter",
           "x": {
            "bdata": "AAAAAAAAAAB6tLpF6NXyPwAAAAAAAPB/",
            "dtype": "f8"
           },
           "y": {
            "bdata": "AAAAAAAAAADQkKGTxALwPwAAAAAAAPB/",
            "dtype": "f8"
           }
          },
          {
           "type": "scatter",
           "x": [
            null,
            null
           ],
           "y": [
            null,
            null
           ]
          },
          {
           "hovertemplate": "Detection<br>(%{x}, %{y})<br>Time: %{meta}",
           "meta": [
            "2025-09-04 13:05:56",
            "2025-09-04 13:05:57"
           ],
           "type": "scatter",
           "x": {
            "bdata": "AN9JOUnGAUAAJytg4Mj4PwAAAAAAAPB/",
            "dtype": "f8"
           },
           "y": {
            "bdata": "PieuxKFl7r9H95tOR4EBwAAAAAAAAPB/",
            "dtype": "f8"
           }
          }
         ],
         "name": "2025-09-04 13:05:57",
         "traces": [
          0,
          1,
          2,
          3
         ]
        },
        {
         "data": [
          {
           "type": "scatter",
           "x": [
            0,
            0
           ],
           "y": [
            0,
            0
           ]
          },
          {
           "hovertemplate": "GroundTruthState<br>(%{x}, %{y})<br>Time: %{meta}",
           "meta": [
            "2025-09-04 13:05:56",
            "2025-09-04 13:05:57",
            "2025-09-04 13:05:58"
           ],
           "type": "scatter",
           "x": {
            "bdata": "AAAAAAAAAAB6tLpF6NXyP2HNMOElNAJAAAAAAAAA8H8=",
            "dtype": "f8"
           },
           "y": {
            "bdata": "AAAAAAAAAADQkKGTxALwP03PNxbuPgBAAAAAAAAA8H8=",
            "dtype": "f8"
           }
          },
          {
           "type": "scatter",
           "x": [
            null,
            null
           ],
           "y": [
            null,
            null
           ]
          },
          {
           "hovertemplate": "Detection<br>(%{x}, %{y})<br>Time: %{meta}",
           "meta": [
            "2025-09-04 13:05:56",
            "2025-09-04 13:05:57",
            "2025-09-04 13:05:58"
           ],
           "type": "scatter",
           "x": {
            "bdata": "AN9JOUnGAUAAJytg4Mj4P/gWENZoeRBAAAAAAAAA8H8=",
            "dtype": "f8"
           },
           "y": {
            "bdata": "PieuxKFl7r9H95tOR4EBwIc1Io0jQSZAAAAAAAAA8H8=",
            "dtype": "f8"
           }
          }
         ],
         "name": "2025-09-04 13:05:58",
         "traces": [
          0,
          1,
          2,
          3
         ]
        },
        {
         "data": [
          {
           "type": "scatter",
           "x": [
            0,
            0
           ],
           "y": [
            0,
            0
           ]
          },
          {
           "hovertemplate": "GroundTruthState<br>(%{x}, %{y})<br>Time: %{meta}",
           "meta": [
            "2025-09-04 13:05:56",
            "2025-09-04 13:05:57",
            "2025-09-04 13:05:58",
            "2025-09-04 13:05:59"
           ],
           "type": "scatter",
           "x": {
            "bdata": "AAAAAAAAAAB6tLpF6NXyP2HNMOElNAJAXldM4pE/CUAAAAAAAADwfw==",
            "dtype": "f8"
           },
           "y": {
            "bdata": "AAAAAAAAAADQkKGTxALwP03PNxbuPgBAy4Dv5lipCUAAAAAAAADwfw==",
            "dtype": "f8"
           }
          },
          {
           "type": "scatter",
           "x": [
            null,
            null
           ],
           "y": [
            null,
            null
           ]
          },
          {
           "hovertemplate": "Detection<br>(%{x}, %{y})<br>Time: %{meta}",
           "meta": [
            "2025-09-04 13:05:56",
            "2025-09-04 13:05:57",
            "2025-09-04 13:05:58",
            "2025-09-04 13:05:59"
           ],
           "type": "scatter",
           "x": {
            "bdata": "AN9JOUnGAUAAJytg4Mj4P/gWENZoeRBAIO8+CvoiEkAAAAAAAADwfw==",
            "dtype": "f8"
           },
           "y": {
            "bdata": "PieuxKFl7r9H95tOR4EBwIc1Io0jQSZAlvCEutQUE0AAAAAAAADwfw==",
            "dtype": "f8"
           }
          }
         ],
         "name": "2025-09-04 13:05:59",
         "traces": [
          0,
          1,
          2,
          3
         ]
        },
        {
         "data": [
          {
           "type": "scatter",
           "x": [
            0,
            0
           ],
           "y": [
            0,
            0
           ]
          },
          {
           "hovertemplate": "GroundTruthState<br>(%{x}, %{y})<br>Time: %{meta}",
           "meta": [
            "2025-09-04 13:05:56",
            "2025-09-04 13:05:57",
            "2025-09-04 13:05:58",
            "2025-09-04 13:05:59",
            "2025-09-04 13:06:00"
           ],
           "type": "scatter",
           "x": {
            "bdata": "AAAAAAAAAAB6tLpF6NXyP2HNMOElNAJAXldM4pE/CUB4sMMCKXIQQAAAAAAAAPB/",
            "dtype": "f8"
           },
           "y": {
            "bdata": "AAAAAAAAAADQkKGTxALwP03PNxbuPgBAy4Dv5lipCUAL289Y57kSQAAAAAAAAPB/",
            "dtype": "f8"
           }
          },
          {
           "type": "scatter",
           "x": [
            null,
            null
           ],
           "y": [
            null,
            null
           ]
          },
          {
           "hovertemplate": "Detection<br>(%{x}, %{y})<br>Time: %{meta}",
           "meta": [
            "2025-09-04 13:05:56",
            "2025-09-04 13:05:57",
            "2025-09-04 13:05:58",
            "2025-09-04 13:05:59",
            "2025-09-04 13:06:00"
           ],
           "type": "scatter",
           "x": {
            "bdata": "AN9JOUnGAUAAJytg4Mj4P/gWENZoeRBAIO8+CvoiEkCgDe0pXuQRQAAAAAAAAPB/",
            "dtype": "f8"
           },
           "y": {
            "bdata": "PieuxKFl7r9H95tOR4EBwIc1Io0jQSZAlvCEutQUE0AX16U5HbARQAAAAAAAAPB/",
            "dtype": "f8"
           }
          }
         ],
         "name": "2025-09-04 13:06:00",
         "traces": [
          0,
          1,
          2,
          3
         ]
        },
        {
         "data": [
          {
           "type": "scatter",
           "x": [
            0,
            0
           ],
           "y": [
            0,
            0
           ]
          },
          {
           "hovertemplate": "GroundTruthState<br>(%{x}, %{y})<br>Time: %{meta}",
           "meta": [
            "2025-09-04 13:05:56",
            "2025-09-04 13:05:57",
            "2025-09-04 13:05:58",
            "2025-09-04 13:05:59",
            "2025-09-04 13:06:00",
            "2025-09-04 13:06:01"
           ],
           "type": "scatter",
           "x": {
            "bdata": "AAAAAAAAAAB6tLpF6NXyP2HNMOElNAJAXldM4pE/CUB4sMMCKXIQQBvJqZ+SRhRAAAAAAAAA8H8=",
            "dtype": "f8"
           },
           "y": {
            "bdata": "AAAAAAAAAADQkKGTxALwP03PNxbuPgBAy4Dv5lipCUAL289Y57kSQHJUCk5GshlAAAAAAAAA8H8=",
            "dtype": "f8"
           }
          },
          {
           "type": "scatter",
           "x": [
            null,
            null
           ],
           "y": [
            null,
            null
           ]
          },
          {
           "hovertemplate": "Detection<br>(%{x}, %{y})<br>Time: %{meta}",
           "meta": [
            "2025-09-04 13:05:56",
            "2025-09-04 13:05:57",
            "2025-09-04 13:05:58",
            "2025-09-04 13:05:59",
            "2025-09-04 13:06:00",
            "2025-09-04 13:06:01"
           ],
           "type": "scatter",
           "x": {
            "bdata": "AN9JOUnGAUAAJytg4Mj4P/gWENZoeRBAIO8+CvoiEkCgDe0pXuQRQIAmtIgSVBdAAAAAAAAA8H8=",
            "dtype": "f8"
           },
           "y": {
            "bdata": "PieuxKFl7r9H95tOR4EBwIc1Io0jQSZAlvCEutQUE0AX16U5HbARQHXTRqi2QyJAAAAAAAAA8H8=",
            "dtype": "f8"
           }
          }
         ],
         "name": "2025-09-04 13:06:01",
         "traces": [
          0,
          1,
          2,
          3
         ]
        },
        {
         "data": [
          {
           "type": "scatter",
           "x": [
            0,
            0
           ],
           "y": [
            0,
            0
           ]
          },
          {
           "hovertemplate": "GroundTruthState<br>(%{x}, %{y})<br>Time: %{meta}",
           "meta": [
            "2025-09-04 13:05:56",
            "2025-09-04 13:05:57",
            "2025-09-04 13:05:58",
            "2025-09-04 13:05:59",
            "2025-09-04 13:06:00",
            "2025-09-04 13:06:01",
            "2025-09-04 13:06:02"
           ],
           "type": "scatter",
           "x": {
            "bdata": "AAAAAAAAAAB6tLpF6NXyP2HNMOElNAJAXldM4pE/CUB4sMMCKXIQQBvJqZ+SRhRAL+4XjVKJGEAAAAAAAADwfw==",
            "dtype": "f8"
           },
           "y": {
            "bdata": "AAAAAAAAAADQkKGTxALwP03PNxbuPgBAy4Dv5lipCUAL289Y57kSQHJUCk5GshlAXfDz/0aVIEAAAAAAAADwfw==",
            "dtype": "f8"
           }
          },
          {
           "type": "scatter",
           "x": [
            null,
            null
           ],
           "y": [
            null,
            null
           ]
          },
          {
           "hovertemplate": "Detection<br>(%{x}, %{y})<br>Time: %{meta}",
           "meta": [
            "2025-09-04 13:05:56",
            "2025-09-04 13:05:57",
            "2025-09-04 13:05:58",
            "2025-09-04 13:05:59",
            "2025-09-04 13:06:00",
            "2025-09-04 13:06:01",
            "2025-09-04 13:06:02"
           ],
           "type": "scatter",
           "x": {
            "bdata": "AN9JOUnGAUAAJytg4Mj4P/gWENZoeRBAIO8+CvoiEkCgDe0pXuQRQIAmtIgSVBdA6GEQLu+vEkAAAAAAAADwfw==",
            "dtype": "f8"
           },
           "y": {
            "bdata": "PieuxKFl7r9H95tOR4EBwIc1Io0jQSZAlvCEutQUE0AX16U5HbARQHXTRqi2QyJAdV+lk0QIIkAAAAAAAADwfw==",
            "dtype": "f8"
           }
          }
         ],
         "name": "2025-09-04 13:06:02",
         "traces": [
          0,
          1,
          2,
          3
         ]
        },
        {
         "data": [
          {
           "type": "scatter",
           "x": [
            0,
            0
           ],
           "y": [
            0,
            0
           ]
          },
          {
           "hovertemplate": "GroundTruthState<br>(%{x}, %{y})<br>Time: %{meta}",
           "meta": [
            "2025-09-04 13:05:57",
            "2025-09-04 13:05:58",
            "2025-09-04 13:05:59",
            "2025-09-04 13:06:00",
            "2025-09-04 13:06:01",
            "2025-09-04 13:06:02",
            "2025-09-04 13:06:03"
           ],
           "type": "scatter",
           "x": {
            "bdata": "erS6RejV8j9hzTDhJTQCQF5XTOKRPwlAeLDDAilyEEAbyamfkkYUQC/uF41SiRhA+d8D0b1YHUAAAAAAAADwfw==",
            "dtype": "f8"
           },
           "y": {
            "bdata": "0JChk8QC8D9NzzcW7j4AQMuA7+ZYqQlAC9vPWOe5EkByVApORrIZQF3w8/9GlSBAkx2pj5ZrJEAAAAAAAADwfw==",
            "dtype": "f8"
           }
          },
          {
           "type": "scatter",
           "x": [
            null,
            null
           ],
           "y": [
            null,
            null
           ]
          },
          {
           "hovertemplate": "Detection<br>(%{x}, %{y})<br>Time: %{meta}",
           "meta": [
            "2025-09-04 13:05:57",
            "2025-09-04 13:05:58",
            "2025-09-04 13:05:59",
            "2025-09-04 13:06:00",
            "2025-09-04 13:06:01",
            "2025-09-04 13:06:02",
            "2025-09-04 13:06:03"
           ],
           "type": "scatter",
           "x": {
            "bdata": "ACcrYODI+D/4FhDWaHkQQCDvPgr6IhJAoA3tKV7kEUCAJrSIElQXQOhhEC7vrxJAqJx5RKmlG0AAAAAAAADwfw==",
            "dtype": "f8"
           },
           "y": {
            "bdata": "R/ebTkeBAcCHNSKNI0EmQJbwhLrUFBNAF9elOR2wEUB100aotkMiQHVfpZNECCJASKCz3OG0GkAAAAAAAADwfw==",
            "dtype": "f8"
           }
          }
         ],
         "name": "2025-09-04 13:06:03",
         "traces": [
          0,
          1,
          2,
          3
         ]
        },
        {
         "data": [
          {
           "type": "scatter",
           "x": [
            0,
            0
           ],
           "y": [
            0,
            0
           ]
          },
          {
           "hovertemplate": "GroundTruthState<br>(%{x}, %{y})<br>Time: %{meta}",
           "meta": [
            "2025-09-04 13:05:58",
            "2025-09-04 13:05:59",
            "2025-09-04 13:06:00",
            "2025-09-04 13:06:01",
            "2025-09-04 13:06:02",
            "2025-09-04 13:06:03",
            "2025-09-04 13:06:04"
           ],
           "type": "scatter",
           "x": {
            "bdata": "Yc0w4SU0AkBeV0zikT8JQHiwwwIpchBAG8mpn5JGFEAv7heNUokYQPnfA9G9WB1AtDiO8N9qIUAAAAAAAADwfw==",
            "dtype": "f8"
           },
           "y": {
            "bdata": "Tc83Fu4+AEDLgO/mWKkJQAvbz1jnuRJAclQKTkayGUBd8PP/RpUgQJMdqY+WayRAhkhDcEFHKUAAAAAAAADwfw==",
            "dtype": "f8"
           }
          },
          {
           "type": "scatter",
           "x": [
            null,
            null
           ],
           "y": [
            null,
            null
           ]
          },
          {
           "hovertemplate": "Detection<br>(%{x}, %{y})<br>Time: %{meta}",
           "meta": [
            "2025-09-04 13:05:58",
            "2025-09-04 13:05:59",
            "2025-09-04 13:06:00",
            "2025-09-04 13:06:01",
            "2025-09-04 13:06:02",
            "2025-09-04 13:06:03",
            "2025-09-04 13:06:04"
           ],
           "type": "scatter",
           "x": {
            "bdata": "+BYQ1mh5EEAg7z4K+iISQKAN7Sle5BFAgCa0iBJUF0DoYRAu768SQKiceUSppRtAQBlyHgjVI0AAAAAAAADwfw==",
            "dtype": "f8"
           },
           "y": {
            "bdata": "hzUijSNBJkCW8IS61BQTQBfXpTkdsBFAddNGqLZDIkB1X6WTRAgiQEigs9zhtBpAxsI+uGsyKkAAAAAAAADwfw==",
            "dtype": "f8"
           }
          }
         ],
         "name": "2025-09-04 13:06:04",
         "traces": [
          0,
          1,
          2,
          3
         ]
        },
        {
         "data": [
          {
           "type": "scatter",
           "x": [
            0,
            0
           ],
           "y": [
            0,
            0
           ]
          },
          {
           "hovertemplate": "GroundTruthState<br>(%{x}, %{y})<br>Time: %{meta}",
           "meta": [
            "2025-09-04 13:05:59",
            "2025-09-04 13:06:00",
            "2025-09-04 13:06:01",
            "2025-09-04 13:06:02",
            "2025-09-04 13:06:03",
            "2025-09-04 13:06:04",
            "2025-09-04 13:06:05"
           ],
           "type": "scatter",
           "x": {
            "bdata": "XldM4pE/CUB4sMMCKXIQQBvJqZ+SRhRAL+4XjVKJGED53wPRvVgdQLQ4jvDfaiFA7NV9RsZSI0AAAAAAAADwfw==",
            "dtype": "f8"
           },
           "y": {
            "bdata": "y4Dv5lipCUAL289Y57kSQHJUCk5GshlAXfDz/0aVIECTHamPlmskQIZIQ3BBRylAoQH+DownLkAAAAAAAADwfw==",
            "dtype": "f8"
           }
          },
          {
           "type": "scatter",
           "x": [
            null,
            null
           ],
           "y": [
            null,
            null
           ]
          },
          {
           "hovertemplate": "Detection<br>(%{x}, %{y})<br>Time: %{meta}",
           "meta": [
            "2025-09-04 13:05:59",
            "2025-09-04 13:06:00",
            "2025-09-04 13:06:01",
            "2025-09-04 13:06:02",
            "2025-09-04 13:06:03",
            "2025-09-04 13:06:04",
            "2025-09-04 13:06:05"
           ],
           "type": "scatter",
           "x": {
            "bdata": "IO8+CvoiEkCgDe0pXuQRQIAmtIgSVBdA6GEQLu+vEkConHlEqaUbQEAZch4I1SNArBxgdfhwKkAAAAAAAADwfw==",
            "dtype": "f8"
           },
           "y": {
            "bdata": "lvCEutQUE0AX16U5HbARQHXTRqi2QyJAdV+lk0QIIkBIoLPc4bQaQMbCPrhrMipAVz3j1gLpM0AAAAAAAADwfw==",
            "dtype": "f8"
           }
          }
         ],
         "name": "2025-09-04 13:06:05",
         "traces": [
          0,
          1,
          2,
          3
         ]
        },
        {
         "data": [
          {
           "type": "scatter",
           "x": [
            0,
            0
           ],
           "y": [
            0,
            0
           ]
          },
          {
           "hovertemplate": "GroundTruthState<br>(%{x}, %{y})<br>Time: %{meta}",
           "meta": [
            "2025-09-04 13:06:00",
            "2025-09-04 13:06:01",
            "2025-09-04 13:06:02",
            "2025-09-04 13:06:03",
            "2025-09-04 13:06:04",
            "2025-09-04 13:06:05",
            "2025-09-04 13:06:06"
           ],
           "type": "scatter",
           "x": {
            "bdata": "eLDDAilyEEAbyamfkkYUQC/uF41SiRhA+d8D0b1YHUC0OI7w32ohQOzVfUbGUiNAEuEL0C+UJEAAAAAAAADwfw==",
            "dtype": "f8"
           },
           "y": {
            "bdata": "C9vPWOe5EkByVApORrIZQF3w8/9GlSBAkx2pj5ZrJECGSENwQUcpQKEB/g6MJy5AF/mO3cB2MUAAAAAAAADwfw==",
            "dtype": "f8"
           }
          },
          {
           "type": "scatter",
           "x": [
            null,
            null
           ],
           "y": [
            null,
            null
           ]
          },
          {
           "hovertemplate": "Detection<br>(%{x}, %{y})<br>Time: %{meta}",
           "meta": [
            "2025-09-04 13:06:00",
            "2025-09-04 13:06:01",
            "2025-09-04 13:06:02",
            "2025-09-04 13:06:03",
            "2025-09-04 13:06:04",
            "2025-09-04 13:06:05",
            "2025-09-04 13:06:06"
           ],
           "type": "scatter",
           "x": {
            "bdata": "oA3tKV7kEUCAJrSIElQXQOhhEC7vrxJAqJx5RKmlG0BAGXIeCNUjQKwcYHX4cCpAZFHT6SqzI0AAAAAAAADwfw==",
            "dtype": "f8"
           },
           "y": {
            "bdata": "F9elOR2wEUB100aotkMiQHVfpZNECCJASKCz3OG0GkDGwj64azIqQFc949YC6TNALuOafCB/MEAAAAAAAADwfw==",
            "dtype": "f8"
           }
          }
         ],
         "name": "2025-09-04 13:06:06",
         "traces": [
          0,
          1,
          2,
          3
         ]
        },
        {
         "data": [
          {
           "type": "scatter",
           "x": [
            0,
            0
           ],
           "y": [
            0,
            0
           ]
          },
          {
           "hovertemplate": "GroundTruthState<br>(%{x}, %{y})<br>Time: %{meta}",
           "meta": [
            "2025-09-04 13:06:01",
            "2025-09-04 13:06:02",
            "2025-09-04 13:06:03",
            "2025-09-04 13:06:04",
            "2025-09-04 13:06:05",
            "2025-09-04 13:06:06",
            "2025-09-04 13:06:07"
           ],
           "type": "scatter",
           "x": {
            "bdata": "G8mpn5JGFEAv7heNUokYQPnfA9G9WB1AtDiO8N9qIUDs1X1GxlIjQBLhC9AvlCRAkjFQCCnRJUAAAAAAAADwfw==",
            "dtype": "f8"
           },
           "y": {
            "bdata": "clQKTkayGUBd8PP/RpUgQJMdqY+WayRAhkhDcEFHKUChAf4OjCcuQBf5jt3AdjFApjki6kjsM0AAAAAAAADwfw==",
            "dtype": "f8"
           }
          },
          {
           "type": "scatter",
           "x": [
            null,
            null
           ],
           "y": [
            null,
            null
           ]
          },
          {
           "hovertemplate": "Detection<br>(%{x}, %{y})<br>Time: %{meta}",
           "meta": [
            "2025-09-04 13:06:01",
            "2025-09-04 13:06:02",
            "2025-09-04 13:06:03",
            "2025-09-04 13:06:04",
            "2025-09-04 13:06:05",
            "2025-09-04 13:06:06",
            "2025-09-04 13:06:07"
           ],
           "type": "scatter",
           "x": {
            "bdata": "gCa0iBJUF0DoYRAu768SQKiceUSppRtAQBlyHgjVI0CsHGB1+HAqQGRR0+kqsyNAOHx1K1MaJ0AAAAAAAADwfw==",
            "dtype": "f8"
           },
           "y": {
            "bdata": "ddNGqLZDIkB1X6WTRAgiQEigs9zhtBpAxsI+uGsyKkBXPePWAukzQC7jmnwgfzBADFOedas5NEAAAAAAAADwfw==",
            "dtype": "f8"
           }
          }
         ],
         "name": "2025-09-04 13:06:07",
         "traces": [
          0,
          1,
          2,
          3
         ]
        },
        {
         "data": [
          {
           "type": "scatter",
           "x": [
            0,
            0
           ],
           "y": [
            0,
            0
           ]
          },
          {
           "hovertemplate": "GroundTruthState<br>(%{x}, %{y})<br>Time: %{meta}",
           "meta": [
            "2025-09-04 13:06:02",
            "2025-09-04 13:06:03",
            "2025-09-04 13:06:04",
            "2025-09-04 13:06:05",
            "2025-09-04 13:06:06",
            "2025-09-04 13:06:07",
            "2025-09-04 13:06:08"
           ],
           "type": "scatter",
           "x": {
            "bdata": "L+4XjVKJGED53wPRvVgdQLQ4jvDfaiFA7NV9RsZSI0AS4QvQL5QkQJIxUAgp0SVAo23mQHzfJkAAAAAAAADwfw==",
            "dtype": "f8"
           },
           "y": {
            "bdata": "XfDz/0aVIECTHamPlmskQIZIQ3BBRylAoQH+DownLkAX+Y7dwHYxQKY5IupI7DNAGzWtyWtvNkAAAAAAAADwfw==",
            "dtype": "f8"
           }
          },
          {
           "type": "scatter",
           "x": [
            null,
            null
           ],
           "y": [
            null,
            null
           ]
          },
          {
           "hovertemplate": "Detection<br>(%{x}, %{y})<br>Time: %{meta}",
           "meta": [
            "2025-09-04 13:06:02",
            "2025-09-04 13:06:03",
            "2025-09-04 13:06:04",
            "2025-09-04 13:06:05",
            "2025-09-04 13:06:06",
            "2025-09-04 13:06:07",
            "2025-09-04 13:06:08"
           ],
           "type": "scatter",
           "x": {
            "bdata": "6GEQLu+vEkConHlEqaUbQEAZch4I1SNArBxgdfhwKkBkUdPpKrMjQDh8dStTGidAOBkmw+L9KkAAAAAAAADwfw==",
            "dtype": "f8"
           },
           "y": {
            "bdata": "dV+lk0QIIkBIoLPc4bQaQMbCPrhrMipAVz3j1gLpM0Au45p8IH8wQAxTnnWrOTRABhnOgCVgOkAAAAAAAADwfw==",
            "dtype": "f8"
           }
          }
         ],
         "name": "2025-09-04 13:06:08",
         "traces": [
          0,
          1,
          2,
          3
         ]
        },
        {
         "data": [
          {
           "type": "scatter",
           "x": [
            0,
            0
           ],
           "y": [
            0,
            0
           ]
          },
          {
           "hovertemplate": "GroundTruthState<br>(%{x}, %{y})<br>Time: %{meta}",
           "meta": [
            "2025-09-04 13:06:03",
            "2025-09-04 13:06:04",
            "2025-09-04 13:06:05",
            "2025-09-04 13:06:06",
            "2025-09-04 13:06:07",
            "2025-09-04 13:06:08",
            "2025-09-04 13:06:09"
           ],
           "type": "scatter",
           "x": {
            "bdata": "+d8D0b1YHUC0OI7w32ohQOzVfUbGUiNAEuEL0C+UJECSMVAIKdElQKNt5kB83yZAVIZqP+IqKEAAAAAAAADwfw==",
            "dtype": "f8"
           },
           "y": {
            "bdata": "kx2pj5ZrJECGSENwQUcpQKEB/g6MJy5AF/mO3cB2MUCmOSLqSOwzQBs1rclrbzZAekRRw+s5OUAAAAAAAADwfw==",
            "dtype": "f8"
           }
          },
          {
           "type": "scatter",
           "x": [
            null,
            null
           ],
           "y": [
            null,
            null
           ]
          },
          {
           "hovertemplate": "Detection<br>(%{x}, %{y})<br>Time: %{meta}",
           "meta": [
            "2025-09-04 13:06:03",
            "2025-09-04 13:06:04",
            "2025-09-04 13:06:05",
            "2025-09-04 13:06:06",
            "2025-09-04 13:06:07",
            "2025-09-04 13:06:08",
            "2025-09-04 13:06:09"
           ],
           "type": "scatter",
           "x": {
            "bdata": "qJx5RKmlG0BAGXIeCNUjQKwcYHX4cCpAZFHT6SqzI0A4fHUrUxonQDgZJsPi/SpA7JPYWtFrIkAAAAAAAADwfw==",
            "dtype": "f8"
           },
           "y": {
            "bdata": "SKCz3OG0GkDGwj64azIqQFc949YC6TNALuOafCB/MEAMU551qzk0QAYZzoAlYDpAl0f29RftNEAAAAAAAADwfw==",
            "dtype": "f8"
           }
          }
         ],
         "name": "2025-09-04 13:06:09",
         "traces": [
          0,
          1,
          2,
          3
         ]
        },
        {
         "data": [
          {
           "type": "scatter",
           "x": [
            0,
            0
           ],
           "y": [
            0,
            0
           ]
          },
          {
           "hovertemplate": "GroundTruthState<br>(%{x}, %{y})<br>Time: %{meta}",
           "meta": [
            "2025-09-04 13:06:04",
            "2025-09-04 13:06:05",
            "2025-09-04 13:06:06",
            "2025-09-04 13:06:07",
            "2025-09-04 13:06:08",
            "2025-09-04 13:06:09",
            "2025-09-04 13:06:10"
           ],
           "type": "scatter",
           "x": {
            "bdata": "tDiO8N9qIUDs1X1GxlIjQBLhC9AvlCRAkjFQCCnRJUCjbeZAfN8mQFSGaj/iKihAX8G7Muq2KUAAAAAAAADwfw==",
            "dtype": "f8"
           },
           "y": {
            "bdata": "hkhDcEFHKUChAf4OjCcuQBf5jt3AdjFApjki6kjsM0AbNa3Ja282QHpEUcPrOTlAyrd/nSxRPEAAAAAAAADwfw==",
            "dtype": "f8"
           }
          },
          {
           "type": "scatter",
           "x": [
            null,
            null
           ],
           "y": [
            null,
            null
           ]
          },
          {
           "hovertemplate": "Detection<br>(%{x}, %{y})<br>Time: %{meta}",
           "meta": [
            "2025-09-04 13:06:04",
            "2025-09-04 13:06:05",
            "2025-09-04 13:06:06",
            "2025-09-04 13:06:07",
            "2025-09-04 13:06:08",
            "2025-09-04 13:06:09",
            "2025-09-04 13:06:10"
           ],
           "type": "scatter",
           "x": {
            "bdata": "QBlyHgjVI0CsHGB1+HAqQGRR0+kqsyNAOHx1K1MaJ0A4GSbD4v0qQOyT2FrRayJApGFoAQCnLUAAAAAAAADwfw==",
            "dtype": "f8"
           },
           "y": {
            "bdata": "xsI+uGsyKkBXPePWAukzQC7jmnwgfzBADFOedas5NEAGGc6AJWA6QJdH9vUX7TRAQVTHG1L7PUAAAAAAAADwfw==",
            "dtype": "f8"
           }
          }
         ],
         "name": "2025-09-04 13:06:10",
         "traces": [
          0,
          1,
          2,
          3
         ]
        },
        {
         "data": [
          {
           "type": "scatter",
           "x": [
            0,
            0
           ],
           "y": [
            0,
            0
           ]
          },
          {
           "hovertemplate": "GroundTruthState<br>(%{x}, %{y})<br>Time: %{meta}",
           "meta": [
            "2025-09-04 13:06:05",
            "2025-09-04 13:06:06",
            "2025-09-04 13:06:07",
            "2025-09-04 13:06:08",
            "2025-09-04 13:06:09",
            "2025-09-04 13:06:10",
            "2025-09-04 13:06:11"
           ],
           "type": "scatter",
           "x": {
            "bdata": "7NV9RsZSI0AS4QvQL5QkQJIxUAgp0SVAo23mQHzfJkBUhmo/4iooQF/BuzLqtilAFQmPCflTK0AAAAAAAADwfw==",
            "dtype": "f8"
           },
           "y": {
            "bdata": "oQH+DownLkAX+Y7dwHYxQKY5IupI7DNAGzWtyWtvNkB6RFHD6zk5QMq3f50sUTxAb1YXWVKnP0AAAAAAAADwfw==",
            "dtype": "f8"
           }
          },
          {
           "type": "scatter",
           "x": [
            null,
            null
           ],
           "y": [
            null,
            null
           ]
          },
          {
           "hovertemplate": "Detection<br>(%{x}, %{y})<br>Time: %{meta}",
           "meta": [
            "2025-09-04 13:06:05",
            "2025-09-04 13:06:06",
            "2025-09-04 13:06:07",
            "2025-09-04 13:06:08",
            "2025-09-04 13:06:09",
            "2025-09-04 13:06:10",
            "2025-09-04 13:06:11"
           ],
           "type": "scatter",
           "x": {
            "bdata": "rBxgdfhwKkBkUdPpKrMjQDh8dStTGidAOBkmw+L9KkDsk9ha0WsiQKRhaAEApy1AYN8JMl9jJ0AAAAAAAADwfw==",
            "dtype": "f8"
           },
           "y": {
            "bdata": "Vz3j1gLpM0Au45p8IH8wQAxTnnWrOTRABhnOgCVgOkCXR/b1F+00QEFUxxtS+z1Aoz79sPw6O0AAAAAAAADwfw==",
            "dtype": "f8"
           }
          }
         ],
         "name": "2025-09-04 13:06:11",
         "traces": [
          0,
          1,
          2,
          3
         ]
        },
        {
         "data": [
          {
           "type": "scatter",
           "x": [
            0,
            0
           ],
           "y": [
            0,
            0
           ]
          },
          {
           "hovertemplate": "GroundTruthState<br>(%{x}, %{y})<br>Time: %{meta}",
           "meta": [
            "2025-09-04 13:06:06",
            "2025-09-04 13:06:07",
            "2025-09-04 13:06:08",
            "2025-09-04 13:06:09",
            "2025-09-04 13:06:10",
            "2025-09-04 13:06:11",
            "2025-09-04 13:06:12"
           ],
           "type": "scatter",
           "x": {
            "bdata": "EuEL0C+UJECSMVAIKdElQKNt5kB83yZAVIZqP+IqKEBfwbsy6rYpQBUJjwn5UytAmLZG/WZSLUAAAAAAAADwfw==",
            "dtype": "f8"
           },
           "y": {
            "bdata": "F/mO3cB2MUCmOSLqSOwzQBs1rclrbzZAekRRw+s5OUDKt3+dLFE8QG9WF1lSpz9ANPmhmdt6QUAAAAAAAADwfw==",
            "dtype": "f8"
           }
          },
          {
           "type": "scatter",
           "x": [
            null,
            null
           ],
           "y": [
            null,
            null
           ]
          },
          {
           "hovertemplate": "Detection<br>(%{x}, %{y})<br>Time: %{meta}",
           "meta": [
            "2025-09-04 13:06:06",
            "2025-09-04 13:06:07",
            "2025-09-04 13:06:08",
            "2025-09-04 13:06:09",
            "2025-09-04 13:06:10",
            "2025-09-04 13:06:11",
            "2025-09-04 13:06:12"
           ],
           "type": "scatter",
           "x": {
            "bdata": "ZFHT6SqzI0A4fHUrUxonQDgZJsPi/SpA7JPYWtFrIkCkYWgBAKctQGDfCTJfYydAthuNabgIMEAAAAAAAADwfw==",
            "dtype": "f8"
           },
           "y": {
            "bdata": "LuOafCB/MEAMU551qzk0QAYZzoAlYDpAl0f29RftNEBBVMcbUvs9QKM+/bD8OjtA6ZYiKdkJQkAAAAAAAADwfw==",
            "dtype": "f8"
           }
          }
         ],
         "name": "2025-09-04 13:06:12",
         "traces": [
          0,
          1,
          2,
          3
         ]
        },
        {
         "data": [
          {
           "type": "scatter",
           "x": [
            0,
            0
           ],
           "y": [
            0,
            0
           ]
          },
          {
           "hovertemplate": "GroundTruthState<br>(%{x}, %{y})<br>Time: %{meta}",
           "meta": [
            "2025-09-04 13:06:07",
            "2025-09-04 13:06:08",
            "2025-09-04 13:06:09",
            "2025-09-04 13:06:10",
            "2025-09-04 13:06:11",
            "2025-09-04 13:06:12",
            "2025-09-04 13:06:13"
           ],
           "type": "scatter",
           "x": {
            "bdata": "kjFQCCnRJUCjbeZAfN8mQFSGaj/iKihAX8G7Muq2KUAVCY8J+VMrQJi2Rv1mUi1AnzddlQKHL0AAAAAAAADwfw==",
            "dtype": "f8"
           },
           "y": {
            "bdata": "pjki6kjsM0AbNa3Ja282QHpEUcPrOTlAyrd/nSxRPEBvVhdZUqc/QDT5oZnbekFAb2buENQpQ0AAAAAAAADwfw==",
            "dtype": "f8"
           }
          },
          {
           "type": "scatter",
           "x": [
            null,
            null
           ],
           "y": [
            null,
            null
           ]
          },
          {
           "hovertemplate": "Detection<br>(%{x}, %{y})<br>Time: %{meta}",
           "meta": [
            "2025-09-04 13:06:07",
            "2025-09-04 13:06:08",
            "2025-09-04 13:06:09",
            "2025-09-04 13:06:10",
            "2025-09-04 13:06:11",
            "2025-09-04 13:06:12",
            "2025-09-04 13:06:13"
           ],
           "type": "scatter",
           "x": {
            "bdata": "OHx1K1MaJ0A4GSbD4v0qQOyT2FrRayJApGFoAQCnLUBg3wkyX2MnQLYbjWm4CDBAEgfx2f04M0AAAAAAAADwfw==",
            "dtype": "f8"
           },
           "y": {
            "bdata": "DFOedas5NEAGGc6AJWA6QJdH9vUX7TRAQVTHG1L7PUCjPv2w/Do7QOmWIinZCUJATEc6lszOQ0AAAAAAAADwfw==",
            "dtype": "f8"
           }
          }
         ],
         "name": "2025-09-04 13:06:13",
         "traces": [
          0,
          1,
          2,
          3
         ]
        },
        {
         "data": [
          {
           "type": "scatter",
           "x": [
            0,
            0
           ],
           "y": [
            0,
            0
           ]
          },
          {
           "hovertemplate": "GroundTruthState<br>(%{x}, %{y})<br>Time: %{meta}",
           "meta": [
            "2025-09-04 13:06:08",
            "2025-09-04 13:06:09",
            "2025-09-04 13:06:10",
            "2025-09-04 13:06:11",
            "2025-09-04 13:06:12",
            "2025-09-04 13:06:13",
            "2025-09-04 13:06:14"
           ],
           "type": "scatter",
           "x": {
            "bdata": "o23mQHzfJkBUhmo/4iooQF/BuzLqtilAFQmPCflTK0CYtkb9ZlItQJ83XZUChy9A39BYSYr+MEAAAAAAAADwfw==",
            "dtype": "f8"
           },
           "y": {
            "bdata": "GzWtyWtvNkB6RFHD6zk5QMq3f50sUTxAb1YXWVKnP0A0+aGZ23pBQG9m7hDUKUNAetV6v0bTREAAAAAAAADwfw==",
            "dtype": "f8"
           }
          },
          {
           "type": "scatter",
           "x": [
            null,
            null
           ],
           "y": [
            null,
            null
           ]
          },
          {
           "hovertemplate": "Detection<br>(%{x}, %{y})<br>Time: %{meta}",
           "meta": [
            "2025-09-04 13:06:08",
            "2025-09-04 13:06:09",
            "2025-09-04 13:06:10",
            "2025-09-04 13:06:11",
            "2025-09-04 13:06:12",
            "2025-09-04 13:06:13",
            "2025-09-04 13:06:14"
           ],
           "type": "scatter",
           "x": {
            "bdata": "OBkmw+L9KkDsk9ha0WsiQKRhaAEApy1AYN8JMl9jJ0C2G41puAgwQBIH8dn9ODNAOvk16lbOMUAAAAAAAADwfw==",
            "dtype": "f8"
           },
           "y": {
            "bdata": "BhnOgCVgOkCXR/b1F+00QEFUxxtS+z1Aoz79sPw6O0DpliIp2QlCQExHOpbMzkNAwCU76iBZRUAAAAAAAADwfw==",
            "dtype": "f8"
           }
          }
         ],
         "name": "2025-09-04 13:06:14",
         "traces": [
          0,
          1,
          2,
          3
         ]
        },
        {
         "data": [
          {
           "type": "scatter",
           "x": [
            0,
            0
           ],
           "y": [
            0,
            0
           ]
          },
          {
           "hovertemplate": "GroundTruthState<br>(%{x}, %{y})<br>Time: %{meta}",
           "meta": [
            "2025-09-04 13:06:09",
            "2025-09-04 13:06:10",
            "2025-09-04 13:06:11",
            "2025-09-04 13:06:12",
            "2025-09-04 13:06:13",
            "2025-09-04 13:06:14",
            "2025-09-04 13:06:15"
           ],
           "type": "scatter",
           "x": {
            "bdata": "VIZqP+IqKEBfwbsy6rYpQBUJjwn5UytAmLZG/WZSLUCfN12VAocvQN/QWEmK/jBAWVDaW1dNMkAAAAAAAADwfw==",
            "dtype": "f8"
           },
           "y": {
            "bdata": "ekRRw+s5OUDKt3+dLFE8QG9WF1lSpz9ANPmhmdt6QUBvZu4Q1ClDQHrVer9G00RADk9xSz15RkAAAAAAAADwfw==",
            "dtype": "f8"
           }
          },
          {
           "type": "scatter",
           "x": [
            null,
            null
           ],
           "y": [
            null,
            null
           ]
          },
          {
           "hovertemplate": "Detection<br>(%{x}, %{y})<br>Time: %{meta}",
           "meta": [
            "2025-09-04 13:06:09",
            "2025-09-04 13:06:10",
            "2025-09-04 13:06:11",
            "2025-09-04 13:06:12",
            "2025-09-04 13:06:13",
            "2025-09-04 13:06:14",
            "2025-09-04 13:06:15"
           ],
           "type": "scatter",
           "x": {
            "bdata": "7JPYWtFrIkCkYWgBAKctQGDfCTJfYydAthuNabgIMEASB/HZ/TgzQDr5NepWzjFAe+6PYYRCNkAAAAAAAADwfw==",
            "dtype": "f8"
           },
           "y": {
            "bdata": "l0f29RftNEBBVMcbUvs9QKM+/bD8OjtA6ZYiKdkJQkBMRzqWzM5DQMAlO+ogWUVAaWB99+D8RkAAAAAAAADwfw==",
            "dtype": "f8"
           }
          }
         ],
         "name": "2025-09-04 13:06:15",
         "traces": [
          0,
          1,
          2,
          3
         ]
        },
        {
         "data": [
          {
           "type": "scatter",
           "x": [
            0,
            0
           ],
           "y": [
            0,
            0
           ]
          },
          {
           "hovertemplate": "GroundTruthState<br>(%{x}, %{y})<br>Time: %{meta}",
           "meta": [
            "2025-09-04 13:06:10",
            "2025-09-04 13:06:11",
            "2025-09-04 13:06:12",
            "2025-09-04 13:06:13",
            "2025-09-04 13:06:14",
            "2025-09-04 13:06:15",
            "2025-09-04 13:06:16"
           ],
           "type": "scatter",
           "x": {
            "bdata": "X8G7Muq2KUAVCY8J+VMrQJi2Rv1mUi1AnzddlQKHL0Df0FhJiv4wQFlQ2ltXTTJAlXsN2z+4M0AAAAAAAADwfw==",
            "dtype": "f8"
           },
           "y": {
            "bdata": "yrd/nSxRPEBvVhdZUqc/QDT5oZnbekFAb2buENQpQ0B61Xq/RtNEQA5PcUs9eUZASq0yGpIISEAAAAAAAADwfw==",
            "dtype": "f8"
           }
          },
          {
           "type": "scatter",
           "x": [
            null,
            null
           ],
           "y": [
            null,
            null
           ]
          },
          {
           "hovertemplate": "Detection<br>(%{x}, %{y})<br>Time: %{meta}",
           "meta": [
            "2025-09-04 13:06:10",
            "2025-09-04 13:06:11",
            "2025-09-04 13:06:12",
            "2025-09-04 13:06:13",
            "2025-09-04 13:06:14",
            "2025-09-04 13:06:15",
            "2025-09-04 13:06:16"
           ],
           "type": "scatter",
           "x": {
            "bdata": "pGFoAQCnLUBg3wkyX2MnQLYbjWm4CDBAEgfx2f04M0A6+TXqVs4xQHvuj2GEQjZAmeQ0SEhlOUAAAAAAAADwfw==",
            "dtype": "f8"
           },
           "y": {
            "bdata": "QVTHG1L7PUCjPv2w/Do7QOmWIinZCUJATEc6lszOQ0DAJTvqIFlFQGlgfffg/EZAZbh1D++PSUAAAAAAAADwfw==",
            "dtype": "f8"
           }
          }
         ],
         "name": "2025-09-04 13:06:16",
         "traces": [
          0,
          1,
          2,
          3
         ]
        }
       ],
       "layout": {
        "autosize": true,
        "colorway": [
         "#EF553B",
         "#00CC96",
         "#AB63FA",
         "#FFA15A",
         "#19D3F3",
         "#FF6692",
         "#B6E880",
         "#FF97FF",
         "#FECB52"
        ],
        "height": 550,
        "sliders": [
         {
          "currentvalue": {
           "font": {
            "size": 16
           },
           "prefix": "Time: ",
           "visible": true,
           "xanchor": "right"
          },
          "len": 0.9,
          "pad": {
           "b": 10,
           "t": 50
          },
          "steps": [
           {
            "args": [
             [
              "2025-09-04 13:05:56"
             ],
             {
              "frame": {
               "duration": 1,
               "easing": "linear",
               "redraw": true
              },
              "transition": {
               "duration": 0,
               "easing": "linear"
              }
             }
            ],
            "label": "13:05:56",
            "method": "animate"
           },
           {
            "args": [
             [
              "2025-09-04 13:05:57"
             ],
             {
              "frame": {
               "duration": 1,
               "easing": "linear",
               "redraw": true
              },
              "transition": {
               "duration": 0,
               "easing": "linear"
              }
             }
            ],
            "label": "13:05:57",
            "method": "animate"
           },
           {
            "args": [
             [
              "2025-09-04 13:05:58"
             ],
             {
              "frame": {
               "duration": 1,
               "easing": "linear",
               "redraw": true
              },
              "transition": {
               "duration": 0,
               "easing": "linear"
              }
             }
            ],
            "label": "13:05:58",
            "method": "animate"
           },
           {
            "args": [
             [
              "2025-09-04 13:05:59"
             ],
             {
              "frame": {
               "duration": 1,
               "easing": "linear",
               "redraw": true
              },
              "transition": {
               "duration": 0,
               "easing": "linear"
              }
             }
            ],
            "label": "13:05:59",
            "method": "animate"
           },
           {
            "args": [
             [
              "2025-09-04 13:06:00"
             ],
             {
              "frame": {
               "duration": 1,
               "easing": "linear",
               "redraw": true
              },
              "transition": {
               "duration": 0,
               "easing": "linear"
              }
             }
            ],
            "label": "13:06:00",
            "method": "animate"
           },
           {
            "args": [
             [
              "2025-09-04 13:06:01"
             ],
             {
              "frame": {
               "duration": 1,
               "easing": "linear",
               "redraw": true
              },
              "transition": {
               "duration": 0,
               "easing": "linear"
              }
             }
            ],
            "label": "13:06:01",
            "method": "animate"
           },
           {
            "args": [
             [
              "2025-09-04 13:06:02"
             ],
             {
              "frame": {
               "duration": 1,
               "easing": "linear",
               "redraw": true
              },
              "transition": {
               "duration": 0,
               "easing": "linear"
              }
             }
            ],
            "label": "13:06:02",
            "method": "animate"
           },
           {
            "args": [
             [
              "2025-09-04 13:06:03"
             ],
             {
              "frame": {
               "duration": 1,
               "easing": "linear",
               "redraw": true
              },
              "transition": {
               "duration": 0,
               "easing": "linear"
              }
             }
            ],
            "label": "13:06:03",
            "method": "animate"
           },
           {
            "args": [
             [
              "2025-09-04 13:06:04"
             ],
             {
              "frame": {
               "duration": 1,
               "easing": "linear",
               "redraw": true
              },
              "transition": {
               "duration": 0,
               "easing": "linear"
              }
             }
            ],
            "label": "13:06:04",
            "method": "animate"
           },
           {
            "args": [
             [
              "2025-09-04 13:06:05"
             ],
             {
              "frame": {
               "duration": 1,
               "easing": "linear",
               "redraw": true
              },
              "transition": {
               "duration": 0,
               "easing": "linear"
              }
             }
            ],
            "label": "13:06:05",
            "method": "animate"
           },
           {
            "args": [
             [
              "2025-09-04 13:06:06"
             ],
             {
              "frame": {
               "duration": 1,
               "easing": "linear",
               "redraw": true
              },
              "transition": {
               "duration": 0,
               "easing": "linear"
              }
             }
            ],
            "label": "13:06:06",
            "method": "animate"
           },
           {
            "args": [
             [
              "2025-09-04 13:06:07"
             ],
             {
              "frame": {
               "duration": 1,
               "easing": "linear",
               "redraw": true
              },
              "transition": {
               "duration": 0,
               "easing": "linear"
              }
             }
            ],
            "label": "13:06:07",
            "method": "animate"
           },
           {
            "args": [
             [
              "2025-09-04 13:06:08"
             ],
             {
              "frame": {
               "duration": 1,
               "easing": "linear",
               "redraw": true
              },
              "transition": {
               "duration": 0,
               "easing": "linear"
              }
             }
            ],
            "label": "13:06:08",
            "method": "animate"
           },
           {
            "args": [
             [
              "2025-09-04 13:06:09"
             ],
             {
              "frame": {
               "duration": 1,
               "easing": "linear",
               "redraw": true
              },
              "transition": {
               "duration": 0,
               "easing": "linear"
              }
             }
            ],
            "label": "13:06:09",
            "method": "animate"
           },
           {
            "args": [
             [
              "2025-09-04 13:06:10"
             ],
             {
              "frame": {
               "duration": 1,
               "easing": "linear",
               "redraw": true
              },
              "transition": {
               "duration": 0,
               "easing": "linear"
              }
             }
            ],
            "label": "13:06:10",
            "method": "animate"
           },
           {
            "args": [
             [
              "2025-09-04 13:06:11"
             ],
             {
              "frame": {
               "duration": 1,
               "easing": "linear",
               "redraw": true
              },
              "transition": {
               "duration": 0,
               "easing": "linear"
              }
             }
            ],
            "label": "13:06:11",
            "method": "animate"
           },
           {
            "args": [
             [
              "2025-09-04 13:06:12"
             ],
             {
              "frame": {
               "duration": 1,
               "easing": "linear",
               "redraw": true
              },
              "transition": {
               "duration": 0,
               "easing": "linear"
              }
             }
            ],
            "label": "13:06:12",
            "method": "animate"
           },
           {
            "args": [
             [
              "2025-09-04 13:06:13"
             ],
             {
              "frame": {
               "duration": 1,
               "easing": "linear",
               "redraw": true
              },
              "transition": {
               "duration": 0,
               "easing": "linear"
              }
             }
            ],
            "label": "13:06:13",
            "method": "animate"
           },
           {
            "args": [
             [
              "2025-09-04 13:06:14"
             ],
             {
              "frame": {
               "duration": 1,
               "easing": "linear",
               "redraw": true
              },
              "transition": {
               "duration": 0,
               "easing": "linear"
              }
             }
            ],
            "label": "13:06:14",
            "method": "animate"
           },
           {
            "args": [
             [
              "2025-09-04 13:06:15"
             ],
             {
              "frame": {
               "duration": 1,
               "easing": "linear",
               "redraw": true
              },
              "transition": {
               "duration": 0,
               "easing": "linear"
              }
             }
            ],
            "label": "13:06:15",
            "method": "animate"
           },
           {
            "args": [
             [
              "2025-09-04 13:06:16"
             ],
             {
              "frame": {
               "duration": 1,
               "easing": "linear",
               "redraw": true
              },
              "transition": {
               "duration": 0,
               "easing": "linear"
              }
             }
            ],
            "label": "13:06:16",
            "method": "animate"
           }
          ],
          "transition": {
           "duration": 285.7142857142857,
           "easing": "linear"
          },
          "x": 0.1,
          "xanchor": "left",
          "y": 0,
          "yanchor": "top"
         }
        ],
        "template": {
         "data": {
          "bar": [
           {
            "error_x": {
             "color": "#2a3f5f"
            },
            "error_y": {
             "color": "#2a3f5f"
            },
            "marker": {
             "line": {
              "color": "#E5ECF6",
              "width": 0.5
             },
             "pattern": {
              "fillmode": "overlay",
              "size": 10,
              "solidity": 0.2
             }
            },
            "type": "bar"
           }
          ],
          "barpolar": [
           {
            "marker": {
             "line": {
              "color": "#E5ECF6",
              "width": 0.5
             },
             "pattern": {
              "fillmode": "overlay",
              "size": 10,
              "solidity": 0.2
             }
            },
            "type": "barpolar"
           }
          ],
          "carpet": [
           {
            "aaxis": {
             "endlinecolor": "#2a3f5f",
             "gridcolor": "white",
             "linecolor": "white",
             "minorgridcolor": "white",
             "startlinecolor": "#2a3f5f"
            },
            "baxis": {
             "endlinecolor": "#2a3f5f",
             "gridcolor": "white",
             "linecolor": "white",
             "minorgridcolor": "white",
             "startlinecolor": "#2a3f5f"
            },
            "type": "carpet"
           }
          ],
          "choropleth": [
           {
            "colorbar": {
             "outlinewidth": 0,
             "ticks": ""
            },
            "type": "choropleth"
           }
          ],
          "contour": [
           {
            "colorbar": {
             "outlinewidth": 0,
             "ticks": ""
            },
            "colorscale": [
             [
              0,
              "#0d0887"
             ],
             [
              0.1111111111111111,
              "#46039f"
             ],
             [
              0.2222222222222222,
              "#7201a8"
             ],
             [
              0.3333333333333333,
              "#9c179e"
             ],
             [
              0.4444444444444444,
              "#bd3786"
             ],
             [
              0.5555555555555556,
              "#d8576b"
             ],
             [
              0.6666666666666666,
              "#ed7953"
             ],
             [
              0.7777777777777778,
              "#fb9f3a"
             ],
             [
              0.8888888888888888,
              "#fdca26"
             ],
             [
              1,
              "#f0f921"
             ]
            ],
            "type": "contour"
           }
          ],
          "contourcarpet": [
           {
            "colorbar": {
             "outlinewidth": 0,
             "ticks": ""
            },
            "type": "contourcarpet"
           }
          ],
          "heatmap": [
           {
            "colorbar": {
             "outlinewidth": 0,
             "ticks": ""
            },
            "colorscale": [
             [
              0,
              "#0d0887"
             ],
             [
              0.1111111111111111,
              "#46039f"
             ],
             [
              0.2222222222222222,
              "#7201a8"
             ],
             [
              0.3333333333333333,
              "#9c179e"
             ],
             [
              0.4444444444444444,
              "#bd3786"
             ],
             [
              0.5555555555555556,
              "#d8576b"
             ],
             [
              0.6666666666666666,
              "#ed7953"
             ],
             [
              0.7777777777777778,
              "#fb9f3a"
             ],
             [
              0.8888888888888888,
              "#fdca26"
             ],
             [
              1,
              "#f0f921"
             ]
            ],
            "type": "heatmap"
           }
          ],
          "histogram": [
           {
            "marker": {
             "pattern": {
              "fillmode": "overlay",
              "size": 10,
              "solidity": 0.2
             }
            },
            "type": "histogram"
           }
          ],
          "histogram2d": [
           {
            "colorbar": {
             "outlinewidth": 0,
             "ticks": ""
            },
            "colorscale": [
             [
              0,
              "#0d0887"
             ],
             [
              0.1111111111111111,
              "#46039f"
             ],
             [
              0.2222222222222222,
              "#7201a8"
             ],
             [
              0.3333333333333333,
              "#9c179e"
             ],
             [
              0.4444444444444444,
              "#bd3786"
             ],
             [
              0.5555555555555556,
              "#d8576b"
             ],
             [
              0.6666666666666666,
              "#ed7953"
             ],
             [
              0.7777777777777778,
              "#fb9f3a"
             ],
             [
              0.8888888888888888,
              "#fdca26"
             ],
             [
              1,
              "#f0f921"
             ]
            ],
            "type": "histogram2d"
           }
          ],
          "histogram2dcontour": [
           {
            "colorbar": {
             "outlinewidth": 0,
             "ticks": ""
            },
            "colorscale": [
             [
              0,
              "#0d0887"
             ],
             [
              0.1111111111111111,
              "#46039f"
             ],
             [
              0.2222222222222222,
              "#7201a8"
             ],
             [
              0.3333333333333333,
              "#9c179e"
             ],
             [
              0.4444444444444444,
              "#bd3786"
             ],
             [
              0.5555555555555556,
              "#d8576b"
             ],
             [
              0.6666666666666666,
              "#ed7953"
             ],
             [
              0.7777777777777778,
              "#fb9f3a"
             ],
             [
              0.8888888888888888,
              "#fdca26"
             ],
             [
              1,
              "#f0f921"
             ]
            ],
            "type": "histogram2dcontour"
           }
          ],
          "mesh3d": [
           {
            "colorbar": {
             "outlinewidth": 0,
             "ticks": ""
            },
            "type": "mesh3d"
           }
          ],
          "parcoords": [
           {
            "line": {
             "colorbar": {
              "outlinewidth": 0,
              "ticks": ""
             }
            },
            "type": "parcoords"
           }
          ],
          "pie": [
           {
            "automargin": true,
            "type": "pie"
           }
          ],
          "scatter": [
           {
            "fillpattern": {
             "fillmode": "overlay",
             "size": 10,
             "solidity": 0.2
            },
            "type": "scatter"
           }
          ],
          "scatter3d": [
           {
            "line": {
             "colorbar": {
              "outlinewidth": 0,
              "ticks": ""
             }
            },
            "marker": {
             "colorbar": {
              "outlinewidth": 0,
              "ticks": ""
             }
            },
            "type": "scatter3d"
           }
          ],
          "scattercarpet": [
           {
            "marker": {
             "colorbar": {
              "outlinewidth": 0,
              "ticks": ""
             }
            },
            "type": "scattercarpet"
           }
          ],
          "scattergeo": [
           {
            "marker": {
             "colorbar": {
              "outlinewidth": 0,
              "ticks": ""
             }
            },
            "type": "scattergeo"
           }
          ],
          "scattergl": [
           {
            "marker": {
             "colorbar": {
              "outlinewidth": 0,
              "ticks": ""
             }
            },
            "type": "scattergl"
           }
          ],
          "scattermap": [
           {
            "marker": {
             "colorbar": {
              "outlinewidth": 0,
              "ticks": ""
             }
            },
            "type": "scattermap"
           }
          ],
          "scattermapbox": [
           {
            "marker": {
             "colorbar": {
              "outlinewidth": 0,
              "ticks": ""
             }
            },
            "type": "scattermapbox"
           }
          ],
          "scatterpolar": [
           {
            "marker": {
             "colorbar": {
              "outlinewidth": 0,
              "ticks": ""
             }
            },
            "type": "scatterpolar"
           }
          ],
          "scatterpolargl": [
           {
            "marker": {
             "colorbar": {
              "outlinewidth": 0,
              "ticks": ""
             }
            },
            "type": "scatterpolargl"
           }
          ],
          "scatterternary": [
           {
            "marker": {
             "colorbar": {
              "outlinewidth": 0,
              "ticks": ""
             }
            },
            "type": "scatterternary"
           }
          ],
          "surface": [
           {
            "colorbar": {
             "outlinewidth": 0,
             "ticks": ""
            },
            "colorscale": [
             [
              0,
              "#0d0887"
             ],
             [
              0.1111111111111111,
              "#46039f"
             ],
             [
              0.2222222222222222,
              "#7201a8"
             ],
             [
              0.3333333333333333,
              "#9c179e"
             ],
             [
              0.4444444444444444,
              "#bd3786"
             ],
             [
              0.5555555555555556,
              "#d8576b"
             ],
             [
              0.6666666666666666,
              "#ed7953"
             ],
             [
              0.7777777777777778,
              "#fb9f3a"
             ],
             [
              0.8888888888888888,
              "#fdca26"
             ],
             [
              1,
              "#f0f921"
             ]
            ],
            "type": "surface"
           }
          ],
          "table": [
           {
            "cells": {
             "fill": {
              "color": "#EBF0F8"
             },
             "line": {
              "color": "white"
             }
            },
            "header": {
             "fill": {
              "color": "#C8D4E3"
             },
             "line": {
              "color": "white"
             }
            },
            "type": "table"
           }
          ]
         },
         "layout": {
          "annotationdefaults": {
           "arrowcolor": "#2a3f5f",
           "arrowhead": 0,
           "arrowwidth": 1
          },
          "autotypenumbers": "strict",
          "coloraxis": {
           "colorbar": {
            "outlinewidth": 0,
            "ticks": ""
           }
          },
          "colorscale": {
           "diverging": [
            [
             0,
             "#8e0152"
            ],
            [
             0.1,
             "#c51b7d"
            ],
            [
             0.2,
             "#de77ae"
            ],
            [
             0.3,
             "#f1b6da"
            ],
            [
             0.4,
             "#fde0ef"
            ],
            [
             0.5,
             "#f7f7f7"
            ],
            [
             0.6,
             "#e6f5d0"
            ],
            [
             0.7,
             "#b8e186"
            ],
            [
             0.8,
             "#7fbc41"
            ],
            [
             0.9,
             "#4d9221"
            ],
            [
             1,
             "#276419"
            ]
           ],
           "sequential": [
            [
             0,
             "#0d0887"
            ],
            [
             0.1111111111111111,
             "#46039f"
            ],
            [
             0.2222222222222222,
             "#7201a8"
            ],
            [
             0.3333333333333333,
             "#9c179e"
            ],
            [
             0.4444444444444444,
             "#bd3786"
            ],
            [
             0.5555555555555556,
             "#d8576b"
            ],
            [
             0.6666666666666666,
             "#ed7953"
            ],
            [
             0.7777777777777778,
             "#fb9f3a"
            ],
            [
             0.8888888888888888,
             "#fdca26"
            ],
            [
             1,
             "#f0f921"
            ]
           ],
           "sequentialminus": [
            [
             0,
             "#0d0887"
            ],
            [
             0.1111111111111111,
             "#46039f"
            ],
            [
             0.2222222222222222,
             "#7201a8"
            ],
            [
             0.3333333333333333,
             "#9c179e"
            ],
            [
             0.4444444444444444,
             "#bd3786"
            ],
            [
             0.5555555555555556,
             "#d8576b"
            ],
            [
             0.6666666666666666,
             "#ed7953"
            ],
            [
             0.7777777777777778,
             "#fb9f3a"
            ],
            [
             0.8888888888888888,
             "#fdca26"
            ],
            [
             1,
             "#f0f921"
            ]
           ]
          },
          "colorway": [
           "#636efa",
           "#EF553B",
           "#00cc96",
           "#ab63fa",
           "#FFA15A",
           "#19d3f3",
           "#FF6692",
           "#B6E880",
           "#FF97FF",
           "#FECB52"
          ],
          "font": {
           "color": "#2a3f5f"
          },
          "geo": {
           "bgcolor": "white",
           "lakecolor": "white",
           "landcolor": "#E5ECF6",
           "showlakes": true,
           "showland": true,
           "subunitcolor": "white"
          },
          "hoverlabel": {
           "align": "left"
          },
          "hovermode": "closest",
          "mapbox": {
           "style": "light"
          },
          "paper_bgcolor": "white",
          "plot_bgcolor": "#E5ECF6",
          "polar": {
           "angularaxis": {
            "gridcolor": "white",
            "linecolor": "white",
            "ticks": ""
           },
           "bgcolor": "#E5ECF6",
           "radialaxis": {
            "gridcolor": "white",
            "linecolor": "white",
            "ticks": ""
           }
          },
          "scene": {
           "xaxis": {
            "backgroundcolor": "#E5ECF6",
            "gridcolor": "white",
            "gridwidth": 2,
            "linecolor": "white",
            "showbackground": true,
            "ticks": "",
            "zerolinecolor": "white"
           },
           "yaxis": {
            "backgroundcolor": "#E5ECF6",
            "gridcolor": "white",
            "gridwidth": 2,
            "linecolor": "white",
            "showbackground": true,
            "ticks": "",
            "zerolinecolor": "white"
           },
           "zaxis": {
            "backgroundcolor": "#E5ECF6",
            "gridcolor": "white",
            "gridwidth": 2,
            "linecolor": "white",
            "showbackground": true,
            "ticks": "",
            "zerolinecolor": "white"
           }
          },
          "shapedefaults": {
           "line": {
            "color": "#2a3f5f"
           }
          },
          "ternary": {
           "aaxis": {
            "gridcolor": "white",
            "linecolor": "white",
            "ticks": ""
           },
           "baxis": {
            "gridcolor": "white",
            "linecolor": "white",
            "ticks": ""
           },
           "bgcolor": "#E5ECF6",
           "caxis": {
            "gridcolor": "white",
            "linecolor": "white",
            "ticks": ""
           }
          },
          "title": {
           "x": 0.05
          },
          "xaxis": {
           "automargin": true,
           "gridcolor": "white",
           "linecolor": "white",
           "ticks": "",
           "title": {
            "standoff": 15
           },
           "zerolinecolor": "white",
           "zerolinewidth": 2
          },
          "yaxis": {
           "automargin": true,
           "gridcolor": "white",
           "linecolor": "white",
           "ticks": "",
           "title": {
            "standoff": 15
           },
           "zerolinecolor": "white",
           "zerolinewidth": 2
          }
         }
        },
        "updatemenus": [
         {
          "buttons": [
           {
            "args": [
             null,
             {
              "frame": {
               "duration": 285.7142857142857,
               "redraw": true
              },
              "fromcurrent": true,
              "transition": {
               "duration": 0
              }
             }
            ],
            "label": "Play",
            "method": "animate"
           },
           {
            "args": [
             [
              null
             ],
             {
              "frame": {
               "duration": 0,
               "redraw": true
              },
              "mode": "immediate",
              "transition": {
               "duration": 0
              }
             }
            ],
            "label": "Stop",
            "method": "animate"
           }
          ],
          "direction": "left",
          "pad": {
           "r": 10,
           "t": 75
          },
          "showactive": true,
          "type": "buttons",
          "x": 0.1,
          "xanchor": "right",
          "y": 0,
          "yanchor": "top"
         }
        ],
        "xaxis": {
         "range": [
          -2.3050672382471364,
          26.714715206895796
         ],
         "title": {
          "text": "<i>x</i>"
         }
        },
        "yaxis": {
         "range": [
          -5.079739483402368,
          53.80087459305906
         ],
         "title": {
          "text": "<i>y</i>"
         }
        }
       }
      }
     },
     "metadata": {},
     "output_type": "display_data"
    }
   ],
   "source": [
    "plotter.plot_measurements(measurements, [0, 2])\n",
    "plotter.fig"
   ]
  },
  {
   "cell_type": "markdown",
   "id": "55417dd5-7eff-4e58-9d9d-d52846636047",
   "metadata": {},
   "source": [
    "## Custom model"
   ]
  },
  {
   "cell_type": "code",
   "execution_count": 20,
   "id": "298ed277-0293-44ef-9799-6fd7e5c3d1b2",
   "metadata": {},
   "outputs": [
    {
     "data": {
      "text/plain": [
       "<rhythmic_sharing.RhythmicNetwork at 0x121ba74a0>"
      ]
     },
     "execution_count": 20,
     "metadata": {},
     "output_type": "execute_result"
    }
   ],
   "source": [
    "import importlib\n",
    "import rhythmic_model\n",
    "importlib.reload(rhythmic_model)\n",
    "from rhythmic_model import RhythmicModel\n",
    "from rhythmic_sharing import RhythmicNetwork\n",
    "\n",
    "input_dims = 4\n",
    "rhythmic_network = network = RhythmicNetwork(dt=1, input_dims=input_dims)\n",
    "rhythmic_model = RhythmicModel(input_dims=input_dims, rhythmic_network=rhythmic_network)\n",
    "rhythmic_model.ndim\n",
    "rhythmic_model.covar(1)\n",
    "rhythmic_model.rhythmic_network"
   ]
  },
  {
   "cell_type": "code",
   "execution_count": 21,
   "id": "4e51812a-ff9c-47d1-b286-66baa954db16",
   "metadata": {},
   "outputs": [],
   "source": [
    "from stonesoup.predictor.kalman import ExtendedKalmanPredictor\n",
    "predictor = ExtendedKalmanPredictor(rhythmic_model)\n",
    "\n",
    "from stonesoup.updater.kalman import ExtendedKalmanUpdater\n",
    "updater = ExtendedKalmanUpdater(measurement_model)"
   ]
  },
  {
   "cell_type": "code",
   "execution_count": 22,
   "id": "d3b88603-d7db-465d-8ba1-5f1da5c715b3",
   "metadata": {},
   "outputs": [],
   "source": [
    "from stonesoup.types.state import GaussianState\n",
    "prior = GaussianState([[0], [1], [0], [1]], np.diag([1.5, 0.5, 1.5, 0.5]), timestamp=start_time)"
   ]
  },
  {
   "cell_type": "code",
   "execution_count": 23,
   "id": "2d14abca-c73f-41a3-8cd3-13ba43b3fb13",
   "metadata": {},
   "outputs": [
    {
     "name": "stdout",
     "output_type": "stream",
     "text": [
      "(4,)\n",
      "(4,)\n"
     ]
    }
   ],
   "source": [
    "from stonesoup.types.hypothesis import SingleHypothesis\n",
    "from stonesoup.types.track import Track\n",
    "\n",
    "track = Track()\n",
    "for measurement in measurements:\n",
    "    prediction = predictor.predict(prior, timestamp=measurement.timestamp)\n",
    "    break\n",
    "    hypothesis = SingleHypothesis(prediction, measurement)  # Group a prediction and measurement\n",
    "    post = updater.update(hypothesis)\n",
    "    track.append(post)\n",
    "    prior = track[-1]"
   ]
  },
  {
   "cell_type": "code",
   "execution_count": 151,
   "id": "4f17fbec-0f00-4ba0-aa82-e2b3d82857f8",
   "metadata": {},
   "outputs": [
    {
     "ename": "ValueError",
     "evalue": "need at least one array to concatenate",
     "output_type": "error",
     "traceback": [
      "\u001b[31m---------------------------------------------------------------------------\u001b[39m",
      "\u001b[31mValueError\u001b[39m                                Traceback (most recent call last)",
      "\u001b[36mCell\u001b[39m\u001b[36m \u001b[39m\u001b[32mIn[151]\u001b[39m\u001b[32m, line 1\u001b[39m\n\u001b[32m----> \u001b[39m\u001b[32m1\u001b[39m \u001b[43mplotter\u001b[49m\u001b[43m.\u001b[49m\u001b[43mplot_tracks\u001b[49m\u001b[43m(\u001b[49m\u001b[43mtrack\u001b[49m\u001b[43m,\u001b[49m\u001b[43m \u001b[49m\u001b[43m[\u001b[49m\u001b[32;43m0\u001b[39;49m\u001b[43m,\u001b[49m\u001b[43m \u001b[49m\u001b[32;43m2\u001b[39;49m\u001b[43m]\u001b[49m\u001b[43m,\u001b[49m\u001b[43m \u001b[49m\u001b[43muncertainty\u001b[49m\u001b[43m=\u001b[49m\u001b[38;5;28;43;01mTrue\u001b[39;49;00m\u001b[43m)\u001b[49m\n\u001b[32m      2\u001b[39m plotter.fig\n",
      "\u001b[36mFile \u001b[39m\u001b[32m~/work/rhythmic_sharing/.venv/lib/python3.12/site-packages/stonesoup/plotter.py:2948\u001b[39m, in \u001b[36mAnimatedPlotterly.plot_tracks\u001b[39m\u001b[34m(self, tracks, mapping, uncertainty, resize, particle, plot_history, ellipse_points, label, **kwargs)\u001b[39m\n\u001b[32m   2944\u001b[39m data = [\u001b[38;5;28mdict\u001b[39m() \u001b[38;5;28;01mfor\u001b[39;00m _ \u001b[38;5;129;01min\u001b[39;00m tracks]\n\u001b[32m   2946\u001b[39m \u001b[38;5;28;01mfor\u001b[39;00m n, track \u001b[38;5;129;01min\u001b[39;00m \u001b[38;5;28menumerate\u001b[39m(tracks):  \u001b[38;5;66;03m# sum up means - accounts for particle filter\u001b[39;00m\n\u001b[32m-> \u001b[39m\u001b[32m2948\u001b[39m     xydata = \u001b[43mnp\u001b[49m\u001b[43m.\u001b[49m\u001b[43mconcatenate\u001b[49m\u001b[43m(\u001b[49m\n\u001b[32m   2949\u001b[39m \u001b[43m        \u001b[49m\u001b[43m[\u001b[49m\u001b[43m(\u001b[49m\u001b[38;5;28;43mgetattr\u001b[39;49m\u001b[43m(\u001b[49m\u001b[43mstate\u001b[49m\u001b[43m,\u001b[49m\u001b[43m \u001b[49m\u001b[33;43m'\u001b[39;49m\u001b[33;43mmean\u001b[39;49m\u001b[33;43m'\u001b[39;49m\u001b[43m,\u001b[49m\u001b[43m \u001b[49m\u001b[43mstate\u001b[49m\u001b[43m.\u001b[49m\u001b[43mstate_vector\u001b[49m\u001b[43m)\u001b[49m\u001b[43m[\u001b[49m\u001b[43mmapping\u001b[49m\u001b[43m,\u001b[49m\u001b[43m \u001b[49m\u001b[43m:\u001b[49m\u001b[43m]\u001b[49m\u001b[43m)\u001b[49m\n\u001b[32m   2950\u001b[39m \u001b[43m         \u001b[49m\u001b[38;5;28;43;01mfor\u001b[39;49;00m\u001b[43m \u001b[49m\u001b[43mstate\u001b[49m\u001b[43m \u001b[49m\u001b[38;5;129;43;01min\u001b[39;49;00m\u001b[43m \u001b[49m\u001b[43mtrack\u001b[49m\u001b[43m]\u001b[49m\u001b[43m,\u001b[49m\n\u001b[32m   2951\u001b[39m \u001b[43m        \u001b[49m\u001b[43maxis\u001b[49m\u001b[43m=\u001b[49m\u001b[32;43m1\u001b[39;49m\u001b[43m)\u001b[49m\n\u001b[32m   2953\u001b[39m     \u001b[38;5;66;03m# initialise arrays that go inside the dictionary\u001b[39;00m\n\u001b[32m   2954\u001b[39m     data[n].update(x=xydata[\u001b[32m0\u001b[39m],\n\u001b[32m   2955\u001b[39m                    y=xydata[\u001b[32m1\u001b[39m],\n\u001b[32m   2956\u001b[39m                    time=np.array([\u001b[32m0\u001b[39m \u001b[38;5;28;01mfor\u001b[39;00m _ \u001b[38;5;129;01min\u001b[39;00m \u001b[38;5;28mrange\u001b[39m(\u001b[38;5;28mlen\u001b[39m(track))], dtype=\u001b[38;5;28mobject\u001b[39m),\n\u001b[32m   2957\u001b[39m                    time_str=np.array([\u001b[32m0\u001b[39m \u001b[38;5;28;01mfor\u001b[39;00m _ \u001b[38;5;129;01min\u001b[39;00m \u001b[38;5;28mrange\u001b[39m(\u001b[38;5;28mlen\u001b[39m(track))], dtype=\u001b[38;5;28mobject\u001b[39m),\n\u001b[32m   2958\u001b[39m                    \u001b[38;5;28mtype\u001b[39m=np.array([\u001b[32m0\u001b[39m \u001b[38;5;28;01mfor\u001b[39;00m _ \u001b[38;5;129;01min\u001b[39;00m \u001b[38;5;28mrange\u001b[39m(\u001b[38;5;28mlen\u001b[39m(track))], dtype=\u001b[38;5;28mobject\u001b[39m))\n",
      "\u001b[31mValueError\u001b[39m: need at least one array to concatenate"
     ]
    }
   ],
   "source": [
    "plotter.plot_tracks(track, [0, 2], uncertainty=True)\n",
    "plotter.fig"
   ]
  },
  {
   "cell_type": "code",
   "execution_count": null,
   "id": "66024ecc-b78b-44f2-961d-329cc09de485",
   "metadata": {},
   "outputs": [],
   "source": []
  }
 ],
 "metadata": {
  "kernelspec": {
   "display_name": "Python 3 (ipykernel)",
   "language": "python",
   "name": "python3"
  },
  "language_info": {
   "codemirror_mode": {
    "name": "ipython",
    "version": 3
   },
   "file_extension": ".py",
   "mimetype": "text/x-python",
   "name": "python",
   "nbconvert_exporter": "python",
   "pygments_lexer": "ipython3",
   "version": "3.12.9"
  }
 },
 "nbformat": 4,
 "nbformat_minor": 5
}
