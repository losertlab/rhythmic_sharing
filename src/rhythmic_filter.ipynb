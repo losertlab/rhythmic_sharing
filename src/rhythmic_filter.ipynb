{
 "cells": [
  {
   "cell_type": "code",
   "execution_count": 61,
   "id": "8be33d58-8004-481f-974f-d995d31c3e00",
   "metadata": {},
   "outputs": [],
   "source": [
    "import numpy as np\n",
    "from datetime import datetime, timedelta\n",
    "start_time = datetime.now().replace(microsecond=0)"
   ]
  },
  {
   "cell_type": "code",
   "execution_count": 62,
   "id": "245f3e91-51c8-4648-897f-504b283f4ee5",
   "metadata": {},
   "outputs": [],
   "source": [
    "np.random.seed(1991)"
   ]
  },
  {
   "cell_type": "code",
   "execution_count": 63,
   "id": "1dd23906-1796-4f2e-965f-95d5ffdcee73",
   "metadata": {},
   "outputs": [],
   "source": [
    "from stonesoup.models.transition.linear import CombinedLinearGaussianTransitionModel, \\\n",
    "    ConstantVelocity\n",
    "from stonesoup.types.groundtruth import GroundTruthPath, GroundTruthState\n",
    "transition_model = CombinedLinearGaussianTransitionModel([ConstantVelocity(0.05),\n",
    "                                                          ConstantVelocity(0.05)])\n",
    "timesteps = [start_time]\n",
    "truth = GroundTruthPath([GroundTruthState([0, 1, 0, 1], timestamp=start_time)])\n",
    "\n",
    "for k in range(1, 21):\n",
    "    timesteps.append(start_time+timedelta(seconds=k))\n",
    "    truth.append(GroundTruthState(\n",
    "        transition_model.function(truth[k-1], noise=True, time_interval=timedelta(seconds=1)),\n",
    "        timestamp=timesteps[k]))"
   ]
  },
  {
   "cell_type": "code",
   "execution_count": 64,
   "id": "cb90c750-5555-4175-bb97-446baa925b7e",
   "metadata": {},
   "outputs": [
    {
     "data": {
      "application/vnd.plotly.v1+json": {
       "config": {
        "plotlyServerURL": "https://plot.ly"
       },
       "data": [
        {
         "hoverinfo": "none",
         "legendgroup": "Ground Truth",
         "legendrank": 100,
         "line": {
          "color": "#EF553B",
          "dash": "dash"
         },
         "mode": "lines",
         "name": "Ground Truth",
         "showlegend": true,
         "type": "scatter",
         "x": [],
         "y": []
        },
        {
         "hoverinfo": "none",
         "legendgroup": "Ground Truth",
         "legendrank": 100,
         "line": {
          "color": "#EF553B",
          "dash": "dash"
         },
         "mode": "lines",
         "name": "Ground Truth",
         "showlegend": false,
         "type": "scatter",
         "x": [],
         "y": []
        }
       ],
       "frames": [
        {
         "data": [
          {
           "type": "scatter",
           "x": [
            0,
            0
           ],
           "y": [
            0,
            0
           ]
          },
          {
           "hovertemplate": "GroundTruthState<br>(%{x}, %{y})<br>Time: %{meta}",
           "meta": [
            "2025-09-04 11:06:05"
           ],
           "type": "scatter",
           "x": {
            "bdata": "AAAAAAAAAAAAAAAAAADwfw==",
            "dtype": "f8"
           },
           "y": {
            "bdata": "AAAAAAAAAAAAAAAAAADwfw==",
            "dtype": "f8"
           }
          }
         ],
         "name": "2025-09-04 11:06:05",
         "traces": [
          0,
          1
         ]
        },
        {
         "data": [
          {
           "type": "scatter",
           "x": [
            0,
            0
           ],
           "y": [
            0,
            0
           ]
          },
          {
           "hovertemplate": "GroundTruthState<br>(%{x}, %{y})<br>Time: %{meta}",
           "meta": [
            "2025-09-04 11:06:05",
            "2025-09-04 11:06:06"
           ],
           "type": "scatter",
           "x": {
            "bdata": "AAAAAAAAAAB6tLpF6NXyPwAAAAAAAPB/",
            "dtype": "f8"
           },
           "y": {
            "bdata": "AAAAAAAAAADQkKGTxALwPwAAAAAAAPB/",
            "dtype": "f8"
           }
          }
         ],
         "name": "2025-09-04 11:06:06",
         "traces": [
          0,
          1
         ]
        },
        {
         "data": [
          {
           "type": "scatter",
           "x": [
            0,
            0
           ],
           "y": [
            0,
            0
           ]
          },
          {
           "hovertemplate": "GroundTruthState<br>(%{x}, %{y})<br>Time: %{meta}",
           "meta": [
            "2025-09-04 11:06:05",
            "2025-09-04 11:06:06",
            "2025-09-04 11:06:07"
           ],
           "type": "scatter",
           "x": {
            "bdata": "AAAAAAAAAAB6tLpF6NXyP2HNMOElNAJAAAAAAAAA8H8=",
            "dtype": "f8"
           },
           "y": {
            "bdata": "AAAAAAAAAADQkKGTxALwP03PNxbuPgBAAAAAAAAA8H8=",
            "dtype": "f8"
           }
          }
         ],
         "name": "2025-09-04 11:06:07",
         "traces": [
          0,
          1
         ]
        },
        {
         "data": [
          {
           "type": "scatter",
           "x": [
            0,
            0
           ],
           "y": [
            0,
            0
           ]
          },
          {
           "hovertemplate": "GroundTruthState<br>(%{x}, %{y})<br>Time: %{meta}",
           "meta": [
            "2025-09-04 11:06:05",
            "2025-09-04 11:06:06",
            "2025-09-04 11:06:07",
            "2025-09-04 11:06:08"
           ],
           "type": "scatter",
           "x": {
            "bdata": "AAAAAAAAAAB6tLpF6NXyP2HNMOElNAJAXldM4pE/CUAAAAAAAADwfw==",
            "dtype": "f8"
           },
           "y": {
            "bdata": "AAAAAAAAAADQkKGTxALwP03PNxbuPgBAy4Dv5lipCUAAAAAAAADwfw==",
            "dtype": "f8"
           }
          }
         ],
         "name": "2025-09-04 11:06:08",
         "traces": [
          0,
          1
         ]
        },
        {
         "data": [
          {
           "type": "scatter",
           "x": [
            0,
            0
           ],
           "y": [
            0,
            0
           ]
          },
          {
           "hovertemplate": "GroundTruthState<br>(%{x}, %{y})<br>Time: %{meta}",
           "meta": [
            "2025-09-04 11:06:05",
            "2025-09-04 11:06:06",
            "2025-09-04 11:06:07",
            "2025-09-04 11:06:08",
            "2025-09-04 11:06:09"
           ],
           "type": "scatter",
           "x": {
            "bdata": "AAAAAAAAAAB6tLpF6NXyP2HNMOElNAJAXldM4pE/CUB4sMMCKXIQQAAAAAAAAPB/",
            "dtype": "f8"
           },
           "y": {
            "bdata": "AAAAAAAAAADQkKGTxALwP03PNxbuPgBAy4Dv5lipCUAL289Y57kSQAAAAAAAAPB/",
            "dtype": "f8"
           }
          }
         ],
         "name": "2025-09-04 11:06:09",
         "traces": [
          0,
          1
         ]
        },
        {
         "data": [
          {
           "type": "scatter",
           "x": [
            0,
            0
           ],
           "y": [
            0,
            0
           ]
          },
          {
           "hovertemplate": "GroundTruthState<br>(%{x}, %{y})<br>Time: %{meta}",
           "meta": [
            "2025-09-04 11:06:05",
            "2025-09-04 11:06:06",
            "2025-09-04 11:06:07",
            "2025-09-04 11:06:08",
            "2025-09-04 11:06:09",
            "2025-09-04 11:06:10"
           ],
           "type": "scatter",
           "x": {
            "bdata": "AAAAAAAAAAB6tLpF6NXyP2HNMOElNAJAXldM4pE/CUB4sMMCKXIQQBvJqZ+SRhRAAAAAAAAA8H8=",
            "dtype": "f8"
           },
           "y": {
            "bdata": "AAAAAAAAAADQkKGTxALwP03PNxbuPgBAy4Dv5lipCUAL289Y57kSQHJUCk5GshlAAAAAAAAA8H8=",
            "dtype": "f8"
           }
          }
         ],
         "name": "2025-09-04 11:06:10",
         "traces": [
          0,
          1
         ]
        },
        {
         "data": [
          {
           "type": "scatter",
           "x": [
            0,
            0
           ],
           "y": [
            0,
            0
           ]
          },
          {
           "hovertemplate": "GroundTruthState<br>(%{x}, %{y})<br>Time: %{meta}",
           "meta": [
            "2025-09-04 11:06:05",
            "2025-09-04 11:06:06",
            "2025-09-04 11:06:07",
            "2025-09-04 11:06:08",
            "2025-09-04 11:06:09",
            "2025-09-04 11:06:10",
            "2025-09-04 11:06:11"
           ],
           "type": "scatter",
           "x": {
            "bdata": "AAAAAAAAAAB6tLpF6NXyP2HNMOElNAJAXldM4pE/CUB4sMMCKXIQQBvJqZ+SRhRAL+4XjVKJGEAAAAAAAADwfw==",
            "dtype": "f8"
           },
           "y": {
            "bdata": "AAAAAAAAAADQkKGTxALwP03PNxbuPgBAy4Dv5lipCUAL289Y57kSQHJUCk5GshlAXfDz/0aVIEAAAAAAAADwfw==",
            "dtype": "f8"
           }
          }
         ],
         "name": "2025-09-04 11:06:11",
         "traces": [
          0,
          1
         ]
        },
        {
         "data": [
          {
           "type": "scatter",
           "x": [
            0,
            0
           ],
           "y": [
            0,
            0
           ]
          },
          {
           "hovertemplate": "GroundTruthState<br>(%{x}, %{y})<br>Time: %{meta}",
           "meta": [
            "2025-09-04 11:06:06",
            "2025-09-04 11:06:07",
            "2025-09-04 11:06:08",
            "2025-09-04 11:06:09",
            "2025-09-04 11:06:10",
            "2025-09-04 11:06:11",
            "2025-09-04 11:06:12"
           ],
           "type": "scatter",
           "x": {
            "bdata": "erS6RejV8j9hzTDhJTQCQF5XTOKRPwlAeLDDAilyEEAbyamfkkYUQC/uF41SiRhA+d8D0b1YHUAAAAAAAADwfw==",
            "dtype": "f8"
           },
           "y": {
            "bdata": "0JChk8QC8D9NzzcW7j4AQMuA7+ZYqQlAC9vPWOe5EkByVApORrIZQF3w8/9GlSBAkx2pj5ZrJEAAAAAAAADwfw==",
            "dtype": "f8"
           }
          }
         ],
         "name": "2025-09-04 11:06:12",
         "traces": [
          0,
          1
         ]
        },
        {
         "data": [
          {
           "type": "scatter",
           "x": [
            0,
            0
           ],
           "y": [
            0,
            0
           ]
          },
          {
           "hovertemplate": "GroundTruthState<br>(%{x}, %{y})<br>Time: %{meta}",
           "meta": [
            "2025-09-04 11:06:07",
            "2025-09-04 11:06:08",
            "2025-09-04 11:06:09",
            "2025-09-04 11:06:10",
            "2025-09-04 11:06:11",
            "2025-09-04 11:06:12",
            "2025-09-04 11:06:13"
           ],
           "type": "scatter",
           "x": {
            "bdata": "Yc0w4SU0AkBeV0zikT8JQHiwwwIpchBAG8mpn5JGFEAv7heNUokYQPnfA9G9WB1AtDiO8N9qIUAAAAAAAADwfw==",
            "dtype": "f8"
           },
           "y": {
            "bdata": "Tc83Fu4+AEDLgO/mWKkJQAvbz1jnuRJAclQKTkayGUBd8PP/RpUgQJMdqY+WayRAhkhDcEFHKUAAAAAAAADwfw==",
            "dtype": "f8"
           }
          }
         ],
         "name": "2025-09-04 11:06:13",
         "traces": [
          0,
          1
         ]
        },
        {
         "data": [
          {
           "type": "scatter",
           "x": [
            0,
            0
           ],
           "y": [
            0,
            0
           ]
          },
          {
           "hovertemplate": "GroundTruthState<br>(%{x}, %{y})<br>Time: %{meta}",
           "meta": [
            "2025-09-04 11:06:08",
            "2025-09-04 11:06:09",
            "2025-09-04 11:06:10",
            "2025-09-04 11:06:11",
            "2025-09-04 11:06:12",
            "2025-09-04 11:06:13",
            "2025-09-04 11:06:14"
           ],
           "type": "scatter",
           "x": {
            "bdata": "XldM4pE/CUB4sMMCKXIQQBvJqZ+SRhRAL+4XjVKJGED53wPRvVgdQLQ4jvDfaiFA7NV9RsZSI0AAAAAAAADwfw==",
            "dtype": "f8"
           },
           "y": {
            "bdata": "y4Dv5lipCUAL289Y57kSQHJUCk5GshlAXfDz/0aVIECTHamPlmskQIZIQ3BBRylAoQH+DownLkAAAAAAAADwfw==",
            "dtype": "f8"
           }
          }
         ],
         "name": "2025-09-04 11:06:14",
         "traces": [
          0,
          1
         ]
        },
        {
         "data": [
          {
           "type": "scatter",
           "x": [
            0,
            0
           ],
           "y": [
            0,
            0
           ]
          },
          {
           "hovertemplate": "GroundTruthState<br>(%{x}, %{y})<br>Time: %{meta}",
           "meta": [
            "2025-09-04 11:06:09",
            "2025-09-04 11:06:10",
            "2025-09-04 11:06:11",
            "2025-09-04 11:06:12",
            "2025-09-04 11:06:13",
            "2025-09-04 11:06:14",
            "2025-09-04 11:06:15"
           ],
           "type": "scatter",
           "x": {
            "bdata": "eLDDAilyEEAbyamfkkYUQC/uF41SiRhA+d8D0b1YHUC0OI7w32ohQOzVfUbGUiNAEuEL0C+UJEAAAAAAAADwfw==",
            "dtype": "f8"
           },
           "y": {
            "bdata": "C9vPWOe5EkByVApORrIZQF3w8/9GlSBAkx2pj5ZrJECGSENwQUcpQKEB/g6MJy5AF/mO3cB2MUAAAAAAAADwfw==",
            "dtype": "f8"
           }
          }
         ],
         "name": "2025-09-04 11:06:15",
         "traces": [
          0,
          1
         ]
        },
        {
         "data": [
          {
           "type": "scatter",
           "x": [
            0,
            0
           ],
           "y": [
            0,
            0
           ]
          },
          {
           "hovertemplate": "GroundTruthState<br>(%{x}, %{y})<br>Time: %{meta}",
           "meta": [
            "2025-09-04 11:06:10",
            "2025-09-04 11:06:11",
            "2025-09-04 11:06:12",
            "2025-09-04 11:06:13",
            "2025-09-04 11:06:14",
            "2025-09-04 11:06:15",
            "2025-09-04 11:06:16"
           ],
           "type": "scatter",
           "x": {
            "bdata": "G8mpn5JGFEAv7heNUokYQPnfA9G9WB1AtDiO8N9qIUDs1X1GxlIjQBLhC9AvlCRAkjFQCCnRJUAAAAAAAADwfw==",
            "dtype": "f8"
           },
           "y": {
            "bdata": "clQKTkayGUBd8PP/RpUgQJMdqY+WayRAhkhDcEFHKUChAf4OjCcuQBf5jt3AdjFApjki6kjsM0AAAAAAAADwfw==",
            "dtype": "f8"
           }
          }
         ],
         "name": "2025-09-04 11:06:16",
         "traces": [
          0,
          1
         ]
        },
        {
         "data": [
          {
           "type": "scatter",
           "x": [
            0,
            0
           ],
           "y": [
            0,
            0
           ]
          },
          {
           "hovertemplate": "GroundTruthState<br>(%{x}, %{y})<br>Time: %{meta}",
           "meta": [
            "2025-09-04 11:06:11",
            "2025-09-04 11:06:12",
            "2025-09-04 11:06:13",
            "2025-09-04 11:06:14",
            "2025-09-04 11:06:15",
            "2025-09-04 11:06:16",
            "2025-09-04 11:06:17"
           ],
           "type": "scatter",
           "x": {
            "bdata": "L+4XjVKJGED53wPRvVgdQLQ4jvDfaiFA7NV9RsZSI0AS4QvQL5QkQJIxUAgp0SVAo23mQHzfJkAAAAAAAADwfw==",
            "dtype": "f8"
           },
           "y": {
            "bdata": "XfDz/0aVIECTHamPlmskQIZIQ3BBRylAoQH+DownLkAX+Y7dwHYxQKY5IupI7DNAGzWtyWtvNkAAAAAAAADwfw==",
            "dtype": "f8"
           }
          }
         ],
         "name": "2025-09-04 11:06:17",
         "traces": [
          0,
          1
         ]
        },
        {
         "data": [
          {
           "type": "scatter",
           "x": [
            0,
            0
           ],
           "y": [
            0,
            0
           ]
          },
          {
           "hovertemplate": "GroundTruthState<br>(%{x}, %{y})<br>Time: %{meta}",
           "meta": [
            "2025-09-04 11:06:12",
            "2025-09-04 11:06:13",
            "2025-09-04 11:06:14",
            "2025-09-04 11:06:15",
            "2025-09-04 11:06:16",
            "2025-09-04 11:06:17",
            "2025-09-04 11:06:18"
           ],
           "type": "scatter",
           "x": {
            "bdata": "+d8D0b1YHUC0OI7w32ohQOzVfUbGUiNAEuEL0C+UJECSMVAIKdElQKNt5kB83yZAVIZqP+IqKEAAAAAAAADwfw==",
            "dtype": "f8"
           },
           "y": {
            "bdata": "kx2pj5ZrJECGSENwQUcpQKEB/g6MJy5AF/mO3cB2MUCmOSLqSOwzQBs1rclrbzZAekRRw+s5OUAAAAAAAADwfw==",
            "dtype": "f8"
           }
          }
         ],
         "name": "2025-09-04 11:06:18",
         "traces": [
          0,
          1
         ]
        },
        {
         "data": [
          {
           "type": "scatter",
           "x": [
            0,
            0
           ],
           "y": [
            0,
            0
           ]
          },
          {
           "hovertemplate": "GroundTruthState<br>(%{x}, %{y})<br>Time: %{meta}",
           "meta": [
            "2025-09-04 11:06:13",
            "2025-09-04 11:06:14",
            "2025-09-04 11:06:15",
            "2025-09-04 11:06:16",
            "2025-09-04 11:06:17",
            "2025-09-04 11:06:18",
            "2025-09-04 11:06:19"
           ],
           "type": "scatter",
           "x": {
            "bdata": "tDiO8N9qIUDs1X1GxlIjQBLhC9AvlCRAkjFQCCnRJUCjbeZAfN8mQFSGaj/iKihAX8G7Muq2KUAAAAAAAADwfw==",
            "dtype": "f8"
           },
           "y": {
            "bdata": "hkhDcEFHKUChAf4OjCcuQBf5jt3AdjFApjki6kjsM0AbNa3Ja282QHpEUcPrOTlAyrd/nSxRPEAAAAAAAADwfw==",
            "dtype": "f8"
           }
          }
         ],
         "name": "2025-09-04 11:06:19",
         "traces": [
          0,
          1
         ]
        },
        {
         "data": [
          {
           "type": "scatter",
           "x": [
            0,
            0
           ],
           "y": [
            0,
            0
           ]
          },
          {
           "hovertemplate": "GroundTruthState<br>(%{x}, %{y})<br>Time: %{meta}",
           "meta": [
            "2025-09-04 11:06:14",
            "2025-09-04 11:06:15",
            "2025-09-04 11:06:16",
            "2025-09-04 11:06:17",
            "2025-09-04 11:06:18",
            "2025-09-04 11:06:19",
            "2025-09-04 11:06:20"
           ],
           "type": "scatter",
           "x": {
            "bdata": "7NV9RsZSI0AS4QvQL5QkQJIxUAgp0SVAo23mQHzfJkBUhmo/4iooQF/BuzLqtilAFQmPCflTK0AAAAAAAADwfw==",
            "dtype": "f8"
           },
           "y": {
            "bdata": "oQH+DownLkAX+Y7dwHYxQKY5IupI7DNAGzWtyWtvNkB6RFHD6zk5QMq3f50sUTxAb1YXWVKnP0AAAAAAAADwfw==",
            "dtype": "f8"
           }
          }
         ],
         "name": "2025-09-04 11:06:20",
         "traces": [
          0,
          1
         ]
        },
        {
         "data": [
          {
           "type": "scatter",
           "x": [
            0,
            0
           ],
           "y": [
            0,
            0
           ]
          },
          {
           "hovertemplate": "GroundTruthState<br>(%{x}, %{y})<br>Time: %{meta}",
           "meta": [
            "2025-09-04 11:06:15",
            "2025-09-04 11:06:16",
            "2025-09-04 11:06:17",
            "2025-09-04 11:06:18",
            "2025-09-04 11:06:19",
            "2025-09-04 11:06:20",
            "2025-09-04 11:06:21"
           ],
           "type": "scatter",
           "x": {
            "bdata": "EuEL0C+UJECSMVAIKdElQKNt5kB83yZAVIZqP+IqKEBfwbsy6rYpQBUJjwn5UytAmLZG/WZSLUAAAAAAAADwfw==",
            "dtype": "f8"
           },
           "y": {
            "bdata": "F/mO3cB2MUCmOSLqSOwzQBs1rclrbzZAekRRw+s5OUDKt3+dLFE8QG9WF1lSpz9ANPmhmdt6QUAAAAAAAADwfw==",
            "dtype": "f8"
           }
          }
         ],
         "name": "2025-09-04 11:06:21",
         "traces": [
          0,
          1
         ]
        },
        {
         "data": [
          {
           "type": "scatter",
           "x": [
            0,
            0
           ],
           "y": [
            0,
            0
           ]
          },
          {
           "hovertemplate": "GroundTruthState<br>(%{x}, %{y})<br>Time: %{meta}",
           "meta": [
            "2025-09-04 11:06:16",
            "2025-09-04 11:06:17",
            "2025-09-04 11:06:18",
            "2025-09-04 11:06:19",
            "2025-09-04 11:06:20",
            "2025-09-04 11:06:21",
            "2025-09-04 11:06:22"
           ],
           "type": "scatter",
           "x": {
            "bdata": "kjFQCCnRJUCjbeZAfN8mQFSGaj/iKihAX8G7Muq2KUAVCY8J+VMrQJi2Rv1mUi1AnzddlQKHL0AAAAAAAADwfw==",
            "dtype": "f8"
           },
           "y": {
            "bdata": "pjki6kjsM0AbNa3Ja282QHpEUcPrOTlAyrd/nSxRPEBvVhdZUqc/QDT5oZnbekFAb2buENQpQ0AAAAAAAADwfw==",
            "dtype": "f8"
           }
          }
         ],
         "name": "2025-09-04 11:06:22",
         "traces": [
          0,
          1
         ]
        },
        {
         "data": [
          {
           "type": "scatter",
           "x": [
            0,
            0
           ],
           "y": [
            0,
            0
           ]
          },
          {
           "hovertemplate": "GroundTruthState<br>(%{x}, %{y})<br>Time: %{meta}",
           "meta": [
            "2025-09-04 11:06:17",
            "2025-09-04 11:06:18",
            "2025-09-04 11:06:19",
            "2025-09-04 11:06:20",
            "2025-09-04 11:06:21",
            "2025-09-04 11:06:22",
            "2025-09-04 11:06:23"
           ],
           "type": "scatter",
           "x": {
            "bdata": "o23mQHzfJkBUhmo/4iooQF/BuzLqtilAFQmPCflTK0CYtkb9ZlItQJ83XZUChy9A39BYSYr+MEAAAAAAAADwfw==",
            "dtype": "f8"
           },
           "y": {
            "bdata": "GzWtyWtvNkB6RFHD6zk5QMq3f50sUTxAb1YXWVKnP0A0+aGZ23pBQG9m7hDUKUNAetV6v0bTREAAAAAAAADwfw==",
            "dtype": "f8"
           }
          }
         ],
         "name": "2025-09-04 11:06:23",
         "traces": [
          0,
          1
         ]
        },
        {
         "data": [
          {
           "type": "scatter",
           "x": [
            0,
            0
           ],
           "y": [
            0,
            0
           ]
          },
          {
           "hovertemplate": "GroundTruthState<br>(%{x}, %{y})<br>Time: %{meta}",
           "meta": [
            "2025-09-04 11:06:18",
            "2025-09-04 11:06:19",
            "2025-09-04 11:06:20",
            "2025-09-04 11:06:21",
            "2025-09-04 11:06:22",
            "2025-09-04 11:06:23",
            "2025-09-04 11:06:24"
           ],
           "type": "scatter",
           "x": {
            "bdata": "VIZqP+IqKEBfwbsy6rYpQBUJjwn5UytAmLZG/WZSLUCfN12VAocvQN/QWEmK/jBAWVDaW1dNMkAAAAAAAADwfw==",
            "dtype": "f8"
           },
           "y": {
            "bdata": "ekRRw+s5OUDKt3+dLFE8QG9WF1lSpz9ANPmhmdt6QUBvZu4Q1ClDQHrVer9G00RADk9xSz15RkAAAAAAAADwfw==",
            "dtype": "f8"
           }
          }
         ],
         "name": "2025-09-04 11:06:24",
         "traces": [
          0,
          1
         ]
        },
        {
         "data": [
          {
           "type": "scatter",
           "x": [
            0,
            0
           ],
           "y": [
            0,
            0
           ]
          },
          {
           "hovertemplate": "GroundTruthState<br>(%{x}, %{y})<br>Time: %{meta}",
           "meta": [
            "2025-09-04 11:06:19",
            "2025-09-04 11:06:20",
            "2025-09-04 11:06:21",
            "2025-09-04 11:06:22",
            "2025-09-04 11:06:23",
            "2025-09-04 11:06:24",
            "2025-09-04 11:06:25"
           ],
           "type": "scatter",
           "x": {
            "bdata": "X8G7Muq2KUAVCY8J+VMrQJi2Rv1mUi1AnzddlQKHL0Df0FhJiv4wQFlQ2ltXTTJAlXsN2z+4M0AAAAAAAADwfw==",
            "dtype": "f8"
           },
           "y": {
            "bdata": "yrd/nSxRPEBvVhdZUqc/QDT5oZnbekFAb2buENQpQ0B61Xq/RtNEQA5PcUs9eUZASq0yGpIISEAAAAAAAADwfw==",
            "dtype": "f8"
           }
          }
         ],
         "name": "2025-09-04 11:06:25",
         "traces": [
          0,
          1
         ]
        }
       ],
       "layout": {
        "autosize": true,
        "colorway": [
         "#EF553B",
         "#00CC96",
         "#AB63FA",
         "#FFA15A",
         "#19D3F3",
         "#FF6692",
         "#B6E880",
         "#FF97FF",
         "#FECB52"
        ],
        "height": 550,
        "sliders": [
         {
          "currentvalue": {
           "font": {
            "size": 16
           },
           "prefix": "Time: ",
           "visible": true,
           "xanchor": "right"
          },
          "len": 0.9,
          "pad": {
           "b": 10,
           "t": 50
          },
          "steps": [
           {
            "args": [
             [
              "2025-09-04 11:06:05"
             ],
             {
              "frame": {
               "duration": 1,
               "easing": "linear",
               "redraw": true
              },
              "transition": {
               "duration": 0,
               "easing": "linear"
              }
             }
            ],
            "label": "11:06:05",
            "method": "animate"
           },
           {
            "args": [
             [
              "2025-09-04 11:06:06"
             ],
             {
              "frame": {
               "duration": 1,
               "easing": "linear",
               "redraw": true
              },
              "transition": {
               "duration": 0,
               "easing": "linear"
              }
             }
            ],
            "label": "11:06:06",
            "method": "animate"
           },
           {
            "args": [
             [
              "2025-09-04 11:06:07"
             ],
             {
              "frame": {
               "duration": 1,
               "easing": "linear",
               "redraw": true
              },
              "transition": {
               "duration": 0,
               "easing": "linear"
              }
             }
            ],
            "label": "11:06:07",
            "method": "animate"
           },
           {
            "args": [
             [
              "2025-09-04 11:06:08"
             ],
             {
              "frame": {
               "duration": 1,
               "easing": "linear",
               "redraw": true
              },
              "transition": {
               "duration": 0,
               "easing": "linear"
              }
             }
            ],
            "label": "11:06:08",
            "method": "animate"
           },
           {
            "args": [
             [
              "2025-09-04 11:06:09"
             ],
             {
              "frame": {
               "duration": 1,
               "easing": "linear",
               "redraw": true
              },
              "transition": {
               "duration": 0,
               "easing": "linear"
              }
             }
            ],
            "label": "11:06:09",
            "method": "animate"
           },
           {
            "args": [
             [
              "2025-09-04 11:06:10"
             ],
             {
              "frame": {
               "duration": 1,
               "easing": "linear",
               "redraw": true
              },
              "transition": {
               "duration": 0,
               "easing": "linear"
              }
             }
            ],
            "label": "11:06:10",
            "method": "animate"
           },
           {
            "args": [
             [
              "2025-09-04 11:06:11"
             ],
             {
              "frame": {
               "duration": 1,
               "easing": "linear",
               "redraw": true
              },
              "transition": {
               "duration": 0,
               "easing": "linear"
              }
             }
            ],
            "label": "11:06:11",
            "method": "animate"
           },
           {
            "args": [
             [
              "2025-09-04 11:06:12"
             ],
             {
              "frame": {
               "duration": 1,
               "easing": "linear",
               "redraw": true
              },
              "transition": {
               "duration": 0,
               "easing": "linear"
              }
             }
            ],
            "label": "11:06:12",
            "method": "animate"
           },
           {
            "args": [
             [
              "2025-09-04 11:06:13"
             ],
             {
              "frame": {
               "duration": 1,
               "easing": "linear",
               "redraw": true
              },
              "transition": {
               "duration": 0,
               "easing": "linear"
              }
             }
            ],
            "label": "11:06:13",
            "method": "animate"
           },
           {
            "args": [
             [
              "2025-09-04 11:06:14"
             ],
             {
              "frame": {
               "duration": 1,
               "easing": "linear",
               "redraw": true
              },
              "transition": {
               "duration": 0,
               "easing": "linear"
              }
             }
            ],
            "label": "11:06:14",
            "method": "animate"
           },
           {
            "args": [
             [
              "2025-09-04 11:06:15"
             ],
             {
              "frame": {
               "duration": 1,
               "easing": "linear",
               "redraw": true
              },
              "transition": {
               "duration": 0,
               "easing": "linear"
              }
             }
            ],
            "label": "11:06:15",
            "method": "animate"
           },
           {
            "args": [
             [
              "2025-09-04 11:06:16"
             ],
             {
              "frame": {
               "duration": 1,
               "easing": "linear",
               "redraw": true
              },
              "transition": {
               "duration": 0,
               "easing": "linear"
              }
             }
            ],
            "label": "11:06:16",
            "method": "animate"
           },
           {
            "args": [
             [
              "2025-09-04 11:06:17"
             ],
             {
              "frame": {
               "duration": 1,
               "easing": "linear",
               "redraw": true
              },
              "transition": {
               "duration": 0,
               "easing": "linear"
              }
             }
            ],
            "label": "11:06:17",
            "method": "animate"
           },
           {
            "args": [
             [
              "2025-09-04 11:06:18"
             ],
             {
              "frame": {
               "duration": 1,
               "easing": "linear",
               "redraw": true
              },
              "transition": {
               "duration": 0,
               "easing": "linear"
              }
             }
            ],
            "label": "11:06:18",
            "method": "animate"
           },
           {
            "args": [
             [
              "2025-09-04 11:06:19"
             ],
             {
              "frame": {
               "duration": 1,
               "easing": "linear",
               "redraw": true
              },
              "transition": {
               "duration": 0,
               "easing": "linear"
              }
             }
            ],
            "label": "11:06:19",
            "method": "animate"
           },
           {
            "args": [
             [
              "2025-09-04 11:06:20"
             ],
             {
              "frame": {
               "duration": 1,
               "easing": "linear",
               "redraw": true
              },
              "transition": {
               "duration": 0,
               "easing": "linear"
              }
             }
            ],
            "label": "11:06:20",
            "method": "animate"
           },
           {
            "args": [
             [
              "2025-09-04 11:06:21"
             ],
             {
              "frame": {
               "duration": 1,
               "easing": "linear",
               "redraw": true
              },
              "transition": {
               "duration": 0,
               "easing": "linear"
              }
             }
            ],
            "label": "11:06:21",
            "method": "animate"
           },
           {
            "args": [
             [
              "2025-09-04 11:06:22"
             ],
             {
              "frame": {
               "duration": 1,
               "easing": "linear",
               "redraw": true
              },
              "transition": {
               "duration": 0,
               "easing": "linear"
              }
             }
            ],
            "label": "11:06:22",
            "method": "animate"
           },
           {
            "args": [
             [
              "2025-09-04 11:06:23"
             ],
             {
              "frame": {
               "duration": 1,
               "easing": "linear",
               "redraw": true
              },
              "transition": {
               "duration": 0,
               "easing": "linear"
              }
             }
            ],
            "label": "11:06:23",
            "method": "animate"
           },
           {
            "args": [
             [
              "2025-09-04 11:06:24"
             ],
             {
              "frame": {
               "duration": 1,
               "easing": "linear",
               "redraw": true
              },
              "transition": {
               "duration": 0,
               "easing": "linear"
              }
             }
            ],
            "label": "11:06:24",
            "method": "animate"
           },
           {
            "args": [
             [
              "2025-09-04 11:06:25"
             ],
             {
              "frame": {
               "duration": 1,
               "easing": "linear",
               "redraw": true
              },
              "transition": {
               "duration": 0,
               "easing": "linear"
              }
             }
            ],
            "label": "11:06:25",
            "method": "animate"
           }
          ],
          "transition": {
           "duration": 285.7142857142857,
           "easing": "linear"
          },
          "x": 0.1,
          "xanchor": "left",
          "y": 0,
          "yanchor": "top"
         }
        ],
        "template": {
         "data": {
          "bar": [
           {
            "error_x": {
             "color": "#2a3f5f"
            },
            "error_y": {
             "color": "#2a3f5f"
            },
            "marker": {
             "line": {
              "color": "#E5ECF6",
              "width": 0.5
             },
             "pattern": {
              "fillmode": "overlay",
              "size": 10,
              "solidity": 0.2
             }
            },
            "type": "bar"
           }
          ],
          "barpolar": [
           {
            "marker": {
             "line": {
              "color": "#E5ECF6",
              "width": 0.5
             },
             "pattern": {
              "fillmode": "overlay",
              "size": 10,
              "solidity": 0.2
             }
            },
            "type": "barpolar"
           }
          ],
          "carpet": [
           {
            "aaxis": {
             "endlinecolor": "#2a3f5f",
             "gridcolor": "white",
             "linecolor": "white",
             "minorgridcolor": "white",
             "startlinecolor": "#2a3f5f"
            },
            "baxis": {
             "endlinecolor": "#2a3f5f",
             "gridcolor": "white",
             "linecolor": "white",
             "minorgridcolor": "white",
             "startlinecolor": "#2a3f5f"
            },
            "type": "carpet"
           }
          ],
          "choropleth": [
           {
            "colorbar": {
             "outlinewidth": 0,
             "ticks": ""
            },
            "type": "choropleth"
           }
          ],
          "contour": [
           {
            "colorbar": {
             "outlinewidth": 0,
             "ticks": ""
            },
            "colorscale": [
             [
              0,
              "#0d0887"
             ],
             [
              0.1111111111111111,
              "#46039f"
             ],
             [
              0.2222222222222222,
              "#7201a8"
             ],
             [
              0.3333333333333333,
              "#9c179e"
             ],
             [
              0.4444444444444444,
              "#bd3786"
             ],
             [
              0.5555555555555556,
              "#d8576b"
             ],
             [
              0.6666666666666666,
              "#ed7953"
             ],
             [
              0.7777777777777778,
              "#fb9f3a"
             ],
             [
              0.8888888888888888,
              "#fdca26"
             ],
             [
              1,
              "#f0f921"
             ]
            ],
            "type": "contour"
           }
          ],
          "contourcarpet": [
           {
            "colorbar": {
             "outlinewidth": 0,
             "ticks": ""
            },
            "type": "contourcarpet"
           }
          ],
          "heatmap": [
           {
            "colorbar": {
             "outlinewidth": 0,
             "ticks": ""
            },
            "colorscale": [
             [
              0,
              "#0d0887"
             ],
             [
              0.1111111111111111,
              "#46039f"
             ],
             [
              0.2222222222222222,
              "#7201a8"
             ],
             [
              0.3333333333333333,
              "#9c179e"
             ],
             [
              0.4444444444444444,
              "#bd3786"
             ],
             [
              0.5555555555555556,
              "#d8576b"
             ],
             [
              0.6666666666666666,
              "#ed7953"
             ],
             [
              0.7777777777777778,
              "#fb9f3a"
             ],
             [
              0.8888888888888888,
              "#fdca26"
             ],
             [
              1,
              "#f0f921"
             ]
            ],
            "type": "heatmap"
           }
          ],
          "histogram": [
           {
            "marker": {
             "pattern": {
              "fillmode": "overlay",
              "size": 10,
              "solidity": 0.2
             }
            },
            "type": "histogram"
           }
          ],
          "histogram2d": [
           {
            "colorbar": {
             "outlinewidth": 0,
             "ticks": ""
            },
            "colorscale": [
             [
              0,
              "#0d0887"
             ],
             [
              0.1111111111111111,
              "#46039f"
             ],
             [
              0.2222222222222222,
              "#7201a8"
             ],
             [
              0.3333333333333333,
              "#9c179e"
             ],
             [
              0.4444444444444444,
              "#bd3786"
             ],
             [
              0.5555555555555556,
              "#d8576b"
             ],
             [
              0.6666666666666666,
              "#ed7953"
             ],
             [
              0.7777777777777778,
              "#fb9f3a"
             ],
             [
              0.8888888888888888,
              "#fdca26"
             ],
             [
              1,
              "#f0f921"
             ]
            ],
            "type": "histogram2d"
           }
          ],
          "histogram2dcontour": [
           {
            "colorbar": {
             "outlinewidth": 0,
             "ticks": ""
            },
            "colorscale": [
             [
              0,
              "#0d0887"
             ],
             [
              0.1111111111111111,
              "#46039f"
             ],
             [
              0.2222222222222222,
              "#7201a8"
             ],
             [
              0.3333333333333333,
              "#9c179e"
             ],
             [
              0.4444444444444444,
              "#bd3786"
             ],
             [
              0.5555555555555556,
              "#d8576b"
             ],
             [
              0.6666666666666666,
              "#ed7953"
             ],
             [
              0.7777777777777778,
              "#fb9f3a"
             ],
             [
              0.8888888888888888,
              "#fdca26"
             ],
             [
              1,
              "#f0f921"
             ]
            ],
            "type": "histogram2dcontour"
           }
          ],
          "mesh3d": [
           {
            "colorbar": {
             "outlinewidth": 0,
             "ticks": ""
            },
            "type": "mesh3d"
           }
          ],
          "parcoords": [
           {
            "line": {
             "colorbar": {
              "outlinewidth": 0,
              "ticks": ""
             }
            },
            "type": "parcoords"
           }
          ],
          "pie": [
           {
            "automargin": true,
            "type": "pie"
           }
          ],
          "scatter": [
           {
            "fillpattern": {
             "fillmode": "overlay",
             "size": 10,
             "solidity": 0.2
            },
            "type": "scatter"
           }
          ],
          "scatter3d": [
           {
            "line": {
             "colorbar": {
              "outlinewidth": 0,
              "ticks": ""
             }
            },
            "marker": {
             "colorbar": {
              "outlinewidth": 0,
              "ticks": ""
             }
            },
            "type": "scatter3d"
           }
          ],
          "scattercarpet": [
           {
            "marker": {
             "colorbar": {
              "outlinewidth": 0,
              "ticks": ""
             }
            },
            "type": "scattercarpet"
           }
          ],
          "scattergeo": [
           {
            "marker": {
             "colorbar": {
              "outlinewidth": 0,
              "ticks": ""
             }
            },
            "type": "scattergeo"
           }
          ],
          "scattergl": [
           {
            "marker": {
             "colorbar": {
              "outlinewidth": 0,
              "ticks": ""
             }
            },
            "type": "scattergl"
           }
          ],
          "scattermap": [
           {
            "marker": {
             "colorbar": {
              "outlinewidth": 0,
              "ticks": ""
             }
            },
            "type": "scattermap"
           }
          ],
          "scattermapbox": [
           {
            "marker": {
             "colorbar": {
              "outlinewidth": 0,
              "ticks": ""
             }
            },
            "type": "scattermapbox"
           }
          ],
          "scatterpolar": [
           {
            "marker": {
             "colorbar": {
              "outlinewidth": 0,
              "ticks": ""
             }
            },
            "type": "scatterpolar"
           }
          ],
          "scatterpolargl": [
           {
            "marker": {
             "colorbar": {
              "outlinewidth": 0,
              "ticks": ""
             }
            },
            "type": "scatterpolargl"
           }
          ],
          "scatterternary": [
           {
            "marker": {
             "colorbar": {
              "outlinewidth": 0,
              "ticks": ""
             }
            },
            "type": "scatterternary"
           }
          ],
          "surface": [
           {
            "colorbar": {
             "outlinewidth": 0,
             "ticks": ""
            },
            "colorscale": [
             [
              0,
              "#0d0887"
             ],
             [
              0.1111111111111111,
              "#46039f"
             ],
             [
              0.2222222222222222,
              "#7201a8"
             ],
             [
              0.3333333333333333,
              "#9c179e"
             ],
             [
              0.4444444444444444,
              "#bd3786"
             ],
             [
              0.5555555555555556,
              "#d8576b"
             ],
             [
              0.6666666666666666,
              "#ed7953"
             ],
             [
              0.7777777777777778,
              "#fb9f3a"
             ],
             [
              0.8888888888888888,
              "#fdca26"
             ],
             [
              1,
              "#f0f921"
             ]
            ],
            "type": "surface"
           }
          ],
          "table": [
           {
            "cells": {
             "fill": {
              "color": "#EBF0F8"
             },
             "line": {
              "color": "white"
             }
            },
            "header": {
             "fill": {
              "color": "#C8D4E3"
             },
             "line": {
              "color": "white"
             }
            },
            "type": "table"
           }
          ]
         },
         "layout": {
          "annotationdefaults": {
           "arrowcolor": "#2a3f5f",
           "arrowhead": 0,
           "arrowwidth": 1
          },
          "autotypenumbers": "strict",
          "coloraxis": {
           "colorbar": {
            "outlinewidth": 0,
            "ticks": ""
           }
          },
          "colorscale": {
           "diverging": [
            [
             0,
             "#8e0152"
            ],
            [
             0.1,
             "#c51b7d"
            ],
            [
             0.2,
             "#de77ae"
            ],
            [
             0.3,
             "#f1b6da"
            ],
            [
             0.4,
             "#fde0ef"
            ],
            [
             0.5,
             "#f7f7f7"
            ],
            [
             0.6,
             "#e6f5d0"
            ],
            [
             0.7,
             "#b8e186"
            ],
            [
             0.8,
             "#7fbc41"
            ],
            [
             0.9,
             "#4d9221"
            ],
            [
             1,
             "#276419"
            ]
           ],
           "sequential": [
            [
             0,
             "#0d0887"
            ],
            [
             0.1111111111111111,
             "#46039f"
            ],
            [
             0.2222222222222222,
             "#7201a8"
            ],
            [
             0.3333333333333333,
             "#9c179e"
            ],
            [
             0.4444444444444444,
             "#bd3786"
            ],
            [
             0.5555555555555556,
             "#d8576b"
            ],
            [
             0.6666666666666666,
             "#ed7953"
            ],
            [
             0.7777777777777778,
             "#fb9f3a"
            ],
            [
             0.8888888888888888,
             "#fdca26"
            ],
            [
             1,
             "#f0f921"
            ]
           ],
           "sequentialminus": [
            [
             0,
             "#0d0887"
            ],
            [
             0.1111111111111111,
             "#46039f"
            ],
            [
             0.2222222222222222,
             "#7201a8"
            ],
            [
             0.3333333333333333,
             "#9c179e"
            ],
            [
             0.4444444444444444,
             "#bd3786"
            ],
            [
             0.5555555555555556,
             "#d8576b"
            ],
            [
             0.6666666666666666,
             "#ed7953"
            ],
            [
             0.7777777777777778,
             "#fb9f3a"
            ],
            [
             0.8888888888888888,
             "#fdca26"
            ],
            [
             1,
             "#f0f921"
            ]
           ]
          },
          "colorway": [
           "#636efa",
           "#EF553B",
           "#00cc96",
           "#ab63fa",
           "#FFA15A",
           "#19d3f3",
           "#FF6692",
           "#B6E880",
           "#FF97FF",
           "#FECB52"
          ],
          "font": {
           "color": "#2a3f5f"
          },
          "geo": {
           "bgcolor": "white",
           "lakecolor": "white",
           "landcolor": "#E5ECF6",
           "showlakes": true,
           "showland": true,
           "subunitcolor": "white"
          },
          "hoverlabel": {
           "align": "left"
          },
          "hovermode": "closest",
          "mapbox": {
           "style": "light"
          },
          "paper_bgcolor": "white",
          "plot_bgcolor": "#E5ECF6",
          "polar": {
           "angularaxis": {
            "gridcolor": "white",
            "linecolor": "white",
            "ticks": ""
           },
           "bgcolor": "#E5ECF6",
           "radialaxis": {
            "gridcolor": "white",
            "linecolor": "white",
            "ticks": ""
           }
          },
          "scene": {
           "xaxis": {
            "backgroundcolor": "#E5ECF6",
            "gridcolor": "white",
            "gridwidth": 2,
            "linecolor": "white",
            "showbackground": true,
            "ticks": "",
            "zerolinecolor": "white"
           },
           "yaxis": {
            "backgroundcolor": "#E5ECF6",
            "gridcolor": "white",
            "gridwidth": 2,
            "linecolor": "white",
            "showbackground": true,
            "ticks": "",
            "zerolinecolor": "white"
           },
           "zaxis": {
            "backgroundcolor": "#E5ECF6",
            "gridcolor": "white",
            "gridwidth": 2,
            "linecolor": "white",
            "showbackground": true,
            "ticks": "",
            "zerolinecolor": "white"
           }
          },
          "shapedefaults": {
           "line": {
            "color": "#2a3f5f"
           }
          },
          "ternary": {
           "aaxis": {
            "gridcolor": "white",
            "linecolor": "white",
            "ticks": ""
           },
           "baxis": {
            "gridcolor": "white",
            "linecolor": "white",
            "ticks": ""
           },
           "bgcolor": "#E5ECF6",
           "caxis": {
            "gridcolor": "white",
            "linecolor": "white",
            "ticks": ""
           }
          },
          "title": {
           "x": 0.05
          },
          "xaxis": {
           "automargin": true,
           "gridcolor": "white",
           "linecolor": "white",
           "ticks": "",
           "title": {
            "standoff": 15
           },
           "zerolinecolor": "white",
           "zerolinewidth": 2
          },
          "yaxis": {
           "automargin": true,
           "gridcolor": "white",
           "linecolor": "white",
           "ticks": "",
           "title": {
            "standoff": 15
           },
           "zerolinecolor": "white",
           "zerolinewidth": 2
          }
         }
        },
        "updatemenus": [
         {
          "buttons": [
           {
            "args": [
             null,
             {
              "frame": {
               "duration": 285.7142857142857,
               "redraw": true
              },
              "fromcurrent": true,
              "transition": {
               "duration": 0
              }
             }
            ],
            "label": "Play",
            "method": "animate"
           },
           {
            "args": [
             [
              null
             ],
             {
              "frame": {
               "duration": 0,
               "redraw": true
              },
              "mode": "immediate",
              "transition": {
               "duration": 0
              }
             }
            ],
            "label": "Stop",
            "method": "animate"
           }
          ],
          "direction": "left",
          "pad": {
           "r": 10,
           "t": 75
          },
          "showactive": true,
          "type": "buttons",
          "x": 0.1,
          "xanchor": "right",
          "y": 0,
          "yanchor": "top"
         }
        ],
        "xaxis": {
         "range": [
          -0.9859862180133669,
          20.705710578280705
         ],
         "title": {
          "text": "<i>x</i>"
         }
        },
        "yaxis": {
         "range": [
          -2.4033479344723028,
          50.470306623918354
         ],
         "title": {
          "text": "<i>y</i>"
         }
        }
       }
      },
      "image/png": "[encoded data removed]"
     },
     "metadata": {},
     "output_type": "display_data"
    }
   ],
   "source": [
    "from stonesoup.plotter import AnimatedPlotterly\n",
    "plotter = AnimatedPlotterly(timesteps, tail_length=0.3)\n",
    "plotter.plot_ground_truths(truth, [0, 2])\n",
    "plotter.fig"
   ]
  },
  {
   "cell_type": "code",
   "execution_count": 65,
   "id": "742e76a1-d471-4fc7-88b2-0812217f7fe8",
   "metadata": {},
   "outputs": [],
   "source": [
    "from stonesoup.models.measurement.nonlinear import CartesianToBearingRange\n",
    "sensor_x = 50  # Placing the sensor off-centre\n",
    "sensor_y = 0\n",
    "\n",
    "measurement_model = CartesianToBearingRange(\n",
    "    ndim_state=4,\n",
    "    mapping=(0, 2),\n",
    "    noise_covar=np.diag([np.radians(0.2), 1]),  # Covariance matrix. 0.2 degree variance in\n",
    "    # bearing and 1 metre in range\n",
    "    translation_offset=np.array([[sensor_x], [sensor_y]])  # Offset measurements to location of\n",
    "    # sensor in cartesian.\n",
    ")"
   ]
  },
  {
   "cell_type": "code",
   "execution_count": 66,
   "id": "b193ec14-2dcc-4e33-a0e1-e23694875278",
   "metadata": {},
   "outputs": [],
   "source": [
    "from stonesoup.types.detection import Detection\n",
    "\n",
    "measurements = []\n",
    "for state in truth:\n",
    "    measurement = measurement_model.function(state, noise=True)\n",
    "    measurements.append(Detection(measurement, timestamp=state.timestamp,\n",
    "                                  measurement_model=measurement_model))"
   ]
  },
  {
   "cell_type": "code",
   "execution_count": 67,
   "id": "e965ce54-d58f-48d0-83d3-9bcf3b7883f4",
   "metadata": {},
   "outputs": [
    {
     "data": {
      "application/vnd.plotly.v1+json": {
       "config": {
        "plotlyServerURL": "https://plot.ly"
       },
       "data": [
        {
         "hoverinfo": "none",
         "legendgroup": "Ground Truth",
         "legendrank": 100,
         "line": {
          "color": "#EF553B",
          "dash": "dash"
         },
         "mode": "lines",
         "name": "Ground Truth",
         "showlegend": true,
         "type": "scatter",
         "x": [],
         "y": []
        },
        {
         "hoverinfo": "none",
         "legendgroup": "Ground Truth",
         "legendrank": 100,
         "line": {
          "color": "#EF553B",
          "dash": "dash"
         },
         "mode": "lines",
         "name": "Ground Truth",
         "showlegend": false,
         "type": "scatter",
         "x": [],
         "y": []
        },
        {
         "hoverinfo": "none",
         "legendgroup": "Measurements",
         "legendrank": 200,
         "marker": {
          "color": "#636EFA"
         },
         "mode": "markers",
         "name": "Measurements",
         "showlegend": true,
         "type": "scatter",
         "x": [],
         "y": []
        },
        {
         "hoverinfo": "none",
         "legendgroup": "Measurements",
         "legendrank": 200,
         "marker": {
          "color": "#636EFA"
         },
         "mode": "markers",
         "name": "Measurements",
         "showlegend": false,
         "type": "scatter",
         "x": [],
         "y": []
        }
       ],
       "frames": [
        {
         "data": [
          {
           "type": "scatter",
           "x": [
            0,
            0
           ],
           "y": [
            0,
            0
           ]
          },
          {
           "hovertemplate": "GroundTruthState<br>(%{x}, %{y})<br>Time: %{meta}",
           "meta": [
            "2025-09-04 11:06:05"
           ],
           "type": "scatter",
           "x": {
            "bdata": "AAAAAAAAAAAAAAAAAADwfw==",
            "dtype": "f8"
           },
           "y": {
            "bdata": "AAAAAAAAAAAAAAAAAADwfw==",
            "dtype": "f8"
           }
          },
          {
           "type": "scatter",
           "x": [
            null,
            null
           ],
           "y": [
            null,
            null
           ]
          },
          {
           "hovertemplate": "Detection<br>(%{x}, %{y})<br>Time: %{meta}",
           "meta": [
            "2025-09-04 11:06:05"
           ],
           "type": "scatter",
           "x": {
            "bdata": "AN9JOUnGAUAAAAAAAADwfw==",
            "dtype": "f8"
           },
           "y": {
            "bdata": "PieuxKFl7r8AAAAAAADwfw==",
            "dtype": "f8"
           }
          }
         ],
         "name": "2025-09-04 11:06:05",
         "traces": [
          0,
          1,
          2,
          3
         ]
        },
        {
         "data": [
          {
           "type": "scatter",
           "x": [
            0,
            0
           ],
           "y": [
            0,
            0
           ]
          },
          {
           "hovertemplate": "GroundTruthState<br>(%{x}, %{y})<br>Time: %{meta}",
           "meta": [
            "2025-09-04 11:06:05",
            "2025-09-04 11:06:06"
           ],
           "type": "scatter",
           "x": {
            "bdata": "AAAAAAAAAAB6tLpF6NXyPwAAAAAAAPB/",
            "dtype": "f8"
           },
           "y": {
            "bdata": "AAAAAAAAAADQkKGTxALwPwAAAAAAAPB/",
            "dtype": "f8"
           }
          },
          {
           "type": "scatter",
           "x": [
            null,
            null
           ],
           "y": [
            null,
            null
           ]
          },
          {
           "hovertemplate": "Detection<br>(%{x}, %{y})<br>Time: %{meta}",
           "meta": [
            "2025-09-04 11:06:05",
            "2025-09-04 11:06:06"
           ],
           "type": "scatter",
           "x": {
            "bdata": "AN9JOUnGAUAAJytg4Mj4PwAAAAAAAPB/",
            "dtype": "f8"
           },
           "y": {
            "bdata": "PieuxKFl7r9H95tOR4EBwAAAAAAAAPB/",
            "dtype": "f8"
           }
          }
         ],
         "name": "2025-09-04 11:06:06",
         "traces": [
          0,
          1,
          2,
          3
         ]
        },
        {
         "data": [
          {
           "type": "scatter",
           "x": [
            0,
            0
           ],
           "y": [
            0,
            0
           ]
          },
          {
           "hovertemplate": "GroundTruthState<br>(%{x}, %{y})<br>Time: %{meta}",
           "meta": [
            "2025-09-04 11:06:05",
            "2025-09-04 11:06:06",
            "2025-09-04 11:06:07"
           ],
           "type": "scatter",
           "x": {
            "bdata": "AAAAAAAAAAB6tLpF6NXyP2HNMOElNAJAAAAAAAAA8H8=",
            "dtype": "f8"
           },
           "y": {
            "bdata": "AAAAAAAAAADQkKGTxALwP03PNxbuPgBAAAAAAAAA8H8=",
            "dtype": "f8"
           }
          },
          {
           "type": "scatter",
           "x": [
            null,
            null
           ],
           "y": [
            null,
            null
           ]
          },
          {
           "hovertemplate": "Detection<br>(%{x}, %{y})<br>Time: %{meta}",
           "meta": [
            "2025-09-04 11:06:05",
            "2025-09-04 11:06:06",
            "2025-09-04 11:06:07"
           ],
           "type": "scatter",
           "x": {
            "bdata": "AN9JOUnGAUAAJytg4Mj4P/gWENZoeRBAAAAAAAAA8H8=",
            "dtype": "f8"
           },
           "y": {
            "bdata": "PieuxKFl7r9H95tOR4EBwIc1Io0jQSZAAAAAAAAA8H8=",
            "dtype": "f8"
           }
          }
         ],
         "name": "2025-09-04 11:06:07",
         "traces": [
          0,
          1,
          2,
          3
         ]
        },
        {
         "data": [
          {
           "type": "scatter",
           "x": [
            0,
            0
           ],
           "y": [
            0,
            0
           ]
          },
          {
           "hovertemplate": "GroundTruthState<br>(%{x}, %{y})<br>Time: %{meta}",
           "meta": [
            "2025-09-04 11:06:05",
            "2025-09-04 11:06:06",
            "2025-09-04 11:06:07",
            "2025-09-04 11:06:08"
           ],
           "type": "scatter",
           "x": {
            "bdata": "AAAAAAAAAAB6tLpF6NXyP2HNMOElNAJAXldM4pE/CUAAAAAAAADwfw==",
            "dtype": "f8"
           },
           "y": {
            "bdata": "AAAAAAAAAADQkKGTxALwP03PNxbuPgBAy4Dv5lipCUAAAAAAAADwfw==",
            "dtype": "f8"
           }
          },
          {
           "type": "scatter",
           "x": [
            null,
            null
           ],
           "y": [
            null,
            null
           ]
          },
          {
           "hovertemplate": "Detection<br>(%{x}, %{y})<br>Time: %{meta}",
           "meta": [
            "2025-09-04 11:06:05",
            "2025-09-04 11:06:06",
            "2025-09-04 11:06:07",
            "2025-09-04 11:06:08"
           ],
           "type": "scatter",
           "x": {
            "bdata": "AN9JOUnGAUAAJytg4Mj4P/gWENZoeRBAIO8+CvoiEkAAAAAAAADwfw==",
            "dtype": "f8"
           },
           "y": {
            "bdata": "PieuxKFl7r9H95tOR4EBwIc1Io0jQSZAlvCEutQUE0AAAAAAAADwfw==",
            "dtype": "f8"
           }
          }
         ],
         "name": "2025-09-04 11:06:08",
         "traces": [
          0,
          1,
          2,
          3
         ]
        },
        {
         "data": [
          {
           "type": "scatter",
           "x": [
            0,
            0
           ],
           "y": [
            0,
            0
           ]
          },
          {
           "hovertemplate": "GroundTruthState<br>(%{x}, %{y})<br>Time: %{meta}",
           "meta": [
            "2025-09-04 11:06:05",
            "2025-09-04 11:06:06",
            "2025-09-04 11:06:07",
            "2025-09-04 11:06:08",
            "2025-09-04 11:06:09"
           ],
           "type": "scatter",
           "x": {
            "bdata": "AAAAAAAAAAB6tLpF6NXyP2HNMOElNAJAXldM4pE/CUB4sMMCKXIQQAAAAAAAAPB/",
            "dtype": "f8"
           },
           "y": {
            "bdata": "AAAAAAAAAADQkKGTxALwP03PNxbuPgBAy4Dv5lipCUAL289Y57kSQAAAAAAAAPB/",
            "dtype": "f8"
           }
          },
          {
           "type": "scatter",
           "x": [
            null,
            null
           ],
           "y": [
            null,
            null
           ]
          },
          {
           "hovertemplate": "Detection<br>(%{x}, %{y})<br>Time: %{meta}",
           "meta": [
            "2025-09-04 11:06:05",
            "2025-09-04 11:06:06",
            "2025-09-04 11:06:07",
            "2025-09-04 11:06:08",
            "2025-09-04 11:06:09"
           ],
           "type": "scatter",
           "x": {
            "bdata": "AN9JOUnGAUAAJytg4Mj4P/gWENZoeRBAIO8+CvoiEkCgDe0pXuQRQAAAAAAAAPB/",
            "dtype": "f8"
           },
           "y": {
            "bdata": "PieuxKFl7r9H95tOR4EBwIc1Io0jQSZAlvCEutQUE0AX16U5HbARQAAAAAAAAPB/",
            "dtype": "f8"
           }
          }
         ],
         "name": "2025-09-04 11:06:09",
         "traces": [
          0,
          1,
          2,
          3
         ]
        },
        {
         "data": [
          {
           "type": "scatter",
           "x": [
            0,
            0
           ],
           "y": [
            0,
            0
           ]
          },
          {
           "hovertemplate": "GroundTruthState<br>(%{x}, %{y})<br>Time: %{meta}",
           "meta": [
            "2025-09-04 11:06:05",
            "2025-09-04 11:06:06",
            "2025-09-04 11:06:07",
            "2025-09-04 11:06:08",
            "2025-09-04 11:06:09",
            "2025-09-04 11:06:10"
           ],
           "type": "scatter",
           "x": {
            "bdata": "AAAAAAAAAAB6tLpF6NXyP2HNMOElNAJAXldM4pE/CUB4sMMCKXIQQBvJqZ+SRhRAAAAAAAAA8H8=",
            "dtype": "f8"
           },
           "y": {
            "bdata": "AAAAAAAAAADQkKGTxALwP03PNxbuPgBAy4Dv5lipCUAL289Y57kSQHJUCk5GshlAAAAAAAAA8H8=",
            "dtype": "f8"
           }
          },
          {
           "type": "scatter",
           "x": [
            null,
            null
           ],
           "y": [
            null,
            null
           ]
          },
          {
           "hovertemplate": "Detection<br>(%{x}, %{y})<br>Time: %{meta}",
           "meta": [
            "2025-09-04 11:06:05",
            "2025-09-04 11:06:06",
            "2025-09-04 11:06:07",
            "2025-09-04 11:06:08",
            "2025-09-04 11:06:09",
            "2025-09-04 11:06:10"
           ],
           "type": "scatter",
           "x": {
            "bdata": "AN9JOUnGAUAAJytg4Mj4P/gWENZoeRBAIO8+CvoiEkCgDe0pXuQRQIAmtIgSVBdAAAAAAAAA8H8=",
            "dtype": "f8"
           },
           "y": {
            "bdata": "PieuxKFl7r9H95tOR4EBwIc1Io0jQSZAlvCEutQUE0AX16U5HbARQHXTRqi2QyJAAAAAAAAA8H8=",
            "dtype": "f8"
           }
          }
         ],
         "name": "2025-09-04 11:06:10",
         "traces": [
          0,
          1,
          2,
          3
         ]
        },
        {
         "data": [
          {
           "type": "scatter",
           "x": [
            0,
            0
           ],
           "y": [
            0,
            0
           ]
          },
          {
           "hovertemplate": "GroundTruthState<br>(%{x}, %{y})<br>Time: %{meta}",
           "meta": [
            "2025-09-04 11:06:05",
            "2025-09-04 11:06:06",
            "2025-09-04 11:06:07",
            "2025-09-04 11:06:08",
            "2025-09-04 11:06:09",
            "2025-09-04 11:06:10",
            "2025-09-04 11:06:11"
           ],
           "type": "scatter",
           "x": {
            "bdata": "AAAAAAAAAAB6tLpF6NXyP2HNMOElNAJAXldM4pE/CUB4sMMCKXIQQBvJqZ+SRhRAL+4XjVKJGEAAAAAAAADwfw==",
            "dtype": "f8"
           },
           "y": {
            "bdata": "AAAAAAAAAADQkKGTxALwP03PNxbuPgBAy4Dv5lipCUAL289Y57kSQHJUCk5GshlAXfDz/0aVIEAAAAAAAADwfw==",
            "dtype": "f8"
           }
          },
          {
           "type": "scatter",
           "x": [
            null,
            null
           ],
           "y": [
            null,
            null
           ]
          },
          {
           "hovertemplate": "Detection<br>(%{x}, %{y})<br>Time: %{meta}",
           "meta": [
            "2025-09-04 11:06:05",
            "2025-09-04 11:06:06",
            "2025-09-04 11:06:07",
            "2025-09-04 11:06:08",
            "2025-09-04 11:06:09",
            "2025-09-04 11:06:10",
            "2025-09-04 11:06:11"
           ],
           "type": "scatter",
           "x": {
            "bdata": "AN9JOUnGAUAAJytg4Mj4P/gWENZoeRBAIO8+CvoiEkCgDe0pXuQRQIAmtIgSVBdA6GEQLu+vEkAAAAAAAADwfw==",
            "dtype": "f8"
           },
           "y": {
            "bdata": "PieuxKFl7r9H95tOR4EBwIc1Io0jQSZAlvCEutQUE0AX16U5HbARQHXTRqi2QyJAdV+lk0QIIkAAAAAAAADwfw==",
            "dtype": "f8"
           }
          }
         ],
         "name": "2025-09-04 11:06:11",
         "traces": [
          0,
          1,
          2,
          3
         ]
        },
        {
         "data": [
          {
           "type": "scatter",
           "x": [
            0,
            0
           ],
           "y": [
            0,
            0
           ]
          },
          {
           "hovertemplate": "GroundTruthState<br>(%{x}, %{y})<br>Time: %{meta}",
           "meta": [
            "2025-09-04 11:06:06",
            "2025-09-04 11:06:07",
            "2025-09-04 11:06:08",
            "2025-09-04 11:06:09",
            "2025-09-04 11:06:10",
            "2025-09-04 11:06:11",
            "2025-09-04 11:06:12"
           ],
           "type": "scatter",
           "x": {
            "bdata": "erS6RejV8j9hzTDhJTQCQF5XTOKRPwlAeLDDAilyEEAbyamfkkYUQC/uF41SiRhA+d8D0b1YHUAAAAAAAADwfw==",
            "dtype": "f8"
           },
           "y": {
            "bdata": "0JChk8QC8D9NzzcW7j4AQMuA7+ZYqQlAC9vPWOe5EkByVApORrIZQF3w8/9GlSBAkx2pj5ZrJEAAAAAAAADwfw==",
            "dtype": "f8"
           }
          },
          {
           "type": "scatter",
           "x": [
            null,
            null
           ],
           "y": [
            null,
            null
           ]
          },
          {
           "hovertemplate": "Detection<br>(%{x}, %{y})<br>Time: %{meta}",
           "meta": [
            "2025-09-04 11:06:06",
            "2025-09-04 11:06:07",
            "2025-09-04 11:06:08",
            "2025-09-04 11:06:09",
            "2025-09-04 11:06:10",
            "2025-09-04 11:06:11",
            "2025-09-04 11:06:12"
           ],
           "type": "scatter",
           "x": {
            "bdata": "ACcrYODI+D/4FhDWaHkQQCDvPgr6IhJAoA3tKV7kEUCAJrSIElQXQOhhEC7vrxJAqJx5RKmlG0AAAAAAAADwfw==",
            "dtype": "f8"
           },
           "y": {
            "bdata": "R/ebTkeBAcCHNSKNI0EmQJbwhLrUFBNAF9elOR2wEUB100aotkMiQHVfpZNECCJASKCz3OG0GkAAAAAAAADwfw==",
            "dtype": "f8"
           }
          }
         ],
         "name": "2025-09-04 11:06:12",
         "traces": [
          0,
          1,
          2,
          3
         ]
        },
        {
         "data": [
          {
           "type": "scatter",
           "x": [
            0,
            0
           ],
           "y": [
            0,
            0
           ]
          },
          {
           "hovertemplate": "GroundTruthState<br>(%{x}, %{y})<br>Time: %{meta}",
           "meta": [
            "2025-09-04 11:06:07",
            "2025-09-04 11:06:08",
            "2025-09-04 11:06:09",
            "2025-09-04 11:06:10",
            "2025-09-04 11:06:11",
            "2025-09-04 11:06:12",
            "2025-09-04 11:06:13"
           ],
           "type": "scatter",
           "x": {
            "bdata": "Yc0w4SU0AkBeV0zikT8JQHiwwwIpchBAG8mpn5JGFEAv7heNUokYQPnfA9G9WB1AtDiO8N9qIUAAAAAAAADwfw==",
            "dtype": "f8"
           },
           "y": {
            "bdata": "Tc83Fu4+AEDLgO/mWKkJQAvbz1jnuRJAclQKTkayGUBd8PP/RpUgQJMdqY+WayRAhkhDcEFHKUAAAAAAAADwfw==",
            "dtype": "f8"
           }
          },
          {
           "type": "scatter",
           "x": [
            null,
            null
           ],
           "y": [
            null,
            null
           ]
          },
          {
           "hovertemplate": "Detection<br>(%{x}, %{y})<br>Time: %{meta}",
           "meta": [
            "2025-09-04 11:06:07",
            "2025-09-04 11:06:08",
            "2025-09-04 11:06:09",
            "2025-09-04 11:06:10",
            "2025-09-04 11:06:11",
            "2025-09-04 11:06:12",
            "2025-09-04 11:06:13"
           ],
           "type": "scatter",
           "x": {
            "bdata": "+BYQ1mh5EEAg7z4K+iISQKAN7Sle5BFAgCa0iBJUF0DoYRAu768SQKiceUSppRtAQBlyHgjVI0AAAAAAAADwfw==",
            "dtype": "f8"
           },
           "y": {
            "bdata": "hzUijSNBJkCW8IS61BQTQBfXpTkdsBFAddNGqLZDIkB1X6WTRAgiQEigs9zhtBpAxsI+uGsyKkAAAAAAAADwfw==",
            "dtype": "f8"
           }
          }
         ],
         "name": "2025-09-04 11:06:13",
         "traces": [
          0,
          1,
          2,
          3
         ]
        },
        {
         "data": [
          {
           "type": "scatter",
           "x": [
            0,
            0
           ],
           "y": [
            0,
            0
           ]
          },
          {
           "hovertemplate": "GroundTruthState<br>(%{x}, %{y})<br>Time: %{meta}",
           "meta": [
            "2025-09-04 11:06:08",
            "2025-09-04 11:06:09",
            "2025-09-04 11:06:10",
            "2025-09-04 11:06:11",
            "2025-09-04 11:06:12",
            "2025-09-04 11:06:13",
            "2025-09-04 11:06:14"
           ],
           "type": "scatter",
           "x": {
            "bdata": "XldM4pE/CUB4sMMCKXIQQBvJqZ+SRhRAL+4XjVKJGED53wPRvVgdQLQ4jvDfaiFA7NV9RsZSI0AAAAAAAADwfw==",
            "dtype": "f8"
           },
           "y": {
            "bdata": "y4Dv5lipCUAL289Y57kSQHJUCk5GshlAXfDz/0aVIECTHamPlmskQIZIQ3BBRylAoQH+DownLkAAAAAAAADwfw==",
            "dtype": "f8"
           }
          },
          {
           "type": "scatter",
           "x": [
            null,
            null
           ],
           "y": [
            null,
            null
           ]
          },
          {
           "hovertemplate": "Detection<br>(%{x}, %{y})<br>Time: %{meta}",
           "meta": [
            "2025-09-04 11:06:08",
            "2025-09-04 11:06:09",
            "2025-09-04 11:06:10",
            "2025-09-04 11:06:11",
            "2025-09-04 11:06:12",
            "2025-09-04 11:06:13",
            "2025-09-04 11:06:14"
           ],
           "type": "scatter",
           "x": {
            "bdata": "IO8+CvoiEkCgDe0pXuQRQIAmtIgSVBdA6GEQLu+vEkConHlEqaUbQEAZch4I1SNArBxgdfhwKkAAAAAAAADwfw==",
            "dtype": "f8"
           },
           "y": {
            "bdata": "lvCEutQUE0AX16U5HbARQHXTRqi2QyJAdV+lk0QIIkBIoLPc4bQaQMbCPrhrMipAVz3j1gLpM0AAAAAAAADwfw==",
            "dtype": "f8"
           }
          }
         ],
         "name": "2025-09-04 11:06:14",
         "traces": [
          0,
          1,
          2,
          3
         ]
        },
        {
         "data": [
          {
           "type": "scatter",
           "x": [
            0,
            0
           ],
           "y": [
            0,
            0
           ]
          },
          {
           "hovertemplate": "GroundTruthState<br>(%{x}, %{y})<br>Time: %{meta}",
           "meta": [
            "2025-09-04 11:06:09",
            "2025-09-04 11:06:10",
            "2025-09-04 11:06:11",
            "2025-09-04 11:06:12",
            "2025-09-04 11:06:13",
            "2025-09-04 11:06:14",
            "2025-09-04 11:06:15"
           ],
           "type": "scatter",
           "x": {
            "bdata": "eLDDAilyEEAbyamfkkYUQC/uF41SiRhA+d8D0b1YHUC0OI7w32ohQOzVfUbGUiNAEuEL0C+UJEAAAAAAAADwfw==",
            "dtype": "f8"
           },
           "y": {
            "bdata": "C9vPWOe5EkByVApORrIZQF3w8/9GlSBAkx2pj5ZrJECGSENwQUcpQKEB/g6MJy5AF/mO3cB2MUAAAAAAAADwfw==",
            "dtype": "f8"
           }
          },
          {
           "type": "scatter",
           "x": [
            null,
            null
           ],
           "y": [
            null,
            null
           ]
          },
          {
           "hovertemplate": "Detection<br>(%{x}, %{y})<br>Time: %{meta}",
           "meta": [
            "2025-09-04 11:06:09",
            "2025-09-04 11:06:10",
            "2025-09-04 11:06:11",
            "2025-09-04 11:06:12",
            "2025-09-04 11:06:13",
            "2025-09-04 11:06:14",
            "2025-09-04 11:06:15"
           ],
           "type": "scatter",
           "x": {
            "bdata": "oA3tKV7kEUCAJrSIElQXQOhhEC7vrxJAqJx5RKmlG0BAGXIeCNUjQKwcYHX4cCpAZFHT6SqzI0AAAAAAAADwfw==",
            "dtype": "f8"
           },
           "y": {
            "bdata": "F9elOR2wEUB100aotkMiQHVfpZNECCJASKCz3OG0GkDGwj64azIqQFc949YC6TNALuOafCB/MEAAAAAAAADwfw==",
            "dtype": "f8"
           }
          }
         ],
         "name": "2025-09-04 11:06:15",
         "traces": [
          0,
          1,
          2,
          3
         ]
        },
        {
         "data": [
          {
           "type": "scatter",
           "x": [
            0,
            0
           ],
           "y": [
            0,
            0
           ]
          },
          {
           "hovertemplate": "GroundTruthState<br>(%{x}, %{y})<br>Time: %{meta}",
           "meta": [
            "2025-09-04 11:06:10",
            "2025-09-04 11:06:11",
            "2025-09-04 11:06:12",
            "2025-09-04 11:06:13",
            "2025-09-04 11:06:14",
            "2025-09-04 11:06:15",
            "2025-09-04 11:06:16"
           ],
           "type": "scatter",
           "x": {
            "bdata": "G8mpn5JGFEAv7heNUokYQPnfA9G9WB1AtDiO8N9qIUDs1X1GxlIjQBLhC9AvlCRAkjFQCCnRJUAAAAAAAADwfw==",
            "dtype": "f8"
           },
           "y": {
            "bdata": "clQKTkayGUBd8PP/RpUgQJMdqY+WayRAhkhDcEFHKUChAf4OjCcuQBf5jt3AdjFApjki6kjsM0AAAAAAAADwfw==",
            "dtype": "f8"
           }
          },
          {
           "type": "scatter",
           "x": [
            null,
            null
           ],
           "y": [
            null,
            null
           ]
          },
          {
           "hovertemplate": "Detection<br>(%{x}, %{y})<br>Time: %{meta}",
           "meta": [
            "2025-09-04 11:06:10",
            "2025-09-04 11:06:11",
            "2025-09-04 11:06:12",
            "2025-09-04 11:06:13",
            "2025-09-04 11:06:14",
            "2025-09-04 11:06:15",
            "2025-09-04 11:06:16"
           ],
           "type": "scatter",
           "x": {
            "bdata": "gCa0iBJUF0DoYRAu768SQKiceUSppRtAQBlyHgjVI0CsHGB1+HAqQGRR0+kqsyNAOHx1K1MaJ0AAAAAAAADwfw==",
            "dtype": "f8"
           },
           "y": {
            "bdata": "ddNGqLZDIkB1X6WTRAgiQEigs9zhtBpAxsI+uGsyKkBXPePWAukzQC7jmnwgfzBADFOedas5NEAAAAAAAADwfw==",
            "dtype": "f8"
           }
          }
         ],
         "name": "2025-09-04 11:06:16",
         "traces": [
          0,
          1,
          2,
          3
         ]
        },
        {
         "data": [
          {
           "type": "scatter",
           "x": [
            0,
            0
           ],
           "y": [
            0,
            0
           ]
          },
          {
           "hovertemplate": "GroundTruthState<br>(%{x}, %{y})<br>Time: %{meta}",
           "meta": [
            "2025-09-04 11:06:11",
            "2025-09-04 11:06:12",
            "2025-09-04 11:06:13",
            "2025-09-04 11:06:14",
            "2025-09-04 11:06:15",
            "2025-09-04 11:06:16",
            "2025-09-04 11:06:17"
           ],
           "type": "scatter",
           "x": {
            "bdata": "L+4XjVKJGED53wPRvVgdQLQ4jvDfaiFA7NV9RsZSI0AS4QvQL5QkQJIxUAgp0SVAo23mQHzfJkAAAAAAAADwfw==",
            "dtype": "f8"
           },
           "y": {
            "bdata": "XfDz/0aVIECTHamPlmskQIZIQ3BBRylAoQH+DownLkAX+Y7dwHYxQKY5IupI7DNAGzWtyWtvNkAAAAAAAADwfw==",
            "dtype": "f8"
           }
          },
          {
           "type": "scatter",
           "x": [
            null,
            null
           ],
           "y": [
            null,
            null
           ]
          },
          {
           "hovertemplate": "Detection<br>(%{x}, %{y})<br>Time: %{meta}",
           "meta": [
            "2025-09-04 11:06:11",
            "2025-09-04 11:06:12",
            "2025-09-04 11:06:13",
            "2025-09-04 11:06:14",
            "2025-09-04 11:06:15",
            "2025-09-04 11:06:16",
            "2025-09-04 11:06:17"
           ],
           "type": "scatter",
           "x": {
            "bdata": "6GEQLu+vEkConHlEqaUbQEAZch4I1SNArBxgdfhwKkBkUdPpKrMjQDh8dStTGidAOBkmw+L9KkAAAAAAAADwfw==",
            "dtype": "f8"
           },
           "y": {
            "bdata": "dV+lk0QIIkBIoLPc4bQaQMbCPrhrMipAVz3j1gLpM0Au45p8IH8wQAxTnnWrOTRABhnOgCVgOkAAAAAAAADwfw==",
            "dtype": "f8"
           }
          }
         ],
         "name": "2025-09-04 11:06:17",
         "traces": [
          0,
          1,
          2,
          3
         ]
        },
        {
         "data": [
          {
           "type": "scatter",
           "x": [
            0,
            0
           ],
           "y": [
            0,
            0
           ]
          },
          {
           "hovertemplate": "GroundTruthState<br>(%{x}, %{y})<br>Time: %{meta}",
           "meta": [
            "2025-09-04 11:06:12",
            "2025-09-04 11:06:13",
            "2025-09-04 11:06:14",
            "2025-09-04 11:06:15",
            "2025-09-04 11:06:16",
            "2025-09-04 11:06:17",
            "2025-09-04 11:06:18"
           ],
           "type": "scatter",
           "x": {
            "bdata": "+d8D0b1YHUC0OI7w32ohQOzVfUbGUiNAEuEL0C+UJECSMVAIKdElQKNt5kB83yZAVIZqP+IqKEAAAAAAAADwfw==",
            "dtype": "f8"
           },
           "y": {
            "bdata": "kx2pj5ZrJECGSENwQUcpQKEB/g6MJy5AF/mO3cB2MUCmOSLqSOwzQBs1rclrbzZAekRRw+s5OUAAAAAAAADwfw==",
            "dtype": "f8"
           }
          },
          {
           "type": "scatter",
           "x": [
            null,
            null
           ],
           "y": [
            null,
            null
           ]
          },
          {
           "hovertemplate": "Detection<br>(%{x}, %{y})<br>Time: %{meta}",
           "meta": [
            "2025-09-04 11:06:12",
            "2025-09-04 11:06:13",
            "2025-09-04 11:06:14",
            "2025-09-04 11:06:15",
            "2025-09-04 11:06:16",
            "2025-09-04 11:06:17",
            "2025-09-04 11:06:18"
           ],
           "type": "scatter",
           "x": {
            "bdata": "qJx5RKmlG0BAGXIeCNUjQKwcYHX4cCpAZFHT6SqzI0A4fHUrUxonQDgZJsPi/SpA7JPYWtFrIkAAAAAAAADwfw==",
            "dtype": "f8"
           },
           "y": {
            "bdata": "SKCz3OG0GkDGwj64azIqQFc949YC6TNALuOafCB/MEAMU551qzk0QAYZzoAlYDpAl0f29RftNEAAAAAAAADwfw==",
            "dtype": "f8"
           }
          }
         ],
         "name": "2025-09-04 11:06:18",
         "traces": [
          0,
          1,
          2,
          3
         ]
        },
        {
         "data": [
          {
           "type": "scatter",
           "x": [
            0,
            0
           ],
           "y": [
            0,
            0
           ]
          },
          {
           "hovertemplate": "GroundTruthState<br>(%{x}, %{y})<br>Time: %{meta}",
           "meta": [
            "2025-09-04 11:06:13",
            "2025-09-04 11:06:14",
            "2025-09-04 11:06:15",
            "2025-09-04 11:06:16",
            "2025-09-04 11:06:17",
            "2025-09-04 11:06:18",
            "2025-09-04 11:06:19"
           ],
           "type": "scatter",
           "x": {
            "bdata": "tDiO8N9qIUDs1X1GxlIjQBLhC9AvlCRAkjFQCCnRJUCjbeZAfN8mQFSGaj/iKihAX8G7Muq2KUAAAAAAAADwfw==",
            "dtype": "f8"
           },
           "y": {
            "bdata": "hkhDcEFHKUChAf4OjCcuQBf5jt3AdjFApjki6kjsM0AbNa3Ja282QHpEUcPrOTlAyrd/nSxRPEAAAAAAAADwfw==",
            "dtype": "f8"
           }
          },
          {
           "type": "scatter",
           "x": [
            null,
            null
           ],
           "y": [
            null,
            null
           ]
          },
          {
           "hovertemplate": "Detection<br>(%{x}, %{y})<br>Time: %{meta}",
           "meta": [
            "2025-09-04 11:06:13",
            "2025-09-04 11:06:14",
            "2025-09-04 11:06:15",
            "2025-09-04 11:06:16",
            "2025-09-04 11:06:17",
            "2025-09-04 11:06:18",
            "2025-09-04 11:06:19"
           ],
           "type": "scatter",
           "x": {
            "bdata": "QBlyHgjVI0CsHGB1+HAqQGRR0+kqsyNAOHx1K1MaJ0A4GSbD4v0qQOyT2FrRayJApGFoAQCnLUAAAAAAAADwfw==",
            "dtype": "f8"
           },
           "y": {
            "bdata": "xsI+uGsyKkBXPePWAukzQC7jmnwgfzBADFOedas5NEAGGc6AJWA6QJdH9vUX7TRAQVTHG1L7PUAAAAAAAADwfw==",
            "dtype": "f8"
           }
          }
         ],
         "name": "2025-09-04 11:06:19",
         "traces": [
          0,
          1,
          2,
          3
         ]
        },
        {
         "data": [
          {
           "type": "scatter",
           "x": [
            0,
            0
           ],
           "y": [
            0,
            0
           ]
          },
          {
           "hovertemplate": "GroundTruthState<br>(%{x}, %{y})<br>Time: %{meta}",
           "meta": [
            "2025-09-04 11:06:14",
            "2025-09-04 11:06:15",
            "2025-09-04 11:06:16",
            "2025-09-04 11:06:17",
            "2025-09-04 11:06:18",
            "2025-09-04 11:06:19",
            "2025-09-04 11:06:20"
           ],
           "type": "scatter",
           "x": {
            "bdata": "7NV9RsZSI0AS4QvQL5QkQJIxUAgp0SVAo23mQHzfJkBUhmo/4iooQF/BuzLqtilAFQmPCflTK0AAAAAAAADwfw==",
            "dtype": "f8"
           },
           "y": {
            "bdata": "oQH+DownLkAX+Y7dwHYxQKY5IupI7DNAGzWtyWtvNkB6RFHD6zk5QMq3f50sUTxAb1YXWVKnP0AAAAAAAADwfw==",
            "dtype": "f8"
           }
          },
          {
           "type": "scatter",
           "x": [
            null,
            null
           ],
           "y": [
            null,
            null
           ]
          },
          {
           "hovertemplate": "Detection<br>(%{x}, %{y})<br>Time: %{meta}",
           "meta": [
            "2025-09-04 11:06:14",
            "2025-09-04 11:06:15",
            "2025-09-04 11:06:16",
            "2025-09-04 11:06:17",
            "2025-09-04 11:06:18",
            "2025-09-04 11:06:19",
            "2025-09-04 11:06:20"
           ],
           "type": "scatter",
           "x": {
            "bdata": "rBxgdfhwKkBkUdPpKrMjQDh8dStTGidAOBkmw+L9KkDsk9ha0WsiQKRhaAEApy1AYN8JMl9jJ0AAAAAAAADwfw==",
            "dtype": "f8"
           },
           "y": {
            "bdata": "Vz3j1gLpM0Au45p8IH8wQAxTnnWrOTRABhnOgCVgOkCXR/b1F+00QEFUxxtS+z1Aoz79sPw6O0AAAAAAAADwfw==",
            "dtype": "f8"
           }
          }
         ],
         "name": "2025-09-04 11:06:20",
         "traces": [
          0,
          1,
          2,
          3
         ]
        },
        {
         "data": [
          {
           "type": "scatter",
           "x": [
            0,
            0
           ],
           "y": [
            0,
            0
           ]
          },
          {
           "hovertemplate": "GroundTruthState<br>(%{x}, %{y})<br>Time: %{meta}",
           "meta": [
            "2025-09-04 11:06:15",
            "2025-09-04 11:06:16",
            "2025-09-04 11:06:17",
            "2025-09-04 11:06:18",
            "2025-09-04 11:06:19",
            "2025-09-04 11:06:20",
            "2025-09-04 11:06:21"
           ],
           "type": "scatter",
           "x": {
            "bdata": "EuEL0C+UJECSMVAIKdElQKNt5kB83yZAVIZqP+IqKEBfwbsy6rYpQBUJjwn5UytAmLZG/WZSLUAAAAAAAADwfw==",
            "dtype": "f8"
           },
           "y": {
            "bdata": "F/mO3cB2MUCmOSLqSOwzQBs1rclrbzZAekRRw+s5OUDKt3+dLFE8QG9WF1lSpz9ANPmhmdt6QUAAAAAAAADwfw==",
            "dtype": "f8"
           }
          },
          {
           "type": "scatter",
           "x": [
            null,
            null
           ],
           "y": [
            null,
            null
           ]
          },
          {
           "hovertemplate": "Detection<br>(%{x}, %{y})<br>Time: %{meta}",
           "meta": [
            "2025-09-04 11:06:15",
            "2025-09-04 11:06:16",
            "2025-09-04 11:06:17",
            "2025-09-04 11:06:18",
            "2025-09-04 11:06:19",
            "2025-09-04 11:06:20",
            "2025-09-04 11:06:21"
           ],
           "type": "scatter",
           "x": {
            "bdata": "ZFHT6SqzI0A4fHUrUxonQDgZJsPi/SpA7JPYWtFrIkCkYWgBAKctQGDfCTJfYydAthuNabgIMEAAAAAAAADwfw==",
            "dtype": "f8"
           },
           "y": {
            "bdata": "LuOafCB/MEAMU551qzk0QAYZzoAlYDpAl0f29RftNEBBVMcbUvs9QKM+/bD8OjtA6ZYiKdkJQkAAAAAAAADwfw==",
            "dtype": "f8"
           }
          }
         ],
         "name": "2025-09-04 11:06:21",
         "traces": [
          0,
          1,
          2,
          3
         ]
        },
        {
         "data": [
          {
           "type": "scatter",
           "x": [
            0,
            0
           ],
           "y": [
            0,
            0
           ]
          },
          {
           "hovertemplate": "GroundTruthState<br>(%{x}, %{y})<br>Time: %{meta}",
           "meta": [
            "2025-09-04 11:06:16",
            "2025-09-04 11:06:17",
            "2025-09-04 11:06:18",
            "2025-09-04 11:06:19",
            "2025-09-04 11:06:20",
            "2025-09-04 11:06:21",
            "2025-09-04 11:06:22"
           ],
           "type": "scatter",
           "x": {
            "bdata": "kjFQCCnRJUCjbeZAfN8mQFSGaj/iKihAX8G7Muq2KUAVCY8J+VMrQJi2Rv1mUi1AnzddlQKHL0AAAAAAAADwfw==",
            "dtype": "f8"
           },
           "y": {
            "bdata": "pjki6kjsM0AbNa3Ja282QHpEUcPrOTlAyrd/nSxRPEBvVhdZUqc/QDT5oZnbekFAb2buENQpQ0AAAAAAAADwfw==",
            "dtype": "f8"
           }
          },
          {
           "type": "scatter",
           "x": [
            null,
            null
           ],
           "y": [
            null,
            null
           ]
          },
          {
           "hovertemplate": "Detection<br>(%{x}, %{y})<br>Time: %{meta}",
           "meta": [
            "2025-09-04 11:06:16",
            "2025-09-04 11:06:17",
            "2025-09-04 11:06:18",
            "2025-09-04 11:06:19",
            "2025-09-04 11:06:20",
            "2025-09-04 11:06:21",
            "2025-09-04 11:06:22"
           ],
           "type": "scatter",
           "x": {
            "bdata": "OHx1K1MaJ0A4GSbD4v0qQOyT2FrRayJApGFoAQCnLUBg3wkyX2MnQLYbjWm4CDBAEgfx2f04M0AAAAAAAADwfw==",
            "dtype": "f8"
           },
           "y": {
            "bdata": "DFOedas5NEAGGc6AJWA6QJdH9vUX7TRAQVTHG1L7PUCjPv2w/Do7QOmWIinZCUJATEc6lszOQ0AAAAAAAADwfw==",
            "dtype": "f8"
           }
          }
         ],
         "name": "2025-09-04 11:06:22",
         "traces": [
          0,
          1,
          2,
          3
         ]
        },
        {
         "data": [
          {
           "type": "scatter",
           "x": [
            0,
            0
           ],
           "y": [
            0,
            0
           ]
          },
          {
           "hovertemplate": "GroundTruthState<br>(%{x}, %{y})<br>Time: %{meta}",
           "meta": [
            "2025-09-04 11:06:17",
            "2025-09-04 11:06:18",
            "2025-09-04 11:06:19",
            "2025-09-04 11:06:20",
            "2025-09-04 11:06:21",
            "2025-09-04 11:06:22",
            "2025-09-04 11:06:23"
           ],
           "type": "scatter",
           "x": {
            "bdata": "o23mQHzfJkBUhmo/4iooQF/BuzLqtilAFQmPCflTK0CYtkb9ZlItQJ83XZUChy9A39BYSYr+MEAAAAAAAADwfw==",
            "dtype": "f8"
           },
           "y": {
            "bdata": "GzWtyWtvNkB6RFHD6zk5QMq3f50sUTxAb1YXWVKnP0A0+aGZ23pBQG9m7hDUKUNAetV6v0bTREAAAAAAAADwfw==",
            "dtype": "f8"
           }
          },
          {
           "type": "scatter",
           "x": [
            null,
            null
           ],
           "y": [
            null,
            null
           ]
          },
          {
           "hovertemplate": "Detection<br>(%{x}, %{y})<br>Time: %{meta}",
           "meta": [
            "2025-09-04 11:06:17",
            "2025-09-04 11:06:18",
            "2025-09-04 11:06:19",
            "2025-09-04 11:06:20",
            "2025-09-04 11:06:21",
            "2025-09-04 11:06:22",
            "2025-09-04 11:06:23"
           ],
           "type": "scatter",
           "x": {
            "bdata": "OBkmw+L9KkDsk9ha0WsiQKRhaAEApy1AYN8JMl9jJ0C2G41puAgwQBIH8dn9ODNAOvk16lbOMUAAAAAAAADwfw==",
            "dtype": "f8"
           },
           "y": {
            "bdata": "BhnOgCVgOkCXR/b1F+00QEFUxxtS+z1Aoz79sPw6O0DpliIp2QlCQExHOpbMzkNAwCU76iBZRUAAAAAAAADwfw==",
            "dtype": "f8"
           }
          }
         ],
         "name": "2025-09-04 11:06:23",
         "traces": [
          0,
          1,
          2,
          3
         ]
        },
        {
         "data": [
          {
           "type": "scatter",
           "x": [
            0,
            0
           ],
           "y": [
            0,
            0
           ]
          },
          {
           "hovertemplate": "GroundTruthState<br>(%{x}, %{y})<br>Time: %{meta}",
           "meta": [
            "2025-09-04 11:06:18",
            "2025-09-04 11:06:19",
            "2025-09-04 11:06:20",
            "2025-09-04 11:06:21",
            "2025-09-04 11:06:22",
            "2025-09-04 11:06:23",
            "2025-09-04 11:06:24"
           ],
           "type": "scatter",
           "x": {
            "bdata": "VIZqP+IqKEBfwbsy6rYpQBUJjwn5UytAmLZG/WZSLUCfN12VAocvQN/QWEmK/jBAWVDaW1dNMkAAAAAAAADwfw==",
            "dtype": "f8"
           },
           "y": {
            "bdata": "ekRRw+s5OUDKt3+dLFE8QG9WF1lSpz9ANPmhmdt6QUBvZu4Q1ClDQHrVer9G00RADk9xSz15RkAAAAAAAADwfw==",
            "dtype": "f8"
           }
          },
          {
           "type": "scatter",
           "x": [
            null,
            null
           ],
           "y": [
            null,
            null
           ]
          },
          {
           "hovertemplate": "Detection<br>(%{x}, %{y})<br>Time: %{meta}",
           "meta": [
            "2025-09-04 11:06:18",
            "2025-09-04 11:06:19",
            "2025-09-04 11:06:20",
            "2025-09-04 11:06:21",
            "2025-09-04 11:06:22",
            "2025-09-04 11:06:23",
            "2025-09-04 11:06:24"
           ],
           "type": "scatter",
           "x": {
            "bdata": "7JPYWtFrIkCkYWgBAKctQGDfCTJfYydAthuNabgIMEASB/HZ/TgzQDr5NepWzjFAe+6PYYRCNkAAAAAAAADwfw==",
            "dtype": "f8"
           },
           "y": {
            "bdata": "l0f29RftNEBBVMcbUvs9QKM+/bD8OjtA6ZYiKdkJQkBMRzqWzM5DQMAlO+ogWUVAaWB99+D8RkAAAAAAAADwfw==",
            "dtype": "f8"
           }
          }
         ],
         "name": "2025-09-04 11:06:24",
         "traces": [
          0,
          1,
          2,
          3
         ]
        },
        {
         "data": [
          {
           "type": "scatter",
           "x": [
            0,
            0
           ],
           "y": [
            0,
            0
           ]
          },
          {
           "hovertemplate": "GroundTruthState<br>(%{x}, %{y})<br>Time: %{meta}",
           "meta": [
            "2025-09-04 11:06:19",
            "2025-09-04 11:06:20",
            "2025-09-04 11:06:21",
            "2025-09-04 11:06:22",
            "2025-09-04 11:06:23",
            "2025-09-04 11:06:24",
            "2025-09-04 11:06:25"
           ],
           "type": "scatter",
           "x": {
            "bdata": "X8G7Muq2KUAVCY8J+VMrQJi2Rv1mUi1AnzddlQKHL0Df0FhJiv4wQFlQ2ltXTTJAlXsN2z+4M0AAAAAAAADwfw==",
            "dtype": "f8"
           },
           "y": {
            "bdata": "yrd/nSxRPEBvVhdZUqc/QDT5oZnbekFAb2buENQpQ0B61Xq/RtNEQA5PcUs9eUZASq0yGpIISEAAAAAAAADwfw==",
            "dtype": "f8"
           }
          },
          {
           "type": "scatter",
           "x": [
            null,
            null
           ],
           "y": [
            null,
            null
           ]
          },
          {
           "hovertemplate": "Detection<br>(%{x}, %{y})<br>Time: %{meta}",
           "meta": [
            "2025-09-04 11:06:19",
            "2025-09-04 11:06:20",
            "2025-09-04 11:06:21",
            "2025-09-04 11:06:22",
            "2025-09-04 11:06:23",
            "2025-09-04 11:06:24",
            "2025-09-04 11:06:25"
           ],
           "type": "scatter",
           "x": {
            "bdata": "pGFoAQCnLUBg3wkyX2MnQLYbjWm4CDBAEgfx2f04M0A6+TXqVs4xQHvuj2GEQjZAmeQ0SEhlOUAAAAAAAADwfw==",
            "dtype": "f8"
           },
           "y": {
            "bdata": "QVTHG1L7PUCjPv2w/Do7QOmWIinZCUJATEc6lszOQ0DAJTvqIFlFQGlgfffg/EZAZbh1D++PSUAAAAAAAADwfw==",
            "dtype": "f8"
           }
          }
         ],
         "name": "2025-09-04 11:06:25",
         "traces": [
          0,
          1,
          2,
          3
         ]
        }
       ],
       "layout": {
        "autosize": true,
        "colorway": [
         "#EF553B",
         "#00CC96",
         "#AB63FA",
         "#FFA15A",
         "#19D3F3",
         "#FF6692",
         "#B6E880",
         "#FF97FF",
         "#FECB52"
        ],
        "height": 550,
        "sliders": [
         {
          "currentvalue": {
           "font": {
            "size": 16
           },
           "prefix": "Time: ",
           "visible": true,
           "xanchor": "right"
          },
          "len": 0.9,
          "pad": {
           "b": 10,
           "t": 50
          },
          "steps": [
           {
            "args": [
             [
              "2025-09-04 11:06:05"
             ],
             {
              "frame": {
               "duration": 1,
               "easing": "linear",
               "redraw": true
              },
              "transition": {
               "duration": 0,
               "easing": "linear"
              }
             }
            ],
            "label": "11:06:05",
            "method": "animate"
           },
           {
            "args": [
             [
              "2025-09-04 11:06:06"
             ],
             {
              "frame": {
               "duration": 1,
               "easing": "linear",
               "redraw": true
              },
              "transition": {
               "duration": 0,
               "easing": "linear"
              }
             }
            ],
            "label": "11:06:06",
            "method": "animate"
           },
           {
            "args": [
             [
              "2025-09-04 11:06:07"
             ],
             {
              "frame": {
               "duration": 1,
               "easing": "linear",
               "redraw": true
              },
              "transition": {
               "duration": 0,
               "easing": "linear"
              }
             }
            ],
            "label": "11:06:07",
            "method": "animate"
           },
           {
            "args": [
             [
              "2025-09-04 11:06:08"
             ],
             {
              "frame": {
               "duration": 1,
               "easing": "linear",
               "redraw": true
              },
              "transition": {
               "duration": 0,
               "easing": "linear"
              }
             }
            ],
            "label": "11:06:08",
            "method": "animate"
           },
           {
            "args": [
             [
              "2025-09-04 11:06:09"
             ],
             {
              "frame": {
               "duration": 1,
               "easing": "linear",
               "redraw": true
              },
              "transition": {
               "duration": 0,
               "easing": "linear"
              }
             }
            ],
            "label": "11:06:09",
            "method": "animate"
           },
           {
            "args": [
             [
              "2025-09-04 11:06:10"
             ],
             {
              "frame": {
               "duration": 1,
               "easing": "linear",
               "redraw": true
              },
              "transition": {
               "duration": 0,
               "easing": "linear"
              }
             }
            ],
            "label": "11:06:10",
            "method": "animate"
           },
           {
            "args": [
             [
              "2025-09-04 11:06:11"
             ],
             {
              "frame": {
               "duration": 1,
               "easing": "linear",
               "redraw": true
              },
              "transition": {
               "duration": 0,
               "easing": "linear"
              }
             }
            ],
            "label": "11:06:11",
            "method": "animate"
           },
           {
            "args": [
             [
              "2025-09-04 11:06:12"
             ],
             {
              "frame": {
               "duration": 1,
               "easing": "linear",
               "redraw": true
              },
              "transition": {
               "duration": 0,
               "easing": "linear"
              }
             }
            ],
            "label": "11:06:12",
            "method": "animate"
           },
           {
            "args": [
             [
              "2025-09-04 11:06:13"
             ],
             {
              "frame": {
               "duration": 1,
               "easing": "linear",
               "redraw": true
              },
              "transition": {
               "duration": 0,
               "easing": "linear"
              }
             }
            ],
            "label": "11:06:13",
            "method": "animate"
           },
           {
            "args": [
             [
              "2025-09-04 11:06:14"
             ],
             {
              "frame": {
               "duration": 1,
               "easing": "linear",
               "redraw": true
              },
              "transition": {
               "duration": 0,
               "easing": "linear"
              }
             }
            ],
            "label": "11:06:14",
            "method": "animate"
           },
           {
            "args": [
             [
              "2025-09-04 11:06:15"
             ],
             {
              "frame": {
               "duration": 1,
               "easing": "linear",
               "redraw": true
              },
              "transition": {
               "duration": 0,
               "easing": "linear"
              }
             }
            ],
            "label": "11:06:15",
            "method": "animate"
           },
           {
            "args": [
             [
              "2025-09-04 11:06:16"
             ],
             {
              "frame": {
               "duration": 1,
               "easing": "linear",
               "redraw": true
              },
              "transition": {
               "duration": 0,
               "easing": "linear"
              }
             }
            ],
            "label": "11:06:16",
            "method": "animate"
           },
           {
            "args": [
             [
              "2025-09-04 11:06:17"
             ],
             {
              "frame": {
               "duration": 1,
               "easing": "linear",
               "redraw": true
              },
              "transition": {
               "duration": 0,
               "easing": "linear"
              }
             }
            ],
            "label": "11:06:17",
            "method": "animate"
           },
           {
            "args": [
             [
              "2025-09-04 11:06:18"
             ],
             {
              "frame": {
               "duration": 1,
               "easing": "linear",
               "redraw": true
              },
              "transition": {
               "duration": 0,
               "easing": "linear"
              }
             }
            ],
            "label": "11:06:18",
            "method": "animate"
           },
           {
            "args": [
             [
              "2025-09-04 11:06:19"
             ],
             {
              "frame": {
               "duration": 1,
               "easing": "linear",
               "redraw": true
              },
              "transition": {
               "duration": 0,
               "easing": "linear"
              }
             }
            ],
            "label": "11:06:19",
            "method": "animate"
           },
           {
            "args": [
             [
              "2025-09-04 11:06:20"
             ],
             {
              "frame": {
               "duration": 1,
               "easing": "linear",
               "redraw": true
              },
              "transition": {
               "duration": 0,
               "easing": "linear"
              }
             }
            ],
            "label": "11:06:20",
            "method": "animate"
           },
           {
            "args": [
             [
              "2025-09-04 11:06:21"
             ],
             {
              "frame": {
               "duration": 1,
               "easing": "linear",
               "redraw": true
              },
              "transition": {
               "duration": 0,
               "easing": "linear"
              }
             }
            ],
            "label": "11:06:21",
            "method": "animate"
           },
           {
            "args": [
             [
              "2025-09-04 11:06:22"
             ],
             {
              "frame": {
               "duration": 1,
               "easing": "linear",
               "redraw": true
              },
              "transition": {
               "duration": 0,
               "easing": "linear"
              }
             }
            ],
            "label": "11:06:22",
            "method": "animate"
           },
           {
            "args": [
             [
              "2025-09-04 11:06:23"
             ],
             {
              "frame": {
               "duration": 1,
               "easing": "linear",
               "redraw": true
              },
              "transition": {
               "duration": 0,
               "easing": "linear"
              }
             }
            ],
            "label": "11:06:23",
            "method": "animate"
           },
           {
            "args": [
             [
              "2025-09-04 11:06:24"
             ],
             {
              "frame": {
               "duration": 1,
               "easing": "linear",
               "redraw": true
              },
              "transition": {
               "duration": 0,
               "easing": "linear"
              }
             }
            ],
            "label": "11:06:24",
            "method": "animate"
           },
           {
            "args": [
             [
              "2025-09-04 11:06:25"
             ],
             {
              "frame": {
               "duration": 1,
               "easing": "linear",
               "redraw": true
              },
              "transition": {
               "duration": 0,
               "easing": "linear"
              }
             }
            ],
            "label": "11:06:25",
            "method": "animate"
           }
          ],
          "transition": {
           "duration": 285.7142857142857,
           "easing": "linear"
          },
          "x": 0.1,
          "xanchor": "left",
          "y": 0,
          "yanchor": "top"
         }
        ],
        "template": {
         "data": {
          "bar": [
           {
            "error_x": {
             "color": "#2a3f5f"
            },
            "error_y": {
             "color": "#2a3f5f"
            },
            "marker": {
             "line": {
              "color": "#E5ECF6",
              "width": 0.5
             },
             "pattern": {
              "fillmode": "overlay",
              "size": 10,
              "solidity": 0.2
             }
            },
            "type": "bar"
           }
          ],
          "barpolar": [
           {
            "marker": {
             "line": {
              "color": "#E5ECF6",
              "width": 0.5
             },
             "pattern": {
              "fillmode": "overlay",
              "size": 10,
              "solidity": 0.2
             }
            },
            "type": "barpolar"
           }
          ],
          "carpet": [
           {
            "aaxis": {
             "endlinecolor": "#2a3f5f",
             "gridcolor": "white",
             "linecolor": "white",
             "minorgridcolor": "white",
             "startlinecolor": "#2a3f5f"
            },
            "baxis": {
             "endlinecolor": "#2a3f5f",
             "gridcolor": "white",
             "linecolor": "white",
             "minorgridcolor": "white",
             "startlinecolor": "#2a3f5f"
            },
            "type": "carpet"
           }
          ],
          "choropleth": [
           {
            "colorbar": {
             "outlinewidth": 0,
             "ticks": ""
            },
            "type": "choropleth"
           }
          ],
          "contour": [
           {
            "colorbar": {
             "outlinewidth": 0,
             "ticks": ""
            },
            "colorscale": [
             [
              0,
              "#0d0887"
             ],
             [
              0.1111111111111111,
              "#46039f"
             ],
             [
              0.2222222222222222,
              "#7201a8"
             ],
             [
              0.3333333333333333,
              "#9c179e"
             ],
             [
              0.4444444444444444,
              "#bd3786"
             ],
             [
              0.5555555555555556,
              "#d8576b"
             ],
             [
              0.6666666666666666,
              "#ed7953"
             ],
             [
              0.7777777777777778,
              "#fb9f3a"
             ],
             [
              0.8888888888888888,
              "#fdca26"
             ],
             [
              1,
              "#f0f921"
             ]
            ],
            "type": "contour"
           }
          ],
          "contourcarpet": [
           {
            "colorbar": {
             "outlinewidth": 0,
             "ticks": ""
            },
            "type": "contourcarpet"
           }
          ],
          "heatmap": [
           {
            "colorbar": {
             "outlinewidth": 0,
             "ticks": ""
            },
            "colorscale": [
             [
              0,
              "#0d0887"
             ],
             [
              0.1111111111111111,
              "#46039f"
             ],
             [
              0.2222222222222222,
              "#7201a8"
             ],
             [
              0.3333333333333333,
              "#9c179e"
             ],
             [
              0.4444444444444444,
              "#bd3786"
             ],
             [
              0.5555555555555556,
              "#d8576b"
             ],
             [
              0.6666666666666666,
              "#ed7953"
             ],
             [
              0.7777777777777778,
              "#fb9f3a"
             ],
             [
              0.8888888888888888,
              "#fdca26"
             ],
             [
              1,
              "#f0f921"
             ]
            ],
            "type": "heatmap"
           }
          ],
          "histogram": [
           {
            "marker": {
             "pattern": {
              "fillmode": "overlay",
              "size": 10,
              "solidity": 0.2
             }
            },
            "type": "histogram"
           }
          ],
          "histogram2d": [
           {
            "colorbar": {
             "outlinewidth": 0,
             "ticks": ""
            },
            "colorscale": [
             [
              0,
              "#0d0887"
             ],
             [
              0.1111111111111111,
              "#46039f"
             ],
             [
              0.2222222222222222,
              "#7201a8"
             ],
             [
              0.3333333333333333,
              "#9c179e"
             ],
             [
              0.4444444444444444,
              "#bd3786"
             ],
             [
              0.5555555555555556,
              "#d8576b"
             ],
             [
              0.6666666666666666,
              "#ed7953"
             ],
             [
              0.7777777777777778,
              "#fb9f3a"
             ],
             [
              0.8888888888888888,
              "#fdca26"
             ],
             [
              1,
              "#f0f921"
             ]
            ],
            "type": "histogram2d"
           }
          ],
          "histogram2dcontour": [
           {
            "colorbar": {
             "outlinewidth": 0,
             "ticks": ""
            },
            "colorscale": [
             [
              0,
              "#0d0887"
             ],
             [
              0.1111111111111111,
              "#46039f"
             ],
             [
              0.2222222222222222,
              "#7201a8"
             ],
             [
              0.3333333333333333,
              "#9c179e"
             ],
             [
              0.4444444444444444,
              "#bd3786"
             ],
             [
              0.5555555555555556,
              "#d8576b"
             ],
             [
              0.6666666666666666,
              "#ed7953"
             ],
             [
              0.7777777777777778,
              "#fb9f3a"
             ],
             [
              0.8888888888888888,
              "#fdca26"
             ],
             [
              1,
              "#f0f921"
             ]
            ],
            "type": "histogram2dcontour"
           }
          ],
          "mesh3d": [
           {
            "colorbar": {
             "outlinewidth": 0,
             "ticks": ""
            },
            "type": "mesh3d"
           }
          ],
          "parcoords": [
           {
            "line": {
             "colorbar": {
              "outlinewidth": 0,
              "ticks": ""
             }
            },
            "type": "parcoords"
           }
          ],
          "pie": [
           {
            "automargin": true,
            "type": "pie"
           }
          ],
          "scatter": [
           {
            "fillpattern": {
             "fillmode": "overlay",
             "size": 10,
             "solidity": 0.2
            },
            "type": "scatter"
           }
          ],
          "scatter3d": [
           {
            "line": {
             "colorbar": {
              "outlinewidth": 0,
              "ticks": ""
             }
            },
            "marker": {
             "colorbar": {
              "outlinewidth": 0,
              "ticks": ""
             }
            },
            "type": "scatter3d"
           }
          ],
          "scattercarpet": [
           {
            "marker": {
             "colorbar": {
              "outlinewidth": 0,
              "ticks": ""
             }
            },
            "type": "scattercarpet"
           }
          ],
          "scattergeo": [
           {
            "marker": {
             "colorbar": {
              "outlinewidth": 0,
              "ticks": ""
             }
            },
            "type": "scattergeo"
           }
          ],
          "scattergl": [
           {
            "marker": {
             "colorbar": {
              "outlinewidth": 0,
              "ticks": ""
             }
            },
            "type": "scattergl"
           }
          ],
          "scattermap": [
           {
            "marker": {
             "colorbar": {
              "outlinewidth": 0,
              "ticks": ""
             }
            },
            "type": "scattermap"
           }
          ],
          "scattermapbox": [
           {
            "marker": {
             "colorbar": {
              "outlinewidth": 0,
              "ticks": ""
             }
            },
            "type": "scattermapbox"
           }
          ],
          "scatterpolar": [
           {
            "marker": {
             "colorbar": {
              "outlinewidth": 0,
              "ticks": ""
             }
            },
            "type": "scatterpolar"
           }
          ],
          "scatterpolargl": [
           {
            "marker": {
             "colorbar": {
              "outlinewidth": 0,
              "ticks": ""
             }
            },
            "type": "scatterpolargl"
           }
          ],
          "scatterternary": [
           {
            "marker": {
             "colorbar": {
              "outlinewidth": 0,
              "ticks": ""
             }
            },
            "type": "scatterternary"
           }
          ],
          "surface": [
           {
            "colorbar": {
             "outlinewidth": 0,
             "ticks": ""
            },
            "colorscale": [
             [
              0,
              "#0d0887"
             ],
             [
              0.1111111111111111,
              "#46039f"
             ],
             [
              0.2222222222222222,
              "#7201a8"
             ],
             [
              0.3333333333333333,
              "#9c179e"
             ],
             [
              0.4444444444444444,
              "#bd3786"
             ],
             [
              0.5555555555555556,
              "#d8576b"
             ],
             [
              0.6666666666666666,
              "#ed7953"
             ],
             [
              0.7777777777777778,
              "#fb9f3a"
             ],
             [
              0.8888888888888888,
              "#fdca26"
             ],
             [
              1,
              "#f0f921"
             ]
            ],
            "type": "surface"
           }
          ],
          "table": [
           {
            "cells": {
             "fill": {
              "color": "#EBF0F8"
             },
             "line": {
              "color": "white"
             }
            },
            "header": {
             "fill": {
              "color": "#C8D4E3"
             },
             "line": {
              "color": "white"
             }
            },
            "type": "table"
           }
          ]
         },
         "layout": {
          "annotationdefaults": {
           "arrowcolor": "#2a3f5f",
           "arrowhead": 0,
           "arrowwidth": 1
          },
          "autotypenumbers": "strict",
          "coloraxis": {
           "colorbar": {
            "outlinewidth": 0,
            "ticks": ""
           }
          },
          "colorscale": {
           "diverging": [
            [
             0,
             "#8e0152"
            ],
            [
             0.1,
             "#c51b7d"
            ],
            [
             0.2,
             "#de77ae"
            ],
            [
             0.3,
             "#f1b6da"
            ],
            [
             0.4,
             "#fde0ef"
            ],
            [
             0.5,
             "#f7f7f7"
            ],
            [
             0.6,
             "#e6f5d0"
            ],
            [
             0.7,
             "#b8e186"
            ],
            [
             0.8,
             "#7fbc41"
            ],
            [
             0.9,
             "#4d9221"
            ],
            [
             1,
             "#276419"
            ]
           ],
           "sequential": [
            [
             0,
             "#0d0887"
            ],
            [
             0.1111111111111111,
             "#46039f"
            ],
            [
             0.2222222222222222,
             "#7201a8"
            ],
            [
             0.3333333333333333,
             "#9c179e"
            ],
            [
             0.4444444444444444,
             "#bd3786"
            ],
            [
             0.5555555555555556,
             "#d8576b"
            ],
            [
             0.6666666666666666,
             "#ed7953"
            ],
            [
             0.7777777777777778,
             "#fb9f3a"
            ],
            [
             0.8888888888888888,
             "#fdca26"
            ],
            [
             1,
             "#f0f921"
            ]
           ],
           "sequentialminus": [
            [
             0,
             "#0d0887"
            ],
            [
             0.1111111111111111,
             "#46039f"
            ],
            [
             0.2222222222222222,
             "#7201a8"
            ],
            [
             0.3333333333333333,
             "#9c179e"
            ],
            [
             0.4444444444444444,
             "#bd3786"
            ],
            [
             0.5555555555555556,
             "#d8576b"
            ],
            [
             0.6666666666666666,
             "#ed7953"
            ],
            [
             0.7777777777777778,
             "#fb9f3a"
            ],
            [
             0.8888888888888888,
             "#fdca26"
            ],
            [
             1,
             "#f0f921"
            ]
           ]
          },
          "colorway": [
           "#636efa",
           "#EF553B",
           "#00cc96",
           "#ab63fa",
           "#FFA15A",
           "#19d3f3",
           "#FF6692",
           "#B6E880",
           "#FF97FF",
           "#FECB52"
          ],
          "font": {
           "color": "#2a3f5f"
          },
          "geo": {
           "bgcolor": "white",
           "lakecolor": "white",
           "landcolor": "#E5ECF6",
           "showlakes": true,
           "showland": true,
           "subunitcolor": "white"
          },
          "hoverlabel": {
           "align": "left"
          },
          "hovermode": "closest",
          "mapbox": {
           "style": "light"
          },
          "paper_bgcolor": "white",
          "plot_bgcolor": "#E5ECF6",
          "polar": {
           "angularaxis": {
            "gridcolor": "white",
            "linecolor": "white",
            "ticks": ""
           },
           "bgcolor": "#E5ECF6",
           "radialaxis": {
            "gridcolor": "white",
            "linecolor": "white",
            "ticks": ""
           }
          },
          "scene": {
           "xaxis": {
            "backgroundcolor": "#E5ECF6",
            "gridcolor": "white",
            "gridwidth": 2,
            "linecolor": "white",
            "showbackground": true,
            "ticks": "",
            "zerolinecolor": "white"
           },
           "yaxis": {
            "backgroundcolor": "#E5ECF6",
            "gridcolor": "white",
            "gridwidth": 2,
            "linecolor": "white",
            "showbackground": true,
            "ticks": "",
            "zerolinecolor": "white"
           },
           "zaxis": {
            "backgroundcolor": "#E5ECF6",
            "gridcolor": "white",
            "gridwidth": 2,
            "linecolor": "white",
            "showbackground": true,
            "ticks": "",
            "zerolinecolor": "white"
           }
          },
          "shapedefaults": {
           "line": {
            "color": "#2a3f5f"
           }
          },
          "ternary": {
           "aaxis": {
            "gridcolor": "white",
            "linecolor": "white",
            "ticks": ""
           },
           "baxis": {
            "gridcolor": "white",
            "linecolor": "white",
            "ticks": ""
           },
           "bgcolor": "#E5ECF6",
           "caxis": {
            "gridcolor": "white",
            "linecolor": "white",
            "ticks": ""
           }
          },
          "title": {
           "x": 0.05
          },
          "xaxis": {
           "automargin": true,
           "gridcolor": "white",
           "linecolor": "white",
           "ticks": "",
           "title": {
            "standoff": 15
           },
           "zerolinecolor": "white",
           "zerolinewidth": 2
          },
          "yaxis": {
           "automargin": true,
           "gridcolor": "white",
           "linecolor": "white",
           "ticks": "",
           "title": {
            "standoff": 15
           },
           "zerolinecolor": "white",
           "zerolinewidth": 2
          }
         }
        },
        "updatemenus": [
         {
          "buttons": [
           {
            "args": [
             null,
             {
              "frame": {
               "duration": 285.7142857142857,
               "redraw": true
              },
              "fromcurrent": true,
              "transition": {
               "duration": 0
              }
             }
            ],
            "label": "Play",
            "method": "animate"
           },
           {
            "args": [
             [
              null
             ],
             {
              "frame": {
               "duration": 0,
               "redraw": true
              },
              "mode": "immediate",
              "transition": {
               "duration": 0
              }
             }
            ],
            "label": "Stop",
            "method": "animate"
           }
          ],
          "direction": "left",
          "pad": {
           "r": 10,
           "t": 75
          },
          "showactive": true,
          "type": "buttons",
          "x": 0.1,
          "xanchor": "right",
          "y": 0,
          "yanchor": "top"
         }
        ],
        "xaxis": {
         "range": [
          -2.3050672382471364,
          26.714715206895796
         ],
         "title": {
          "text": "<i>x</i>"
         }
        },
        "yaxis": {
         "range": [
          -5.079739483402368,
          53.80087459305906
         ],
         "title": {
          "text": "<i>y</i>"
         }
        }
       }
      },
      "image/png": "[encoded data removed]"
     },
     "metadata": {},
     "output_type": "display_data"
    }
   ],
   "source": [
    "plotter.plot_measurements(measurements, [0, 2])\n",
    "plotter.fig"
   ]
  },
  {
   "cell_type": "markdown",
   "id": "55417dd5-7eff-4e58-9d9d-d52846636047",
   "metadata": {},
   "source": [
    "## Custom model"
   ]
  },
  {
   "cell_type": "code",
   "execution_count": 72,
   "id": "298ed277-0293-44ef-9799-6fd7e5c3d1b2",
   "metadata": {},
   "outputs": [
    {
     "ename": "AttributeError",
     "evalue": "'RhythmicModel' object has no attribute 'matrix'",
     "output_type": "error",
     "traceback": [
      "\u001b[31m---------------------------------------------------------------------------\u001b[39m",
      "\u001b[31mAttributeError\u001b[39m                            Traceback (most recent call last)",
      "\u001b[36mCell\u001b[39m\u001b[36m \u001b[39m\u001b[32mIn[72]\u001b[39m\u001b[32m, line 13\u001b[39m\n\u001b[32m     11\u001b[39m rhythmic_model.covar(\u001b[32m1\u001b[39m)\n\u001b[32m     12\u001b[39m rhythmic_model.rhythmic_network\n\u001b[32m---> \u001b[39m\u001b[32m13\u001b[39m \u001b[43mrhythmic_model\u001b[49m\u001b[43m.\u001b[49m\u001b[43mmatrix\u001b[49m()\n",
      "\u001b[31mAttributeError\u001b[39m: 'RhythmicModel' object has no attribute 'matrix'"
     ]
    }
   ],
   "source": [
    "import importlib\n",
    "import rhythmic_model\n",
    "importlib.reload(rhythmic_model)\n",
    "from rhythmic_model import RhythmicModel\n",
    "from rhythmic_sharing import RhythmicNetwork\n",
    "\n",
    "input_dims = 4\n",
    "rhythmic_network = network = RhythmicNetwork(dt=1, input_dims=input_dims)\n",
    "rhythmic_model = RhythmicModel(input_dims=input_dims, rhythmic_network=rhythmic_network)\n",
    "rhythmic_model.ndim\n",
    "rhythmic_model.covar(1)\n",
    "rhythmic_model.rhythmic_network\n",
    "rhythmic_model.matrix()"
   ]
  },
  {
   "cell_type": "code",
   "execution_count": 69,
   "id": "4e51812a-ff9c-47d1-b286-66baa954db16",
   "metadata": {},
   "outputs": [],
   "source": [
    "from stonesoup.predictor.kalman import ExtendedKalmanPredictor\n",
    "predictor = ExtendedKalmanPredictor(rhythmic_model)\n",
    "\n",
    "from stonesoup.updater.kalman import ExtendedKalmanUpdater\n",
    "updater = ExtendedKalmanUpdater(measurement_model)"
   ]
  },
  {
   "cell_type": "code",
   "execution_count": 70,
   "id": "d3b88603-d7db-465d-8ba1-5f1da5c715b3",
   "metadata": {},
   "outputs": [],
   "source": [
    "from stonesoup.types.state import GaussianState\n",
    "prior = GaussianState([[0], [1], [0], [1]], np.diag([1.5, 0.5, 1.5, 0.5]), timestamp=start_time)"
   ]
  },
  {
   "cell_type": "code",
   "execution_count": 71,
   "id": "2d14abca-c73f-41a3-8cd3-13ba43b3fb13",
   "metadata": {},
   "outputs": [
    {
     "name": "stdout",
     "output_type": "stream",
     "text": [
      "(4, 1)\n",
      "(4, 5)\n"
     ]
    }
   ],
   "source": [
    "from stonesoup.types.hypothesis import SingleHypothesis\n",
    "from stonesoup.types.track import Track\n",
    "\n",
    "track = Track()\n",
    "for measurement in measurements:\n",
    "    prediction = predictor.predict(prior, timestamp=measurement.timestamp)\n",
    "    break\n",
    "    hypothesis = SingleHypothesis(prediction, measurement)  # Group a prediction and measurement\n",
    "    post = updater.update(hypothesis)\n",
    "    track.append(post)\n",
    "    prior = track[-1]"
   ]
  },
  {
   "cell_type": "code",
   "execution_count": 26,
   "id": "4f17fbec-0f00-4ba0-aa82-e2b3d82857f8",
   "metadata": {},
   "outputs": [
    {
     "data": {
      "application/vnd.plotly.v1+json": {
       "config": {
        "plotlyServerURL": "https://plot.ly"
       },
       "data": [
        {
         "hoverinfo": "none",
         "legendgroup": "Ground Truth",
         "legendrank": 100,
         "line": {
          "color": "#EF553B",
          "dash": "dash"
         },
         "mode": "lines",
         "name": "Ground Truth",
         "showlegend": true,
         "type": "scatter",
         "x": [],
         "y": []
        },
        {
         "hoverinfo": "none",
         "legendgroup": "Ground Truth",
         "legendrank": 100,
         "line": {
          "color": "#EF553B",
          "dash": "dash"
         },
         "mode": "lines",
         "name": "Ground Truth",
         "showlegend": false,
         "type": "scatter",
         "x": [],
         "y": []
        },
        {
         "hoverinfo": "none",
         "legendgroup": "Measurements",
         "legendrank": 200,
         "marker": {
          "color": "#636EFA"
         },
         "mode": "markers",
         "name": "Measurements",
         "showlegend": true,
         "type": "scatter",
         "x": [],
         "y": []
        },
        {
         "hoverinfo": "none",
         "legendgroup": "Measurements",
         "legendrank": 200,
         "marker": {
          "color": "#636EFA"
         },
         "mode": "markers",
         "name": "Measurements",
         "showlegend": false,
         "type": "scatter",
         "x": [],
         "y": []
        },
        {
         "legendgroup": "Tracks",
         "legendrank": 400,
         "line": {
          "color": "#AB63FA"
         },
         "mode": "markers+lines",
         "name": "Tracks",
         "showlegend": true,
         "type": "scatter",
         "x": [],
         "y": []
        },
        {
         "legendgroup": "Tracks",
         "legendrank": 400,
         "line": {
          "color": "#AB63FA"
         },
         "mode": "markers+lines",
         "name": "Tracks",
         "showlegend": false,
         "type": "scatter",
         "x": [],
         "y": []
        },
        {
         "fill": "toself",
         "fillcolor": "#AB63FA",
         "hoverinfo": "skip",
         "legendgroup": "Tracks<br>Uncertainty",
         "legendrank": 500,
         "mode": "none",
         "name": "Tracks<br>Uncertainty",
         "opacity": 0.2,
         "showlegend": true,
         "type": "scatter",
         "x": [],
         "y": []
        },
        {
         "fill": "toself",
         "fillcolor": "#AB63FA",
         "hoverinfo": "skip",
         "legendgroup": "Tracks<br>Uncertainty",
         "legendrank": 500,
         "mode": "none",
         "name": "Tracks<br>Uncertainty",
         "opacity": 0.2,
         "showlegend": false,
         "type": "scatter",
         "x": [],
         "y": []
        },
        {
         "legendgroup": "Tracks",
         "legendrank": 400,
         "line": {
          "color": "#AB63FA"
         },
         "mode": "markers+lines",
         "name": "Tracks",
         "showlegend": true,
         "type": "scatter",
         "x": [],
         "y": []
        },
        {
         "legendgroup": "Tracks",
         "legendrank": 400,
         "line": {
          "color": "#AB63FA"
         },
         "mode": "markers+lines",
         "name": "Tracks",
         "showlegend": false,
         "type": "scatter",
         "x": [],
         "y": []
        },
        {
         "fill": "toself",
         "fillcolor": "#AB63FA",
         "hoverinfo": "skip",
         "legendgroup": "Tracks<br>Uncertainty",
         "legendrank": 500,
         "mode": "none",
         "name": "Tracks<br>Uncertainty",
         "opacity": 0.2,
         "showlegend": true,
         "type": "scatter",
         "x": [],
         "y": []
        },
        {
         "fill": "toself",
         "fillcolor": "#AB63FA",
         "hoverinfo": "skip",
         "legendgroup": "Tracks<br>Uncertainty",
         "legendrank": 500,
         "mode": "none",
         "name": "Tracks<br>Uncertainty",
         "opacity": 0.2,
         "showlegend": false,
         "type": "scatter",
         "x": [],
         "y": []
        }
       ],
       "frames": [
        {
         "data": [
          {
           "type": "scatter",
           "x": [
            0,
            0
           ],
           "y": [
            0,
            0
           ]
          },
          {
           "hovertemplate": "GroundTruthState<br>(%{x}, %{y})<br>Time: %{meta}",
           "meta": [
            "2025-09-03 18:21:06"
           ],
           "type": "scatter",
           "x": {
            "bdata": "AAAAAAAAAAAAAAAAAADwfw==",
            "dtype": "f8"
           },
           "y": {
            "bdata": "AAAAAAAAAAAAAAAAAADwfw==",
            "dtype": "f8"
           }
          },
          {
           "type": "scatter",
           "x": [
            null,
            null
           ],
           "y": [
            null,
            null
           ]
          },
          {
           "hovertemplate": "Detection<br>(%{x}, %{y})<br>Time: %{meta}",
           "meta": [
            "2025-09-03 18:21:06"
           ],
           "type": "scatter",
           "x": {
            "bdata": "AN9JOUnGAUAAAAAAAADwfw==",
            "dtype": "f8"
           },
           "y": {
            "bdata": "PieuxKFl7r8AAAAAAADwfw==",
            "dtype": "f8"
           }
          },
          {
           "type": "scatter",
           "x": [
            null,
            null
           ],
           "y": [
            null,
            null
           ]
          },
          {
           "customdata": [
            "2025-09-03 18:21:06"
           ],
           "hovertemplate": "%{meta}<br>(%{x}, %{y})<br>Time: %{customdata}",
           "meta": [
            "GaussianStateUpdate"
           ],
           "type": "scatter",
           "x": {
            "bdata": "8Lqa2/KyAUAAAAAAAADwfw==",
            "dtype": "f8"
           },
           "y": {
            "bdata": "WUfRG23O778AAAAAAADwfw==",
            "dtype": "f8"
           }
          },
          {
           "type": "scatter",
           "x": [
            null
           ],
           "y": [
            null
           ]
          },
          {
           "type": "scatter",
           "x": [
            1.2123772770495336,
            1.2250042798509448,
            1.2635844559673943,
            1.330427285625571,
            1.430077807724058,
            1.5709185846537288,
            1.768268106310939,
            2.045400326694553,
            2.3793533573394323,
            2.6564461706828775,
            2.853846881288412,
            2.9946767532542267,
            3.094325459791769,
            3.161165337107934,
            3.1997502005268244,
            3.2123772770495336,
            3.1997502005268244,
            3.1611653371079367,
            3.094325459791769,
            2.994676753254228,
            2.853846881288412,
            2.6564461706828797,
            2.3793533573394505,
            2.0454003266945553,
            1.7682681063109358,
            1.5709185846537235,
            1.4300778077240568,
            1.3304272856255688,
            1.2635844559673948,
            1.225004279850945,
            1.2123772770495336,
            null,
            null
           ],
           "y": [
            -0.993948511439366,
            -0.5259831471764695,
            -0.06075407550050993,
            0.3984416014587139,
            0.8461622390292282,
            1.2723048325851196,
            1.6528363838609201,
            1.9186694820637653,
            1.9186699173463904,
            1.652895356772663,
            1.2722778792578526,
            0.8461622135071599,
            0.39845159894773474,
            -0.06071183428203375,
            -0.5259817897771688,
            -0.9939485114393658,
            -1.4619152331015601,
            -1.927185188596673,
            -2.386348621826465,
            -2.8340592363858863,
            -3.2601749021365833,
            -3.6407923796513915,
            -3.9065669402251135,
            -3.9065665049424987,
            -3.640733406739648,
            -3.2602018554638397,
            -2.8340592619079574,
            -2.386338624337435,
            -1.9271429473782264,
            -1.4619138757022654,
            -0.993948511439366,
            null,
            null
           ]
          },
          {
           "type": "scatter",
           "x": [
            null,
            null
           ],
           "y": [
            null,
            null
           ]
          },
          {
           "customdata": [
            "2025-09-03 18:21:06"
           ],
           "hovertemplate": "%{meta}<br>(%{x}, %{y})<br>Time: %{customdata}",
           "meta": [
            "GaussianStateUpdate"
           ],
           "type": "scatter",
           "x": {
            "bdata": "8Lqa2/KyAUAAAAAAAADwfw==",
            "dtype": "f8"
           },
           "y": {
            "bdata": "WUfRG23O778AAAAAAADwfw==",
            "dtype": "f8"
           }
          },
          {
           "type": "scatter",
           "x": [
            null
           ],
           "y": [
            null
           ]
          },
          {
           "type": "scatter",
           "x": [
            1.2123772770495336,
            1.2250042798509448,
            1.2635844559673943,
            1.330427285625571,
            1.430077807724058,
            1.5709185846537288,
            1.768268106310939,
            2.045400326694553,
            2.3793533573394323,
            2.6564461706828775,
            2.853846881288412,
            2.9946767532542267,
            3.094325459791769,
            3.161165337107934,
            3.1997502005268244,
            3.2123772770495336,
            3.1997502005268244,
            3.1611653371079367,
            3.094325459791769,
            2.994676753254228,
            2.853846881288412,
            2.6564461706828797,
            2.3793533573394505,
            2.0454003266945553,
            1.7682681063109358,
            1.5709185846537235,
            1.4300778077240568,
            1.3304272856255688,
            1.2635844559673948,
            1.225004279850945,
            1.2123772770495336,
            null,
            null
           ],
           "y": [
            -0.993948511439366,
            -0.5259831471764695,
            -0.06075407550050993,
            0.3984416014587139,
            0.8461622390292282,
            1.2723048325851196,
            1.6528363838609201,
            1.9186694820637653,
            1.9186699173463904,
            1.652895356772663,
            1.2722778792578526,
            0.8461622135071599,
            0.39845159894773474,
            -0.06071183428203375,
            -0.5259817897771688,
            -0.9939485114393658,
            -1.4619152331015601,
            -1.927185188596673,
            -2.386348621826465,
            -2.8340592363858863,
            -3.2601749021365833,
            -3.6407923796513915,
            -3.9065669402251135,
            -3.9065665049424987,
            -3.640733406739648,
            -3.2602018554638397,
            -2.8340592619079574,
            -2.386338624337435,
            -1.9271429473782264,
            -1.4619138757022654,
            -0.993948511439366,
            null,
            null
           ]
          }
         ],
         "name": "2025-09-03 18:21:06",
         "traces": [
          0,
          1,
          2,
          3,
          4,
          5,
          6,
          7,
          8,
          9,
          10,
          11
         ]
        },
        {
         "data": [
          {
           "type": "scatter",
           "x": [
            0,
            0
           ],
           "y": [
            0,
            0
           ]
          },
          {
           "hovertemplate": "GroundTruthState<br>(%{x}, %{y})<br>Time: %{meta}",
           "meta": [
            "2025-09-03 18:21:06",
            "2025-09-03 18:21:07"
           ],
           "type": "scatter",
           "x": {
            "bdata": "AAAAAAAAAAB6tLpF6NXyPwAAAAAAAPB/",
            "dtype": "f8"
           },
           "y": {
            "bdata": "AAAAAAAAAADQkKGTxALwPwAAAAAAAPB/",
            "dtype": "f8"
           }
          },
          {
           "type": "scatter",
           "x": [
            null,
            null
           ],
           "y": [
            null,
            null
           ]
          },
          {
           "hovertemplate": "Detection<br>(%{x}, %{y})<br>Time: %{meta}",
           "meta": [
            "2025-09-03 18:21:06",
            "2025-09-03 18:21:07"
           ],
           "type": "scatter",
           "x": {
            "bdata": "AN9JOUnGAUAAJytg4Mj4PwAAAAAAAPB/",
            "dtype": "f8"
           },
           "y": {
            "bdata": "PieuxKFl7r9H95tOR4EBwAAAAAAAAPB/",
            "dtype": "f8"
           }
          },
          {
           "type": "scatter",
           "x": [
            null,
            null
           ],
           "y": [
            null,
            null
           ]
          },
          {
           "customdata": [
            "2025-09-03 18:21:06",
            "2025-09-03 18:21:07"
           ],
           "hovertemplate": "%{meta}<br>(%{x}, %{y})<br>Time: %{customdata}",
           "meta": [
            "GaussianStateUpdate",
            "GaussianStateUpdate"
           ],
           "type": "scatter",
           "x": {
            "bdata": "8Lqa2/KyAUD2JqpDoIz4PwAAAAAAAPB/",
            "dtype": "f8"
           },
           "y": {
            "bdata": "WUfRG23O778kg8+TIV8BwAAAAAAAAPB/",
            "dtype": "f8"
           }
          },
          {
           "type": "scatter",
           "x": [
            null
           ],
           "y": [
            null
           ]
          },
          {
           "type": "scatter",
           "x": [
            2.5341112304659883,
            2.530622460572348,
            2.5005964244323278,
            2.4416499581490174,
            2.3491500999595014,
            2.2146933156767608,
            2.023350383869669,
            1.7544387938934434,
            1.4301199517273164,
            1.1509938459517306,
            0.9446797965529043,
            0.7932883589547245,
            0.6828942527395646,
            0.6055456563702911,
            0.5568386750874619,
            0.5345538244562423,
            0.5380422371523037,
            0.568072186081435,
            0.6270163366659967,
            0.7195147849488763,
            0.8539641424719758,
            1.0453123394080188,
            1.3142268064753466,
            1.638545659276439,
            1.9176687406285258,
            2.123976890498544,
            2.275376499271661,
            2.3857723441605057,
            2.4631244570878583,
            2.5118256167980126,
            2.5341112304659883,
            null,
            null
           ],
           "y": [
            -2.1506560884200048,
            -2.6027870469690084,
            -3.0525426274550465,
            -3.4964188935938147,
            -3.9287358788517026,
            -4.33900227565269,
            -4.702891028104942,
            -4.954067466790134,
            -4.960813319968578,
            -4.721032125783214,
            -4.365399093882063,
            -3.961096036369281,
            -3.5330070056120406,
            -3.0919944585277976,
            -2.643830562208376,
            -2.192245436639262,
            -1.7401242458288901,
            -1.290322678293605,
            -0.8464753406222401,
            -0.4141662914376125,
            -0.003917952070033426,
            0.3599861670160198,
            0.6111662088433096,
            0.6179115507078583,
            0.3781338369172831,
            0.022515939433195964,
            -0.3818048510872387,
            -0.8099017524294752,
            -1.2509431066744634,
            -1.6990612184123197,
            -2.1506560884200048,
            null,
            null
           ]
          },
          {
           "type": "scatter",
           "x": [
            null,
            null
           ],
           "y": [
            null,
            null
           ]
          },
          {
           "customdata": [
            "2025-09-03 18:21:06",
            "2025-09-03 18:21:07"
           ],
           "hovertemplate": "%{meta}<br>(%{x}, %{y})<br>Time: %{customdata}",
           "meta": [
            "GaussianStateUpdate",
            "GaussianStateUpdate"
           ],
           "type": "scatter",
           "x": {
            "bdata": "8Lqa2/KyAUD2JqpDoIz4PwAAAAAAAPB/",
            "dtype": "f8"
           },
           "y": {
            "bdata": "WUfRG23O778kg8+TIV8BwAAAAAAAAPB/",
            "dtype": "f8"
           }
          },
          {
           "type": "scatter",
           "x": [
            null
           ],
           "y": [
            null
           ]
          },
          {
           "type": "scatter",
           "x": [
            2.5341112304659883,
            2.530622460572348,
            2.5005964244323278,
            2.4416499581490174,
            2.3491500999595014,
            2.2146933156767608,
            2.023350383869669,
            1.7544387938934434,
            1.4301199517273164,
            1.1509938459517306,
            0.9446797965529043,
            0.7932883589547245,
            0.6828942527395646,
            0.6055456563702911,
            0.5568386750874619,
            0.5345538244562423,
            0.5380422371523037,
            0.568072186081435,
            0.6270163366659967,
            0.7195147849488763,
            0.8539641424719758,
            1.0453123394080188,
            1.3142268064753466,
            1.638545659276439,
            1.9176687406285258,
            2.123976890498544,
            2.275376499271661,
            2.3857723441605057,
            2.4631244570878583,
            2.5118256167980126,
            2.5341112304659883,
            null,
            null
           ],
           "y": [
            -2.1506560884200048,
            -2.6027870469690084,
            -3.0525426274550465,
            -3.4964188935938147,
            -3.9287358788517026,
            -4.33900227565269,
            -4.702891028104942,
            -4.954067466790134,
            -4.960813319968578,
            -4.721032125783214,
            -4.365399093882063,
            -3.961096036369281,
            -3.5330070056120406,
            -3.0919944585277976,
            -2.643830562208376,
            -2.192245436639262,
            -1.7401242458288901,
            -1.290322678293605,
            -0.8464753406222401,
            -0.4141662914376125,
            -0.003917952070033426,
            0.3599861670160198,
            0.6111662088433096,
            0.6179115507078583,
            0.3781338369172831,
            0.022515939433195964,
            -0.3818048510872387,
            -0.8099017524294752,
            -1.2509431066744634,
            -1.6990612184123197,
            -2.1506560884200048,
            null,
            null
           ]
          }
         ],
         "name": "2025-09-03 18:21:07",
         "traces": [
          0,
          1,
          2,
          3,
          4,
          5,
          6,
          7,
          8,
          9,
          10,
          11
         ]
        },
        {
         "data": [
          {
           "type": "scatter",
           "x": [
            0,
            0
           ],
           "y": [
            0,
            0
           ]
          },
          {
           "hovertemplate": "GroundTruthState<br>(%{x}, %{y})<br>Time: %{meta}",
           "meta": [
            "2025-09-03 18:21:06",
            "2025-09-03 18:21:07",
            "2025-09-03 18:21:08"
           ],
           "type": "scatter",
           "x": {
            "bdata": "AAAAAAAAAAB6tLpF6NXyP2HNMOElNAJAAAAAAAAA8H8=",
            "dtype": "f8"
           },
           "y": {
            "bdata": "AAAAAAAAAADQkKGTxALwP03PNxbuPgBAAAAAAAAA8H8=",
            "dtype": "f8"
           }
          },
          {
           "type": "scatter",
           "x": [
            null,
            null
           ],
           "y": [
            null,
            null
           ]
          },
          {
           "hovertemplate": "Detection<br>(%{x}, %{y})<br>Time: %{meta}",
           "meta": [
            "2025-09-03 18:21:06",
            "2025-09-03 18:21:07",
            "2025-09-03 18:21:08"
           ],
           "type": "scatter",
           "x": {
            "bdata": "AN9JOUnGAUAAJytg4Mj4P/gWENZoeRBAAAAAAAAA8H8=",
            "dtype": "f8"
           },
           "y": {
            "bdata": "PieuxKFl7r9H95tOR4EBwIc1Io0jQSZAAAAAAAAA8H8=",
            "dtype": "f8"
           }
          },
          {
           "type": "scatter",
           "x": [
            null,
            null
           ],
           "y": [
            null,
            null
           ]
          },
          {
           "customdata": [
            "2025-09-03 18:21:06",
            "2025-09-03 18:21:07",
            "2025-09-03 18:21:08"
           ],
           "hovertemplate": "%{meta}<br>(%{x}, %{y})<br>Time: %{customdata}",
           "meta": [
            "GaussianStateUpdate",
            "GaussianStateUpdate",
            "GaussianStateUpdate"
           ],
           "type": "scatter",
           "x": {
            "bdata": "8Lqa2/KyAUD2JqpDoIz4P8ArnuilxgFAAAAAAAAA8H8=",
            "dtype": "f8"
           },
           "y": {
            "bdata": "WUfRG23O778kg8+TIV8BwABUFe8kLSdAAAAAAAAA8H8=",
            "dtype": "f8"
           }
          },
          {
           "type": "scatter",
           "x": [
            null
           ],
           "y": [
            null
           ]
          },
          {
           "type": "scatter",
           "x": [
            3.2209989318860046,
            3.22867229103742,
            3.209939585699328,
            3.1623374501797077,
            3.0810905528805863,
            2.957482916299605,
            2.775690404044242,
            2.5121457581079167,
            2.184967049796468,
            1.898853815644891,
            1.6842365813359639,
            1.5236223501498953,
            1.403349716078509,
            1.3156506072636378,
            1.2562435505191716,
            1.2229933344389785,
            1.2153199280927196,
            1.2340554286939316,
            1.2816559735092188,
            1.3629015993034277,
            1.4865014190982535,
            1.668299058992965,
            1.931847136286887,
            2.259025871958486,
            2.5451352722085705,
            2.7597458695478867,
            2.920369758612475,
            3.0406444320767423,
            3.1283478170012926,
            3.18774830288407,
            3.2209989318860046,
            null,
            null
           ],
           "y": [
            11.632931075216618,
            11.175651259711785,
            10.72005335012496,
            10.269497104909089,
            9.8294373431476,
            9.409973105189271,
            9.034847085246682,
            8.770713940147868,
            8.756054933742885,
            8.99556606864287,
            9.352948483888698,
            9.75965804391076,
            10.190680469899329,
            10.635144737860276,
            11.087283944560367,
            11.543413741665574,
            12.000689465394329,
            12.456329720029101,
            12.906855865012664,
            13.346906983067575,
            13.766350283192295,
            14.141493410702406,
            14.405631210822767,
            14.420289606555944,
            14.180782801178374,
            13.823416966397456,
            13.416687251465216,
            12.985656330108787,
            12.541162224768993,
            12.089064943483137,
            11.632931075216618,
            null,
            null
           ]
          },
          {
           "type": "scatter",
           "x": [
            null,
            null
           ],
           "y": [
            null,
            null
           ]
          },
          {
           "customdata": [
            "2025-09-03 18:21:06",
            "2025-09-03 18:21:07",
            "2025-09-03 18:21:08"
           ],
           "hovertemplate": "%{meta}<br>(%{x}, %{y})<br>Time: %{customdata}",
           "meta": [
            "GaussianStateUpdate",
            "GaussianStateUpdate",
            "GaussianStateUpdate"
           ],
           "type": "scatter",
           "x": {
            "bdata": "8Lqa2/KyAUD2JqpDoIz4P8ArnuilxgFAAAAAAAAA8H8=",
            "dtype": "f8"
           },
           "y": {
            "bdata": "WUfRG23O778kg8+TIV8BwABUFe8kLSdAAAAAAAAA8H8=",
            "dtype": "f8"
           }
          },
          {
           "type": "scatter",
           "x": [
            null
           ],
           "y": [
            null
           ]
          },
          {
           "type": "scatter",
           "x": [
            3.2209989318860046,
            3.22867229103742,
            3.209939585699328,
            3.1623374501797077,
            3.0810905528805863,
            2.957482916299605,
            2.775690404044242,
            2.5121457581079167,
            2.184967049796468,
            1.898853815644891,
            1.6842365813359639,
            1.5236223501498953,
            1.403349716078509,
            1.3156506072636378,
            1.2562435505191716,
            1.2229933344389785,
            1.2153199280927196,
            1.2340554286939316,
            1.2816559735092188,
            1.3629015993034277,
            1.4865014190982535,
            1.668299058992965,
            1.931847136286887,
            2.259025871958486,
            2.5451352722085705,
            2.7597458695478867,
            2.920369758612475,
            3.0406444320767423,
            3.1283478170012926,
            3.18774830288407,
            3.2209989318860046,
            null,
            null
           ],
           "y": [
            11.632931075216618,
            11.175651259711785,
            10.72005335012496,
            10.269497104909089,
            9.8294373431476,
            9.409973105189271,
            9.034847085246682,
            8.770713940147868,
            8.756054933742885,
            8.99556606864287,
            9.352948483888698,
            9.75965804391076,
            10.190680469899329,
            10.635144737860276,
            11.087283944560367,
            11.543413741665574,
            12.000689465394329,
            12.456329720029101,
            12.906855865012664,
            13.346906983067575,
            13.766350283192295,
            14.141493410702406,
            14.405631210822767,
            14.420289606555944,
            14.180782801178374,
            13.823416966397456,
            13.416687251465216,
            12.985656330108787,
            12.541162224768993,
            12.089064943483137,
            11.632931075216618,
            null,
            null
           ]
          }
         ],
         "name": "2025-09-03 18:21:08",
         "traces": [
          0,
          1,
          2,
          3,
          4,
          5,
          6,
          7,
          8,
          9,
          10,
          11
         ]
        },
        {
         "data": [
          {
           "type": "scatter",
           "x": [
            0,
            0
           ],
           "y": [
            0,
            0
           ]
          },
          {
           "hovertemplate": "GroundTruthState<br>(%{x}, %{y})<br>Time: %{meta}",
           "meta": [
            "2025-09-03 18:21:06",
            "2025-09-03 18:21:07",
            "2025-09-03 18:21:08",
            "2025-09-03 18:21:09"
           ],
           "type": "scatter",
           "x": {
            "bdata": "AAAAAAAAAAB6tLpF6NXyP2HNMOElNAJAXldM4pE/CUAAAAAAAADwfw==",
            "dtype": "f8"
           },
           "y": {
            "bdata": "AAAAAAAAAADQkKGTxALwP03PNxbuPgBAy4Dv5lipCUAAAAAAAADwfw==",
            "dtype": "f8"
           }
          },
          {
           "type": "scatter",
           "x": [
            null,
            null
           ],
           "y": [
            null,
            null
           ]
          },
          {
           "hovertemplate": "Detection<br>(%{x}, %{y})<br>Time: %{meta}",
           "meta": [
            "2025-09-03 18:21:06",
            "2025-09-03 18:21:07",
            "2025-09-03 18:21:08",
            "2025-09-03 18:21:09"
           ],
           "type": "scatter",
           "x": {
            "bdata": "AN9JOUnGAUAAJytg4Mj4P/gWENZoeRBAIO8+CvoiEkAAAAAAAADwfw==",
            "dtype": "f8"
           },
           "y": {
            "bdata": "PieuxKFl7r9H95tOR4EBwIc1Io0jQSZAlvCEutQUE0AAAAAAAADwfw==",
            "dtype": "f8"
           }
          },
          {
           "type": "scatter",
           "x": [
            null,
            null
           ],
           "y": [
            null,
            null
           ]
          },
          {
           "customdata": [
            "2025-09-03 18:21:06",
            "2025-09-03 18:21:07",
            "2025-09-03 18:21:08",
            "2025-09-03 18:21:09"
           ],
           "hovertemplate": "%{meta}<br>(%{x}, %{y})<br>Time: %{customdata}",
           "meta": [
            "GaussianStateUpdate",
            "GaussianStateUpdate",
            "GaussianStateUpdate",
            "GaussianStateUpdate"
           ],
           "type": "scatter",
           "x": {
            "bdata": "8Lqa2/KyAUD2JqpDoIz4P8ArnuilxgFAiAKeMVobEEAAAAAAAADwfw==",
            "dtype": "f8"
           },
           "y": {
            "bdata": "WUfRG23O778kg8+TIV8BwABUFe8kLSdAJogHZyebEUAAAAAAAADwfw==",
            "dtype": "f8"
           }
          },
          {
           "type": "scatter",
           "x": [
            null
           ],
           "y": [
            null
           ]
          },
          {
           "type": "scatter",
           "x": [
            4.998534916962262,
            4.8773010395313685,
            4.731317414019939,
            4.559138000760976,
            4.35766653424891,
            4.121254040188456,
            3.8410106790843925,
            3.5119745640525353,
            3.190956785562851,
            2.9835594949219555,
            2.8790275722108007,
            2.8401614914625903,
            2.8466384363578383,
            2.88794799367691,
            2.9583838148816817,
            3.05488758225412,
            3.1761218070801758,
            3.322118949240869,
            3.4942881924161027,
            3.695755809975917,
            3.9321534495860675,
            4.212407097047872,
            4.541448734013881,
            4.862466343902661,
            5.069860711068388,
            5.1743910023177335,
            5.213260997885616,
            5.206783563873445,
            5.165469565123905,
            5.095038466225862,
            4.998534916962262,
            null,
            null
           ],
           "y": [
            4.16580974286299,
            3.719942827745119,
            3.2829659159843168,
            2.858719134074499,
            2.453679301302931,
            2.07982892856949,
            1.7642580365551779,
            1.578546795579947,
            1.6564066215576747,
            1.9722309982924382,
            2.381144828955994,
            2.8217378532778232,
            3.274062517530949,
            3.7300188016526574,
            4.185359016908097,
            4.637225249039755,
            5.0830933142661845,
            5.520106759160685,
            5.944324114133973,
            6.34935541142046,
            6.723185508256618,
            7.038772797065894,
            7.224488370585738,
            7.1466278494659985,
            6.830809853639689,
            6.421915310339163,
            5.9812974577896245,
            5.528963443151369,
            5.072976342655808,
            4.617674793528768,
            4.16580974286299,
            null,
            null
           ]
          },
          {
           "type": "scatter",
           "x": [
            null,
            null
           ],
           "y": [
            null,
            null
           ]
          },
          {
           "customdata": [
            "2025-09-03 18:21:06",
            "2025-09-03 18:21:07",
            "2025-09-03 18:21:08",
            "2025-09-03 18:21:09"
           ],
           "hovertemplate": "%{meta}<br>(%{x}, %{y})<br>Time: %{customdata}",
           "meta": [
            "GaussianStateUpdate",
            "GaussianStateUpdate",
            "GaussianStateUpdate",
            "GaussianStateUpdate"
           ],
           "type": "scatter",
           "x": {
            "bdata": "8Lqa2/KyAUD2JqpDoIz4P8ArnuilxgFAiAKeMVobEEAAAAAAAADwfw==",
            "dtype": "f8"
           },
           "y": {
            "bdata": "WUfRG23O778kg8+TIV8BwABUFe8kLSdAJogHZyebEUAAAAAAAADwfw==",
            "dtype": "f8"
           }
          },
          {
           "type": "scatter",
           "x": [
            null
           ],
           "y": [
            null
           ]
          },
          {
           "type": "scatter",
           "x": [
            4.998534916962262,
            4.8773010395313685,
            4.731317414019939,
            4.559138000760976,
            4.35766653424891,
            4.121254040188456,
            3.8410106790843925,
            3.5119745640525353,
            3.190956785562851,
            2.9835594949219555,
            2.8790275722108007,
            2.8401614914625903,
            2.8466384363578383,
            2.88794799367691,
            2.9583838148816817,
            3.05488758225412,
            3.1761218070801758,
            3.322118949240869,
            3.4942881924161027,
            3.695755809975917,
            3.9321534495860675,
            4.212407097047872,
            4.541448734013881,
            4.862466343902661,
            5.069860711068388,
            5.1743910023177335,
            5.213260997885616,
            5.206783563873445,
            5.165469565123905,
            5.095038466225862,
            4.998534916962262,
            null,
            null
           ],
           "y": [
            4.16580974286299,
            3.719942827745119,
            3.2829659159843168,
            2.858719134074499,
            2.453679301302931,
            2.07982892856949,
            1.7642580365551779,
            1.578546795579947,
            1.6564066215576747,
            1.9722309982924382,
            2.381144828955994,
            2.8217378532778232,
            3.274062517530949,
            3.7300188016526574,
            4.185359016908097,
            4.637225249039755,
            5.0830933142661845,
            5.520106759160685,
            5.944324114133973,
            6.34935541142046,
            6.723185508256618,
            7.038772797065894,
            7.224488370585738,
            7.1466278494659985,
            6.830809853639689,
            6.421915310339163,
            5.9812974577896245,
            5.528963443151369,
            5.072976342655808,
            4.617674793528768,
            4.16580974286299,
            null,
            null
           ]
          }
         ],
         "name": "2025-09-03 18:21:09",
         "traces": [
          0,
          1,
          2,
          3,
          4,
          5,
          6,
          7,
          8,
          9,
          10,
          11
         ]
        },
        {
         "data": [
          {
           "type": "scatter",
           "x": [
            0,
            0
           ],
           "y": [
            0,
            0
           ]
          },
          {
           "hovertemplate": "GroundTruthState<br>(%{x}, %{y})<br>Time: %{meta}",
           "meta": [
            "2025-09-03 18:21:06",
            "2025-09-03 18:21:07",
            "2025-09-03 18:21:08",
            "2025-09-03 18:21:09",
            "2025-09-03 18:21:10"
           ],
           "type": "scatter",
           "x": {
            "bdata": "AAAAAAAAAAB6tLpF6NXyP2HNMOElNAJAXldM4pE/CUB4sMMCKXIQQAAAAAAAAPB/",
            "dtype": "f8"
           },
           "y": {
            "bdata": "AAAAAAAAAADQkKGTxALwP03PNxbuPgBAy4Dv5lipCUAL289Y57kSQAAAAAAAAPB/",
            "dtype": "f8"
           }
          },
          {
           "type": "scatter",
           "x": [
            null,
            null
           ],
           "y": [
            null,
            null
           ]
          },
          {
           "hovertemplate": "Detection<br>(%{x}, %{y})<br>Time: %{meta}",
           "meta": [
            "2025-09-03 18:21:06",
            "2025-09-03 18:21:07",
            "2025-09-03 18:21:08",
            "2025-09-03 18:21:09",
            "2025-09-03 18:21:10"
           ],
           "type": "scatter",
           "x": {
            "bdata": "AN9JOUnGAUAAJytg4Mj4P/gWENZoeRBAIO8+CvoiEkCgDe0pXuQRQAAAAAAAAPB/",
            "dtype": "f8"
           },
           "y": {
            "bdata": "PieuxKFl7r9H95tOR4EBwIc1Io0jQSZAlvCEutQUE0AX16U5HbARQAAAAAAAAPB/",
            "dtype": "f8"
           }
          },
          {
           "type": "scatter",
           "x": [
            null,
            null
           ],
           "y": [
            null,
            null
           ]
          },
          {
           "customdata": [
            "2025-09-03 18:21:06",
            "2025-09-03 18:21:07",
            "2025-09-03 18:21:08",
            "2025-09-03 18:21:09",
            "2025-09-03 18:21:10"
           ],
           "hovertemplate": "%{meta}<br>(%{x}, %{y})<br>Time: %{customdata}",
           "meta": [
            "GaussianStateUpdate",
            "GaussianStateUpdate",
            "GaussianStateUpdate",
            "GaussianStateUpdate",
            "GaussianStateUpdate"
           ],
           "type": "scatter",
           "x": {
            "bdata": "8Lqa2/KyAUD2JqpDoIz4P8ArnuilxgFAiAKeMVobEEDSvJQQYuQRQAAAAAAAAPB/",
            "dtype": "f8"
           },
           "y": {
            "bdata": "WUfRG23O778kg8+TIV8BwABUFe8kLSdAJogHZyebEUB7lnsDvbARQAAAAAAAAPB/",
            "dtype": "f8"
           }
          },
          {
           "type": "scatter",
           "x": [
            null
           ],
           "y": [
            null
           ]
          },
          {
           "type": "scatter",
           "x": [
            5.468481128148856,
            5.413481078116595,
            5.331990238594025,
            5.222072640160596,
            5.0798487194840485,
            4.8984173383237275,
            4.666611652317213,
            4.374209779362341,
            4.0583220168679714,
            3.8099580478505626,
            3.643804501172979,
            3.537376835326895,
            3.474721790833889,
            3.446828211127346,
            3.448664987441483,
            3.477579546667698,
            3.5325762007864525,
            3.6140774174264343,
            3.723989683034659,
            3.866211616373437,
            4.04763591024765,
            4.279447502421428,
            4.571831430905945,
            4.887720761851625,
            5.136101443537989,
            5.302251345579368,
            5.4086836649206465,
            5.471339465561359,
            5.49923337422553,
            5.497396468987034,
            5.468481128148856,
            null,
            null
           ],
           "y": [
            4.32729085659343,
            3.8902965815943222,
            3.458935630227629,
            3.037169049600932,
            2.6314371101171004,
            2.253539268563276,
            1.9297062581885562,
            1.7256957535585271,
            1.7559473408581532,
            2.011724663303488,
            2.3736704951761576,
            2.779115341641648,
            3.204456051529868,
            3.6393904013241953,
            4.078431501007482,
            4.517901202767459,
            4.954873786044702,
            5.386287755040307,
            5.8080284743083945,
            6.2137541153097,
            6.591639808575758,
            6.915484172456617,
            7.119489903129429,
            7.089254698110661,
            6.833469283608741,
            6.471535719642954,
            6.066077600818804,
            5.640730329784899,
            5.205769576568772,
            4.766782500370372,
            4.32729085659343,
            null,
            null
           ]
          },
          {
           "type": "scatter",
           "x": [
            null,
            null
           ],
           "y": [
            null,
            null
           ]
          },
          {
           "customdata": [
            "2025-09-03 18:21:06",
            "2025-09-03 18:21:07",
            "2025-09-03 18:21:08",
            "2025-09-03 18:21:09",
            "2025-09-03 18:21:10"
           ],
           "hovertemplate": "%{meta}<br>(%{x}, %{y})<br>Time: %{customdata}",
           "meta": [
            "GaussianStateUpdate",
            "GaussianStateUpdate",
            "GaussianStateUpdate",
            "GaussianStateUpdate",
            "GaussianStateUpdate"
           ],
           "type": "scatter",
           "x": {
            "bdata": "8Lqa2/KyAUD2JqpDoIz4P8ArnuilxgFAiAKeMVobEEDSvJQQYuQRQAAAAAAAAPB/",
            "dtype": "f8"
           },
           "y": {
            "bdata": "WUfRG23O778kg8+TIV8BwABUFe8kLSdAJogHZyebEUB7lnsDvbARQAAAAAAAAPB/",
            "dtype": "f8"
           }
          },
          {
           "type": "scatter",
           "x": [
            null
           ],
           "y": [
            null
           ]
          },
          {
           "type": "scatter",
           "x": [
            5.468481128148856,
            5.413481078116595,
            5.331990238594025,
            5.222072640160596,
            5.0798487194840485,
            4.8984173383237275,
            4.666611652317213,
            4.374209779362341,
            4.0583220168679714,
            3.8099580478505626,
            3.643804501172979,
            3.537376835326895,
            3.474721790833889,
            3.446828211127346,
            3.448664987441483,
            3.477579546667698,
            3.5325762007864525,
            3.6140774174264343,
            3.723989683034659,
            3.866211616373437,
            4.04763591024765,
            4.279447502421428,
            4.571831430905945,
            4.887720761851625,
            5.136101443537989,
            5.302251345579368,
            5.4086836649206465,
            5.471339465561359,
            5.49923337422553,
            5.497396468987034,
            5.468481128148856,
            null,
            null
           ],
           "y": [
            4.32729085659343,
            3.8902965815943222,
            3.458935630227629,
            3.037169049600932,
            2.6314371101171004,
            2.253539268563276,
            1.9297062581885562,
            1.7256957535585271,
            1.7559473408581532,
            2.011724663303488,
            2.3736704951761576,
            2.779115341641648,
            3.204456051529868,
            3.6393904013241953,
            4.078431501007482,
            4.517901202767459,
            4.954873786044702,
            5.386287755040307,
            5.8080284743083945,
            6.2137541153097,
            6.591639808575758,
            6.915484172456617,
            7.119489903129429,
            7.089254698110661,
            6.833469283608741,
            6.471535719642954,
            6.066077600818804,
            5.640730329784899,
            5.205769576568772,
            4.766782500370372,
            4.32729085659343,
            null,
            null
           ]
          }
         ],
         "name": "2025-09-03 18:21:10",
         "traces": [
          0,
          1,
          2,
          3,
          4,
          5,
          6,
          7,
          8,
          9,
          10,
          11
         ]
        },
        {
         "data": [
          {
           "type": "scatter",
           "x": [
            0,
            0
           ],
           "y": [
            0,
            0
           ]
          },
          {
           "hovertemplate": "GroundTruthState<br>(%{x}, %{y})<br>Time: %{meta}",
           "meta": [
            "2025-09-03 18:21:06",
            "2025-09-03 18:21:07",
            "2025-09-03 18:21:08",
            "2025-09-03 18:21:09",
            "2025-09-03 18:21:10",
            "2025-09-03 18:21:11"
           ],
           "type": "scatter",
           "x": {
            "bdata": "AAAAAAAAAAB6tLpF6NXyP2HNMOElNAJAXldM4pE/CUB4sMMCKXIQQBvJqZ+SRhRAAAAAAAAA8H8=",
            "dtype": "f8"
           },
           "y": {
            "bdata": "AAAAAAAAAADQkKGTxALwP03PNxbuPgBAy4Dv5lipCUAL289Y57kSQHJUCk5GshlAAAAAAAAA8H8=",
            "dtype": "f8"
           }
          },
          {
           "type": "scatter",
           "x": [
            null,
            null
           ],
           "y": [
            null,
            null
           ]
          },
          {
           "hovertemplate": "Detection<br>(%{x}, %{y})<br>Time: %{meta}",
           "meta": [
            "2025-09-03 18:21:06",
            "2025-09-03 18:21:07",
            "2025-09-03 18:21:08",
            "2025-09-03 18:21:09",
            "2025-09-03 18:21:10",
            "2025-09-03 18:21:11"
           ],
           "type": "scatter",
           "x": {
            "bdata": "AN9JOUnGAUAAJytg4Mj4P/gWENZoeRBAIO8+CvoiEkCgDe0pXuQRQIAmtIgSVBdAAAAAAAAA8H8=",
            "dtype": "f8"
           },
           "y": {
            "bdata": "PieuxKFl7r9H95tOR4EBwIc1Io0jQSZAlvCEutQUE0AX16U5HbARQHXTRqi2QyJAAAAAAAAA8H8=",
            "dtype": "f8"
           }
          },
          {
           "type": "scatter",
           "x": [
            null,
            null
           ],
           "y": [
            null,
            null
           ]
          },
          {
           "customdata": [
            "2025-09-03 18:21:06",
            "2025-09-03 18:21:07",
            "2025-09-03 18:21:08",
            "2025-09-03 18:21:09",
            "2025-09-03 18:21:10",
            "2025-09-03 18:21:11"
           ],
           "hovertemplate": "%{meta}<br>(%{x}, %{y})<br>Time: %{customdata}",
           "meta": [
            "GaussianStateUpdate",
            "GaussianStateUpdate",
            "GaussianStateUpdate",
            "GaussianStateUpdate",
            "GaussianStateUpdate",
            "GaussianStateUpdate"
           ],
           "type": "scatter",
           "x": {
            "bdata": "8Lqa2/KyAUD2JqpDoIz4P8ArnuilxgFAiAKeMVobEEDSvJQQYuQRQJBDeNadVBZAAAAAAAAA8H8=",
            "dtype": "f8"
           },
           "y": {
            "bdata": "WUfRG23O778kg8+TIV8BwABUFe8kLSdAJogHZyebEUB7lnsDvbARQEzwXFkPeCJAAAAAAAAA8H8=",
            "dtype": "f8"
           }
          },
          {
           "type": "scatter",
           "x": [
            null
           ],
           "y": [
            null
           ]
          },
          {
           "type": "scatter",
           "x": [
            6.577949399842927,
            6.522591657290215,
            6.440633771556316,
            6.3301533954015445,
            6.18730041325932,
            6.005260427444574,
            5.773149595619006,
            5.481554500219227,
            5.167635854792938,
            4.919958359862493,
            4.753633441991632,
            4.646942976774905,
            4.584129008051285,
            4.556213437218384,
            4.558163285644742,
            4.587317306796033,
            4.642671110126414,
            4.724639753800508,
            4.835114859197164,
            4.977965936985187,
            5.15999939881574,
            5.392115839700925,
            5.683687281147042,
            5.997607932434912,
            6.24530735704432,
            6.411628793843604,
            6.518323546555232,
            6.581138243241382,
            6.60905415063163,
            6.607104332406568,
            6.577949399842927,
            null,
            null
           ],
           "y": [
            9.13780447808033,
            8.704084490142453,
            8.276091723691248,
            7.857848676077459,
            7.455875532317289,
            7.082092536297161,
            6.76282226580291,
            6.56308240174761,
            6.593587708713022,
            6.8457049758966635,
            7.203691402317604,
            7.6055108159261176,
            8.027456877663221,
            8.459118436269065,
            8.894939445816822,
            9.33117973020796,
            9.764874898652122,
            10.192922671367201,
            10.611140594656703,
            11.013107811301253,
            11.386879821081145,
            11.70616060296001,
            11.905893806109113,
            11.875409147765625,
            11.623280791561498,
            11.265305759564464,
            10.863474309460042,
            10.441522064897242,
            10.00983483725766,
            9.574069876094633,
            9.13780447808033,
            null,
            null
           ]
          },
          {
           "type": "scatter",
           "x": [
            null,
            null
           ],
           "y": [
            null,
            null
           ]
          },
          {
           "customdata": [
            "2025-09-03 18:21:06",
            "2025-09-03 18:21:07",
            "2025-09-03 18:21:08",
            "2025-09-03 18:21:09",
            "2025-09-03 18:21:10",
            "2025-09-03 18:21:11"
           ],
           "hovertemplate": "%{meta}<br>(%{x}, %{y})<br>Time: %{customdata}",
           "meta": [
            "GaussianStateUpdate",
            "GaussianStateUpdate",
            "GaussianStateUpdate",
            "GaussianStateUpdate",
            "GaussianStateUpdate",
            "GaussianStateUpdate"
           ],
           "type": "scatter",
           "x": {
            "bdata": "8Lqa2/KyAUD2JqpDoIz4P8ArnuilxgFAiAKeMVobEEDSvJQQYuQRQJBDeNadVBZAAAAAAAAA8H8=",
            "dtype": "f8"
           },
           "y": {
            "bdata": "WUfRG23O778kg8+TIV8BwABUFe8kLSdAJogHZyebEUB7lnsDvbARQEzwXFkPeCJAAAAAAAAA8H8=",
            "dtype": "f8"
           }
          },
          {
           "type": "scatter",
           "x": [
            null
           ],
           "y": [
            null
           ]
          },
          {
           "type": "scatter",
           "x": [
            6.577949399842927,
            6.522591657290215,
            6.440633771556316,
            6.3301533954015445,
            6.18730041325932,
            6.005260427444574,
            5.773149595619006,
            5.481554500219227,
            5.167635854792938,
            4.919958359862493,
            4.753633441991632,
            4.646942976774905,
            4.584129008051285,
            4.556213437218384,
            4.558163285644742,
            4.587317306796033,
            4.642671110126414,
            4.724639753800508,
            4.835114859197164,
            4.977965936985187,
            5.15999939881574,
            5.392115839700925,
            5.683687281147042,
            5.997607932434912,
            6.24530735704432,
            6.411628793843604,
            6.518323546555232,
            6.581138243241382,
            6.60905415063163,
            6.607104332406568,
            6.577949399842927,
            null,
            null
           ],
           "y": [
            9.13780447808033,
            8.704084490142453,
            8.276091723691248,
            7.857848676077459,
            7.455875532317289,
            7.082092536297161,
            6.76282226580291,
            6.56308240174761,
            6.593587708713022,
            6.8457049758966635,
            7.203691402317604,
            7.6055108159261176,
            8.027456877663221,
            8.459118436269065,
            8.894939445816822,
            9.33117973020796,
            9.764874898652122,
            10.192922671367201,
            10.611140594656703,
            11.013107811301253,
            11.386879821081145,
            11.70616060296001,
            11.905893806109113,
            11.875409147765625,
            11.623280791561498,
            11.265305759564464,
            10.863474309460042,
            10.441522064897242,
            10.00983483725766,
            9.574069876094633,
            9.13780447808033,
            null,
            null
           ]
          }
         ],
         "name": "2025-09-03 18:21:11",
         "traces": [
          0,
          1,
          2,
          3,
          4,
          5,
          6,
          7,
          8,
          9,
          10,
          11
         ]
        },
        {
         "data": [
          {
           "type": "scatter",
           "x": [
            0,
            0
           ],
           "y": [
            0,
            0
           ]
          },
          {
           "hovertemplate": "GroundTruthState<br>(%{x}, %{y})<br>Time: %{meta}",
           "meta": [
            "2025-09-03 18:21:06",
            "2025-09-03 18:21:07",
            "2025-09-03 18:21:08",
            "2025-09-03 18:21:09",
            "2025-09-03 18:21:10",
            "2025-09-03 18:21:11",
            "2025-09-03 18:21:12"
           ],
           "type": "scatter",
           "x": {
            "bdata": "AAAAAAAAAAB6tLpF6NXyP2HNMOElNAJAXldM4pE/CUB4sMMCKXIQQBvJqZ+SRhRAL+4XjVKJGEAAAAAAAADwfw==",
            "dtype": "f8"
           },
           "y": {
            "bdata": "AAAAAAAAAADQkKGTxALwP03PNxbuPgBAy4Dv5lipCUAL289Y57kSQHJUCk5GshlAXfDz/0aVIEAAAAAAAADwfw==",
            "dtype": "f8"
           }
          },
          {
           "type": "scatter",
           "x": [
            null,
            null
           ],
           "y": [
            null,
            null
           ]
          },
          {
           "hovertemplate": "Detection<br>(%{x}, %{y})<br>Time: %{meta}",
           "meta": [
            "2025-09-03 18:21:06",
            "2025-09-03 18:21:07",
            "2025-09-03 18:21:08",
            "2025-09-03 18:21:09",
            "2025-09-03 18:21:10",
            "2025-09-03 18:21:11",
            "2025-09-03 18:21:12"
           ],
           "type": "scatter",
           "x": {
            "bdata": "AN9JOUnGAUAAJytg4Mj4P/gWENZoeRBAIO8+CvoiEkCgDe0pXuQRQIAmtIgSVBdA6GEQLu+vEkAAAAAAAADwfw==",
            "dtype": "f8"
           },
           "y": {
            "bdata": "PieuxKFl7r9H95tOR4EBwIc1Io0jQSZAlvCEutQUE0AX16U5HbARQHXTRqi2QyJAdV+lk0QIIkAAAAAAAADwfw==",
            "dtype": "f8"
           }
          },
          {
           "type": "scatter",
           "x": [
            null,
            null
           ],
           "y": [
            null,
            null
           ]
          },
          {
           "customdata": [
            "2025-09-03 18:21:06",
            "2025-09-03 18:21:07",
            "2025-09-03 18:21:08",
            "2025-09-03 18:21:09",
            "2025-09-03 18:21:10",
            "2025-09-03 18:21:11",
            "2025-09-03 18:21:12"
           ],
           "hovertemplate": "%{meta}<br>(%{x}, %{y})<br>Time: %{customdata}",
           "meta": [
            "GaussianStateUpdate",
            "GaussianStateUpdate",
            "GaussianStateUpdate",
            "GaussianStateUpdate",
            "GaussianStateUpdate",
            "GaussianStateUpdate",
            "GaussianStateUpdate"
           ],
           "type": "scatter",
           "x": {
            "bdata": "8Lqa2/KyAUD2JqpDoIz4P8ArnuilxgFAiAKeMVobEEDSvJQQYuQRQJBDeNadVBZAAMTzx7uvEkAAAAAAAADwfw==",
            "dtype": "f8"
           },
           "y": {
            "bdata": "WUfRG23O778kg8+TIV8BwABUFe8kLSdAJogHZyebEUB7lnsDvbARQEzwXFkPeCJASAIZ+x4MIkAAAAAAAADwfw==",
            "dtype": "f8"
           }
          },
          {
           "type": "scatter",
           "x": [
            null
           ],
           "y": [
            null
           ]
          },
          {
           "type": "scatter",
           "x": [
            5.650673570309346,
            5.549326938390636,
            5.422058741414646,
            5.267404795621342,
            5.082266497429927,
            4.861227847425576,
            4.596528852974616,
            4.28641199117829,
            3.979171412804895,
            3.7600828705974276,
            3.6324231677735614,
            3.5686823415856868,
            3.5508232041234464,
            3.5688277502017858,
            3.617091395408382,
            3.6925559605082063,
            3.7938952913875523,
            3.9211805519459677,
            4.075826698260991,
            4.260962573064845,
            4.48199411318008,
            4.746699481809844,
            5.056840208239225,
            5.364077099201187,
            5.5831459627072055,
            5.710803485525525,
            5.774547101210761,
            5.792406311732295,
            5.7743994326577495,
            5.7261421130333625,
            5.650673570309346,
            null,
            null
           ],
           "y": [
            8.820124722846744,
            8.397579751737414,
            7.983659598160937,
            7.582620304545712,
            7.20142114661634,
            6.852734971864755,
            6.563940488226116,
            6.399982480894075,
            6.463849429644378,
            6.737841265158583,
            7.108218773621129,
            7.516100581261652,
            7.939497593298695,
            8.36892126868032,
            8.799325377421237,
            9.22722300741381,
            9.649741199159315,
            10.063716486724008,
            10.464731980299616,
            10.845925745271334,
            11.194602558669592,
            11.483406239945616,
            11.647369787921653,
            11.583485102950158,
            11.309507860864482,
            10.939141328478835,
            10.531248101373976,
            10.107845177360902,
            9.67839656544228,
            9.248049823150717,
            8.820124722846744,
            null,
            null
           ]
          },
          {
           "type": "scatter",
           "x": [
            null,
            null
           ],
           "y": [
            null,
            null
           ]
          },
          {
           "customdata": [
            "2025-09-03 18:21:06",
            "2025-09-03 18:21:07",
            "2025-09-03 18:21:08",
            "2025-09-03 18:21:09",
            "2025-09-03 18:21:10",
            "2025-09-03 18:21:11",
            "2025-09-03 18:21:12"
           ],
           "hovertemplate": "%{meta}<br>(%{x}, %{y})<br>Time: %{customdata}",
           "meta": [
            "GaussianStateUpdate",
            "GaussianStateUpdate",
            "GaussianStateUpdate",
            "GaussianStateUpdate",
            "GaussianStateUpdate",
            "GaussianStateUpdate",
            "GaussianStateUpdate"
           ],
           "type": "scatter",
           "x": {
            "bdata": "8Lqa2/KyAUD2JqpDoIz4P8ArnuilxgFAiAKeMVobEEDSvJQQYuQRQJBDeNadVBZAAMTzx7uvEkAAAAAAAADwfw==",
            "dtype": "f8"
           },
           "y": {
            "bdata": "WUfRG23O778kg8+TIV8BwABUFe8kLSdAJogHZyebEUB7lnsDvbARQEzwXFkPeCJASAIZ+x4MIkAAAAAAAADwfw==",
            "dtype": "f8"
           }
          },
          {
           "type": "scatter",
           "x": [
            null
           ],
           "y": [
            null
           ]
          },
          {
           "type": "scatter",
           "x": [
            5.650673570309346,
            5.549326938390636,
            5.422058741414646,
            5.267404795621342,
            5.082266497429927,
            4.861227847425576,
            4.596528852974616,
            4.28641199117829,
            3.979171412804895,
            3.7600828705974276,
            3.6324231677735614,
            3.5686823415856868,
            3.5508232041234464,
            3.5688277502017858,
            3.617091395408382,
            3.6925559605082063,
            3.7938952913875523,
            3.9211805519459677,
            4.075826698260991,
            4.260962573064845,
            4.48199411318008,
            4.746699481809844,
            5.056840208239225,
            5.364077099201187,
            5.5831459627072055,
            5.710803485525525,
            5.774547101210761,
            5.792406311732295,
            5.7743994326577495,
            5.7261421130333625,
            5.650673570309346,
            null,
            null
           ],
           "y": [
            8.820124722846744,
            8.397579751737414,
            7.983659598160937,
            7.582620304545712,
            7.20142114661634,
            6.852734971864755,
            6.563940488226116,
            6.399982480894075,
            6.463849429644378,
            6.737841265158583,
            7.108218773621129,
            7.516100581261652,
            7.939497593298695,
            8.36892126868032,
            8.799325377421237,
            9.22722300741381,
            9.649741199159315,
            10.063716486724008,
            10.464731980299616,
            10.845925745271334,
            11.194602558669592,
            11.483406239945616,
            11.647369787921653,
            11.583485102950158,
            11.309507860864482,
            10.939141328478835,
            10.531248101373976,
            10.107845177360902,
            9.67839656544228,
            9.248049823150717,
            8.820124722846744,
            null,
            null
           ]
          }
         ],
         "name": "2025-09-03 18:21:12",
         "traces": [
          0,
          1,
          2,
          3,
          4,
          5,
          6,
          7,
          8,
          9,
          10,
          11
         ]
        },
        {
         "data": [
          {
           "type": "scatter",
           "x": [
            0,
            0
           ],
           "y": [
            0,
            0
           ]
          },
          {
           "hovertemplate": "GroundTruthState<br>(%{x}, %{y})<br>Time: %{meta}",
           "meta": [
            "2025-09-03 18:21:07",
            "2025-09-03 18:21:08",
            "2025-09-03 18:21:09",
            "2025-09-03 18:21:10",
            "2025-09-03 18:21:11",
            "2025-09-03 18:21:12",
            "2025-09-03 18:21:13"
           ],
           "type": "scatter",
           "x": {
            "bdata": "erS6RejV8j9hzTDhJTQCQF5XTOKRPwlAeLDDAilyEEAbyamfkkYUQC/uF41SiRhA+d8D0b1YHUAAAAAAAADwfw==",
            "dtype": "f8"
           },
           "y": {
            "bdata": "0JChk8QC8D9NzzcW7j4AQMuA7+ZYqQlAC9vPWOe5EkByVApORrIZQF3w8/9GlSBAkx2pj5ZrJEAAAAAAAADwfw==",
            "dtype": "f8"
           }
          },
          {
           "type": "scatter",
           "x": [
            null,
            null
           ],
           "y": [
            null,
            null
           ]
          },
          {
           "hovertemplate": "Detection<br>(%{x}, %{y})<br>Time: %{meta}",
           "meta": [
            "2025-09-03 18:21:07",
            "2025-09-03 18:21:08",
            "2025-09-03 18:21:09",
            "2025-09-03 18:21:10",
            "2025-09-03 18:21:11",
            "2025-09-03 18:21:12",
            "2025-09-03 18:21:13"
           ],
           "type": "scatter",
           "x": {
            "bdata": "ACcrYODI+D/4FhDWaHkQQCDvPgr6IhJAoA3tKV7kEUCAJrSIElQXQOhhEC7vrxJAqJx5RKmlG0AAAAAAAADwfw==",
            "dtype": "f8"
           },
           "y": {
            "bdata": "R/ebTkeBAcCHNSKNI0EmQJbwhLrUFBNAF9elOR2wEUB100aotkMiQHVfpZNECCJASKCz3OG0GkAAAAAAAADwfw==",
            "dtype": "f8"
           }
          },
          {
           "type": "scatter",
           "x": [
            null,
            null
           ],
           "y": [
            null,
            null
           ]
          },
          {
           "customdata": [
            "2025-09-03 18:21:07",
            "2025-09-03 18:21:08",
            "2025-09-03 18:21:09",
            "2025-09-03 18:21:10",
            "2025-09-03 18:21:11",
            "2025-09-03 18:21:12",
            "2025-09-03 18:21:13"
           ],
           "hovertemplate": "%{meta}<br>(%{x}, %{y})<br>Time: %{customdata}",
           "meta": [
            "GaussianStateUpdate",
            "GaussianStateUpdate",
            "GaussianStateUpdate",
            "GaussianStateUpdate",
            "GaussianStateUpdate",
            "GaussianStateUpdate",
            "GaussianStateUpdate"
           ],
           "type": "scatter",
           "x": {
            "bdata": "9iaqQ6CM+D/AK57opcYBQIgCnjFaGxBA0ryUEGLkEUCQQ3jWnVQWQADE88e7rxJAb2GbzCBnG0AAAAAAAADwfw==",
            "dtype": "f8"
           },
           "y": {
            "bdata": "JIPPkyFfAcAAVBXvJC0nQCaIB2cnmxFAe5Z7A72wEUBM8FxZD3giQEgCGfseDCJArHbG5O5LGkAAAAAAAADwfw==",
            "dtype": "f8"
           }
          },
          {
           "type": "scatter",
           "x": [
            null
           ],
           "y": [
            null
           ]
          },
          {
           "type": "scatter",
           "x": [
            7.831467498873769,
            7.732618720285435,
            7.607991159020618,
            7.456057276058264,
            7.273604923957537,
            7.054952394282043,
            6.791616693396502,
            6.480012217590501,
            6.168640860480009,
            5.947354140791138,
            5.8186473437815325,
            5.753758035496679,
            5.7344169232322395,
            5.750616926554317,
            5.796799259364857,
            5.869954614513682,
            5.968797890601982,
            6.093441084929701,
            6.245367040274444,
            6.427816769780174,
            6.646460967393616,
            6.909803720370577,
            7.221390341474395,
            7.532764841928387,
            7.754066972715004,
            7.882771377225719,
            7.947663993843153,
            7.967005194929517,
            7.9508028460581786,
            7.904625812425829,
            7.831467498873769,
            null,
            null
           ],
           "y": [
            6.378910416980496,
            5.949449527376266,
            5.528260442532229,
            5.1194748750141645,
            4.729886061551686,
            4.371921397763956,
            4.0727999878960865,
            3.8990378948920954,
            3.9610320345515095,
            4.240872512186184,
            4.618051545064672,
            5.0324488900963855,
            5.4622029133090075,
            5.897982738017211,
            6.33484288339304,
            6.769396571951647,
            7.198836464135606,
            7.620077094404575,
            8.028837415158652,
            8.418420134608894,
            8.776373339300584,
            9.075505512251175,
            9.249264779004251,
            9.187286429171767,
            8.907436502931386,
            8.530270113307655,
            8.115858991880275,
            7.686098334883006,
            7.250292152166271,
            6.813485609422814,
            6.378910416980496,
            null,
            null
           ]
          },
          {
           "type": "scatter",
           "x": [
            null,
            null
           ],
           "y": [
            null,
            null
           ]
          },
          {
           "customdata": [
            "2025-09-03 18:21:07",
            "2025-09-03 18:21:08",
            "2025-09-03 18:21:09",
            "2025-09-03 18:21:10",
            "2025-09-03 18:21:11",
            "2025-09-03 18:21:12",
            "2025-09-03 18:21:13"
           ],
           "hovertemplate": "%{meta}<br>(%{x}, %{y})<br>Time: %{customdata}",
           "meta": [
            "GaussianStateUpdate",
            "GaussianStateUpdate",
            "GaussianStateUpdate",
            "GaussianStateUpdate",
            "GaussianStateUpdate",
            "GaussianStateUpdate",
            "GaussianStateUpdate"
           ],
           "type": "scatter",
           "x": {
            "bdata": "9iaqQ6CM+D/AK57opcYBQIgCnjFaGxBA0ryUEGLkEUCQQ3jWnVQWQADE88e7rxJAb2GbzCBnG0AAAAAAAADwfw==",
            "dtype": "f8"
           },
           "y": {
            "bdata": "JIPPkyFfAcAAVBXvJC0nQCaIB2cnmxFAe5Z7A72wEUBM8FxZD3giQEgCGfseDCJArHbG5O5LGkAAAAAAAADwfw==",
            "dtype": "f8"
           }
          },
          {
           "type": "scatter",
           "x": [
            null
           ],
           "y": [
            null
           ]
          },
          {
           "type": "scatter",
           "x": [
            7.831467498873769,
            7.732618720285435,
            7.607991159020618,
            7.456057276058264,
            7.273604923957537,
            7.054952394282043,
            6.791616693396502,
            6.480012217590501,
            6.168640860480009,
            5.947354140791138,
            5.8186473437815325,
            5.753758035496679,
            5.7344169232322395,
            5.750616926554317,
            5.796799259364857,
            5.869954614513682,
            5.968797890601982,
            6.093441084929701,
            6.245367040274444,
            6.427816769780174,
            6.646460967393616,
            6.909803720370577,
            7.221390341474395,
            7.532764841928387,
            7.754066972715004,
            7.882771377225719,
            7.947663993843153,
            7.967005194929517,
            7.9508028460581786,
            7.904625812425829,
            7.831467498873769,
            null,
            null
           ],
           "y": [
            6.378910416980496,
            5.949449527376266,
            5.528260442532229,
            5.1194748750141645,
            4.729886061551686,
            4.371921397763956,
            4.0727999878960865,
            3.8990378948920954,
            3.9610320345515095,
            4.240872512186184,
            4.618051545064672,
            5.0324488900963855,
            5.4622029133090075,
            5.897982738017211,
            6.33484288339304,
            6.769396571951647,
            7.198836464135606,
            7.620077094404575,
            8.028837415158652,
            8.418420134608894,
            8.776373339300584,
            9.075505512251175,
            9.249264779004251,
            9.187286429171767,
            8.907436502931386,
            8.530270113307655,
            8.115858991880275,
            7.686098334883006,
            7.250292152166271,
            6.813485609422814,
            6.378910416980496,
            null,
            null
           ]
          }
         ],
         "name": "2025-09-03 18:21:13",
         "traces": [
          0,
          1,
          2,
          3,
          4,
          5,
          6,
          7,
          8,
          9,
          10,
          11
         ]
        },
        {
         "data": [
          {
           "type": "scatter",
           "x": [
            0,
            0
           ],
           "y": [
            0,
            0
           ]
          },
          {
           "hovertemplate": "GroundTruthState<br>(%{x}, %{y})<br>Time: %{meta}",
           "meta": [
            "2025-09-03 18:21:08",
            "2025-09-03 18:21:09",
            "2025-09-03 18:21:10",
            "2025-09-03 18:21:11",
            "2025-09-03 18:21:12",
            "2025-09-03 18:21:13",
            "2025-09-03 18:21:14"
           ],
           "type": "scatter",
           "x": {
            "bdata": "Yc0w4SU0AkBeV0zikT8JQHiwwwIpchBAG8mpn5JGFEAv7heNUokYQPnfA9G9WB1AtDiO8N9qIUAAAAAAAADwfw==",
            "dtype": "f8"
           },
           "y": {
            "bdata": "Tc83Fu4+AEDLgO/mWKkJQAvbz1jnuRJAclQKTkayGUBd8PP/RpUgQJMdqY+WayRAhkhDcEFHKUAAAAAAAADwfw==",
            "dtype": "f8"
           }
          },
          {
           "type": "scatter",
           "x": [
            null,
            null
           ],
           "y": [
            null,
            null
           ]
          },
          {
           "hovertemplate": "Detection<br>(%{x}, %{y})<br>Time: %{meta}",
           "meta": [
            "2025-09-03 18:21:08",
            "2025-09-03 18:21:09",
            "2025-09-03 18:21:10",
            "2025-09-03 18:21:11",
            "2025-09-03 18:21:12",
            "2025-09-03 18:21:13",
            "2025-09-03 18:21:14"
           ],
           "type": "scatter",
           "x": {
            "bdata": "+BYQ1mh5EEAg7z4K+iISQKAN7Sle5BFAgCa0iBJUF0DoYRAu768SQKiceUSppRtAQBlyHgjVI0AAAAAAAADwfw==",
            "dtype": "f8"
           },
           "y": {
            "bdata": "hzUijSNBJkCW8IS61BQTQBfXpTkdsBFAddNGqLZDIkB1X6WTRAgiQEigs9zhtBpAxsI+uGsyKkAAAAAAAADwfw==",
            "dtype": "f8"
           }
          },
          {
           "type": "scatter",
           "x": [
            null,
            null
           ],
           "y": [
            null,
            null
           ]
          },
          {
           "customdata": [
            "2025-09-03 18:21:08",
            "2025-09-03 18:21:09",
            "2025-09-03 18:21:10",
            "2025-09-03 18:21:11",
            "2025-09-03 18:21:12",
            "2025-09-03 18:21:13",
            "2025-09-03 18:21:14"
           ],
           "hovertemplate": "%{meta}<br>(%{x}, %{y})<br>Time: %{customdata}",
           "meta": [
            "GaussianStateUpdate",
            "GaussianStateUpdate",
            "GaussianStateUpdate",
            "GaussianStateUpdate",
            "GaussianStateUpdate",
            "GaussianStateUpdate",
            "GaussianStateUpdate"
           ],
           "type": "scatter",
           "x": {
            "bdata": "wCue6KXGAUCIAp4xWhsQQNK8lBBi5BFAkEN41p1UFkAAxPPHu68SQG9hm8wgZxtAqtyrdpDJIkAAAAAAAADwfw==",
            "dtype": "f8"
           },
           "y": {
            "bdata": "AFQV7yQtJ0AmiAdnJ5sRQHuWewO9sBFATPBcWQ94IkBIAhn7HgwiQKx2xuTuSxpAUnDf81/pKkAAAAAAAADwfw==",
            "dtype": "f8"
           }
          },
          {
           "type": "scatter",
           "x": [
            null
           ],
           "y": [
            null
           ]
          },
          {
           "type": "scatter",
           "x": [
            10.382277230231812,
            10.305416652553731,
            10.201731952483398,
            10.069585587094814,
            9.905625485835959,
            9.704105894419664,
            9.456868013663383,
            9.161245512986728,
            8.858457119672842,
            8.625647815816922,
            8.474817687451894,
            8.385153498731558,
            8.340801566923773,
            8.332472816239632,
            8.354863306900008,
            8.405083358756004,
            8.481935567592851,
            8.585635841987193,
            8.717776281189368,
            8.881734670258673,
            9.083249719054804,
            9.330492125147822,
            9.62612195519843,
            9.928909558894432,
            10.16171246165496,
            10.312540291749793,
            10.402206935238603,
            10.446559240849346,
            10.454887302015738,
            10.432500683378121,
            10.382277230231812,
            null,
            null
           ],
           "y": [
            13.305188966723671,
            12.890162437886108,
            12.48262339147599,
            12.08698614647661,
            11.71033451099596,
            11.365445476253885,
            11.079377893312946,
            10.91347588119989,
            10.959605637361019,
            11.206021882394683,
            11.552746017587637,
            11.94199238682898,
            12.350377652293,
            12.767395270618914,
            13.187385485901745,
            13.606431404189335,
            14.021419685034473,
            14.429021657669386,
            14.824637590626647,
            15.20128499279071,
            15.546167708819194,
            15.83224208057809,
            15.998146093075134,
            15.952011154285646,
            15.70559900159068,
            15.3588826948507,
            14.969628940783561,
            14.561239124184183,
            14.144199395964767,
            13.724273889852656,
            13.305188966723671,
            null,
            null
           ]
          },
          {
           "type": "scatter",
           "x": [
            null,
            null
           ],
           "y": [
            null,
            null
           ]
          },
          {
           "customdata": [
            "2025-09-03 18:21:08",
            "2025-09-03 18:21:09",
            "2025-09-03 18:21:10",
            "2025-09-03 18:21:11",
            "2025-09-03 18:21:12",
            "2025-09-03 18:21:13",
            "2025-09-03 18:21:14"
           ],
           "hovertemplate": "%{meta}<br>(%{x}, %{y})<br>Time: %{customdata}",
           "meta": [
            "GaussianStateUpdate",
            "GaussianStateUpdate",
            "GaussianStateUpdate",
            "GaussianStateUpdate",
            "GaussianStateUpdate",
            "GaussianStateUpdate",
            "GaussianStateUpdate"
           ],
           "type": "scatter",
           "x": {
            "bdata": "wCue6KXGAUCIAp4xWhsQQNK8lBBi5BFAkEN41p1UFkAAxPPHu68SQG9hm8wgZxtAqtyrdpDJIkAAAAAAAADwfw==",
            "dtype": "f8"
           },
           "y": {
            "bdata": "AFQV7yQtJ0AmiAdnJ5sRQHuWewO9sBFATPBcWQ94IkBIAhn7HgwiQKx2xuTuSxpAUnDf81/pKkAAAAAAAADwfw==",
            "dtype": "f8"
           }
          },
          {
           "type": "scatter",
           "x": [
            null
           ],
           "y": [
            null
           ]
          },
          {
           "type": "scatter",
           "x": [
            10.382277230231812,
            10.305416652553731,
            10.201731952483398,
            10.069585587094814,
            9.905625485835959,
            9.704105894419664,
            9.456868013663383,
            9.161245512986728,
            8.858457119672842,
            8.625647815816922,
            8.474817687451894,
            8.385153498731558,
            8.340801566923773,
            8.332472816239632,
            8.354863306900008,
            8.405083358756004,
            8.481935567592851,
            8.585635841987193,
            8.717776281189368,
            8.881734670258673,
            9.083249719054804,
            9.330492125147822,
            9.62612195519843,
            9.928909558894432,
            10.16171246165496,
            10.312540291749793,
            10.402206935238603,
            10.446559240849346,
            10.454887302015738,
            10.432500683378121,
            10.382277230231812,
            null,
            null
           ],
           "y": [
            13.305188966723671,
            12.890162437886108,
            12.48262339147599,
            12.08698614647661,
            11.71033451099596,
            11.365445476253885,
            11.079377893312946,
            10.91347588119989,
            10.959605637361019,
            11.206021882394683,
            11.552746017587637,
            11.94199238682898,
            12.350377652293,
            12.767395270618914,
            13.187385485901745,
            13.606431404189335,
            14.021419685034473,
            14.429021657669386,
            14.824637590626647,
            15.20128499279071,
            15.546167708819194,
            15.83224208057809,
            15.998146093075134,
            15.952011154285646,
            15.70559900159068,
            15.3588826948507,
            14.969628940783561,
            14.561239124184183,
            14.144199395964767,
            13.724273889852656,
            13.305188966723671,
            null,
            null
           ]
          }
         ],
         "name": "2025-09-03 18:21:14",
         "traces": [
          0,
          1,
          2,
          3,
          4,
          5,
          6,
          7,
          8,
          9,
          10,
          11
         ]
        },
        {
         "data": [
          {
           "type": "scatter",
           "x": [
            0,
            0
           ],
           "y": [
            0,
            0
           ]
          },
          {
           "hovertemplate": "GroundTruthState<br>(%{x}, %{y})<br>Time: %{meta}",
           "meta": [
            "2025-09-03 18:21:09",
            "2025-09-03 18:21:10",
            "2025-09-03 18:21:11",
            "2025-09-03 18:21:12",
            "2025-09-03 18:21:13",
            "2025-09-03 18:21:14",
            "2025-09-03 18:21:15"
           ],
           "type": "scatter",
           "x": {
            "bdata": "XldM4pE/CUB4sMMCKXIQQBvJqZ+SRhRAL+4XjVKJGED53wPRvVgdQLQ4jvDfaiFA7NV9RsZSI0AAAAAAAADwfw==",
            "dtype": "f8"
           },
           "y": {
            "bdata": "y4Dv5lipCUAL289Y57kSQHJUCk5GshlAXfDz/0aVIECTHamPlmskQIZIQ3BBRylAoQH+DownLkAAAAAAAADwfw==",
            "dtype": "f8"
           }
          },
          {
           "type": "scatter",
           "x": [
            null,
            null
           ],
           "y": [
            null,
            null
           ]
          },
          {
           "hovertemplate": "Detection<br>(%{x}, %{y})<br>Time: %{meta}",
           "meta": [
            "2025-09-03 18:21:09",
            "2025-09-03 18:21:10",
            "2025-09-03 18:21:11",
            "2025-09-03 18:21:12",
            "2025-09-03 18:21:13",
            "2025-09-03 18:21:14",
            "2025-09-03 18:21:15"
           ],
           "type": "scatter",
           "x": {
            "bdata": "IO8+CvoiEkCgDe0pXuQRQIAmtIgSVBdA6GEQLu+vEkConHlEqaUbQEAZch4I1SNArBxgdfhwKkAAAAAAAADwfw==",
            "dtype": "f8"
           },
           "y": {
            "bdata": "lvCEutQUE0AX16U5HbARQHXTRqi2QyJAdV+lk0QIIkBIoLPc4bQaQMbCPrhrMipAVz3j1gLpM0AAAAAAAADwfw==",
            "dtype": "f8"
           }
          },
          {
           "type": "scatter",
           "x": [
            null,
            null
           ],
           "y": [
            null,
            null
           ]
          },
          {
           "customdata": [
            "2025-09-03 18:21:09",
            "2025-09-03 18:21:10",
            "2025-09-03 18:21:11",
            "2025-09-03 18:21:12",
            "2025-09-03 18:21:13",
            "2025-09-03 18:21:14",
            "2025-09-03 18:21:15"
           ],
           "hovertemplate": "%{meta}<br>(%{x}, %{y})<br>Time: %{customdata}",
           "meta": [
            "GaussianStateUpdate",
            "GaussianStateUpdate",
            "GaussianStateUpdate",
            "GaussianStateUpdate",
            "GaussianStateUpdate",
            "GaussianStateUpdate",
            "GaussianStateUpdate"
           ],
           "type": "scatter",
           "x": {
            "bdata": "iAKeMVobEEDSvJQQYuQRQJBDeNadVBZAAMTzx7uvEkBvYZvMIGcbQKrcq3aQySJA3s18QIhXKUAAAAAAAADwfw==",
            "dtype": "f8"
           },
           "y": {
            "bdata": "JogHZyebEUB7lnsDvbARQEzwXFkPeCJASAIZ+x4MIkCsdsbk7ksaQFJw3/Nf6SpA+VkmCElPNEAAAAAAAADwfw==",
            "dtype": "f8"
           }
          },
          {
           "type": "scatter",
           "x": [
            null
           ],
           "y": [
            null
           ]
          },
          {
           "type": "scatter",
           "x": [
            13.620202452662063,
            13.476563603835178,
            13.307511634334956,
            13.112227254293076,
            12.88869133844304,
            12.633614960466948,
            12.344071330326916,
            12.028676056235005,
            11.741550652273352,
            11.55261943876017,
            11.459111474337785,
            11.43278822447666,
            11.454601828981152,
            11.513713113118314,
            11.603932619524118,
            11.721720336405937,
            11.865342455209447,
            12.034421568627963,
            12.229697081572965,
            12.453230893596123,
            12.708302796469575,
            12.997851204366583,
            13.313248145299504,
            13.600373228396117,
            13.7893032371196,
            13.882810282140234,
            13.909134564795135,
            13.887320650702806,
            13.82820535858309,
            13.738001345480294,
            13.620202452662063,
            null,
            null
           ],
           "y": [
            19.99515603717929,
            19.60495986783267,
            19.226838393962755,
            18.865541811497568,
            18.52876153749121,
            18.23022685549252,
            17.997897860395334,
            17.89063697122556,
            17.98578180841242,
            18.260163245008837,
            18.619431347714233,
            19.011208276858717,
            19.414829673939277,
            19.821228673551193,
            20.225544432252047,
            20.624260217556937,
            21.01441520046747,
            21.392599078330562,
            21.753877038967495,
            22.090653968707482,
            22.389184369266093,
            22.621518242208165,
            22.728779352767557,
            22.63363354728839,
            22.359253283660195,
            21.999991946679653,
            21.60820891093134,
            21.204583575023538,
            20.798164343408,
            20.393914849390242,
            19.99515603717929,
            null,
            null
           ]
          },
          {
           "type": "scatter",
           "x": [
            null,
            null
           ],
           "y": [
            null,
            null
           ]
          },
          {
           "customdata": [
            "2025-09-03 18:21:09",
            "2025-09-03 18:21:10",
            "2025-09-03 18:21:11",
            "2025-09-03 18:21:12",
            "2025-09-03 18:21:13",
            "2025-09-03 18:21:14",
            "2025-09-03 18:21:15"
           ],
           "hovertemplate": "%{meta}<br>(%{x}, %{y})<br>Time: %{customdata}",
           "meta": [
            "GaussianStateUpdate",
            "GaussianStateUpdate",
            "GaussianStateUpdate",
            "GaussianStateUpdate",
            "GaussianStateUpdate",
            "GaussianStateUpdate",
            "GaussianStateUpdate"
           ],
           "type": "scatter",
           "x": {
            "bdata": "iAKeMVobEEDSvJQQYuQRQJBDeNadVBZAAMTzx7uvEkBvYZvMIGcbQKrcq3aQySJA3s18QIhXKUAAAAAAAADwfw==",
            "dtype": "f8"
           },
           "y": {
            "bdata": "JogHZyebEUB7lnsDvbARQEzwXFkPeCJASAIZ+x4MIkCsdsbk7ksaQFJw3/Nf6SpA+VkmCElPNEAAAAAAAADwfw==",
            "dtype": "f8"
           }
          },
          {
           "type": "scatter",
           "x": [
            null
           ],
           "y": [
            null
           ]
          },
          {
           "type": "scatter",
           "x": [
            13.620202452662063,
            13.476563603835178,
            13.307511634334956,
            13.112227254293076,
            12.88869133844304,
            12.633614960466948,
            12.344071330326916,
            12.028676056235005,
            11.741550652273352,
            11.55261943876017,
            11.459111474337785,
            11.43278822447666,
            11.454601828981152,
            11.513713113118314,
            11.603932619524118,
            11.721720336405937,
            11.865342455209447,
            12.034421568627963,
            12.229697081572965,
            12.453230893596123,
            12.708302796469575,
            12.997851204366583,
            13.313248145299504,
            13.600373228396117,
            13.7893032371196,
            13.882810282140234,
            13.909134564795135,
            13.887320650702806,
            13.82820535858309,
            13.738001345480294,
            13.620202452662063,
            null,
            null
           ],
           "y": [
            19.99515603717929,
            19.60495986783267,
            19.226838393962755,
            18.865541811497568,
            18.52876153749121,
            18.23022685549252,
            17.997897860395334,
            17.89063697122556,
            17.98578180841242,
            18.260163245008837,
            18.619431347714233,
            19.011208276858717,
            19.414829673939277,
            19.821228673551193,
            20.225544432252047,
            20.624260217556937,
            21.01441520046747,
            21.392599078330562,
            21.753877038967495,
            22.090653968707482,
            22.389184369266093,
            22.621518242208165,
            22.728779352767557,
            22.63363354728839,
            22.359253283660195,
            21.999991946679653,
            21.60820891093134,
            21.204583575023538,
            20.798164343408,
            20.393914849390242,
            19.99515603717929,
            null,
            null
           ]
          }
         ],
         "name": "2025-09-03 18:21:15",
         "traces": [
          0,
          1,
          2,
          3,
          4,
          5,
          6,
          7,
          8,
          9,
          10,
          11
         ]
        },
        {
         "data": [
          {
           "type": "scatter",
           "x": [
            0,
            0
           ],
           "y": [
            0,
            0
           ]
          },
          {
           "hovertemplate": "GroundTruthState<br>(%{x}, %{y})<br>Time: %{meta}",
           "meta": [
            "2025-09-03 18:21:10",
            "2025-09-03 18:21:11",
            "2025-09-03 18:21:12",
            "2025-09-03 18:21:13",
            "2025-09-03 18:21:14",
            "2025-09-03 18:21:15",
            "2025-09-03 18:21:16"
           ],
           "type": "scatter",
           "x": {
            "bdata": "eLDDAilyEEAbyamfkkYUQC/uF41SiRhA+d8D0b1YHUC0OI7w32ohQOzVfUbGUiNAEuEL0C+UJEAAAAAAAADwfw==",
            "dtype": "f8"
           },
           "y": {
            "bdata": "C9vPWOe5EkByVApORrIZQF3w8/9GlSBAkx2pj5ZrJECGSENwQUcpQKEB/g6MJy5AF/mO3cB2MUAAAAAAAADwfw==",
            "dtype": "f8"
           }
          },
          {
           "type": "scatter",
           "x": [
            null,
            null
           ],
           "y": [
            null,
            null
           ]
          },
          {
           "hovertemplate": "Detection<br>(%{x}, %{y})<br>Time: %{meta}",
           "meta": [
            "2025-09-03 18:21:10",
            "2025-09-03 18:21:11",
            "2025-09-03 18:21:12",
            "2025-09-03 18:21:13",
            "2025-09-03 18:21:14",
            "2025-09-03 18:21:15",
            "2025-09-03 18:21:16"
           ],
           "type": "scatter",
           "x": {
            "bdata": "oA3tKV7kEUCAJrSIElQXQOhhEC7vrxJAqJx5RKmlG0BAGXIeCNUjQKwcYHX4cCpAZFHT6SqzI0AAAAAAAADwfw==",
            "dtype": "f8"
           },
           "y": {
            "bdata": "F9elOR2wEUB100aotkMiQHVfpZNECCJASKCz3OG0GkDGwj64azIqQFc949YC6TNALuOafCB/MEAAAAAAAADwfw==",
            "dtype": "f8"
           }
          },
          {
           "type": "scatter",
           "x": [
            null,
            null
           ],
           "y": [
            null,
            null
           ]
          },
          {
           "customdata": [
            "2025-09-03 18:21:10",
            "2025-09-03 18:21:11",
            "2025-09-03 18:21:12",
            "2025-09-03 18:21:13",
            "2025-09-03 18:21:14",
            "2025-09-03 18:21:15",
            "2025-09-03 18:21:16"
           ],
           "hovertemplate": "%{meta}<br>(%{x}, %{y})<br>Time: %{customdata}",
           "meta": [
            "GaussianStateUpdate",
            "GaussianStateUpdate",
            "GaussianStateUpdate",
            "GaussianStateUpdate",
            "GaussianStateUpdate",
            "GaussianStateUpdate",
            "GaussianStateUpdate"
           ],
           "type": "scatter",
           "x": {
            "bdata": "0ryUEGLkEUCQQ3jWnVQWQADE88e7rxJAb2GbzCBnG0Cq3Kt2kMkiQN7NfECIVylAnMcBUmlWI0AAAAAAAADwfw==",
            "dtype": "f8"
           },
           "y": {
            "bdata": "e5Z7A72wEUBM8FxZD3giQEgCGfseDCJArHbG5O5LGkBScN/zX+kqQPlZJghJTzRAL65wRXOyMEAAAAAAAADwfw==",
            "dtype": "f8"
           }
          },
          {
           "type": "scatter",
           "x": [
            null
           ],
           "y": [
            null
           ]
          },
          {
           "type": "scatter",
           "x": [
            10.547189717600487,
            10.337556854361443,
            10.104991207888437,
            9.849554270226525,
            9.570663765817935,
            9.267603688440555,
            8.942632029948635,
            8.614836258561775,
            8.350216016222362,
            8.212259752240604,
            8.182523597223,
            8.22463071459802,
            8.316326524580175,
            8.445349846350497,
            8.60473476239522,
            8.790354843246321,
            8.999963032723148,
            9.232566995644298,
            9.487992163504678,
            9.766880124399396,
            10.069935405484882,
            10.394912325993598,
            10.722708189009696,
            10.987328470377912,
            11.125284761229839,
            11.155021155574321,
            11.11291400662289,
            11.021217251686263,
            10.892186601854382,
            10.73282909719819,
            10.547189717600487,
            null,
            null
           ],
           "y": [
            16.21914726285932,
            15.862422134613556,
            15.522163005992045,
            15.203227350270705,
            14.913584053000838,
            14.667366804339395,
            14.492541522002018,
            14.444782261253266,
            14.588755315965454,
            14.889918316257956,
            15.257737469218394,
            15.645926702802521,
            16.037413621634304,
            16.425104899814116,
            16.805258048969044,
            17.174995536536937,
            17.531681716578206,
            17.87199828201158,
            18.19091759525687,
            18.48055812151767,
            18.726772229583183,
            18.90160120125675,
            18.949360553288777,
            18.805387570310764,
            18.504224696535307,
            18.136411965626326,
            17.74821699908815,
            17.35672643951266,
            16.96901640222131,
            16.58892662303825,
            16.21914726285932,
            null,
            null
           ]
          },
          {
           "type": "scatter",
           "x": [
            null,
            null
           ],
           "y": [
            null,
            null
           ]
          },
          {
           "customdata": [
            "2025-09-03 18:21:10",
            "2025-09-03 18:21:11",
            "2025-09-03 18:21:12",
            "2025-09-03 18:21:13",
            "2025-09-03 18:21:14",
            "2025-09-03 18:21:15",
            "2025-09-03 18:21:16"
           ],
           "hovertemplate": "%{meta}<br>(%{x}, %{y})<br>Time: %{customdata}",
           "meta": [
            "GaussianStateUpdate",
            "GaussianStateUpdate",
            "GaussianStateUpdate",
            "GaussianStateUpdate",
            "GaussianStateUpdate",
            "GaussianStateUpdate",
            "GaussianStateUpdate"
           ],
           "type": "scatter",
           "x": {
            "bdata": "0ryUEGLkEUCQQ3jWnVQWQADE88e7rxJAb2GbzCBnG0Cq3Kt2kMkiQN7NfECIVylAnMcBUmlWI0AAAAAAAADwfw==",
            "dtype": "f8"
           },
           "y": {
            "bdata": "e5Z7A72wEUBM8FxZD3giQEgCGfseDCJArHbG5O5LGkBScN/zX+kqQPlZJghJTzRAL65wRXOyMEAAAAAAAADwfw==",
            "dtype": "f8"
           }
          },
          {
           "type": "scatter",
           "x": [
            null
           ],
           "y": [
            null
           ]
          },
          {
           "type": "scatter",
           "x": [
            10.547189717600487,
            10.337556854361443,
            10.104991207888437,
            9.849554270226525,
            9.570663765817935,
            9.267603688440555,
            8.942632029948635,
            8.614836258561775,
            8.350216016222362,
            8.212259752240604,
            8.182523597223,
            8.22463071459802,
            8.316326524580175,
            8.445349846350497,
            8.60473476239522,
            8.790354843246321,
            8.999963032723148,
            9.232566995644298,
            9.487992163504678,
            9.766880124399396,
            10.069935405484882,
            10.394912325993598,
            10.722708189009696,
            10.987328470377912,
            11.125284761229839,
            11.155021155574321,
            11.11291400662289,
            11.021217251686263,
            10.892186601854382,
            10.73282909719819,
            10.547189717600487,
            null,
            null
           ],
           "y": [
            16.21914726285932,
            15.862422134613556,
            15.522163005992045,
            15.203227350270705,
            14.913584053000838,
            14.667366804339395,
            14.492541522002018,
            14.444782261253266,
            14.588755315965454,
            14.889918316257956,
            15.257737469218394,
            15.645926702802521,
            16.037413621634304,
            16.425104899814116,
            16.805258048969044,
            17.174995536536937,
            17.531681716578206,
            17.87199828201158,
            18.19091759525687,
            18.48055812151767,
            18.726772229583183,
            18.90160120125675,
            18.949360553288777,
            18.805387570310764,
            18.504224696535307,
            18.136411965626326,
            17.74821699908815,
            17.35672643951266,
            16.96901640222131,
            16.58892662303825,
            16.21914726285932,
            null,
            null
           ]
          }
         ],
         "name": "2025-09-03 18:21:16",
         "traces": [
          0,
          1,
          2,
          3,
          4,
          5,
          6,
          7,
          8,
          9,
          10,
          11
         ]
        },
        {
         "data": [
          {
           "type": "scatter",
           "x": [
            0,
            0
           ],
           "y": [
            0,
            0
           ]
          },
          {
           "hovertemplate": "GroundTruthState<br>(%{x}, %{y})<br>Time: %{meta}",
           "meta": [
            "2025-09-03 18:21:11",
            "2025-09-03 18:21:12",
            "2025-09-03 18:21:13",
            "2025-09-03 18:21:14",
            "2025-09-03 18:21:15",
            "2025-09-03 18:21:16",
            "2025-09-03 18:21:17"
           ],
           "type": "scatter",
           "x": {
            "bdata": "G8mpn5JGFEAv7heNUokYQPnfA9G9WB1AtDiO8N9qIUDs1X1GxlIjQBLhC9AvlCRAkjFQCCnRJUAAAAAAAADwfw==",
            "dtype": "f8"
           },
           "y": {
            "bdata": "clQKTkayGUBd8PP/RpUgQJMdqY+WayRAhkhDcEFHKUChAf4OjCcuQBf5jt3AdjFApjki6kjsM0AAAAAAAADwfw==",
            "dtype": "f8"
           }
          },
          {
           "type": "scatter",
           "x": [
            null,
            null
           ],
           "y": [
            null,
            null
           ]
          },
          {
           "hovertemplate": "Detection<br>(%{x}, %{y})<br>Time: %{meta}",
           "meta": [
            "2025-09-03 18:21:11",
            "2025-09-03 18:21:12",
            "2025-09-03 18:21:13",
            "2025-09-03 18:21:14",
            "2025-09-03 18:21:15",
            "2025-09-03 18:21:16",
            "2025-09-03 18:21:17"
           ],
           "type": "scatter",
           "x": {
            "bdata": "gCa0iBJUF0DoYRAu768SQKiceUSppRtAQBlyHgjVI0CsHGB1+HAqQGRR0+kqsyNAOHx1K1MaJ0AAAAAAAADwfw==",
            "dtype": "f8"
           },
           "y": {
            "bdata": "ddNGqLZDIkB1X6WTRAgiQEigs9zhtBpAxsI+uGsyKkBXPePWAukzQC7jmnwgfzBADFOedas5NEAAAAAAAADwfw==",
            "dtype": "f8"
           }
          },
          {
           "type": "scatter",
           "x": [
            null,
            null
           ],
           "y": [
            null,
            null
           ]
          },
          {
           "customdata": [
            "2025-09-03 18:21:11",
            "2025-09-03 18:21:12",
            "2025-09-03 18:21:13",
            "2025-09-03 18:21:14",
            "2025-09-03 18:21:15",
            "2025-09-03 18:21:16",
            "2025-09-03 18:21:17"
           ],
           "hovertemplate": "%{meta}<br>(%{x}, %{y})<br>Time: %{customdata}",
           "meta": [
            "GaussianStateUpdate",
            "GaussianStateUpdate",
            "GaussianStateUpdate",
            "GaussianStateUpdate",
            "GaussianStateUpdate",
            "GaussianStateUpdate",
            "GaussianStateUpdate"
           ],
           "type": "scatter",
           "x": {
            "bdata": "kEN41p1UFkAAxPPHu68SQG9hm8wgZxtAqtyrdpDJIkDezXxAiFcpQJzHAVJpViNAY5lmM7fIJkAAAAAAAADwfw==",
            "dtype": "f8"
           },
           "y": {
            "bdata": "TPBcWQ94IkBIAhn7HgwiQKx2xuTuSxpAUnDf81/pKkD5WSYISU80QC+ucEVzsjBAUjDKpWBRNEAAAAAAAADwfw==",
            "dtype": "f8"
           }
          },
          {
           "type": "scatter",
           "x": [
            null
           ],
           "y": [
            null
           ]
          },
          {
           "type": "scatter",
           "x": [
            12.315972849037225,
            12.142145489124605,
            11.94406170410866,
            11.72118609506661,
            11.471956206406892,
            11.193845269928536,
            10.885395120799783,
            10.558673358891953,
            10.275669036988585,
            10.108502413567777,
            10.044920663577972,
            10.050895001167783,
            10.105440948322844,
            10.19702751266521,
            10.319151991932749,
            10.468072573086326,
            10.641882676855088,
            10.839996616647046,
            11.062861375199056,
            11.31208858809848,
            11.590193598138235,
            11.898649767945608,
            12.225379154263905,
            12.508381462669188,
            12.675542828252492,
            12.739124217825028,
            12.73315049910689,
            12.678603826671162,
            12.58701130674392,
            12.464906046962623,
            12.315972849037225,
            null,
            null
           ],
           "y": [
            19.935367022247828,
            19.550711227321926,
            19.179735560257186,
            18.827117239892026,
            18.500535266649962,
            18.21376879521289,
            17.995042738940302,
            17.904569671279045,
            18.021730182009975,
            18.3166756388911,
            18.689430343921938,
            19.08885344504493,
            19.49602946271708,
            19.902977472006437,
            20.305470027649527,
            20.700394928936426,
            21.085015605675824,
            21.45604864011425,
            21.808647676454644,
            22.135225945892035,
            22.42198736207486,
            22.640718933554965,
            22.73119219279105,
            22.614026818520387,
            22.319086886445167,
            21.946340338385852,
            21.54690947226004,
            21.13972894328769,
            20.732759623490253,
            20.330328962414193,
            19.935367022247828,
            null,
            null
           ]
          },
          {
           "type": "scatter",
           "x": [
            null,
            null
           ],
           "y": [
            null,
            null
           ]
          },
          {
           "customdata": [
            "2025-09-03 18:21:11",
            "2025-09-03 18:21:12",
            "2025-09-03 18:21:13",
            "2025-09-03 18:21:14",
            "2025-09-03 18:21:15",
            "2025-09-03 18:21:16",
            "2025-09-03 18:21:17"
           ],
           "hovertemplate": "%{meta}<br>(%{x}, %{y})<br>Time: %{customdata}",
           "meta": [
            "GaussianStateUpdate",
            "GaussianStateUpdate",
            "GaussianStateUpdate",
            "GaussianStateUpdate",
            "GaussianStateUpdate",
            "GaussianStateUpdate",
            "GaussianStateUpdate"
           ],
           "type": "scatter",
           "x": {
            "bdata": "kEN41p1UFkAAxPPHu68SQG9hm8wgZxtAqtyrdpDJIkDezXxAiFcpQJzHAVJpViNAY5lmM7fIJkAAAAAAAADwfw==",
            "dtype": "f8"
           },
           "y": {
            "bdata": "TPBcWQ94IkBIAhn7HgwiQKx2xuTuSxpAUnDf81/pKkD5WSYISU80QC+ucEVzsjBAUjDKpWBRNEAAAAAAAADwfw==",
            "dtype": "f8"
           }
          },
          {
           "type": "scatter",
           "x": [
            null
           ],
           "y": [
            null
           ]
          },
          {
           "type": "scatter",
           "x": [
            12.315972849037225,
            12.142145489124605,
            11.94406170410866,
            11.72118609506661,
            11.471956206406892,
            11.193845269928536,
            10.885395120799783,
            10.558673358891953,
            10.275669036988585,
            10.108502413567777,
            10.044920663577972,
            10.050895001167783,
            10.105440948322844,
            10.19702751266521,
            10.319151991932749,
            10.468072573086326,
            10.641882676855088,
            10.839996616647046,
            11.062861375199056,
            11.31208858809848,
            11.590193598138235,
            11.898649767945608,
            12.225379154263905,
            12.508381462669188,
            12.675542828252492,
            12.739124217825028,
            12.73315049910689,
            12.678603826671162,
            12.58701130674392,
            12.464906046962623,
            12.315972849037225,
            null,
            null
           ],
           "y": [
            19.935367022247828,
            19.550711227321926,
            19.179735560257186,
            18.827117239892026,
            18.500535266649962,
            18.21376879521289,
            17.995042738940302,
            17.904569671279045,
            18.021730182009975,
            18.3166756388911,
            18.689430343921938,
            19.08885344504493,
            19.49602946271708,
            19.902977472006437,
            20.305470027649527,
            20.700394928936426,
            21.085015605675824,
            21.45604864011425,
            21.808647676454644,
            22.135225945892035,
            22.42198736207486,
            22.640718933554965,
            22.73119219279105,
            22.614026818520387,
            22.319086886445167,
            21.946340338385852,
            21.54690947226004,
            21.13972894328769,
            20.732759623490253,
            20.330328962414193,
            19.935367022247828,
            null,
            null
           ]
          }
         ],
         "name": "2025-09-03 18:21:17",
         "traces": [
          0,
          1,
          2,
          3,
          4,
          5,
          6,
          7,
          8,
          9,
          10,
          11
         ]
        },
        {
         "data": [
          {
           "type": "scatter",
           "x": [
            0,
            0
           ],
           "y": [
            0,
            0
           ]
          },
          {
           "hovertemplate": "GroundTruthState<br>(%{x}, %{y})<br>Time: %{meta}",
           "meta": [
            "2025-09-03 18:21:12",
            "2025-09-03 18:21:13",
            "2025-09-03 18:21:14",
            "2025-09-03 18:21:15",
            "2025-09-03 18:21:16",
            "2025-09-03 18:21:17",
            "2025-09-03 18:21:18"
           ],
           "type": "scatter",
           "x": {
            "bdata": "L+4XjVKJGED53wPRvVgdQLQ4jvDfaiFA7NV9RsZSI0AS4QvQL5QkQJIxUAgp0SVAo23mQHzfJkAAAAAAAADwfw==",
            "dtype": "f8"
           },
           "y": {
            "bdata": "XfDz/0aVIECTHamPlmskQIZIQ3BBRylAoQH+DownLkAX+Y7dwHYxQKY5IupI7DNAGzWtyWtvNkAAAAAAAADwfw==",
            "dtype": "f8"
           }
          },
          {
           "type": "scatter",
           "x": [
            null,
            null
           ],
           "y": [
            null,
            null
           ]
          },
          {
           "hovertemplate": "Detection<br>(%{x}, %{y})<br>Time: %{meta}",
           "meta": [
            "2025-09-03 18:21:12",
            "2025-09-03 18:21:13",
            "2025-09-03 18:21:14",
            "2025-09-03 18:21:15",
            "2025-09-03 18:21:16",
            "2025-09-03 18:21:17",
            "2025-09-03 18:21:18"
           ],
           "type": "scatter",
           "x": {
            "bdata": "6GEQLu+vEkConHlEqaUbQEAZch4I1SNArBxgdfhwKkBkUdPpKrMjQDh8dStTGidAOBkmw+L9KkAAAAAAAADwfw==",
            "dtype": "f8"
           },
           "y": {
            "bdata": "dV+lk0QIIkBIoLPc4bQaQMbCPrhrMipAVz3j1gLpM0Au45p8IH8wQAxTnnWrOTRABhnOgCVgOkAAAAAAAADwfw==",
            "dtype": "f8"
           }
          },
          {
           "type": "scatter",
           "x": [
            null,
            null
           ],
           "y": [
            null,
            null
           ]
          },
          {
           "customdata": [
            "2025-09-03 18:21:12",
            "2025-09-03 18:21:13",
            "2025-09-03 18:21:14",
            "2025-09-03 18:21:15",
            "2025-09-03 18:21:16",
            "2025-09-03 18:21:17",
            "2025-09-03 18:21:18"
           ],
           "hovertemplate": "%{meta}<br>(%{x}, %{y})<br>Time: %{customdata}",
           "meta": [
            "GaussianStateUpdate",
            "GaussianStateUpdate",
            "GaussianStateUpdate",
            "GaussianStateUpdate",
            "GaussianStateUpdate",
            "GaussianStateUpdate",
            "GaussianStateUpdate"
           ],
           "type": "scatter",
           "x": {
            "bdata": "AMTzx7uvEkBvYZvMIGcbQKrcq3aQySJA3s18QIhXKUCcxwFSaVYjQGOZZjO3yCZANqElPkQIKkAAAAAAAADwfw==",
            "dtype": "f8"
           },
           "y": {
            "bdata": "SAIZ+x4MIkCsdsbk7ksaQFJw3/Nf6SpA+VkmCElPNEAvrnBFc7IwQFIwyqVgUTRAUEG5xlttOkAAAAAAAADwfw==",
            "dtype": "f8"
           }
          },
          {
           "type": "scatter",
           "x": [
            null
           ],
           "y": [
            null
           ]
          },
          {
           "type": "scatter",
           "x": [
            13.90108303735111,
            13.69275605382757,
            13.46152574303559,
            13.207290156474757,
            12.929201301843426,
            12.626014399886206,
            12.298882607473617,
            11.965365874405567,
            11.694399909308103,
            11.554956550436938,
            11.52574454928251,
            11.568240623423204,
            11.659824106502466,
            11.78828090735181,
            11.946746682943061,
            12.13120826455447,
            12.339514764540759,
            12.570780414937655,
            12.825003447071289,
            13.103089307609398,
            13.406269879542474,
            13.733408146347541,
            14.06693231225626,
            14.337895886143253,
            14.477334626387227,
            14.506547011708697,
            14.46405084467958,
            14.372466230444132,
            14.244001559473691,
            14.08556063968048,
            13.90108303735111,
            null,
            null
           ],
           "y": [
            25.961472378750386,
            25.594545675220946,
            25.243473604542675,
            24.912965722147568,
            24.610815377059254,
            24.35097900537736,
            24.16169212134094,
            24.101748660010195,
            24.244344955922784,
            24.553192940930714,
            24.93001848320648,
            25.32703884110311,
            25.727334944314943,
            26.12401069174024,
            26.513449031503594,
            26.89289091056446,
            27.259784105839714,
            27.610910609336496,
            27.941400319029032,
            28.243547234929604,
            28.503379145410438,
            28.69267094321121,
            28.752613907198857,
            28.610013067525426,
            28.30117092740869,
            27.924353503953885,
            27.527325402486163,
            27.127024889692965,
            26.730328504390954,
            26.340950114679398,
            25.961472378750386,
            null,
            null
           ]
          },
          {
           "type": "scatter",
           "x": [
            null,
            null
           ],
           "y": [
            null,
            null
           ]
          },
          {
           "customdata": [
            "2025-09-03 18:21:12",
            "2025-09-03 18:21:13",
            "2025-09-03 18:21:14",
            "2025-09-03 18:21:15",
            "2025-09-03 18:21:16",
            "2025-09-03 18:21:17",
            "2025-09-03 18:21:18"
           ],
           "hovertemplate": "%{meta}<br>(%{x}, %{y})<br>Time: %{customdata}",
           "meta": [
            "GaussianStateUpdate",
            "GaussianStateUpdate",
            "GaussianStateUpdate",
            "GaussianStateUpdate",
            "GaussianStateUpdate",
            "GaussianStateUpdate",
            "GaussianStateUpdate"
           ],
           "type": "scatter",
           "x": {
            "bdata": "AMTzx7uvEkBvYZvMIGcbQKrcq3aQySJA3s18QIhXKUCcxwFSaVYjQGOZZjO3yCZANqElPkQIKkAAAAAAAADwfw==",
            "dtype": "f8"
           },
           "y": {
            "bdata": "SAIZ+x4MIkCsdsbk7ksaQFJw3/Nf6SpA+VkmCElPNEAvrnBFc7IwQFIwyqVgUTRAUEG5xlttOkAAAAAAAADwfw==",
            "dtype": "f8"
           }
          },
          {
           "type": "scatter",
           "x": [
            null
           ],
           "y": [
            null
           ]
          },
          {
           "type": "scatter",
           "x": [
            13.90108303735111,
            13.69275605382757,
            13.46152574303559,
            13.207290156474757,
            12.929201301843426,
            12.626014399886206,
            12.298882607473617,
            11.965365874405567,
            11.694399909308103,
            11.554956550436938,
            11.52574454928251,
            11.568240623423204,
            11.659824106502466,
            11.78828090735181,
            11.946746682943061,
            12.13120826455447,
            12.339514764540759,
            12.570780414937655,
            12.825003447071289,
            13.103089307609398,
            13.406269879542474,
            13.733408146347541,
            14.06693231225626,
            14.337895886143253,
            14.477334626387227,
            14.506547011708697,
            14.46405084467958,
            14.372466230444132,
            14.244001559473691,
            14.08556063968048,
            13.90108303735111,
            null,
            null
           ],
           "y": [
            25.961472378750386,
            25.594545675220946,
            25.243473604542675,
            24.912965722147568,
            24.610815377059254,
            24.35097900537736,
            24.16169212134094,
            24.101748660010195,
            24.244344955922784,
            24.553192940930714,
            24.93001848320648,
            25.32703884110311,
            25.727334944314943,
            26.12401069174024,
            26.513449031503594,
            26.89289091056446,
            27.259784105839714,
            27.610910609336496,
            27.941400319029032,
            28.243547234929604,
            28.503379145410438,
            28.69267094321121,
            28.752613907198857,
            28.610013067525426,
            28.30117092740869,
            27.924353503953885,
            27.527325402486163,
            27.127024889692965,
            26.730328504390954,
            26.340950114679398,
            25.961472378750386,
            null,
            null
           ]
          }
         ],
         "name": "2025-09-03 18:21:18",
         "traces": [
          0,
          1,
          2,
          3,
          4,
          5,
          6,
          7,
          8,
          9,
          10,
          11
         ]
        },
        {
         "data": [
          {
           "type": "scatter",
           "x": [
            0,
            0
           ],
           "y": [
            0,
            0
           ]
          },
          {
           "hovertemplate": "GroundTruthState<br>(%{x}, %{y})<br>Time: %{meta}",
           "meta": [
            "2025-09-03 18:21:13",
            "2025-09-03 18:21:14",
            "2025-09-03 18:21:15",
            "2025-09-03 18:21:16",
            "2025-09-03 18:21:17",
            "2025-09-03 18:21:18",
            "2025-09-03 18:21:19"
           ],
           "type": "scatter",
           "x": {
            "bdata": "+d8D0b1YHUC0OI7w32ohQOzVfUbGUiNAEuEL0C+UJECSMVAIKdElQKNt5kB83yZAVIZqP+IqKEAAAAAAAADwfw==",
            "dtype": "f8"
           },
           "y": {
            "bdata": "kx2pj5ZrJECGSENwQUcpQKEB/g6MJy5AF/mO3cB2MUCmOSLqSOwzQBs1rclrbzZAekRRw+s5OUAAAAAAAADwfw==",
            "dtype": "f8"
           }
          },
          {
           "type": "scatter",
           "x": [
            null,
            null
           ],
           "y": [
            null,
            null
           ]
          },
          {
           "hovertemplate": "Detection<br>(%{x}, %{y})<br>Time: %{meta}",
           "meta": [
            "2025-09-03 18:21:13",
            "2025-09-03 18:21:14",
            "2025-09-03 18:21:15",
            "2025-09-03 18:21:16",
            "2025-09-03 18:21:17",
            "2025-09-03 18:21:18",
            "2025-09-03 18:21:19"
           ],
           "type": "scatter",
           "x": {
            "bdata": "qJx5RKmlG0BAGXIeCNUjQKwcYHX4cCpAZFHT6SqzI0A4fHUrUxonQDgZJsPi/SpA7JPYWtFrIkAAAAAAAADwfw==",
            "dtype": "f8"
           },
           "y": {
            "bdata": "SKCz3OG0GkDGwj64azIqQFc949YC6TNALuOafCB/MEAMU551qzk0QAYZzoAlYDpAl0f29RftNEAAAAAAAADwfw==",
            "dtype": "f8"
           }
          },
          {
           "type": "scatter",
           "x": [
            null,
            null
           ],
           "y": [
            null,
            null
           ]
          },
          {
           "customdata": [
            "2025-09-03 18:21:13",
            "2025-09-03 18:21:14",
            "2025-09-03 18:21:15",
            "2025-09-03 18:21:16",
            "2025-09-03 18:21:17",
            "2025-09-03 18:21:18",
            "2025-09-03 18:21:19"
           ],
           "hovertemplate": "%{meta}<br>(%{x}, %{y})<br>Time: %{customdata}",
           "meta": [
            "GaussianStateUpdate",
            "GaussianStateUpdate",
            "GaussianStateUpdate",
            "GaussianStateUpdate",
            "GaussianStateUpdate",
            "GaussianStateUpdate",
            "GaussianStateUpdate"
           ],
           "type": "scatter",
           "x": {
            "bdata": "b2GbzCBnG0Cq3Kt2kMkiQN7NfECIVylAnMcBUmlWI0BjmWYzt8gmQDahJT5ECCpAFf/Dq0mpIUAAAAAAAADwfw==",
            "dtype": "f8"
           },
           "y": {
            "bdata": "rHbG5O5LGkBScN/zX+kqQPlZJghJTzRAL65wRXOyMEBSMMqlYFE0QFBBucZbbTpAesfIovU8NUAAAAAAAADwfw==",
            "dtype": "f8"
           }
          },
          {
           "type": "scatter",
           "x": [
            null
           ],
           "y": [
            null
           ]
          },
          {
           "type": "scatter",
           "x": [
            9.644277011119293,
            9.380648618783628,
            9.096799116327961,
            8.79309911889815,
            8.469511005014422,
            8.126170429322935,
            7.7669771688744165,
            7.41649060253711,
            7.1608456600540915,
            7.071309106243562,
            7.104524466881353,
            7.211346664171293,
            7.3663683256496935,
            7.5565970909271645,
            7.774874852884417,
            8.017003368510498,
            8.28061466022075,
            8.56450178496075,
            8.86818494985873,
            9.191768618899912,
            9.535098713933635,
            9.894301650878074,
            10.244813346508549,
            10.500447264705768,
            10.58997119773546,
            10.556758329014059,
            10.449934018586447,
            10.294910005033188,
            10.104668959987283,
            9.886419932710906,
            9.644277011119293,
            null,
            null
           ],
           "y": [
            20.65673002055385,
            20.310502800622608,
            19.98260696875566,
            19.67751807767244,
            19.402843287234827,
            19.172351877227914,
            19.014239809568345,
            18.98884348058458,
            19.17150571619606,
            19.511338597715497,
            19.90239459946949,
            20.301879490640115,
            20.69699809802305,
            21.0831383265083,
            21.457959302421408,
            21.819516191486784,
            22.165722328048187,
            22.493661416533193,
            22.79873156346863,
            23.073402345601547,
            23.30388793289857,
            23.46200594825611,
            23.48739754246204,
            23.30471987879499,
            22.964909237225807,
            22.5738643169896,
            22.174367624006038,
            21.77924351290851,
            21.393081287048577,
            21.018309918487745,
            20.65673002055385,
            null,
            null
           ]
          },
          {
           "type": "scatter",
           "x": [
            null,
            null
           ],
           "y": [
            null,
            null
           ]
          },
          {
           "customdata": [
            "2025-09-03 18:21:13",
            "2025-09-03 18:21:14",
            "2025-09-03 18:21:15",
            "2025-09-03 18:21:16",
            "2025-09-03 18:21:17",
            "2025-09-03 18:21:18",
            "2025-09-03 18:21:19"
           ],
           "hovertemplate": "%{meta}<br>(%{x}, %{y})<br>Time: %{customdata}",
           "meta": [
            "GaussianStateUpdate",
            "GaussianStateUpdate",
            "GaussianStateUpdate",
            "GaussianStateUpdate",
            "GaussianStateUpdate",
            "GaussianStateUpdate",
            "GaussianStateUpdate"
           ],
           "type": "scatter",
           "x": {
            "bdata": "b2GbzCBnG0Cq3Kt2kMkiQN7NfECIVylAnMcBUmlWI0BjmWYzt8gmQDahJT5ECCpAFf/Dq0mpIUAAAAAAAADwfw==",
            "dtype": "f8"
           },
           "y": {
            "bdata": "rHbG5O5LGkBScN/zX+kqQPlZJghJTzRAL65wRXOyMEBSMMqlYFE0QFBBucZbbTpAesfIovU8NUAAAAAAAADwfw==",
            "dtype": "f8"
           }
          },
          {
           "type": "scatter",
           "x": [
            null
           ],
           "y": [
            null
           ]
          },
          {
           "type": "scatter",
           "x": [
            9.644277011119293,
            9.380648618783628,
            9.096799116327961,
            8.79309911889815,
            8.469511005014422,
            8.126170429322935,
            7.7669771688744165,
            7.41649060253711,
            7.1608456600540915,
            7.071309106243562,
            7.104524466881353,
            7.211346664171293,
            7.3663683256496935,
            7.5565970909271645,
            7.774874852884417,
            8.017003368510498,
            8.28061466022075,
            8.56450178496075,
            8.86818494985873,
            9.191768618899912,
            9.535098713933635,
            9.894301650878074,
            10.244813346508549,
            10.500447264705768,
            10.58997119773546,
            10.556758329014059,
            10.449934018586447,
            10.294910005033188,
            10.104668959987283,
            9.886419932710906,
            9.644277011119293,
            null,
            null
           ],
           "y": [
            20.65673002055385,
            20.310502800622608,
            19.98260696875566,
            19.67751807767244,
            19.402843287234827,
            19.172351877227914,
            19.014239809568345,
            18.98884348058458,
            19.17150571619606,
            19.511338597715497,
            19.90239459946949,
            20.301879490640115,
            20.69699809802305,
            21.0831383265083,
            21.457959302421408,
            21.819516191486784,
            22.165722328048187,
            22.493661416533193,
            22.79873156346863,
            23.073402345601547,
            23.30388793289857,
            23.46200594825611,
            23.48739754246204,
            23.30471987879499,
            22.964909237225807,
            22.5738643169896,
            22.174367624006038,
            21.77924351290851,
            21.393081287048577,
            21.018309918487745,
            20.65673002055385,
            null,
            null
           ]
          }
         ],
         "name": "2025-09-03 18:21:19",
         "traces": [
          0,
          1,
          2,
          3,
          4,
          5,
          6,
          7,
          8,
          9,
          10,
          11
         ]
        },
        {
         "data": [
          {
           "type": "scatter",
           "x": [
            0,
            0
           ],
           "y": [
            0,
            0
           ]
          },
          {
           "hovertemplate": "GroundTruthState<br>(%{x}, %{y})<br>Time: %{meta}",
           "meta": [
            "2025-09-03 18:21:14",
            "2025-09-03 18:21:15",
            "2025-09-03 18:21:16",
            "2025-09-03 18:21:17",
            "2025-09-03 18:21:18",
            "2025-09-03 18:21:19",
            "2025-09-03 18:21:20"
           ],
           "type": "scatter",
           "x": {
            "bdata": "tDiO8N9qIUDs1X1GxlIjQBLhC9AvlCRAkjFQCCnRJUCjbeZAfN8mQFSGaj/iKihAX8G7Muq2KUAAAAAAAADwfw==",
            "dtype": "f8"
           },
           "y": {
            "bdata": "hkhDcEFHKUChAf4OjCcuQBf5jt3AdjFApjki6kjsM0AbNa3Ja282QHpEUcPrOTlAyrd/nSxRPEAAAAAAAADwfw==",
            "dtype": "f8"
           }
          },
          {
           "type": "scatter",
           "x": [
            null,
            null
           ],
           "y": [
            null,
            null
           ]
          },
          {
           "hovertemplate": "Detection<br>(%{x}, %{y})<br>Time: %{meta}",
           "meta": [
            "2025-09-03 18:21:14",
            "2025-09-03 18:21:15",
            "2025-09-03 18:21:16",
            "2025-09-03 18:21:17",
            "2025-09-03 18:21:18",
            "2025-09-03 18:21:19",
            "2025-09-03 18:21:20"
           ],
           "type": "scatter",
           "x": {
            "bdata": "QBlyHgjVI0CsHGB1+HAqQGRR0+kqsyNAOHx1K1MaJ0A4GSbD4v0qQOyT2FrRayJApGFoAQCnLUAAAAAAAADwfw==",
            "dtype": "f8"
           },
           "y": {
            "bdata": "xsI+uGsyKkBXPePWAukzQC7jmnwgfzBADFOedas5NEAGGc6AJWA6QJdH9vUX7TRAQVTHG1L7PUAAAAAAAADwfw==",
            "dtype": "f8"
           }
          },
          {
           "type": "scatter",
           "x": [
            null,
            null
           ],
           "y": [
            null,
            null
           ]
          },
          {
           "customdata": [
            "2025-09-03 18:21:14",
            "2025-09-03 18:21:15",
            "2025-09-03 18:21:16",
            "2025-09-03 18:21:17",
            "2025-09-03 18:21:18",
            "2025-09-03 18:21:19",
            "2025-09-03 18:21:20"
           ],
           "hovertemplate": "%{meta}<br>(%{x}, %{y})<br>Time: %{customdata}",
           "meta": [
            "GaussianStateUpdate",
            "GaussianStateUpdate",
            "GaussianStateUpdate",
            "GaussianStateUpdate",
            "GaussianStateUpdate",
            "GaussianStateUpdate",
            "GaussianStateUpdate"
           ],
           "type": "scatter",
           "x": {
            "bdata": "qtyrdpDJIkDezXxAiFcpQJzHAVJpViNAY5lmM7fIJkA2oSU+RAgqQBX/w6tJqSFANv9ifqGaK0AAAAAAAADwfw==",
            "dtype": "f8"
           },
           "y": {
            "bdata": "UnDf81/pKkD5WSYISU80QC+ucEVzsjBAUjDKpWBRNEBQQbnGW206QHrHyKL1PDVAJjah0WukPkAAAAAAAADwfw==",
            "dtype": "f8"
           }
          },
          {
           "type": "scatter",
           "x": [
            null
           ],
           "y": [
            null
           ]
          },
          {
           "type": "scatter",
           "x": [
            14.690725889324217,
            14.47679355432171,
            14.240389721071322,
            13.981180177594334,
            13.697942442860084,
            13.388621955514054,
            13.052519751934252,
            12.704460846873179,
            12.421897348266524,
            12.286773575405729,
            12.267746218139248,
            12.320326912068985,
            12.420881831265174,
            12.557217221350294,
            12.722630477200733,
            12.913300808949604,
            13.127222459259052,
            13.363655297420003,
            13.62285016383315,
            13.906083640940047,
            14.215392712218833,
            14.551504812466298,
            14.899547336404652,
            15.182117694334973,
            15.317252707368084,
            15.336281305223556,
            15.283699950817384,
            15.183143254712531,
            15.046798256458239,
            14.881404689695573,
            14.690725889324217,
            null,
            null
           ],
           "y": [
            30.183809188624583,
            29.797643980127894,
            29.42652409705624,
            29.074830066795517,
            28.74996313927254,
            28.465417477352283,
            28.249699596302108,
            28.16795924532399,
            28.313733967897853,
            28.64472792492813,
            29.043660502938824,
            29.4606359501572,
            29.87973623282352,
            30.294787669193944,
            30.70258928583342,
            31.100731182046268,
            31.486878398089672,
            31.858043074189062,
            32.209714873809,
            32.53457659231609,
            32.81911332348065,
            33.03483976643571,
            33.11658225913879,
            32.97082083315289,
            32.639814768823456,
            32.24089521813727,
            31.823905291666094,
            31.40479852025327,
            30.98972223834642,
            30.581970220497194,
            30.183809188624583,
            null,
            null
           ]
          },
          {
           "type": "scatter",
           "x": [
            null,
            null
           ],
           "y": [
            null,
            null
           ]
          },
          {
           "customdata": [
            "2025-09-03 18:21:14",
            "2025-09-03 18:21:15",
            "2025-09-03 18:21:16",
            "2025-09-03 18:21:17",
            "2025-09-03 18:21:18",
            "2025-09-03 18:21:19",
            "2025-09-03 18:21:20"
           ],
           "hovertemplate": "%{meta}<br>(%{x}, %{y})<br>Time: %{customdata}",
           "meta": [
            "GaussianStateUpdate",
            "GaussianStateUpdate",
            "GaussianStateUpdate",
            "GaussianStateUpdate",
            "GaussianStateUpdate",
            "GaussianStateUpdate",
            "GaussianStateUpdate"
           ],
           "type": "scatter",
           "x": {
            "bdata": "qtyrdpDJIkDezXxAiFcpQJzHAVJpViNAY5lmM7fIJkA2oSU+RAgqQBX/w6tJqSFANv9ifqGaK0AAAAAAAADwfw==",
            "dtype": "f8"
           },
           "y": {
            "bdata": "UnDf81/pKkD5WSYISU80QC+ucEVzsjBAUjDKpWBRNEBQQbnGW206QHrHyKL1PDVAJjah0WukPkAAAAAAAADwfw==",
            "dtype": "f8"
           }
          },
          {
           "type": "scatter",
           "x": [
            null
           ],
           "y": [
            null
           ]
          },
          {
           "type": "scatter",
           "x": [
            14.690725889324217,
            14.47679355432171,
            14.240389721071322,
            13.981180177594334,
            13.697942442860084,
            13.388621955514054,
            13.052519751934252,
            12.704460846873179,
            12.421897348266524,
            12.286773575405729,
            12.267746218139248,
            12.320326912068985,
            12.420881831265174,
            12.557217221350294,
            12.722630477200733,
            12.913300808949604,
            13.127222459259052,
            13.363655297420003,
            13.62285016383315,
            13.906083640940047,
            14.215392712218833,
            14.551504812466298,
            14.899547336404652,
            15.182117694334973,
            15.317252707368084,
            15.336281305223556,
            15.283699950817384,
            15.183143254712531,
            15.046798256458239,
            14.881404689695573,
            14.690725889324217,
            null,
            null
           ],
           "y": [
            30.183809188624583,
            29.797643980127894,
            29.42652409705624,
            29.074830066795517,
            28.74996313927254,
            28.465417477352283,
            28.249699596302108,
            28.16795924532399,
            28.313733967897853,
            28.64472792492813,
            29.043660502938824,
            29.4606359501572,
            29.87973623282352,
            30.294787669193944,
            30.70258928583342,
            31.100731182046268,
            31.486878398089672,
            31.858043074189062,
            32.209714873809,
            32.53457659231609,
            32.81911332348065,
            33.03483976643571,
            33.11658225913879,
            32.97082083315289,
            32.639814768823456,
            32.24089521813727,
            31.823905291666094,
            31.40479852025327,
            30.98972223834642,
            30.581970220497194,
            30.183809188624583,
            null,
            null
           ]
          }
         ],
         "name": "2025-09-03 18:21:20",
         "traces": [
          0,
          1,
          2,
          3,
          4,
          5,
          6,
          7,
          8,
          9,
          10,
          11
         ]
        },
        {
         "data": [
          {
           "type": "scatter",
           "x": [
            0,
            0
           ],
           "y": [
            0,
            0
           ]
          },
          {
           "hovertemplate": "GroundTruthState<br>(%{x}, %{y})<br>Time: %{meta}",
           "meta": [
            "2025-09-03 18:21:15",
            "2025-09-03 18:21:16",
            "2025-09-03 18:21:17",
            "2025-09-03 18:21:18",
            "2025-09-03 18:21:19",
            "2025-09-03 18:21:20",
            "2025-09-03 18:21:21"
           ],
           "type": "scatter",
           "x": {
            "bdata": "7NV9RsZSI0AS4QvQL5QkQJIxUAgp0SVAo23mQHzfJkBUhmo/4iooQF/BuzLqtilAFQmPCflTK0AAAAAAAADwfw==",
            "dtype": "f8"
           },
           "y": {
            "bdata": "oQH+DownLkAX+Y7dwHYxQKY5IupI7DNAGzWtyWtvNkB6RFHD6zk5QMq3f50sUTxAb1YXWVKnP0AAAAAAAADwfw==",
            "dtype": "f8"
           }
          },
          {
           "type": "scatter",
           "x": [
            null,
            null
           ],
           "y": [
            null,
            null
           ]
          },
          {
           "hovertemplate": "Detection<br>(%{x}, %{y})<br>Time: %{meta}",
           "meta": [
            "2025-09-03 18:21:15",
            "2025-09-03 18:21:16",
            "2025-09-03 18:21:17",
            "2025-09-03 18:21:18",
            "2025-09-03 18:21:19",
            "2025-09-03 18:21:20",
            "2025-09-03 18:21:21"
           ],
           "type": "scatter",
           "x": {
            "bdata": "rBxgdfhwKkBkUdPpKrMjQDh8dStTGidAOBkmw+L9KkDsk9ha0WsiQKRhaAEApy1AYN8JMl9jJ0AAAAAAAADwfw==",
            "dtype": "f8"
           },
           "y": {
            "bdata": "Vz3j1gLpM0Au45p8IH8wQAxTnnWrOTRABhnOgCVgOkCXR/b1F+00QEFUxxtS+z1Aoz79sPw6O0AAAAAAAADwfw==",
            "dtype": "f8"
           }
          },
          {
           "type": "scatter",
           "x": [
            null,
            null
           ],
           "y": [
            null,
            null
           ]
          },
          {
           "customdata": [
            "2025-09-03 18:21:15",
            "2025-09-03 18:21:16",
            "2025-09-03 18:21:17",
            "2025-09-03 18:21:18",
            "2025-09-03 18:21:19",
            "2025-09-03 18:21:20",
            "2025-09-03 18:21:21"
           ],
           "hovertemplate": "%{meta}<br>(%{x}, %{y})<br>Time: %{customdata}",
           "meta": [
            "GaussianStateUpdate",
            "GaussianStateUpdate",
            "GaussianStateUpdate",
            "GaussianStateUpdate",
            "GaussianStateUpdate",
            "GaussianStateUpdate",
            "GaussianStateUpdate"
           ],
           "type": "scatter",
           "x": {
            "bdata": "3s18QIhXKUCcxwFSaVYjQGOZZjO3yCZANqElPkQIKkAV/8OrSakhQDb/Yn6hmitAZB9p81YUJ0AAAAAAAADwfw==",
            "dtype": "f8"
           },
           "y": {
            "bdata": "+VkmCElPNEAvrnBFc7IwQFIwyqVgUTRAUEG5xlttOkB6x8ii9Tw1QCY2odFrpD5AysvUf7pOO0AAAAAAAADwfw==",
            "dtype": "f8"
           }
          },
          {
           "type": "scatter",
           "x": [
            null
           ],
           "y": [
            null
           ]
          },
          {
           "type": "scatter",
           "x": [
            12.302973997532927,
            12.002828878591965,
            11.684312126377876,
            11.347986477595539,
            10.994182305706884,
            10.623636612303764,
            10.24145873487745,
            9.876231910659564,
            9.629879165356785,
            9.577563145599083,
            9.655806309452137,
            9.807554801647214,
            10.005967982981279,
            10.237864017289459,
            10.496089060964156,
            10.776477766730896,
            11.07661416092838,
            11.395165567005717,
            11.73147072772532,
            12.085268845188367,
            12.45579820835474,
            12.837989548236184,
            13.203218655373325,
            13.44957207043623,
            13.501888854941289,
            13.423650890751155,
            13.271897263927228,
            13.073480364490925,
            12.841568274341991,
            12.583370309676534,
            12.302973997532927,
            null,
            null
           ],
           "y": [
            26.66142911393931,
            26.32688881048618,
            26.011780404115978,
            25.720342493407692,
            25.4599400053029,
            25.244047608061166,
            25.100746582087744,
            25.09265431383539,
            25.30119730761979,
            25.66275067618085,
            26.063357177039997,
            26.46444382990844,
            26.856377857589756,
            27.236180383630682,
            27.60238946721655,
            27.953637394262596,
            28.28816852503195,
            28.60331018804677,
            28.89472838992913,
            29.155126094721496,
            29.371010552300625,
            29.514319103824647,
            29.522412529612996,
            29.313870327021704,
            28.952319401158142,
            28.55172742046144,
            28.150623350633968,
            27.758682561897878,
            27.378856575070206,
            27.012687160387873,
            26.66142911393931,
            null,
            null
           ]
          },
          {
           "type": "scatter",
           "x": [
            null,
            null
           ],
           "y": [
            null,
            null
           ]
          },
          {
           "customdata": [
            "2025-09-03 18:21:15",
            "2025-09-03 18:21:16",
            "2025-09-03 18:21:17",
            "2025-09-03 18:21:18",
            "2025-09-03 18:21:19",
            "2025-09-03 18:21:20",
            "2025-09-03 18:21:21"
           ],
           "hovertemplate": "%{meta}<br>(%{x}, %{y})<br>Time: %{customdata}",
           "meta": [
            "GaussianStateUpdate",
            "GaussianStateUpdate",
            "GaussianStateUpdate",
            "GaussianStateUpdate",
            "GaussianStateUpdate",
            "GaussianStateUpdate",
            "GaussianStateUpdate"
           ],
           "type": "scatter",
           "x": {
            "bdata": "3s18QIhXKUCcxwFSaVYjQGOZZjO3yCZANqElPkQIKkAV/8OrSakhQDb/Yn6hmitAZB9p81YUJ0AAAAAAAADwfw==",
            "dtype": "f8"
           },
           "y": {
            "bdata": "+VkmCElPNEAvrnBFc7IwQFIwyqVgUTRAUEG5xlttOkB6x8ii9Tw1QCY2odFrpD5AysvUf7pOO0AAAAAAAADwfw==",
            "dtype": "f8"
           }
          },
          {
           "type": "scatter",
           "x": [
            null
           ],
           "y": [
            null
           ]
          },
          {
           "type": "scatter",
           "x": [
            12.302973997532927,
            12.002828878591965,
            11.684312126377876,
            11.347986477595539,
            10.994182305706884,
            10.623636612303764,
            10.24145873487745,
            9.876231910659564,
            9.629879165356785,
            9.577563145599083,
            9.655806309452137,
            9.807554801647214,
            10.005967982981279,
            10.237864017289459,
            10.496089060964156,
            10.776477766730896,
            11.07661416092838,
            11.395165567005717,
            11.73147072772532,
            12.085268845188367,
            12.45579820835474,
            12.837989548236184,
            13.203218655373325,
            13.44957207043623,
            13.501888854941289,
            13.423650890751155,
            13.271897263927228,
            13.073480364490925,
            12.841568274341991,
            12.583370309676534,
            12.302973997532927,
            null,
            null
           ],
           "y": [
            26.66142911393931,
            26.32688881048618,
            26.011780404115978,
            25.720342493407692,
            25.4599400053029,
            25.244047608061166,
            25.100746582087744,
            25.09265431383539,
            25.30119730761979,
            25.66275067618085,
            26.063357177039997,
            26.46444382990844,
            26.856377857589756,
            27.236180383630682,
            27.60238946721655,
            27.953637394262596,
            28.28816852503195,
            28.60331018804677,
            28.89472838992913,
            29.155126094721496,
            29.371010552300625,
            29.514319103824647,
            29.522412529612996,
            29.313870327021704,
            28.952319401158142,
            28.55172742046144,
            28.150623350633968,
            27.758682561897878,
            27.378856575070206,
            27.012687160387873,
            26.66142911393931,
            null,
            null
           ]
          }
         ],
         "name": "2025-09-03 18:21:21",
         "traces": [
          0,
          1,
          2,
          3,
          4,
          5,
          6,
          7,
          8,
          9,
          10,
          11
         ]
        },
        {
         "data": [
          {
           "type": "scatter",
           "x": [
            0,
            0
           ],
           "y": [
            0,
            0
           ]
          },
          {
           "hovertemplate": "GroundTruthState<br>(%{x}, %{y})<br>Time: %{meta}",
           "meta": [
            "2025-09-03 18:21:16",
            "2025-09-03 18:21:17",
            "2025-09-03 18:21:18",
            "2025-09-03 18:21:19",
            "2025-09-03 18:21:20",
            "2025-09-03 18:21:21",
            "2025-09-03 18:21:22"
           ],
           "type": "scatter",
           "x": {
            "bdata": "EuEL0C+UJECSMVAIKdElQKNt5kB83yZAVIZqP+IqKEBfwbsy6rYpQBUJjwn5UytAmLZG/WZSLUAAAAAAAADwfw==",
            "dtype": "f8"
           },
           "y": {
            "bdata": "F/mO3cB2MUCmOSLqSOwzQBs1rclrbzZAekRRw+s5OUDKt3+dLFE8QG9WF1lSpz9ANPmhmdt6QUAAAAAAAADwfw==",
            "dtype": "f8"
           }
          },
          {
           "type": "scatter",
           "x": [
            null,
            null
           ],
           "y": [
            null,
            null
           ]
          },
          {
           "hovertemplate": "Detection<br>(%{x}, %{y})<br>Time: %{meta}",
           "meta": [
            "2025-09-03 18:21:16",
            "2025-09-03 18:21:17",
            "2025-09-03 18:21:18",
            "2025-09-03 18:21:19",
            "2025-09-03 18:21:20",
            "2025-09-03 18:21:21",
            "2025-09-03 18:21:22"
           ],
           "type": "scatter",
           "x": {
            "bdata": "ZFHT6SqzI0A4fHUrUxonQDgZJsPi/SpA7JPYWtFrIkCkYWgBAKctQGDfCTJfYydAthuNabgIMEAAAAAAAADwfw==",
            "dtype": "f8"
           },
           "y": {
            "bdata": "LuOafCB/MEAMU551qzk0QAYZzoAlYDpAl0f29RftNEBBVMcbUvs9QKM+/bD8OjtA6ZYiKdkJQkAAAAAAAADwfw==",
            "dtype": "f8"
           }
          },
          {
           "type": "scatter",
           "x": [
            null,
            null
           ],
           "y": [
            null,
            null
           ]
          },
          {
           "customdata": [
            "2025-09-03 18:21:16",
            "2025-09-03 18:21:17",
            "2025-09-03 18:21:18",
            "2025-09-03 18:21:19",
            "2025-09-03 18:21:20",
            "2025-09-03 18:21:21",
            "2025-09-03 18:21:22"
           ],
           "hovertemplate": "%{meta}<br>(%{x}, %{y})<br>Time: %{customdata}",
           "meta": [
            "GaussianStateUpdate",
            "GaussianStateUpdate",
            "GaussianStateUpdate",
            "GaussianStateUpdate",
            "GaussianStateUpdate",
            "GaussianStateUpdate",
            "GaussianStateUpdate"
           ],
           "type": "scatter",
           "x": {
            "bdata": "nMcBUmlWI0BjmWYzt8gmQDahJT5ECCpAFf/Dq0mpIUA2/2J+oZorQGQfafNWFCdAtpjF7PsDLkAAAAAAAADwfw==",
            "dtype": "f8"
           },
           "y": {
            "bdata": "L65wRXOyMEBSMMqlYFE0QFBBucZbbTpAesfIovU8NUAmNqHRa6Q+QMrL1H+6TjtAnS64mx0nQkAAAAAAAADwfw==",
            "dtype": "f8"
           }
          },
          {
           "type": "scatter",
           "x": [
            null
           ],
           "y": [
            null
           ]
          },
          {
           "type": "scatter",
           "x": [
            15.823155477425109,
            15.553568710675556,
            15.263985800526239,
            14.954626609540806,
            14.625223481866328,
            14.275428665596065,
            13.908089155151973,
            13.546531908555886,
            13.284273137952816,
            13.200397751027802,
            13.242775765651542,
            13.358412259585819,
            13.521443798857998,
            13.71897410785719,
            13.943980101807176,
            14.19240734133227,
            14.461984958662608,
            14.751600364446247,
            15.060941064287382,
            15.390338726403144,
            15.74011869515801,
            16.10747056106526,
            16.46902536418108,
            16.73128683910639,
            16.815164993257962,
            16.772790706430644,
            16.6571508148245,
            16.494116255342277,
            16.296572173144316,
            16.071590476474228,
            15.823155477425109,
            null,
            null
           ],
           "y": [
            35.72666023654447,
            35.36937485979049,
            35.029948997432314,
            34.712679672650154,
            34.42496410015525,
            34.18032899977189,
            34.007171448997305,
            33.96976167504148,
            34.15597317106972,
            34.50964878767142,
            34.91355211315374,
            35.32442467573706,
            35.73025819900943,
            36.12689394637344,
            36.51223078284273,
            36.884521909399474,
            37.241795872186366,
            37.58125881800867,
            37.89850709693572,
            38.18621756181613,
            38.43084387861602,
            38.60400969242906,
            38.64142154421887,
            38.455213856994874,
            38.101536618527795,
            37.69764768188873,
            37.28675820611885,
            36.88091783898882,
            36.48425769594008,
            36.098963763919876,
            35.72666023654447,
            null,
            null
           ]
          },
          {
           "type": "scatter",
           "x": [
            null,
            null
           ],
           "y": [
            null,
            null
           ]
          },
          {
           "customdata": [
            "2025-09-03 18:21:16",
            "2025-09-03 18:21:17",
            "2025-09-03 18:21:18",
            "2025-09-03 18:21:19",
            "2025-09-03 18:21:20",
            "2025-09-03 18:21:21",
            "2025-09-03 18:21:22"
           ],
           "hovertemplate": "%{meta}<br>(%{x}, %{y})<br>Time: %{customdata}",
           "meta": [
            "GaussianStateUpdate",
            "GaussianStateUpdate",
            "GaussianStateUpdate",
            "GaussianStateUpdate",
            "GaussianStateUpdate",
            "GaussianStateUpdate",
            "GaussianStateUpdate"
           ],
           "type": "scatter",
           "x": {
            "bdata": "nMcBUmlWI0BjmWYzt8gmQDahJT5ECCpAFf/Dq0mpIUA2/2J+oZorQGQfafNWFCdAtpjF7PsDLkAAAAAAAADwfw==",
            "dtype": "f8"
           },
           "y": {
            "bdata": "L65wRXOyMEBSMMqlYFE0QFBBucZbbTpAesfIovU8NUAmNqHRa6Q+QMrL1H+6TjtAnS64mx0nQkAAAAAAAADwfw==",
            "dtype": "f8"
           }
          },
          {
           "type": "scatter",
           "x": [
            null
           ],
           "y": [
            null
           ]
          },
          {
           "type": "scatter",
           "x": [
            15.823155477425109,
            15.553568710675556,
            15.263985800526239,
            14.954626609540806,
            14.625223481866328,
            14.275428665596065,
            13.908089155151973,
            13.546531908555886,
            13.284273137952816,
            13.200397751027802,
            13.242775765651542,
            13.358412259585819,
            13.521443798857998,
            13.71897410785719,
            13.943980101807176,
            14.19240734133227,
            14.461984958662608,
            14.751600364446247,
            15.060941064287382,
            15.390338726403144,
            15.74011869515801,
            16.10747056106526,
            16.46902536418108,
            16.73128683910639,
            16.815164993257962,
            16.772790706430644,
            16.6571508148245,
            16.494116255342277,
            16.296572173144316,
            16.071590476474228,
            15.823155477425109,
            null,
            null
           ],
           "y": [
            35.72666023654447,
            35.36937485979049,
            35.029948997432314,
            34.712679672650154,
            34.42496410015525,
            34.18032899977189,
            34.007171448997305,
            33.96976167504148,
            34.15597317106972,
            34.50964878767142,
            34.91355211315374,
            35.32442467573706,
            35.73025819900943,
            36.12689394637344,
            36.51223078284273,
            36.884521909399474,
            37.241795872186366,
            37.58125881800867,
            37.89850709693572,
            38.18621756181613,
            38.43084387861602,
            38.60400969242906,
            38.64142154421887,
            38.455213856994874,
            38.101536618527795,
            37.69764768188873,
            37.28675820611885,
            36.88091783898882,
            36.48425769594008,
            36.098963763919876,
            35.72666023654447,
            null,
            null
           ]
          }
         ],
         "name": "2025-09-03 18:21:22",
         "traces": [
          0,
          1,
          2,
          3,
          4,
          5,
          6,
          7,
          8,
          9,
          10,
          11
         ]
        },
        {
         "data": [
          {
           "type": "scatter",
           "x": [
            0,
            0
           ],
           "y": [
            0,
            0
           ]
          },
          {
           "hovertemplate": "GroundTruthState<br>(%{x}, %{y})<br>Time: %{meta}",
           "meta": [
            "2025-09-03 18:21:17",
            "2025-09-03 18:21:18",
            "2025-09-03 18:21:19",
            "2025-09-03 18:21:20",
            "2025-09-03 18:21:21",
            "2025-09-03 18:21:22",
            "2025-09-03 18:21:23"
           ],
           "type": "scatter",
           "x": {
            "bdata": "kjFQCCnRJUCjbeZAfN8mQFSGaj/iKihAX8G7Muq2KUAVCY8J+VMrQJi2Rv1mUi1AnzddlQKHL0AAAAAAAADwfw==",
            "dtype": "f8"
           },
           "y": {
            "bdata": "pjki6kjsM0AbNa3Ja282QHpEUcPrOTlAyrd/nSxRPEBvVhdZUqc/QDT5oZnbekFAb2buENQpQ0AAAAAAAADwfw==",
            "dtype": "f8"
           }
          },
          {
           "type": "scatter",
           "x": [
            null,
            null
           ],
           "y": [
            null,
            null
           ]
          },
          {
           "hovertemplate": "Detection<br>(%{x}, %{y})<br>Time: %{meta}",
           "meta": [
            "2025-09-03 18:21:17",
            "2025-09-03 18:21:18",
            "2025-09-03 18:21:19",
            "2025-09-03 18:21:20",
            "2025-09-03 18:21:21",
            "2025-09-03 18:21:22",
            "2025-09-03 18:21:23"
           ],
           "type": "scatter",
           "x": {
            "bdata": "OHx1K1MaJ0A4GSbD4v0qQOyT2FrRayJApGFoAQCnLUBg3wkyX2MnQLYbjWm4CDBAEgfx2f04M0AAAAAAAADwfw==",
            "dtype": "f8"
           },
           "y": {
            "bdata": "DFOedas5NEAGGc6AJWA6QJdH9vUX7TRAQVTHG1L7PUCjPv2w/Do7QOmWIinZCUJATEc6lszOQ0AAAAAAAADwfw==",
            "dtype": "f8"
           }
          },
          {
           "type": "scatter",
           "x": [
            null,
            null
           ],
           "y": [
            null,
            null
           ]
          },
          {
           "customdata": [
            "2025-09-03 18:21:17",
            "2025-09-03 18:21:18",
            "2025-09-03 18:21:19",
            "2025-09-03 18:21:20",
            "2025-09-03 18:21:21",
            "2025-09-03 18:21:22",
            "2025-09-03 18:21:23"
           ],
           "hovertemplate": "%{meta}<br>(%{x}, %{y})<br>Time: %{customdata}",
           "meta": [
            "GaussianStateUpdate",
            "GaussianStateUpdate",
            "GaussianStateUpdate",
            "GaussianStateUpdate",
            "GaussianStateUpdate",
            "GaussianStateUpdate",
            "GaussianStateUpdate"
           ],
           "type": "scatter",
           "x": {
            "bdata": "Y5lmM7fIJkA2oSU+RAgqQBX/w6tJqSFANv9ifqGaK0BkH2nzVhQnQLaYxez7Ay5ACr0FZm0NM0AAAAAAAADwfw==",
            "dtype": "f8"
           },
           "y": {
            "bdata": "UjDKpWBRNEBQQbnGW206QHrHyKL1PDVAJjah0WukPkDKy9R/uk47QJ0uuJsdJ0JAm6lMc1HsQ0AAAAAAAADwfw==",
            "dtype": "f8"
           }
          },
          {
           "type": "scatter",
           "x": [
            null
           ],
           "y": [
            null
           ]
          },
          {
           "type": "scatter",
           "x": [
            18.358487027800933,
            18.706375977467037,
            19.07026333404949,
            19.449410526078015,
            19.84309973515953,
            20.24997147685397,
            20.663563961208794,
            21.05048805376791,
            21.283512138238947,
            21.2819819247748,
            21.141862534573878,
            20.92993357919935,
            20.674096578523365,
            20.38741115009106,
            20.076844506534677,
            19.746414050234392,
            19.39852404433709,
            19.03460309938725,
            18.655481614567595,
            18.26180121423614,
            17.85495834738839,
            17.441267142680452,
            17.054412022997504,
            16.821388629147293,
            16.82293399155517,
            16.963025800875297,
            17.17496757488026,
            17.430810806825487,
            17.717517846772427,
            18.028057523682776,
            18.358487027800933,
            null,
            null
           ],
           "y": [
            40.566244828115586,
            40.884077927384276,
            41.181418109980356,
            41.4543471081141,
            41.695855431407374,
            41.892946680407356,
            42.01789151150636,
            42.0051786524714,
            41.76340946301817,
            41.376348124440405,
            40.967539894998446,
            40.56823104223191,
            40.18371172945835,
            39.81489806900397,
            39.462175358874056,
            39.1262265090748,
            38.80839249590277,
            38.51102656618307,
            38.23811824684976,
            37.99661583442786,
            37.79953634863856,
            37.674567556066,
            37.68729303247863,
            37.92906288757017,
            38.3161926875631,
            38.72490314607203,
            39.12424042088301,
            39.50876831874607,
            39.87760690741359,
            40.23029700017387,
            40.566244828115586,
            null,
            null
           ]
          },
          {
           "type": "scatter",
           "x": [
            null,
            null
           ],
           "y": [
            null,
            null
           ]
          },
          {
           "customdata": [
            "2025-09-03 18:21:17",
            "2025-09-03 18:21:18",
            "2025-09-03 18:21:19",
            "2025-09-03 18:21:20",
            "2025-09-03 18:21:21",
            "2025-09-03 18:21:22",
            "2025-09-03 18:21:23"
           ],
           "hovertemplate": "%{meta}<br>(%{x}, %{y})<br>Time: %{customdata}",
           "meta": [
            "GaussianStateUpdate",
            "GaussianStateUpdate",
            "GaussianStateUpdate",
            "GaussianStateUpdate",
            "GaussianStateUpdate",
            "GaussianStateUpdate",
            "GaussianStateUpdate"
           ],
           "type": "scatter",
           "x": {
            "bdata": "Y5lmM7fIJkA2oSU+RAgqQBX/w6tJqSFANv9ifqGaK0BkH2nzVhQnQLaYxez7Ay5ACr0FZm0NM0AAAAAAAADwfw==",
            "dtype": "f8"
           },
           "y": {
            "bdata": "UjDKpWBRNEBQQbnGW206QHrHyKL1PDVAJjah0WukPkDKy9R/uk47QJ0uuJsdJ0JAm6lMc1HsQ0AAAAAAAADwfw==",
            "dtype": "f8"
           }
          },
          {
           "type": "scatter",
           "x": [
            null
           ],
           "y": [
            null
           ]
          },
          {
           "type": "scatter",
           "x": [
            18.358487027800933,
            18.706375977467037,
            19.07026333404949,
            19.449410526078015,
            19.84309973515953,
            20.24997147685397,
            20.663563961208794,
            21.05048805376791,
            21.283512138238947,
            21.2819819247748,
            21.141862534573878,
            20.92993357919935,
            20.674096578523365,
            20.38741115009106,
            20.076844506534677,
            19.746414050234392,
            19.39852404433709,
            19.03460309938725,
            18.655481614567595,
            18.26180121423614,
            17.85495834738839,
            17.441267142680452,
            17.054412022997504,
            16.821388629147293,
            16.82293399155517,
            16.963025800875297,
            17.17496757488026,
            17.430810806825487,
            17.717517846772427,
            18.028057523682776,
            18.358487027800933,
            null,
            null
           ],
           "y": [
            40.566244828115586,
            40.884077927384276,
            41.181418109980356,
            41.4543471081141,
            41.695855431407374,
            41.892946680407356,
            42.01789151150636,
            42.0051786524714,
            41.76340946301817,
            41.376348124440405,
            40.967539894998446,
            40.56823104223191,
            40.18371172945835,
            39.81489806900397,
            39.462175358874056,
            39.1262265090748,
            38.80839249590277,
            38.51102656618307,
            38.23811824684976,
            37.99661583442786,
            37.79953634863856,
            37.674567556066,
            37.68729303247863,
            37.92906288757017,
            38.3161926875631,
            38.72490314607203,
            39.12424042088301,
            39.50876831874607,
            39.87760690741359,
            40.23029700017387,
            40.566244828115586,
            null,
            null
           ]
          }
         ],
         "name": "2025-09-03 18:21:23",
         "traces": [
          0,
          1,
          2,
          3,
          4,
          5,
          6,
          7,
          8,
          9,
          10,
          11
         ]
        },
        {
         "data": [
          {
           "type": "scatter",
           "x": [
            0,
            0
           ],
           "y": [
            0,
            0
           ]
          },
          {
           "hovertemplate": "GroundTruthState<br>(%{x}, %{y})<br>Time: %{meta}",
           "meta": [
            "2025-09-03 18:21:18",
            "2025-09-03 18:21:19",
            "2025-09-03 18:21:20",
            "2025-09-03 18:21:21",
            "2025-09-03 18:21:22",
            "2025-09-03 18:21:23",
            "2025-09-03 18:21:24"
           ],
           "type": "scatter",
           "x": {
            "bdata": "o23mQHzfJkBUhmo/4iooQF/BuzLqtilAFQmPCflTK0CYtkb9ZlItQJ83XZUChy9A39BYSYr+MEAAAAAAAADwfw==",
            "dtype": "f8"
           },
           "y": {
            "bdata": "GzWtyWtvNkB6RFHD6zk5QMq3f50sUTxAb1YXWVKnP0A0+aGZ23pBQG9m7hDUKUNAetV6v0bTREAAAAAAAADwfw==",
            "dtype": "f8"
           }
          },
          {
           "type": "scatter",
           "x": [
            null,
            null
           ],
           "y": [
            null,
            null
           ]
          },
          {
           "hovertemplate": "Detection<br>(%{x}, %{y})<br>Time: %{meta}",
           "meta": [
            "2025-09-03 18:21:18",
            "2025-09-03 18:21:19",
            "2025-09-03 18:21:20",
            "2025-09-03 18:21:21",
            "2025-09-03 18:21:22",
            "2025-09-03 18:21:23",
            "2025-09-03 18:21:24"
           ],
           "type": "scatter",
           "x": {
            "bdata": "OBkmw+L9KkDsk9ha0WsiQKRhaAEApy1AYN8JMl9jJ0C2G41puAgwQBIH8dn9ODNAOvk16lbOMUAAAAAAAADwfw==",
            "dtype": "f8"
           },
           "y": {
            "bdata": "BhnOgCVgOkCXR/b1F+00QEFUxxtS+z1Aoz79sPw6O0DpliIp2QlCQExHOpbMzkNAwCU76iBZRUAAAAAAAADwfw==",
            "dtype": "f8"
           }
          },
          {
           "type": "scatter",
           "x": [
            null,
            null
           ],
           "y": [
            null,
            null
           ]
          },
          {
           "customdata": [
            "2025-09-03 18:21:18",
            "2025-09-03 18:21:19",
            "2025-09-03 18:21:20",
            "2025-09-03 18:21:21",
            "2025-09-03 18:21:22",
            "2025-09-03 18:21:23",
            "2025-09-03 18:21:24"
           ],
           "hovertemplate": "%{meta}<br>(%{x}, %{y})<br>Time: %{customdata}",
           "meta": [
            "GaussianStateUpdate",
            "GaussianStateUpdate",
            "GaussianStateUpdate",
            "GaussianStateUpdate",
            "GaussianStateUpdate",
            "GaussianStateUpdate",
            "GaussianStateUpdate"
           ],
           "type": "scatter",
           "x": {
            "bdata": "NqElPkQIKkAV/8OrSakhQDb/Yn6hmitAZB9p81YUJ0C2mMXs+wMuQAq9BWZtDTNAxmBcZMPEMUAAAAAAAADwfw==",
            "dtype": "f8"
           },
           "y": {
            "bdata": "UEG5xlttOkB6x8ii9Tw1QCY2odFrpD5AysvUf7pOO0CdLribHSdCQJupTHNR7ENAL86hQEtWRUAAAAAAAADwfw==",
            "dtype": "f8"
           }
          },
          {
           "type": "scatter",
           "x": [
            null
           ],
           "y": [
            null
           ]
          },
          {
           "type": "scatter",
           "x": [
            17.155207825054728,
            17.535110783307477,
            17.92873825602531,
            18.334941293389388,
            18.752263547903937,
            19.177977049594,
            19.602719804208647,
            19.986328724970544,
            20.192376899214555,
            20.149447907660686,
            19.96641657472061,
            19.71298595887012,
            19.417486149401114,
            19.09299583789906,
            18.746480502642047,
            18.38200506662547,
            18.00210095880728,
            17.60843728165812,
            17.20226203901597,
            16.784949196787373,
            16.359265798039868,
            15.934502147052827,
            15.550883202389372,
            15.344835790664863,
            15.387762149569147,
            15.570780559259376,
            15.824227029400058,
            16.119733969510076,
            16.44424845575797,
            16.790733446530222,
            17.155207825054728,
            null,
            null
           ],
           "y": [
            43.463946963247196,
            43.743084034937766,
            44.00014843350791,
            44.231324697899844,
            44.4297218435282,
            44.582564662675715,
            44.66296611249437,
            44.60928443465564,
            44.343989894947306,
            43.959019373873424,
            43.56736982379969,
            43.19275328008399,
            42.83752190190415,
            42.50119084856325,
            42.183398989070476,
            41.88439608295364,
            41.60525821345427,
            41.34817174391234,
            41.11701333077384,
            40.91862114052718,
            40.765786995433146,
            40.685377545049896,
            40.73905906614431,
            41.0043541980823,
            41.389315045877126,
            41.78094632966974,
            42.155589893152936,
            42.510829164424294,
            42.84718272988372,
            43.16494497348734,
            43.463946963247196,
            null,
            null
           ]
          },
          {
           "type": "scatter",
           "x": [
            null,
            null
           ],
           "y": [
            null,
            null
           ]
          },
          {
           "customdata": [
            "2025-09-03 18:21:18",
            "2025-09-03 18:21:19",
            "2025-09-03 18:21:20",
            "2025-09-03 18:21:21",
            "2025-09-03 18:21:22",
            "2025-09-03 18:21:23",
            "2025-09-03 18:21:24"
           ],
           "hovertemplate": "%{meta}<br>(%{x}, %{y})<br>Time: %{customdata}",
           "meta": [
            "GaussianStateUpdate",
            "GaussianStateUpdate",
            "GaussianStateUpdate",
            "GaussianStateUpdate",
            "GaussianStateUpdate",
            "GaussianStateUpdate",
            "GaussianStateUpdate"
           ],
           "type": "scatter",
           "x": {
            "bdata": "NqElPkQIKkAV/8OrSakhQDb/Yn6hmitAZB9p81YUJ0C2mMXs+wMuQAq9BWZtDTNAxmBcZMPEMUAAAAAAAADwfw==",
            "dtype": "f8"
           },
           "y": {
            "bdata": "UEG5xlttOkB6x8ii9Tw1QCY2odFrpD5AysvUf7pOO0CdLribHSdCQJupTHNR7ENAL86hQEtWRUAAAAAAAADwfw==",
            "dtype": "f8"
           }
          },
          {
           "type": "scatter",
           "x": [
            null
           ],
           "y": [
            null
           ]
          },
          {
           "type": "scatter",
           "x": [
            17.155207825054728,
            17.535110783307477,
            17.92873825602531,
            18.334941293389388,
            18.752263547903937,
            19.177977049594,
            19.602719804208647,
            19.986328724970544,
            20.192376899214555,
            20.149447907660686,
            19.96641657472061,
            19.71298595887012,
            19.417486149401114,
            19.09299583789906,
            18.746480502642047,
            18.38200506662547,
            18.00210095880728,
            17.60843728165812,
            17.20226203901597,
            16.784949196787373,
            16.359265798039868,
            15.934502147052827,
            15.550883202389372,
            15.344835790664863,
            15.387762149569147,
            15.570780559259376,
            15.824227029400058,
            16.119733969510076,
            16.44424845575797,
            16.790733446530222,
            17.155207825054728,
            null,
            null
           ],
           "y": [
            43.463946963247196,
            43.743084034937766,
            44.00014843350791,
            44.231324697899844,
            44.4297218435282,
            44.582564662675715,
            44.66296611249437,
            44.60928443465564,
            44.343989894947306,
            43.959019373873424,
            43.56736982379969,
            43.19275328008399,
            42.83752190190415,
            42.50119084856325,
            42.183398989070476,
            41.88439608295364,
            41.60525821345427,
            41.34817174391234,
            41.11701333077384,
            40.91862114052718,
            40.765786995433146,
            40.685377545049896,
            40.73905906614431,
            41.0043541980823,
            41.389315045877126,
            41.78094632966974,
            42.155589893152936,
            42.510829164424294,
            42.84718272988372,
            43.16494497348734,
            43.463946963247196,
            null,
            null
           ]
          }
         ],
         "name": "2025-09-03 18:21:24",
         "traces": [
          0,
          1,
          2,
          3,
          4,
          5,
          6,
          7,
          8,
          9,
          10,
          11
         ]
        },
        {
         "data": [
          {
           "type": "scatter",
           "x": [
            0,
            0
           ],
           "y": [
            0,
            0
           ]
          },
          {
           "hovertemplate": "GroundTruthState<br>(%{x}, %{y})<br>Time: %{meta}",
           "meta": [
            "2025-09-03 18:21:19",
            "2025-09-03 18:21:20",
            "2025-09-03 18:21:21",
            "2025-09-03 18:21:22",
            "2025-09-03 18:21:23",
            "2025-09-03 18:21:24",
            "2025-09-03 18:21:25"
           ],
           "type": "scatter",
           "x": {
            "bdata": "VIZqP+IqKEBfwbsy6rYpQBUJjwn5UytAmLZG/WZSLUCfN12VAocvQN/QWEmK/jBAWVDaW1dNMkAAAAAAAADwfw==",
            "dtype": "f8"
           },
           "y": {
            "bdata": "ekRRw+s5OUDKt3+dLFE8QG9WF1lSpz9ANPmhmdt6QUBvZu4Q1ClDQHrVer9G00RADk9xSz15RkAAAAAAAADwfw==",
            "dtype": "f8"
           }
          },
          {
           "type": "scatter",
           "x": [
            null,
            null
           ],
           "y": [
            null,
            null
           ]
          },
          {
           "hovertemplate": "Detection<br>(%{x}, %{y})<br>Time: %{meta}",
           "meta": [
            "2025-09-03 18:21:19",
            "2025-09-03 18:21:20",
            "2025-09-03 18:21:21",
            "2025-09-03 18:21:22",
            "2025-09-03 18:21:23",
            "2025-09-03 18:21:24",
            "2025-09-03 18:21:25"
           ],
           "type": "scatter",
           "x": {
            "bdata": "7JPYWtFrIkCkYWgBAKctQGDfCTJfYydAthuNabgIMEASB/HZ/TgzQDr5NepWzjFAe+6PYYRCNkAAAAAAAADwfw==",
            "dtype": "f8"
           },
           "y": {
            "bdata": "l0f29RftNEBBVMcbUvs9QKM+/bD8OjtA6ZYiKdkJQkBMRzqWzM5DQMAlO+ogWUVAaWB99+D8RkAAAAAAAADwfw==",
            "dtype": "f8"
           }
          },
          {
           "type": "scatter",
           "x": [
            null,
            null
           ],
           "y": [
            null,
            null
           ]
          },
          {
           "customdata": [
            "2025-09-03 18:21:19",
            "2025-09-03 18:21:20",
            "2025-09-03 18:21:21",
            "2025-09-03 18:21:22",
            "2025-09-03 18:21:23",
            "2025-09-03 18:21:24",
            "2025-09-03 18:21:25"
           ],
           "hovertemplate": "%{meta}<br>(%{x}, %{y})<br>Time: %{customdata}",
           "meta": [
            "GaussianStateUpdate",
            "GaussianStateUpdate",
            "GaussianStateUpdate",
            "GaussianStateUpdate",
            "GaussianStateUpdate",
            "GaussianStateUpdate",
            "GaussianStateUpdate"
           ],
           "type": "scatter",
           "x": {
            "bdata": "Ff/Dq0mpIUA2/2J+oZorQGQfafNWFCdAtpjF7PsDLkAKvQVmbQ0zQMZgXGTDxDFANUqOEjITNkAAAAAAAADwfw==",
            "dtype": "f8"
           },
           "y": {
            "bdata": "esfIovU8NUAmNqHRa6Q+QMrL1H+6TjtAnS64mx0nQkCbqUxzUexDQC/OoUBLVkVAvBPb5YgZR0AAAAAAAADwfw==",
            "dtype": "f8"
           }
          },
          {
           "type": "scatter",
           "x": [
            null
           ],
           "y": [
            null
           ]
          },
          {
           "type": "scatter",
           "x": [
            21.472283714033956,
            21.873322922728807,
            22.287582733045237,
            22.71409889456139,
            23.15164680317033,
            23.598005447292483,
            24.04488657500355,
            24.452431519845963,
            24.662728730771125,
            24.593994103795136,
            24.382020421713797,
            24.10171863766243,
            23.78119367591271,
            23.433055151418014,
            23.06393976616961,
            22.67768187689839,
            22.276641284259505,
            21.86233777800567,
            21.435852822642616,
            20.99831698011246,
            20.552005653715835,
            20.10509663954764,
            19.69753234467074,
            19.487236603550688,
            19.555965086147058,
            19.767919522087137,
            20.048248192243275,
            20.36878269267417,
            20.716948968029076,
            21.086027107927276,
            21.472283714033956,
            null,
            null
           ],
           "y": [
            46.99745800316399,
            47.284991330818315,
            47.55090595080909,
            47.79159465111351,
            48.00041934937795,
            48.16493907902008,
            48.25822555565267,
            48.21379359807395,
            47.93536366784807,
            47.531187560621035,
            47.12683691372477,
            46.74253666464976,
            46.37879718612531,
            46.03439855220645,
            45.70862900336238,
            45.40152257997206,
            45.11398831180962,
            44.84804739489976,
            44.60737867210523,
            44.39856045967315,
            44.23405522719837,
            44.14075667096216,
            44.18518774274932,
            44.463618783108174,
            44.8677765203852,
            45.27210364798385,
            45.65644544549298,
            46.0201947560997,
            46.364617942302594,
            46.69035265371284,
            46.99745800316399,
            null,
            null
           ]
          },
          {
           "type": "scatter",
           "x": [
            null,
            null
           ],
           "y": [
            null,
            null
           ]
          },
          {
           "customdata": [
            "2025-09-03 18:21:19",
            "2025-09-03 18:21:20",
            "2025-09-03 18:21:21",
            "2025-09-03 18:21:22",
            "2025-09-03 18:21:23",
            "2025-09-03 18:21:24",
            "2025-09-03 18:21:25"
           ],
           "hovertemplate": "%{meta}<br>(%{x}, %{y})<br>Time: %{customdata}",
           "meta": [
            "GaussianStateUpdate",
            "GaussianStateUpdate",
            "GaussianStateUpdate",
            "GaussianStateUpdate",
            "GaussianStateUpdate",
            "GaussianStateUpdate",
            "GaussianStateUpdate"
           ],
           "type": "scatter",
           "x": {
            "bdata": "Ff/Dq0mpIUA2/2J+oZorQGQfafNWFCdAtpjF7PsDLkAKvQVmbQ0zQMZgXGTDxDFANUqOEjITNkAAAAAAAADwfw==",
            "dtype": "f8"
           },
           "y": {
            "bdata": "esfIovU8NUAmNqHRa6Q+QMrL1H+6TjtAnS64mx0nQkCbqUxzUexDQC/OoUBLVkVAvBPb5YgZR0AAAAAAAADwfw==",
            "dtype": "f8"
           }
          },
          {
           "type": "scatter",
           "x": [
            null
           ],
           "y": [
            null
           ]
          },
          {
           "type": "scatter",
           "x": [
            21.472283714033956,
            21.873322922728807,
            22.287582733045237,
            22.71409889456139,
            23.15164680317033,
            23.598005447292483,
            24.04488657500355,
            24.452431519845963,
            24.662728730771125,
            24.593994103795136,
            24.382020421713797,
            24.10171863766243,
            23.78119367591271,
            23.433055151418014,
            23.06393976616961,
            22.67768187689839,
            22.276641284259505,
            21.86233777800567,
            21.435852822642616,
            20.99831698011246,
            20.552005653715835,
            20.10509663954764,
            19.69753234467074,
            19.487236603550688,
            19.555965086147058,
            19.767919522087137,
            20.048248192243275,
            20.36878269267417,
            20.716948968029076,
            21.086027107927276,
            21.472283714033956,
            null,
            null
           ],
           "y": [
            46.99745800316399,
            47.284991330818315,
            47.55090595080909,
            47.79159465111351,
            48.00041934937795,
            48.16493907902008,
            48.25822555565267,
            48.21379359807395,
            47.93536366784807,
            47.531187560621035,
            47.12683691372477,
            46.74253666464976,
            46.37879718612531,
            46.03439855220645,
            45.70862900336238,
            45.40152257997206,
            45.11398831180962,
            44.84804739489976,
            44.60737867210523,
            44.39856045967315,
            44.23405522719837,
            44.14075667096216,
            44.18518774274932,
            44.463618783108174,
            44.8677765203852,
            45.27210364798385,
            45.65644544549298,
            46.0201947560997,
            46.364617942302594,
            46.69035265371284,
            46.99745800316399,
            null,
            null
           ]
          }
         ],
         "name": "2025-09-03 18:21:25",
         "traces": [
          0,
          1,
          2,
          3,
          4,
          5,
          6,
          7,
          8,
          9,
          10,
          11
         ]
        },
        {
         "data": [
          {
           "type": "scatter",
           "x": [
            0,
            0
           ],
           "y": [
            0,
            0
           ]
          },
          {
           "hovertemplate": "GroundTruthState<br>(%{x}, %{y})<br>Time: %{meta}",
           "meta": [
            "2025-09-03 18:21:20",
            "2025-09-03 18:21:21",
            "2025-09-03 18:21:22",
            "2025-09-03 18:21:23",
            "2025-09-03 18:21:24",
            "2025-09-03 18:21:25",
            "2025-09-03 18:21:26"
           ],
           "type": "scatter",
           "x": {
            "bdata": "X8G7Muq2KUAVCY8J+VMrQJi2Rv1mUi1AnzddlQKHL0Df0FhJiv4wQFlQ2ltXTTJAlXsN2z+4M0AAAAAAAADwfw==",
            "dtype": "f8"
           },
           "y": {
            "bdata": "yrd/nSxRPEBvVhdZUqc/QDT5oZnbekFAb2buENQpQ0B61Xq/RtNEQA5PcUs9eUZASq0yGpIISEAAAAAAAADwfw==",
            "dtype": "f8"
           }
          },
          {
           "type": "scatter",
           "x": [
            null,
            null
           ],
           "y": [
            null,
            null
           ]
          },
          {
           "hovertemplate": "Detection<br>(%{x}, %{y})<br>Time: %{meta}",
           "meta": [
            "2025-09-03 18:21:20",
            "2025-09-03 18:21:21",
            "2025-09-03 18:21:22",
            "2025-09-03 18:21:23",
            "2025-09-03 18:21:24",
            "2025-09-03 18:21:25",
            "2025-09-03 18:21:26"
           ],
           "type": "scatter",
           "x": {
            "bdata": "pGFoAQCnLUBg3wkyX2MnQLYbjWm4CDBAEgfx2f04M0A6+TXqVs4xQHvuj2GEQjZAmeQ0SEhlOUAAAAAAAADwfw==",
            "dtype": "f8"
           },
           "y": {
            "bdata": "QVTHG1L7PUCjPv2w/Do7QOmWIinZCUJATEc6lszOQ0DAJTvqIFlFQGlgfffg/EZAZbh1D++PSUAAAAAAAADwfw==",
            "dtype": "f8"
           }
          },
          {
           "type": "scatter",
           "x": [
            null,
            null
           ],
           "y": [
            null,
            null
           ]
          },
          {
           "customdata": [
            "2025-09-03 18:21:20",
            "2025-09-03 18:21:21",
            "2025-09-03 18:21:22",
            "2025-09-03 18:21:23",
            "2025-09-03 18:21:24",
            "2025-09-03 18:21:25",
            "2025-09-03 18:21:26"
           ],
           "hovertemplate": "%{meta}<br>(%{x}, %{y})<br>Time: %{customdata}",
           "meta": [
            "GaussianStateUpdate",
            "GaussianStateUpdate",
            "GaussianStateUpdate",
            "GaussianStateUpdate",
            "GaussianStateUpdate",
            "GaussianStateUpdate",
            "GaussianStateUpdate"
           ],
           "type": "scatter",
           "x": {
            "bdata": "Nv9ifqGaK0BkH2nzVhQnQLaYxez7Ay5ACr0FZm0NM0DGYFxkw8QxQDVKjhIyEzZAgSRATLILOUAAAAAAAADwfw==",
            "dtype": "f8"
           },
           "y": {
            "bdata": "Jjah0WukPkDKy9R/uk47QJ0uuJsdJ0JAm6lMc1HsQ0AvzqFAS1ZFQLwT2+WIGUdAFQxbJzubSUAAAAAAAADwfw==",
            "dtype": "f8"
           }
          },
          {
           "type": "scatter",
           "x": [
            null
           ],
           "y": [
            null
           ]
          },
          {
           "type": "scatter",
           "x": [
            24.528399716663227,
            24.96005600611406,
            25.402613630735342,
            25.85478059596202,
            26.31470719248027,
            26.778903269036867,
            27.2368985573382,
            27.64205182650604,
            27.823662470010493,
            27.709821831365076,
            27.453165397973905,
            27.13095558299252,
            26.771113141282367,
            26.38596974119894,
            25.981998706729,
            25.56297900201775,
            25.13132119830144,
            24.68871609550817,
            24.236582736402138,
            23.776669262341017,
            23.312416618160068,
            22.85449317895098,
            22.449325094318493,
            22.267716193897176,
            22.38155088344194,
            22.638250888655747,
            22.96042481723661,
            23.320278182943948,
            23.70545225029462,
            24.109381438302744,
            24.528399716663227,
            null,
            null
           ],
           "y": [
            52.068553960066545,
            52.315192118331964,
            52.53906518359843,
            52.736710913611546,
            52.90168502200705,
            53.021861474519135,
            53.07134511325461,
            52.98721382513728,
            52.68675660108396,
            52.28891274025688,
            51.90646163917088,
            51.55127670622675,
            51.22074912882679,
            50.912291265944575,
            50.62447911956846,
            50.3569314972711,
            50.11029252301097,
            49.886397120481966,
            49.68876838424849,
            49.52379972463445,
            49.403612438152656,
            49.354140290979764,
            49.43827263791093,
            49.73873091555985,
            50.136561166563865,
            50.51907054152344,
            50.87421042519136,
            51.20474708853588,
            51.513226807278,
            51.80100729921121,
            52.068553960066545,
            null,
            null
           ]
          },
          {
           "type": "scatter",
           "x": [
            null,
            null
           ],
           "y": [
            null,
            null
           ]
          },
          {
           "customdata": [
            "2025-09-03 18:21:20",
            "2025-09-03 18:21:21",
            "2025-09-03 18:21:22",
            "2025-09-03 18:21:23",
            "2025-09-03 18:21:24",
            "2025-09-03 18:21:25",
            "2025-09-03 18:21:26"
           ],
           "hovertemplate": "%{meta}<br>(%{x}, %{y})<br>Time: %{customdata}",
           "meta": [
            "GaussianStateUpdate",
            "GaussianStateUpdate",
            "GaussianStateUpdate",
            "GaussianStateUpdate",
            "GaussianStateUpdate",
            "GaussianStateUpdate",
            "GaussianStateUpdate"
           ],
           "type": "scatter",
           "x": {
            "bdata": "Nv9ifqGaK0BkH2nzVhQnQLaYxez7Ay5ACr0FZm0NM0DGYFxkw8QxQDVKjhIyEzZAgSRATLILOUAAAAAAAADwfw==",
            "dtype": "f8"
           },
           "y": {
            "bdata": "Jjah0WukPkDKy9R/uk47QJ0uuJsdJ0JAm6lMc1HsQ0AvzqFAS1ZFQLwT2+WIGUdAFQxbJzubSUAAAAAAAADwfw==",
            "dtype": "f8"
           }
          },
          {
           "type": "scatter",
           "x": [
            null
           ],
           "y": [
            null
           ]
          },
          {
           "type": "scatter",
           "x": [
            24.528399716663227,
            24.96005600611406,
            25.402613630735342,
            25.85478059596202,
            26.31470719248027,
            26.778903269036867,
            27.2368985573382,
            27.64205182650604,
            27.823662470010493,
            27.709821831365076,
            27.453165397973905,
            27.13095558299252,
            26.771113141282367,
            26.38596974119894,
            25.981998706729,
            25.56297900201775,
            25.13132119830144,
            24.68871609550817,
            24.236582736402138,
            23.776669262341017,
            23.312416618160068,
            22.85449317895098,
            22.449325094318493,
            22.267716193897176,
            22.38155088344194,
            22.638250888655747,
            22.96042481723661,
            23.320278182943948,
            23.70545225029462,
            24.109381438302744,
            24.528399716663227,
            null,
            null
           ],
           "y": [
            52.068553960066545,
            52.315192118331964,
            52.53906518359843,
            52.736710913611546,
            52.90168502200705,
            53.021861474519135,
            53.07134511325461,
            52.98721382513728,
            52.68675660108396,
            52.28891274025688,
            51.90646163917088,
            51.55127670622675,
            51.22074912882679,
            50.912291265944575,
            50.62447911956846,
            50.3569314972711,
            50.11029252301097,
            49.886397120481966,
            49.68876838424849,
            49.52379972463445,
            49.403612438152656,
            49.354140290979764,
            49.43827263791093,
            49.73873091555985,
            50.136561166563865,
            50.51907054152344,
            50.87421042519136,
            51.20474708853588,
            51.513226807278,
            51.80100729921121,
            52.068553960066545,
            null,
            null
           ]
          }
         ],
         "name": "2025-09-03 18:21:26",
         "traces": [
          0,
          1,
          2,
          3,
          4,
          5,
          6,
          7,
          8,
          9,
          10,
          11
         ]
        }
       ],
       "layout": {
        "autosize": true,
        "colorway": [
         "#EF553B",
         "#00CC96",
         "#AB63FA",
         "#FFA15A",
         "#19D3F3",
         "#FF6692",
         "#B6E880",
         "#FF97FF",
         "#FECB52"
        ],
        "height": 550,
        "sliders": [
         {
          "currentvalue": {
           "font": {
            "size": 16
           },
           "prefix": "Time: ",
           "visible": true,
           "xanchor": "right"
          },
          "len": 0.9,
          "pad": {
           "b": 10,
           "t": 50
          },
          "steps": [
           {
            "args": [
             [
              "2025-09-03 18:21:06"
             ],
             {
              "frame": {
               "duration": 1,
               "easing": "linear",
               "redraw": true
              },
              "transition": {
               "duration": 0,
               "easing": "linear"
              }
             }
            ],
            "label": "18:21:06",
            "method": "animate"
           },
           {
            "args": [
             [
              "2025-09-03 18:21:07"
             ],
             {
              "frame": {
               "duration": 1,
               "easing": "linear",
               "redraw": true
              },
              "transition": {
               "duration": 0,
               "easing": "linear"
              }
             }
            ],
            "label": "18:21:07",
            "method": "animate"
           },
           {
            "args": [
             [
              "2025-09-03 18:21:08"
             ],
             {
              "frame": {
               "duration": 1,
               "easing": "linear",
               "redraw": true
              },
              "transition": {
               "duration": 0,
               "easing": "linear"
              }
             }
            ],
            "label": "18:21:08",
            "method": "animate"
           },
           {
            "args": [
             [
              "2025-09-03 18:21:09"
             ],
             {
              "frame": {
               "duration": 1,
               "easing": "linear",
               "redraw": true
              },
              "transition": {
               "duration": 0,
               "easing": "linear"
              }
             }
            ],
            "label": "18:21:09",
            "method": "animate"
           },
           {
            "args": [
             [
              "2025-09-03 18:21:10"
             ],
             {
              "frame": {
               "duration": 1,
               "easing": "linear",
               "redraw": true
              },
              "transition": {
               "duration": 0,
               "easing": "linear"
              }
             }
            ],
            "label": "18:21:10",
            "method": "animate"
           },
           {
            "args": [
             [
              "2025-09-03 18:21:11"
             ],
             {
              "frame": {
               "duration": 1,
               "easing": "linear",
               "redraw": true
              },
              "transition": {
               "duration": 0,
               "easing": "linear"
              }
             }
            ],
            "label": "18:21:11",
            "method": "animate"
           },
           {
            "args": [
             [
              "2025-09-03 18:21:12"
             ],
             {
              "frame": {
               "duration": 1,
               "easing": "linear",
               "redraw": true
              },
              "transition": {
               "duration": 0,
               "easing": "linear"
              }
             }
            ],
            "label": "18:21:12",
            "method": "animate"
           },
           {
            "args": [
             [
              "2025-09-03 18:21:13"
             ],
             {
              "frame": {
               "duration": 1,
               "easing": "linear",
               "redraw": true
              },
              "transition": {
               "duration": 0,
               "easing": "linear"
              }
             }
            ],
            "label": "18:21:13",
            "method": "animate"
           },
           {
            "args": [
             [
              "2025-09-03 18:21:14"
             ],
             {
              "frame": {
               "duration": 1,
               "easing": "linear",
               "redraw": true
              },
              "transition": {
               "duration": 0,
               "easing": "linear"
              }
             }
            ],
            "label": "18:21:14",
            "method": "animate"
           },
           {
            "args": [
             [
              "2025-09-03 18:21:15"
             ],
             {
              "frame": {
               "duration": 1,
               "easing": "linear",
               "redraw": true
              },
              "transition": {
               "duration": 0,
               "easing": "linear"
              }
             }
            ],
            "label": "18:21:15",
            "method": "animate"
           },
           {
            "args": [
             [
              "2025-09-03 18:21:16"
             ],
             {
              "frame": {
               "duration": 1,
               "easing": "linear",
               "redraw": true
              },
              "transition": {
               "duration": 0,
               "easing": "linear"
              }
             }
            ],
            "label": "18:21:16",
            "method": "animate"
           },
           {
            "args": [
             [
              "2025-09-03 18:21:17"
             ],
             {
              "frame": {
               "duration": 1,
               "easing": "linear",
               "redraw": true
              },
              "transition": {
               "duration": 0,
               "easing": "linear"
              }
             }
            ],
            "label": "18:21:17",
            "method": "animate"
           },
           {
            "args": [
             [
              "2025-09-03 18:21:18"
             ],
             {
              "frame": {
               "duration": 1,
               "easing": "linear",
               "redraw": true
              },
              "transition": {
               "duration": 0,
               "easing": "linear"
              }
             }
            ],
            "label": "18:21:18",
            "method": "animate"
           },
           {
            "args": [
             [
              "2025-09-03 18:21:19"
             ],
             {
              "frame": {
               "duration": 1,
               "easing": "linear",
               "redraw": true
              },
              "transition": {
               "duration": 0,
               "easing": "linear"
              }
             }
            ],
            "label": "18:21:19",
            "method": "animate"
           },
           {
            "args": [
             [
              "2025-09-03 18:21:20"
             ],
             {
              "frame": {
               "duration": 1,
               "easing": "linear",
               "redraw": true
              },
              "transition": {
               "duration": 0,
               "easing": "linear"
              }
             }
            ],
            "label": "18:21:20",
            "method": "animate"
           },
           {
            "args": [
             [
              "2025-09-03 18:21:21"
             ],
             {
              "frame": {
               "duration": 1,
               "easing": "linear",
               "redraw": true
              },
              "transition": {
               "duration": 0,
               "easing": "linear"
              }
             }
            ],
            "label": "18:21:21",
            "method": "animate"
           },
           {
            "args": [
             [
              "2025-09-03 18:21:22"
             ],
             {
              "frame": {
               "duration": 1,
               "easing": "linear",
               "redraw": true
              },
              "transition": {
               "duration": 0,
               "easing": "linear"
              }
             }
            ],
            "label": "18:21:22",
            "method": "animate"
           },
           {
            "args": [
             [
              "2025-09-03 18:21:23"
             ],
             {
              "frame": {
               "duration": 1,
               "easing": "linear",
               "redraw": true
              },
              "transition": {
               "duration": 0,
               "easing": "linear"
              }
             }
            ],
            "label": "18:21:23",
            "method": "animate"
           },
           {
            "args": [
             [
              "2025-09-03 18:21:24"
             ],
             {
              "frame": {
               "duration": 1,
               "easing": "linear",
               "redraw": true
              },
              "transition": {
               "duration": 0,
               "easing": "linear"
              }
             }
            ],
            "label": "18:21:24",
            "method": "animate"
           },
           {
            "args": [
             [
              "2025-09-03 18:21:25"
             ],
             {
              "frame": {
               "duration": 1,
               "easing": "linear",
               "redraw": true
              },
              "transition": {
               "duration": 0,
               "easing": "linear"
              }
             }
            ],
            "label": "18:21:25",
            "method": "animate"
           },
           {
            "args": [
             [
              "2025-09-03 18:21:26"
             ],
             {
              "frame": {
               "duration": 1,
               "easing": "linear",
               "redraw": true
              },
              "transition": {
               "duration": 0,
               "easing": "linear"
              }
             }
            ],
            "label": "18:21:26",
            "method": "animate"
           }
          ],
          "transition": {
           "duration": 285.7142857142857,
           "easing": "linear"
          },
          "x": 0.1,
          "xanchor": "left",
          "y": 0,
          "yanchor": "top"
         }
        ],
        "template": {
         "data": {
          "bar": [
           {
            "error_x": {
             "color": "#2a3f5f"
            },
            "error_y": {
             "color": "#2a3f5f"
            },
            "marker": {
             "line": {
              "color": "#E5ECF6",
              "width": 0.5
             },
             "pattern": {
              "fillmode": "overlay",
              "size": 10,
              "solidity": 0.2
             }
            },
            "type": "bar"
           }
          ],
          "barpolar": [
           {
            "marker": {
             "line": {
              "color": "#E5ECF6",
              "width": 0.5
             },
             "pattern": {
              "fillmode": "overlay",
              "size": 10,
              "solidity": 0.2
             }
            },
            "type": "barpolar"
           }
          ],
          "carpet": [
           {
            "aaxis": {
             "endlinecolor": "#2a3f5f",
             "gridcolor": "white",
             "linecolor": "white",
             "minorgridcolor": "white",
             "startlinecolor": "#2a3f5f"
            },
            "baxis": {
             "endlinecolor": "#2a3f5f",
             "gridcolor": "white",
             "linecolor": "white",
             "minorgridcolor": "white",
             "startlinecolor": "#2a3f5f"
            },
            "type": "carpet"
           }
          ],
          "choropleth": [
           {
            "colorbar": {
             "outlinewidth": 0,
             "ticks": ""
            },
            "type": "choropleth"
           }
          ],
          "contour": [
           {
            "colorbar": {
             "outlinewidth": 0,
             "ticks": ""
            },
            "colorscale": [
             [
              0,
              "#0d0887"
             ],
             [
              0.1111111111111111,
              "#46039f"
             ],
             [
              0.2222222222222222,
              "#7201a8"
             ],
             [
              0.3333333333333333,
              "#9c179e"
             ],
             [
              0.4444444444444444,
              "#bd3786"
             ],
             [
              0.5555555555555556,
              "#d8576b"
             ],
             [
              0.6666666666666666,
              "#ed7953"
             ],
             [
              0.7777777777777778,
              "#fb9f3a"
             ],
             [
              0.8888888888888888,
              "#fdca26"
             ],
             [
              1,
              "#f0f921"
             ]
            ],
            "type": "contour"
           }
          ],
          "contourcarpet": [
           {
            "colorbar": {
             "outlinewidth": 0,
             "ticks": ""
            },
            "type": "contourcarpet"
           }
          ],
          "heatmap": [
           {
            "colorbar": {
             "outlinewidth": 0,
             "ticks": ""
            },
            "colorscale": [
             [
              0,
              "#0d0887"
             ],
             [
              0.1111111111111111,
              "#46039f"
             ],
             [
              0.2222222222222222,
              "#7201a8"
             ],
             [
              0.3333333333333333,
              "#9c179e"
             ],
             [
              0.4444444444444444,
              "#bd3786"
             ],
             [
              0.5555555555555556,
              "#d8576b"
             ],
             [
              0.6666666666666666,
              "#ed7953"
             ],
             [
              0.7777777777777778,
              "#fb9f3a"
             ],
             [
              0.8888888888888888,
              "#fdca26"
             ],
             [
              1,
              "#f0f921"
             ]
            ],
            "type": "heatmap"
           }
          ],
          "histogram": [
           {
            "marker": {
             "pattern": {
              "fillmode": "overlay",
              "size": 10,
              "solidity": 0.2
             }
            },
            "type": "histogram"
           }
          ],
          "histogram2d": [
           {
            "colorbar": {
             "outlinewidth": 0,
             "ticks": ""
            },
            "colorscale": [
             [
              0,
              "#0d0887"
             ],
             [
              0.1111111111111111,
              "#46039f"
             ],
             [
              0.2222222222222222,
              "#7201a8"
             ],
             [
              0.3333333333333333,
              "#9c179e"
             ],
             [
              0.4444444444444444,
              "#bd3786"
             ],
             [
              0.5555555555555556,
              "#d8576b"
             ],
             [
              0.6666666666666666,
              "#ed7953"
             ],
             [
              0.7777777777777778,
              "#fb9f3a"
             ],
             [
              0.8888888888888888,
              "#fdca26"
             ],
             [
              1,
              "#f0f921"
             ]
            ],
            "type": "histogram2d"
           }
          ],
          "histogram2dcontour": [
           {
            "colorbar": {
             "outlinewidth": 0,
             "ticks": ""
            },
            "colorscale": [
             [
              0,
              "#0d0887"
             ],
             [
              0.1111111111111111,
              "#46039f"
             ],
             [
              0.2222222222222222,
              "#7201a8"
             ],
             [
              0.3333333333333333,
              "#9c179e"
             ],
             [
              0.4444444444444444,
              "#bd3786"
             ],
             [
              0.5555555555555556,
              "#d8576b"
             ],
             [
              0.6666666666666666,
              "#ed7953"
             ],
             [
              0.7777777777777778,
              "#fb9f3a"
             ],
             [
              0.8888888888888888,
              "#fdca26"
             ],
             [
              1,
              "#f0f921"
             ]
            ],
            "type": "histogram2dcontour"
           }
          ],
          "mesh3d": [
           {
            "colorbar": {
             "outlinewidth": 0,
             "ticks": ""
            },
            "type": "mesh3d"
           }
          ],
          "parcoords": [
           {
            "line": {
             "colorbar": {
              "outlinewidth": 0,
              "ticks": ""
             }
            },
            "type": "parcoords"
           }
          ],
          "pie": [
           {
            "automargin": true,
            "type": "pie"
           }
          ],
          "scatter": [
           {
            "fillpattern": {
             "fillmode": "overlay",
             "size": 10,
             "solidity": 0.2
            },
            "type": "scatter"
           }
          ],
          "scatter3d": [
           {
            "line": {
             "colorbar": {
              "outlinewidth": 0,
              "ticks": ""
             }
            },
            "marker": {
             "colorbar": {
              "outlinewidth": 0,
              "ticks": ""
             }
            },
            "type": "scatter3d"
           }
          ],
          "scattercarpet": [
           {
            "marker": {
             "colorbar": {
              "outlinewidth": 0,
              "ticks": ""
             }
            },
            "type": "scattercarpet"
           }
          ],
          "scattergeo": [
           {
            "marker": {
             "colorbar": {
              "outlinewidth": 0,
              "ticks": ""
             }
            },
            "type": "scattergeo"
           }
          ],
          "scattergl": [
           {
            "marker": {
             "colorbar": {
              "outlinewidth": 0,
              "ticks": ""
             }
            },
            "type": "scattergl"
           }
          ],
          "scattermap": [
           {
            "marker": {
             "colorbar": {
              "outlinewidth": 0,
              "ticks": ""
             }
            },
            "type": "scattermap"
           }
          ],
          "scattermapbox": [
           {
            "marker": {
             "colorbar": {
              "outlinewidth": 0,
              "ticks": ""
             }
            },
            "type": "scattermapbox"
           }
          ],
          "scatterpolar": [
           {
            "marker": {
             "colorbar": {
              "outlinewidth": 0,
              "ticks": ""
             }
            },
            "type": "scatterpolar"
           }
          ],
          "scatterpolargl": [
           {
            "marker": {
             "colorbar": {
              "outlinewidth": 0,
              "ticks": ""
             }
            },
            "type": "scatterpolargl"
           }
          ],
          "scatterternary": [
           {
            "marker": {
             "colorbar": {
              "outlinewidth": 0,
              "ticks": ""
             }
            },
            "type": "scatterternary"
           }
          ],
          "surface": [
           {
            "colorbar": {
             "outlinewidth": 0,
             "ticks": ""
            },
            "colorscale": [
             [
              0,
              "#0d0887"
             ],
             [
              0.1111111111111111,
              "#46039f"
             ],
             [
              0.2222222222222222,
              "#7201a8"
             ],
             [
              0.3333333333333333,
              "#9c179e"
             ],
             [
              0.4444444444444444,
              "#bd3786"
             ],
             [
              0.5555555555555556,
              "#d8576b"
             ],
             [
              0.6666666666666666,
              "#ed7953"
             ],
             [
              0.7777777777777778,
              "#fb9f3a"
             ],
             [
              0.8888888888888888,
              "#fdca26"
             ],
             [
              1,
              "#f0f921"
             ]
            ],
            "type": "surface"
           }
          ],
          "table": [
           {
            "cells": {
             "fill": {
              "color": "#EBF0F8"
             },
             "line": {
              "color": "white"
             }
            },
            "header": {
             "fill": {
              "color": "#C8D4E3"
             },
             "line": {
              "color": "white"
             }
            },
            "type": "table"
           }
          ]
         },
         "layout": {
          "annotationdefaults": {
           "arrowcolor": "#2a3f5f",
           "arrowhead": 0,
           "arrowwidth": 1
          },
          "autotypenumbers": "strict",
          "coloraxis": {
           "colorbar": {
            "outlinewidth": 0,
            "ticks": ""
           }
          },
          "colorscale": {
           "diverging": [
            [
             0,
             "#8e0152"
            ],
            [
             0.1,
             "#c51b7d"
            ],
            [
             0.2,
             "#de77ae"
            ],
            [
             0.3,
             "#f1b6da"
            ],
            [
             0.4,
             "#fde0ef"
            ],
            [
             0.5,
             "#f7f7f7"
            ],
            [
             0.6,
             "#e6f5d0"
            ],
            [
             0.7,
             "#b8e186"
            ],
            [
             0.8,
             "#7fbc41"
            ],
            [
             0.9,
             "#4d9221"
            ],
            [
             1,
             "#276419"
            ]
           ],
           "sequential": [
            [
             0,
             "#0d0887"
            ],
            [
             0.1111111111111111,
             "#46039f"
            ],
            [
             0.2222222222222222,
             "#7201a8"
            ],
            [
             0.3333333333333333,
             "#9c179e"
            ],
            [
             0.4444444444444444,
             "#bd3786"
            ],
            [
             0.5555555555555556,
             "#d8576b"
            ],
            [
             0.6666666666666666,
             "#ed7953"
            ],
            [
             0.7777777777777778,
             "#fb9f3a"
            ],
            [
             0.8888888888888888,
             "#fdca26"
            ],
            [
             1,
             "#f0f921"
            ]
           ],
           "sequentialminus": [
            [
             0,
             "#0d0887"
            ],
            [
             0.1111111111111111,
             "#46039f"
            ],
            [
             0.2222222222222222,
             "#7201a8"
            ],
            [
             0.3333333333333333,
             "#9c179e"
            ],
            [
             0.4444444444444444,
             "#bd3786"
            ],
            [
             0.5555555555555556,
             "#d8576b"
            ],
            [
             0.6666666666666666,
             "#ed7953"
            ],
            [
             0.7777777777777778,
             "#fb9f3a"
            ],
            [
             0.8888888888888888,
             "#fdca26"
            ],
            [
             1,
             "#f0f921"
            ]
           ]
          },
          "colorway": [
           "#636efa",
           "#EF553B",
           "#00cc96",
           "#ab63fa",
           "#FFA15A",
           "#19d3f3",
           "#FF6692",
           "#B6E880",
           "#FF97FF",
           "#FECB52"
          ],
          "font": {
           "color": "#2a3f5f"
          },
          "geo": {
           "bgcolor": "white",
           "lakecolor": "white",
           "landcolor": "#E5ECF6",
           "showlakes": true,
           "showland": true,
           "subunitcolor": "white"
          },
          "hoverlabel": {
           "align": "left"
          },
          "hovermode": "closest",
          "mapbox": {
           "style": "light"
          },
          "paper_bgcolor": "white",
          "plot_bgcolor": "#E5ECF6",
          "polar": {
           "angularaxis": {
            "gridcolor": "white",
            "linecolor": "white",
            "ticks": ""
           },
           "bgcolor": "#E5ECF6",
           "radialaxis": {
            "gridcolor": "white",
            "linecolor": "white",
            "ticks": ""
           }
          },
          "scene": {
           "xaxis": {
            "backgroundcolor": "#E5ECF6",
            "gridcolor": "white",
            "gridwidth": 2,
            "linecolor": "white",
            "showbackground": true,
            "ticks": "",
            "zerolinecolor": "white"
           },
           "yaxis": {
            "backgroundcolor": "#E5ECF6",
            "gridcolor": "white",
            "gridwidth": 2,
            "linecolor": "white",
            "showbackground": true,
            "ticks": "",
            "zerolinecolor": "white"
           },
           "zaxis": {
            "backgroundcolor": "#E5ECF6",
            "gridcolor": "white",
            "gridwidth": 2,
            "linecolor": "white",
            "showbackground": true,
            "ticks": "",
            "zerolinecolor": "white"
           }
          },
          "shapedefaults": {
           "line": {
            "color": "#2a3f5f"
           }
          },
          "ternary": {
           "aaxis": {
            "gridcolor": "white",
            "linecolor": "white",
            "ticks": ""
           },
           "baxis": {
            "gridcolor": "white",
            "linecolor": "white",
            "ticks": ""
           },
           "bgcolor": "#E5ECF6",
           "caxis": {
            "gridcolor": "white",
            "linecolor": "white",
            "ticks": ""
           }
          },
          "title": {
           "x": 0.05
          },
          "xaxis": {
           "automargin": true,
           "gridcolor": "white",
           "linecolor": "white",
           "ticks": "",
           "title": {
            "standoff": 15
           },
           "zerolinecolor": "white",
           "zerolinewidth": 2
          },
          "yaxis": {
           "automargin": true,
           "gridcolor": "white",
           "linecolor": "white",
           "ticks": "",
           "title": {
            "standoff": 15
           },
           "zerolinecolor": "white",
           "zerolinewidth": 2
          }
         }
        },
        "updatemenus": [
         {
          "buttons": [
           {
            "args": [
             null,
             {
              "frame": {
               "duration": 285.7142857142857,
               "redraw": true
              },
              "fromcurrent": true,
              "transition": {
               "duration": 0
              }
             }
            ],
            "label": "Play",
            "method": "animate"
           },
           {
            "args": [
             [
              null
             ],
             {
              "frame": {
               "duration": 0,
               "redraw": true
              },
              "mode": "immediate",
              "transition": {
               "duration": 0
              }
             }
            ],
            "label": "Stop",
            "method": "animate"
           }
          ],
          "direction": "left",
          "pad": {
           "r": 10,
           "t": 75
          },
          "showactive": true,
          "type": "buttons",
          "x": 0.1,
          "xanchor": "right",
          "y": 0,
          "yanchor": "top"
         }
        ],
        "xaxis": {
         "range": [
          -3.811503723660018,
          29.330098955423374
         ],
         "title": {
          "text": "<i>x</i>"
         }
        },
        "yaxis": {
         "range": [
          -5.079739483402368,
          53.80087459305906
         ],
         "title": {
          "text": "<i>y</i>"
         }
        }
       }
      },
      "image/png": "[encoded data removed]"
     },
     "metadata": {},
     "output_type": "display_data"
    }
   ],
   "source": [
    "plotter.plot_tracks(track, [0, 2], uncertainty=True)\n",
    "plotter.fig"
   ]
  },
  {
   "cell_type": "code",
   "execution_count": null,
   "id": "66024ecc-b78b-44f2-961d-329cc09de485",
   "metadata": {},
   "outputs": [],
   "source": []
  }
 ],
 "metadata": {
  "kernelspec": {
   "display_name": "Python 3 (ipykernel)",
   "language": "python",
   "name": "python3"
  },
  "language_info": {
   "codemirror_mode": {
    "name": "ipython",
    "version": 3
   },
   "file_extension": ".py",
   "mimetype": "text/x-python",
   "name": "python",
   "nbconvert_exporter": "python",
   "pygments_lexer": "ipython3",
   "version": "3.12.9"
  }
 },
 "nbformat": 4,
 "nbformat_minor": 5
}
